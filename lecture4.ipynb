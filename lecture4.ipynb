{
  "cells": [
    {
      "cell_type": "markdown",
      "metadata": {
        "id": "view-in-github",
        "colab_type": "text"
      },
      "source": [
        "<a href=\"https://colab.research.google.com/github/JacobDowns/CSCI-491-591/blob/main/lecture4.ipynb\" target=\"_parent\"><img src=\"https://colab.research.google.com/assets/colab-badge.svg\" alt=\"Open In Colab\"/></a>"
      ]
    },
    {
      "cell_type": "markdown",
      "metadata": {
        "id": "4Ih39Vf5OBfz"
      },
      "source": [
        "# MPI\n",
        "* MPI (the Message Passing Interface) is a standard for inter-process communication\n",
        "* The MPI standard defines the syntax and semantics of library routines for portable message-passing programs in C, C++, Fortran (and Python!)\n",
        "* There are several open-source MPI implementations\n",
        "* MPI is highly scalable, so it can operate on anything from **multiple cores** to **multiple nodes** in a cluster\n",
        "* It is a lower level library, which means there are more pitfalls / challenges when using it\n",
        "* However, it has much more flexibility than something like `ProcessPoolExecutor`\n",
        "* MPI is used widely in\n",
        "  * Weather models\n",
        "  * CFD models\n",
        "  * Finite Elements\n",
        "  * Numerical Linear Algebra\n",
        "  * Graph processing\n",
        "  * Astrophysics\n",
        "* It is often incorporated in other frameworks\n",
        "* For example, [Firedrake](https://www.firedrakeproject.org/documentation.html), a package for solving PDEs uses MPI to parallelize the solution of PDEs automatically\n",
        "* [PETSc](https://petsc.org/release/), a toolkit for scientific computing, also uses MPI\n",
        "> Note that a benefit of MPI is that it can play nicely with NumPy and Numba. Hence, we can divide a task amongst several processes, and do the computation in each task using NumPy or Numba"
      ]
    },
    {
      "cell_type": "markdown",
      "metadata": {
        "id": "JLJf1v2BYVWc"
      },
      "source": [
        "## mpi4py\n",
        "* Built on top of the C MPI standard\n",
        "*  Gives you almost full access to MPI in a form compatible with Python objects and NumPy arrays\n",
        "* Inter-process communication can be achieved with\n",
        "  * **Pickle** based messaging (sending / receiving Python objects)\n",
        "  * **Buffer** based messaging (Writing / reading into NumPy arrays)\n",
        "* To execute a Python script that uses mpi4py you would use the command\n",
        "```\n",
        "mpiexec -n N python script.py\n",
        "```\n",
        "* This launches $N$ processes\n",
        "* Each process has a rank, which acts as its unique identifier $0, \\cdots, N-1$\n",
        "* Each process can access a communicator (usually called `MPI.COMM_WORLD`)\n",
        "* Processes can communicate point-to-point with other processes\n",
        "* They can also use collective operations like broadcast, scatter, gather, and reduce\n"
      ]
    },
    {
      "cell_type": "markdown",
      "metadata": {
        "id": "c30nsr6AbZy6"
      },
      "source": [
        "## Minimal Program\n",
        "Here's how to run a minimal MPI program in a Jupyter notebook. First we'll just install `mpi4py` and mpich, which is an MPI implementation. I'm running the notebook in a `.devcontainer` environment. Note, that you'll want to run this notebook locally on a mulitcore machine to use MPI since colab may not work here.\n"
      ]
    },
    {
      "cell_type": "code",
      "execution_count": null,
      "metadata": {
        "id": "KARBOlsgbv7M"
      },
      "outputs": [],
      "source": [
        "!sudo apt-get update\n",
        "!pip install mpi4py mpich"
      ]
    },
    {
      "cell_type": "markdown",
      "metadata": {
        "id": "dOS49v9wCA73"
      },
      "source": [
        "This will write a file called `hello_mpi.py` that just has each process say hello."
      ]
    },
    {
      "cell_type": "code",
      "execution_count": null,
      "metadata": {
        "id": "yAsJvDdtCA73"
      },
      "outputs": [],
      "source": [
        "%%bash\n",
        "cat > hello_mpi.py <<'PY'\n",
        "from mpi4py import MPI\n",
        "comm = MPI.COMM_WORLD\n",
        "rank = comm.Get_rank()\n",
        "size = comm.Get_size()\n",
        "name = MPI.Get_processor_name()\n",
        "msg = f\"Hello from rank {rank}/{size} on {name}\"\n",
        "print(msg)\n",
        "PY"
      ]
    },
    {
      "cell_type": "markdown",
      "metadata": {
        "id": "RsrlmXnFCA74"
      },
      "source": [
        "We can execute it as follows:"
      ]
    },
    {
      "cell_type": "code",
      "execution_count": null,
      "metadata": {
        "id": "g_hERg0UCA74",
        "outputId": "c2ec4978-75a2-4c8b-83d0-23c52f897cc8"
      },
      "outputs": [
        {
          "name": "stdout",
          "output_type": "stream",
          "text": [
            "Hello from rank 0/4 on 79cd1347a82a\n",
            "Hello from rank 3/4 on 79cd1347a82a\n",
            "Hello from rank 1/4 on 79cd1347a82a\n",
            "Hello from rank 2/4 on 79cd1347a82a\n"
          ]
        }
      ],
      "source": [
        "!mpiexec -n 4 python hello_mpi.py"
      ]
    },
    {
      "cell_type": "markdown",
      "metadata": {
        "id": "jtOdDg6xa5NZ"
      },
      "source": [
        "## Mental Model for MPI\n",
        "* Recall that in multiprocessing, processes don't share memory\n",
        "* Instead processes send and receive messages to communicate\n",
        "* Every process runs the same code, but the processes rank determines exactly what role it plays\n",
        "* A processes behavior is often specific to its rank\n",
        "* Hence, you will often see syntax like\n",
        "\n",
        "```\n",
        "if rank == 0:\n",
        "    # Do something\n",
        "```\n",
        "* Data is not shared. If process 0 creates a variable, processes $1 \\cdots N-1$ don’t see it unless it’s sent to another process\n",
        "* Communication patterns include master/worker, neighbor exchange, global collectives.\n",
        "* Using more processes can make the program faster if communication is efficient relative to computation.\n",
        "* As in multithreading paradigms, the need for communication can be pose a technical challenge\n",
        "* Issues like deadlocks or race conditions are possible"
      ]
    },
    {
      "cell_type": "markdown",
      "metadata": {
        "id": "-Iu7PyoVCA75"
      },
      "source": [
        "## Basic Communication\n",
        "\n",
        "* There are multiple ways to communicate in\n",
        "* The first example shows using **point to point** communication between rank 0 and rank 1\n"
      ]
    },
    {
      "cell_type": "code",
      "execution_count": null,
      "metadata": {
        "id": "31sXyXHACA75"
      },
      "outputs": [],
      "source": [
        "%%bash\n",
        "cat > hello_mpi.py <<'PY'\n",
        "from mpi4py import MPI\n",
        "\n",
        "comm = MPI.COMM_WORLD\n",
        "rank = comm.Get_rank()\n",
        "\n",
        "if rank == 0:\n",
        "    data = {'a': 7, 'b': 3.14}\n",
        "    comm.send(data, dest=1, tag=11)\n",
        "    print(f'Rank 0 sent: {data}')\n",
        "elif rank == 1:\n",
        "    data = comm.recv(source=0, tag=11)\n",
        "    print(f'Rank 1 received: {data}')\n",
        "PY"
      ]
    },
    {
      "cell_type": "code",
      "execution_count": null,
      "metadata": {
        "id": "Mg287Bw_CA75",
        "outputId": "7b86042d-810c-4a9d-825a-3f4a42d9d531"
      },
      "outputs": [
        {
          "name": "stdout",
          "output_type": "stream",
          "text": [
            "Rank 0 sent: {'a': 7, 'b': 3.14}\n",
            "Rank 1 received: {'a': 7, 'b': 3.14}\n"
          ]
        }
      ],
      "source": [
        "!mpiexec -n 4 python hello_mpi.py"
      ]
    },
    {
      "cell_type": "markdown",
      "metadata": {
        "id": "k4fh51FtCA76"
      },
      "source": [
        "* Note the arguments here\n",
        "* `data` is just the data to be sent in rank 0, `dest` defines the rank of the process to send it to, and `tag` is used\n",
        "to identitify the message\n",
        "* Tag makes it easier to identify messages, especially when multiple messages are being sent / received"
      ]
    },
    {
      "cell_type": "markdown",
      "metadata": {
        "id": "ZyKcJxdYCA76"
      },
      "source": [
        "## Blocking v. Nonblocking Communication\n",
        "* `send` and `recv` are examples of blocking communication\n",
        "* In blocking communication, MPI doesn't return until the operation is ``complete``\n",
        "* What does this mean? If using nonblocking communication, the memory buffer for any data that is being sent could be modified before another process receives it\n",
        "* Blocking communication using `send` and `recv` will ensure this doesnt' happen by blocking\n",
        "* On the `send` side, the process will block until the memory buffer is safe to reuse\n",
        "* On the `recv` side, the process won't move past the receive line until the message is received"
      ]
    },
    {
      "cell_type": "code",
      "execution_count": null,
      "metadata": {
        "id": "AJN2OlPmCA76"
      },
      "outputs": [],
      "source": [
        "%%bash\n",
        "cat > hello_mpi.py <<'PY'\n",
        "from mpi4py import MPI\n",
        "comm = MPI.COMM_WORLD\n",
        "rank = comm.Get_rank()\n",
        "\n",
        "if rank == 0:\n",
        "    data = [1,2,3]\n",
        "    comm.send(data, dest=1, tag=0)   # blocks until safe\n",
        "elif rank == 1:\n",
        "    data = comm.recv(source=0, tag=0)  # waits until message arrives\n",
        "    print(\"rank 1 got:\", data)\n",
        "\n",
        "PY"
      ]
    },
    {
      "cell_type": "code",
      "execution_count": null,
      "metadata": {
        "id": "wjjYXckYCA76",
        "outputId": "5daddcf9-e030-4f37-c916-055e36839db5"
      },
      "outputs": [
        {
          "name": "stdout",
          "output_type": "stream",
          "text": [
            "rank 1 got: [1, 2, 3]\n"
          ]
        }
      ],
      "source": [
        "!mpiexec -n 2 python hello_mpi.py"
      ]
    },
    {
      "cell_type": "markdown",
      "metadata": {
        "id": "wZnLYDMrCA76"
      },
      "source": [
        "* Functions `Isend` and `Irecv` use nonblocking communication.\n",
        "* The message calls return immediately while communication happens in the bakcground\n",
        "* Other computation can commence in the meantime"
      ]
    },
    {
      "cell_type": "code",
      "execution_count": null,
      "metadata": {
        "id": "EyUKy2VVCA77"
      },
      "outputs": [],
      "source": [
        "%%bash\n",
        "cat > hello_mpi.py <<'PY'\n",
        "from mpi4py import MPI\n",
        "import numpy as np\n",
        "\n",
        "comm = MPI.COMM_WORLD\n",
        "rank = comm.Get_rank()\n",
        "\n",
        "buf = np.array([rank], dtype='i')\n",
        "reqs = []\n",
        "\n",
        "if rank == 0:\n",
        "    # Start sending, but don't wait here\n",
        "    reqs.append(comm.Isend(buf, dest=1, tag=11))\n",
        "    # Do other work...\n",
        "    for i in range(10):\n",
        "        j = i*2\n",
        "elif rank == 1:\n",
        "    recvbuf = np.zeros(1, dtype='i')\n",
        "    reqs.append(comm.Irecv(recvbuf, source=0, tag=11))\n",
        "    # Do other work...\n",
        "    for k in range(10):\n",
        "        z = k*2\n",
        "# Later: wait for all comms to complete\n",
        "MPI.Request.Waitall(reqs)\n",
        "if rank == 1:\n",
        "    print(\"rank 1 got:\", recvbuf[0])\n",
        "\n",
        "PY"
      ]
    },
    {
      "cell_type": "code",
      "execution_count": null,
      "metadata": {
        "id": "PUdHfOXvCA77",
        "outputId": "376324f0-f2dc-40f9-ebee-99207df88609"
      },
      "outputs": [
        {
          "name": "stdout",
          "output_type": "stream",
          "text": [
            "rank 1 got: 0\n"
          ]
        }
      ],
      "source": [
        "!mpiexec -n 2 python hello_mpi.py"
      ]
    },
    {
      "cell_type": "markdown",
      "metadata": {
        "id": "6mYGMkKtCA77"
      },
      "source": [
        "* You shouldn't touch the buffers `buf` or `bufrecv` until after `Wait()` or `WaitAll`() or else you r message could be corrupted"
      ]
    },
    {
      "cell_type": "markdown",
      "metadata": {
        "id": "N7LacT4oCA77"
      },
      "source": [
        "## Sending NumPy Arrays"
      ]
    },
    {
      "cell_type": "markdown",
      "metadata": {
        "id": "L_sfygxICA77"
      },
      "source": [
        "* Here's an example of sending and receiving Python\n",
        "* Sending NumPy arrays is faster than sending other Python objects because there's no overhead from pickling / unpickling"
      ]
    },
    {
      "cell_type": "code",
      "execution_count": null,
      "metadata": {
        "id": "J7nCL-JrCA78"
      },
      "outputs": [],
      "source": [
        "%%bash\n",
        "cat > hello_mpi.py <<'PY'\n",
        "from mpi4py import MPI\n",
        "import numpy\n",
        "\n",
        "comm = MPI.COMM_WORLD\n",
        "rank = comm.Get_rank()\n",
        "\n",
        "# passing MPI datatypes explicitly\n",
        "if rank == 0:\n",
        "    data = numpy.arange(1000, dtype='i')\n",
        "    comm.Send([data, MPI.INT], dest=1, tag=77)\n",
        "elif rank == 1:\n",
        "    data = numpy.empty(1000, dtype='i')\n",
        "    comm.Recv([data, MPI.INT], source=0, tag=77)\n",
        "\n",
        "# automatic MPI datatype discovery\n",
        "if rank == 0:\n",
        "    data = numpy.arange(100, dtype=numpy.float64)\n",
        "    comm.Send(data, dest=1, tag=13)\n",
        "elif rank == 1:\n",
        "    data = numpy.empty(100, dtype=numpy.float64)\n",
        "    comm.Recv(data, source=0, tag=13)\n",
        "\n",
        "PY"
      ]
    },
    {
      "cell_type": "code",
      "execution_count": null,
      "metadata": {
        "id": "2NoBFUtsCA78"
      },
      "outputs": [],
      "source": [
        "!mpiexec -n 2 python hello_mpi.py"
      ]
    },
    {
      "cell_type": "markdown",
      "metadata": {
        "id": "LOSzvgN3CA78"
      },
      "source": [
        "* The data type of the array can be specified explicitly or, but doesn't need to be"
      ]
    },
    {
      "cell_type": "markdown",
      "metadata": {
        "id": "e9Ubb7PQCA78"
      },
      "source": [
        "## Collective Communication\n",
        "There are a number of functions for doing collective communication\n",
        "\n",
        "**Broadcast**\n",
        "* For example, broadcasting sends data from a single root process to all other processes\n",
        "* This is a blocking operation"
      ]
    },
    {
      "cell_type": "code",
      "execution_count": null,
      "metadata": {
        "id": "ek366APbCA78"
      },
      "outputs": [],
      "source": [
        "%%bash\n",
        "cat > hello_mpi.py <<'PY'\n",
        "from mpi4py import MPI\n",
        "\n",
        "comm = MPI.COMM_WORLD\n",
        "rank = comm.Get_rank()\n",
        "\n",
        "if rank == 0:\n",
        "    data = {'key1' : [7, 2.72, 2+3j],\n",
        "            'key2' : ( 'abc', 'xyz')}\n",
        "else:\n",
        "    data = None\n",
        "data = comm.bcast(data, root=0)\n",
        "\n",
        "print(f'Process {rank} has {data}')\n",
        "PY"
      ]
    },
    {
      "cell_type": "code",
      "execution_count": null,
      "metadata": {
        "id": "Nktu4NYDCA79",
        "outputId": "9ebee7bd-6497-43ce-a7f5-ace520ce4036"
      },
      "outputs": [
        {
          "name": "stdout",
          "output_type": "stream",
          "text": [
            "Process 0 has {'key1': [7, 2.72, (2+3j)], 'key2': ('abc', 'xyz')}\n",
            "Process 1 has {'key1': [7, 2.72, (2+3j)], 'key2': ('abc', 'xyz')}\n",
            "Process 2 has {'key1': [7, 2.72, (2+3j)], 'key2': ('abc', 'xyz')}\n",
            "Process 3 has {'key1': [7, 2.72, (2+3j)], 'key2': ('abc', 'xyz')}\n"
          ]
        }
      ],
      "source": [
        "!mpiexec -n 4 python hello_mpi.py"
      ]
    },
    {
      "cell_type": "markdown",
      "metadata": {
        "id": "rOyVLVm2CA79"
      },
      "source": [
        "* You can also broadcast NumPy arrays with `Bcast`"
      ]
    },
    {
      "cell_type": "code",
      "execution_count": null,
      "metadata": {
        "id": "RtBB9fOcCA79"
      },
      "outputs": [],
      "source": [
        "%%bash\n",
        "cat > hello_mpi.py <<'PY'\n",
        "from mpi4py import MPI\n",
        "import numpy as np\n",
        "\n",
        "comm = MPI.COMM_WORLD\n",
        "rank = comm.Get_rank()\n",
        "\n",
        "if rank == 0:\n",
        "\n",
        "    data = np.arange(100, dtype='i')\n",
        "    print(f'Process 0 will broadcast {data}')\n",
        "else:\n",
        "    # Set up a buffer to receive data\n",
        "    data = np.empty(100, dtype='i')\n",
        "\n",
        "comm.Bcast(data, root=0)\n",
        "print(f'Process {rank} received {data}')\n",
        "for i in range(100):\n",
        "    assert data[i] == i\n",
        "PY"
      ]
    },
    {
      "cell_type": "code",
      "execution_count": null,
      "metadata": {
        "id": "jS86UF2UCA79",
        "outputId": "3461034c-0d12-40e7-c199-30deb38479e1"
      },
      "outputs": [
        {
          "name": "stdout",
          "output_type": "stream",
          "text": [
            "Process 0 will broadcast [ 0  1  2  3  4  5  6  7  8  9 10 11 12 13 14 15 16 17 18 19 20 21 22 23\n",
            " 24 25 26 27 28 29 30 31 32 33 34 35 36 37 38 39 40 41 42 43 44 45 46 47\n",
            " 48 49 50 51 52 53 54 55 56 57 58 59 60 61 62 63 64 65 66 67 68 69 70 71\n",
            " 72 73 74 75 76 77 78 79 80 81 82 83 84 85 86 87 88 89 90 91 92 93 94 95\n",
            " 96 97 98 99]\n",
            "Process 0 received [ 0  1  2  3  4  5  6  7  8  9 10 11 12 13 14 15 16 17 18 19 20 21 22 23\n",
            " 24 25 26 27 28 29 30 31 32 33 34 35 36 37 38 39 40 41 42 43 44 45 46 47\n",
            " 48 49 50 51 52 53 54 55 56 57 58 59 60 61 62 63 64 65 66 67 68 69 70 71\n",
            " 72 73 74 75 76 77 78 79 80 81 82 83 84 85 86 87 88 89 90 91 92 93 94 95\n",
            " 96 97 98 99]\n",
            "Process 2 received [ 0  1  2  3  4  5  6  7  8  9 10 11 12 13 14 15 16 17 18 19 20 21 22 23\n",
            " 24 25 26 27 28 29 30 31 32 33 34 35 36 37 38 39 40 41 42 43 44 45 46 47\n",
            " 48 49 50 51 52 53 54 55 56 57 58 59 60 61 62 63 64 65 66 67 68 69 70 71\n",
            " 72 73 74 75 76 77 78 79 80 81 82 83 84 85 86 87 88 89 90 91 92 93 94 95\n",
            " 96 97 98 99]\n",
            "Process 3 received [ 0  1  2  3  4  5  6  7  8  9 10 11 12 13 14 15 16 17 18 19 20 21 22 23\n",
            " 24 25 26 27 28 29 30 31 32 33 34 35 36 37 38 39 40 41 42 43 44 45 46 47\n",
            " 48 49 50 51 52 53 54 55 56 57 58 59 60 61 62 63 64 65 66 67 68 69 70 71\n",
            " 72 73 74 75 76 77 78 79 80 81 82 83 84 85 86 87 88 89 90 91 92 93 94 95\n",
            " 96 97 98 99]\n",
            "Process 1 received [ 0  1  2  3  4  5  6  7  8  9 10 11 12 13 14 15 16 17 18 19 20 21 22 23\n",
            " 24 25 26 27 28 29 30 31 32 33 34 35 36 37 38 39 40 41 42 43 44 45 46 47\n",
            " 48 49 50 51 52 53 54 55 56 57 58 59 60 61 62 63 64 65 66 67 68 69 70 71\n",
            " 72 73 74 75 76 77 78 79 80 81 82 83 84 85 86 87 88 89 90 91 92 93 94 95\n",
            " 96 97 98 99]\n"
          ]
        }
      ],
      "source": [
        "!mpiexec -n 4 python hello_mpi.py"
      ]
    },
    {
      "cell_type": "markdown",
      "metadata": {
        "id": "5cCITj04CA7-"
      },
      "source": [
        "**Scatter**\n",
        "* The `scatter` operation distributes elements of an array from a designated root process to all other processes\n",
        "* The array is divided into $N$ equal size chunks\n",
        "* The first dimension of the sent array or list has to have a size based on the number of processes\n",
        "* But you could send differnt sized arrays to each process"
      ]
    },
    {
      "cell_type": "code",
      "execution_count": null,
      "metadata": {
        "id": "hDA0iSsRCA7-"
      },
      "outputs": [],
      "source": [
        "%%bash\n",
        "cat > hello_mpi.py <<'PY'\n",
        "from mpi4py import MPI\n",
        "import numpy as np\n",
        "\n",
        "comm = MPI.COMM_WORLD\n",
        "size = comm.Get_size()\n",
        "rank = comm.Get_rank()\n",
        "\n",
        "# 1) Scatter Python objects (works because list length == size)\n",
        "if rank == 0:\n",
        "    data = [(i+1)**2 for i in range(size)]\n",
        "    print(f'Rank 0 is sending {data}')\n",
        "else:\n",
        "    data = None\n",
        "data = comm.scatter(data, root=0)\n",
        "print(f'Process {rank} has {data}')\n",
        "\n",
        "# 2) For NumPy arrays, make a list of size==num_ranks\n",
        "if rank == 0:\n",
        "    big = np.arange(size*10, dtype=np.float64)\n",
        "    chunks = np.array_split(big, size)\n",
        "    print(f'Rank 0 is sending {[c.tolist() for c in chunks]}')\n",
        "else:\n",
        "    chunks = None\n",
        "\n",
        "my_chunk = comm.scatter(chunks, root=0)\n",
        "print(f'Process {rank} has {my_chunk}')\n",
        "PY"
      ]
    },
    {
      "cell_type": "code",
      "execution_count": null,
      "metadata": {
        "id": "vCpx-xZXCA7-",
        "outputId": "4eff6487-5ddf-487a-9afd-326a9384b25e"
      },
      "outputs": [
        {
          "name": "stdout",
          "output_type": "stream",
          "text": [
            "Rank 0 is sending [1, 4, 9, 16]\n",
            "Process 0 has 1\n",
            "Rank 0 is sending [[0.0, 1.0, 2.0, 3.0, 4.0, 5.0, 6.0, 7.0, 8.0, 9.0], [10.0, 11.0, 12.0, 13.0, 14.0, 15.0, 16.0, 17.0, 18.0, 19.0], [20.0, 21.0, 22.0, 23.0, 24.0, 25.0, 26.0, 27.0, 28.0, 29.0], [30.0, 31.0, 32.0, 33.0, 34.0, 35.0, 36.0, 37.0, 38.0, 39.0]]\n",
            "Process 1 has 4\n",
            "Process 0 has [0. 1. 2. 3. 4. 5. 6. 7. 8. 9.]\n",
            "Process 1 has [10. 11. 12. 13. 14. 15. 16. 17. 18. 19.]\n",
            "Process 2 has 9\n",
            "Process 3 has 16\n",
            "Process 2 has [20. 21. 22. 23. 24. 25. 26. 27. 28. 29.]\n",
            "Process 3 has [30. 31. 32. 33. 34. 35. 36. 37. 38. 39.]\n"
          ]
        }
      ],
      "source": [
        "!mpiexec -n 4 python hello_mpi.py"
      ]
    },
    {
      "cell_type": "markdown",
      "metadata": {
        "id": "3wJOs4qMCA7-"
      },
      "source": [
        "* You can alternatively use `Scatter` specifically for NumPy arrays\n",
        "* This will split up things into equal size chunks\n",
        "* Hence the first axis doesn't have to have a shape matching the number of prcessors\n",
        "* However, each process needs to receive arrays / lists of the same size"
      ]
    },
    {
      "cell_type": "code",
      "execution_count": null,
      "metadata": {
        "id": "nVEKGsVUCA7_"
      },
      "outputs": [],
      "source": [
        "%%bash\n",
        "cat > hello_mpi.py <<'PY'\n",
        "from mpi4py import MPI\n",
        "import numpy as np\n",
        "\n",
        "comm = MPI.COMM_WORLD\n",
        "size = comm.Get_size()\n",
        "rank = comm.Get_rank()\n",
        "\n",
        "# Buffer-mode scatter: each rank gets 10 doubles\n",
        "count_per_rank = 10\n",
        "sendbuf = None\n",
        "if rank == 0:\n",
        "    sendbuf = np.arange(size*count_per_rank, dtype='d')  # 'd' == float64\n",
        "    print(f'Rank 0 is sending {sendbuf}')\n",
        "\n",
        "recvbuf = np.empty(count_per_rank, dtype='d')\n",
        "comm.Scatter([sendbuf, MPI.DOUBLE], [recvbuf, MPI.DOUBLE], root=0)\n",
        "\n",
        "print(f'Process {rank} has {recvbuf}')\n",
        "\n",
        "PY"
      ]
    },
    {
      "cell_type": "code",
      "execution_count": null,
      "metadata": {
        "id": "U2fgvKRSCA7_",
        "outputId": "5d927d6b-d610-48d0-d4f4-999f3a8bf160"
      },
      "outputs": [
        {
          "name": "stdout",
          "output_type": "stream",
          "text": [
            "Rank 0 is sending [ 0.  1.  2.  3.  4.  5.  6.  7.  8.  9. 10. 11. 12. 13. 14. 15. 16. 17.\n",
            " 18. 19. 20. 21. 22. 23. 24. 25. 26. 27. 28. 29. 30. 31. 32. 33. 34. 35.\n",
            " 36. 37. 38. 39.]\n",
            "Process 0 has [0. 1. 2. 3. 4. 5. 6. 7. 8. 9.]\n",
            "Process 2 has [20. 21. 22. 23. 24. 25. 26. 27. 28. 29.]\n",
            "Process 1 has [10. 11. 12. 13. 14. 15. 16. 17. 18. 19.]\n",
            "Process 3 has [30. 31. 32. 33. 34. 35. 36. 37. 38. 39.]\n"
          ]
        }
      ],
      "source": [
        "!mpiexec -n 4 python hello_mpi.py"
      ]
    },
    {
      "cell_type": "markdown",
      "metadata": {
        "id": "Y5VTJiLnCA7_"
      },
      "source": [
        "**Gather**\n",
        "* The `gather` operation collects data from all processes\n",
        "* Each process sends its local data including the root\n",
        "* The root process receives all data\n",
        "* Other processes receive `None` as a result"
      ]
    },
    {
      "cell_type": "code",
      "execution_count": null,
      "metadata": {
        "id": "2xijJ4VUCA8F"
      },
      "outputs": [],
      "source": [
        "%%bash\n",
        "cat > hello_mpi.py <<'PY'\n",
        "from mpi4py import MPI\n",
        "\n",
        "comm = MPI.COMM_WORLD\n",
        "size = comm.Get_size()\n",
        "rank = comm.Get_rank()\n",
        "\n",
        "data = (rank+1)**2\n",
        "print(f'Process {rank} will send {data}')\n",
        "data = comm.gather(data, root=0)\n",
        "print(f'Process {rank} got {data}')\n",
        "if rank == 0:\n",
        "    for i in range(size):\n",
        "        assert data[i] == (i+1)**2\n",
        "else:\n",
        "    assert data is None\n",
        "PY"
      ]
    },
    {
      "cell_type": "code",
      "execution_count": null,
      "metadata": {
        "id": "FlONy-gLCA8F",
        "outputId": "2a608d19-1dcf-4fcb-df65-dde25a14146b"
      },
      "outputs": [
        {
          "name": "stdout",
          "output_type": "stream",
          "text": [
            "Process 3 will send 16\n",
            "Process 3 got None\n",
            "Process 1 will send 4\n",
            "Process 1 got None\n",
            "Process 2 will send 9\n",
            "Process 2 got None\n",
            "Process 0 will send 1\n",
            "Process 0 got [1, 4, 9, 16]\n"
          ]
        }
      ],
      "source": [
        "!mpiexec -n 4 python hello_mpi.py"
      ]
    },
    {
      "cell_type": "markdown",
      "metadata": {
        "id": "NEUCy5H3CA8F"
      },
      "source": [
        "* Gather can also be used for NumPy arrays note this is using the variant `Gather` instead of `gather`"
      ]
    },
    {
      "cell_type": "code",
      "execution_count": null,
      "metadata": {
        "id": "E9KJkVuSCA8F"
      },
      "outputs": [],
      "source": [
        "%%bash\n",
        "cat > hello_mpi.py <<'PY'\n",
        "from mpi4py import MPI\n",
        "import numpy as np\n",
        "\n",
        "comm = MPI.COMM_WORLD\n",
        "size = comm.Get_size()\n",
        "rank = comm.Get_rank()\n",
        "\n",
        "sendbuf = np.zeros(100, dtype='i') + rank\n",
        "print(f'Process {rank} is sending {sendbuf}')\n",
        "recvbuf = None\n",
        "if rank == 0:\n",
        "    # This buffer will receive length 100 arrays from each process\n",
        "    recvbuf = np.empty([size, 100], dtype='i')\n",
        "comm.Gather(sendbuf, recvbuf, root=0)\n",
        "\n",
        "print(f'Process {rank} got {recvbuf}')\n",
        "\n",
        "if rank == 0:\n",
        "    for i in range(size):\n",
        "        assert np.allclose(recvbuf[i,:], i)\n",
        "PY"
      ]
    },
    {
      "cell_type": "code",
      "execution_count": null,
      "metadata": {
        "id": "qBa80QiYCA8G",
        "outputId": "caa5766c-2c17-496a-b2da-1963f0f91ab2"
      },
      "outputs": [
        {
          "name": "stdout",
          "output_type": "stream",
          "text": [
            "Process 3 is sending [3 3 3 3 3 3 3 3 3 3 3 3 3 3 3 3 3 3 3 3 3 3 3 3 3 3 3 3 3 3 3 3 3 3 3 3 3\n",
            " 3 3 3 3 3 3 3 3 3 3 3 3 3 3 3 3 3 3 3 3 3 3 3 3 3 3 3 3 3 3 3 3 3 3 3 3 3\n",
            " 3 3 3 3 3 3 3 3 3 3 3 3 3 3 3 3 3 3 3 3 3 3 3 3 3 3]\n",
            "Process 3 got None\n",
            "Process 2 is sending [2 2 2 2 2 2 2 2 2 2 2 2 2 2 2 2 2 2 2 2 2 2 2 2 2 2 2 2 2 2 2 2 2 2 2 2 2\n",
            " 2 2 2 2 2 2 2 2 2 2 2 2 2 2 2 2 2 2 2 2 2 2 2 2 2 2 2 2 2 2 2 2 2 2 2 2 2\n",
            " 2 2 2 2 2 2 2 2 2 2 2 2 2 2 2 2 2 2 2 2 2 2 2 2 2 2]\n",
            "Process 2 got None\n",
            "Process 1 is sending [1 1 1 1 1 1 1 1 1 1 1 1 1 1 1 1 1 1 1 1 1 1 1 1 1 1 1 1 1 1 1 1 1 1 1 1 1\n",
            " 1 1 1 1 1 1 1 1 1 1 1 1 1 1 1 1 1 1 1 1 1 1 1 1 1 1 1 1 1 1 1 1 1 1 1 1 1\n",
            " 1 1 1 1 1 1 1 1 1 1 1 1 1 1 1 1 1 1 1 1 1 1 1 1 1 1]\n",
            "Process 1 got None\n",
            "Process 0 is sending [0 0 0 0 0 0 0 0 0 0 0 0 0 0 0 0 0 0 0 0 0 0 0 0 0 0 0 0 0 0 0 0 0 0 0 0 0\n",
            " 0 0 0 0 0 0 0 0 0 0 0 0 0 0 0 0 0 0 0 0 0 0 0 0 0 0 0 0 0 0 0 0 0 0 0 0 0\n",
            " 0 0 0 0 0 0 0 0 0 0 0 0 0 0 0 0 0 0 0 0 0 0 0 0 0 0]\n",
            "Process 0 got [[0 0 0 0 0 0 0 0 0 0 0 0 0 0 0 0 0 0 0 0 0 0 0 0 0 0 0 0 0 0 0 0 0 0 0 0\n",
            "  0 0 0 0 0 0 0 0 0 0 0 0 0 0 0 0 0 0 0 0 0 0 0 0 0 0 0 0 0 0 0 0 0 0 0 0\n",
            "  0 0 0 0 0 0 0 0 0 0 0 0 0 0 0 0 0 0 0 0 0 0 0 0 0 0 0 0]\n",
            " [1 1 1 1 1 1 1 1 1 1 1 1 1 1 1 1 1 1 1 1 1 1 1 1 1 1 1 1 1 1 1 1 1 1 1 1\n",
            "  1 1 1 1 1 1 1 1 1 1 1 1 1 1 1 1 1 1 1 1 1 1 1 1 1 1 1 1 1 1 1 1 1 1 1 1\n",
            "  1 1 1 1 1 1 1 1 1 1 1 1 1 1 1 1 1 1 1 1 1 1 1 1 1 1 1 1]\n",
            " [2 2 2 2 2 2 2 2 2 2 2 2 2 2 2 2 2 2 2 2 2 2 2 2 2 2 2 2 2 2 2 2 2 2 2 2\n",
            "  2 2 2 2 2 2 2 2 2 2 2 2 2 2 2 2 2 2 2 2 2 2 2 2 2 2 2 2 2 2 2 2 2 2 2 2\n",
            "  2 2 2 2 2 2 2 2 2 2 2 2 2 2 2 2 2 2 2 2 2 2 2 2 2 2 2 2]\n",
            " [3 3 3 3 3 3 3 3 3 3 3 3 3 3 3 3 3 3 3 3 3 3 3 3 3 3 3 3 3 3 3 3 3 3 3 3\n",
            "  3 3 3 3 3 3 3 3 3 3 3 3 3 3 3 3 3 3 3 3 3 3 3 3 3 3 3 3 3 3 3 3 3 3 3 3\n",
            "  3 3 3 3 3 3 3 3 3 3 3 3 3 3 3 3 3 3 3 3 3 3 3 3 3 3 3 3]]\n"
          ]
        }
      ],
      "source": [
        "!mpiexec -n 4 python hello_mpi.py"
      ]
    },
    {
      "cell_type": "markdown",
      "metadata": {
        "id": "C8V4FwMaCA8G"
      },
      "source": [
        "**Reduce**\n",
        "* The reduce operation is used to combine values from all processes in a communicator and store the result in the designated root process\n",
        "* We'll look at a simple example of estimating Pi via a Monte Carlo method"
      ]
    },
    {
      "cell_type": "code",
      "execution_count": null,
      "metadata": {
        "id": "PqVRlR8wCA8G"
      },
      "outputs": [],
      "source": [
        "%%bash\n",
        "cat > hello_mpi.py <<'PY'\n",
        "from mpi4py import MPI\n",
        "import numpy as np\n",
        "\n",
        "comm = MPI.COMM_WORLD\n",
        "rank = comm.Get_rank()\n",
        "\n",
        "N = 10000000  # samples per rank\n",
        "\n",
        "# Generate random points in [0,1)x[0,1) on a per process basis\n",
        "x = np.random.rand(N)\n",
        "y = np.random.rand(N)\n",
        "\n",
        "# Count how many points fall inside the unit circle (again per process)\n",
        "inside = np.sum(x*x + y*y < 1.0)\n",
        "\n",
        "# Reduce counts to root\n",
        "total_inside = comm.reduce(inside, op=MPI.SUM, root=0)\n",
        "total_samples = comm.reduce(N, op=MPI.SUM, root=0)\n",
        "\n",
        "if rank == 0:\n",
        "    pi_est = 4.0 * total_inside / total_samples\n",
        "    print(\"pi ≈\", pi_est)\n",
        "\n",
        "PY"
      ]
    },
    {
      "cell_type": "code",
      "execution_count": null,
      "metadata": {
        "id": "cE29RN_BCA8G",
        "outputId": "e4d61c6f-4c33-4bfe-8bc6-817f0bc57b28"
      },
      "outputs": [
        {
          "name": "stdout",
          "output_type": "stream",
          "text": [
            "pi ≈ 3.14180928\n"
          ]
        }
      ],
      "source": [
        "!mpiexec -n 10 python hello_mpi.py"
      ]
    },
    {
      "cell_type": "markdown",
      "metadata": {
        "id": "NW7HWrr_CA8H"
      },
      "source": [
        "* Some of the supported reduce operations include:\n",
        "    * `MPI.SUM` (sum)\n",
        "    * `MPI.PROD` (product)\n",
        "    * `MPI.MIN`, `MPI.MAX` (minimum and maximum)\n",
        "    * `MPI.LAND`, `MPI.LOR`, `MPI.LXOR` (logical and, or, and xor)\n",
        "    * `MPI.BAND`, `MPI.BOR`, `MPI.BXOR` (bitwise and, or, and xor)\n",
        "\n",
        "* Reduce can also be used on Python objects as long as they support the correct operations\n",
        "* However, this is slower"
      ]
    },
    {
      "cell_type": "code",
      "execution_count": null,
      "metadata": {
        "id": "CmZefhYoCA8H"
      },
      "outputs": [],
      "source": [
        "%%bash\n",
        "cat > hello_mpi.py <<'PY'\n",
        "from mpi4py import MPI\n",
        "\n",
        "comm = MPI.COMM_WORLD\n",
        "rank = comm.Get_rank()\n",
        "size = comm.Get_size()\n",
        "\n",
        "# Each rank has a plain Python integer (no NumPy array)\n",
        "local_value = rank + 1    # e.g., rank 0 has 1, rank 1 has 2, etc.\n",
        "\n",
        "# Reduce them all to rank 0, summing the integers\n",
        "total = comm.reduce(local_value, op=MPI.SUM, root=0)\n",
        "\n",
        "if rank == 0:\n",
        "    print(f\"Sum of 1..{size} = {total}\")\n",
        "\n",
        "PY"
      ]
    },
    {
      "cell_type": "code",
      "execution_count": null,
      "metadata": {
        "id": "sMss0CBuCA8H",
        "outputId": "6e55d3f6-50c5-4f8c-8349-3aab010a7791"
      },
      "outputs": [
        {
          "name": "stdout",
          "output_type": "stream",
          "text": [
            "Sum of 1..4 = 10\n"
          ]
        }
      ],
      "source": [
        "!mpiexec -n 4 python hello_mpi.py"
      ]
    },
    {
      "cell_type": "markdown",
      "metadata": {
        "id": "r5oS5VOQCA8H"
      },
      "source": [
        "* You can also use `Allreduce` which will perform a reductions operation aon all processes then make the result available on all processes"
      ]
    },
    {
      "cell_type": "markdown",
      "metadata": {
        "id": "iPr6GAynCA8H"
      },
      "source": [
        "**Alltoall**\n",
        "\n",
        "* Another available communication pattern is all to all\n",
        "* Each process sends some of data to every other process and receives data from every other process"
      ]
    },
    {
      "cell_type": "code",
      "execution_count": null,
      "metadata": {
        "id": "6OjJ5n8dCA8I"
      },
      "outputs": [],
      "source": [
        "%%bash\n",
        "cat > hello_mpi.py <<'PY'\n",
        "from mpi4py import MPI\n",
        "\n",
        "comm = MPI.COMM_WORLD\n",
        "rank = comm.Get_rank()\n",
        "size = comm.Get_size()\n",
        "\n",
        "# Each process prepares a list of objects to send to all other processes\n",
        "# For simplicity, each process sends its rank to every other process\n",
        "send_data = [f\"Hello from rank {rank} to rank {i}\" for i in range(size)]\n",
        "\n",
        "# Perform the all-to-all communication\n",
        "recv_data = comm.alltoall(send_data)\n",
        "\n",
        "# Print the received data\n",
        "print(f\"Rank {rank} received: {recv_data}\")\n",
        "\n",
        "PY"
      ]
    },
    {
      "cell_type": "code",
      "execution_count": null,
      "metadata": {
        "id": "wr6T-haRCA8I",
        "outputId": "96473a48-5de3-4e70-add3-05c0bbb92edb"
      },
      "outputs": [
        {
          "name": "stdout",
          "output_type": "stream",
          "text": [
            "Rank 0 received: ['Hello from rank 0 to rank 0', 'Hello from rank 1 to rank 0', 'Hello from rank 2 to rank 0', 'Hello from rank 3 to rank 0']\n",
            "Rank 1 received: ['Hello from rank 0 to rank 1', 'Hello from rank 1 to rank 1', 'Hello from rank 2 to rank 1', 'Hello from rank 3 to rank 1']\n",
            "Rank 2 received: ['Hello from rank 0 to rank 2', 'Hello from rank 1 to rank 2', 'Hello from rank 2 to rank 2', 'Hello from rank 3 to rank 2']\n",
            "Rank 3 received: ['Hello from rank 0 to rank 3', 'Hello from rank 1 to rank 3', 'Hello from rank 2 to rank 3', 'Hello from rank 3 to rank 3']\n"
          ]
        }
      ],
      "source": [
        "!mpiexec -n 4 python hello_mpi.py"
      ]
    },
    {
      "cell_type": "markdown",
      "metadata": {
        "id": "awZyI6KICA8I"
      },
      "source": [
        "**Notes**\n",
        "* Functions for collective communication are blocking by default\n",
        "* However, many have nonblocking versions like `Ibcast`, `Ireduce`, `Iscatter`, `Igather` etc.\n",
        "* Naturally this is a little harder to manage but could be more efficient if other computation can be done while waiting for messages to be transfered\n",
        "* Most communication function have a version specifically for NumPy arrrays that are capitalized, and a lower case version for Python objects"
      ]
    },
    {
      "cell_type": "markdown",
      "metadata": {
        "id": "9H48OztHCA8I"
      },
      "source": [
        "## Examples\n",
        "Now that we know the basics of communication, let's look at a few slightly more complex examples."
      ]
    },
    {
      "cell_type": "markdown",
      "metadata": {
        "id": "Q_AiyVnsCA8J"
      },
      "source": [
        "#### Example 1: Histogram\n",
        "* This example uses `reduce` to compute a global histogram from a collection of local histograms"
      ]
    },
    {
      "cell_type": "code",
      "execution_count": null,
      "metadata": {
        "id": "FFCicRTcCA8J"
      },
      "outputs": [],
      "source": [
        "%%bash\n",
        "cat > hello_mpi.py <<'PY'\n",
        "from mpi4py import MPI\n",
        "import numpy as np\n",
        "import matplotlib.pyplot as plt\n",
        "\n",
        "comm = MPI.COMM_WORLD\n",
        "rank = comm.Get_rank()\n",
        "size = comm.Get_size()\n",
        "\n",
        "# Define global bin edges\n",
        "if rank == 0:\n",
        "    edges = np.linspace(-1.0, 1.0, 21)\n",
        "else:\n",
        "    edges = None\n",
        "\n",
        "# Broadcast the eges to all processes\n",
        "edges = comm.bcast(edges, root=0)\n",
        "\n",
        "# Compute a local historgram\n",
        "N = 1000000\n",
        "x = np.random.randn(N)\n",
        "\n",
        "local_hist, _ = np.histogram(x, bins=edges)\n",
        "\n",
        "# Reduce counts to root only\n",
        "if rank == 0:\n",
        "    global_hist = np.empty_like(local_hist)\n",
        "else:\n",
        "    global_hist = None\n",
        "\n",
        "# Do the reduction over all historgrams\n",
        "comm.Reduce(local_hist, global_hist, op=MPI.SUM, root=0)\n",
        "\n",
        "# --- use the result on root ---\n",
        "if rank == 0:\n",
        "    print(\"bins:\", len(edges) - 1)\n",
        "    print(\"total samples:\", int(global_hist.sum()))   # should be N * size\n",
        "    print(\"first 10 bins:\", global_hist)\n",
        "\n",
        "    centers = 0.5*(edges[:-1] + edges[1:])\n",
        "    plt.figure()\n",
        "    plt.scatter(centers, global_hist, s=10)\n",
        "    plt.xlabel(\"x\"); plt.ylabel(\"count\")\n",
        "    plt.title(\"Global histogram\")\n",
        "    plt.savefig('hist.png', dpi=150, bbox_inches=\"tight\")\n",
        "\n",
        "PY\n"
      ]
    },
    {
      "cell_type": "code",
      "execution_count": null,
      "metadata": {
        "id": "i2QwoR3BCA8J",
        "outputId": "048179bd-6ea5-45cb-8743-fc2f7e47432b"
      },
      "outputs": [
        {
          "name": "stdout",
          "output_type": "stream",
          "text": [
            "bins: 20\n",
            "total samples: 2731008\n",
            "first 10 bins: [101438 111907 120484 128982 137317 144119 150486 154280 157272 159149\n",
            " 159089 157832 154304 150323 144516 137509 128733 120657 110726 101885]\n"
          ]
        }
      ],
      "source": [
        "!mpiexec -n 4 python hello_mpi.py"
      ]
    },
    {
      "cell_type": "code",
      "execution_count": null,
      "metadata": {
        "id": "ZR5BBlJFCA8J",
        "outputId": "06f6e0db-c326-4238-9cb1-a26d87d9216f"
      },
      "outputs": [
        {
          "data": {
            "image/png": "[encoded data removed]",
            "text/plain": [
              "<IPython.core.display.Image object>"
            ]
          },
          "metadata": {},
          "output_type": "display_data"
        }
      ],
      "source": [
        "from IPython.display import Image, display\n",
        "display(Image(\"hist.png\"))"
      ]
    },
    {
      "cell_type": "markdown",
      "metadata": {
        "id": "DNn9qELhCA8K"
      },
      "source": [
        "#### Example 2: Distributed Matrix-Vector Multiply\n",
        "* Suppose we have some big matrix $A$ and we want to compute the product\n",
        "$$ y = A x $$\n",
        "* We can parallelize this problem easily by breaking up $A$ into chunks row-wise, then doing matrix vector multiplications on each of the smaller matrices"
      ]
    },
    {
      "cell_type": "code",
      "execution_count": null,
      "metadata": {
        "id": "Knig-ltICA8K"
      },
      "outputs": [],
      "source": [
        "%%bash\n",
        "cat > hello_mpi.py <<'PY'\n",
        "from mpi4py import MPI\n",
        "import numpy as np\n",
        "import numpy.testing as npt\n",
        "\n",
        "comm = MPI.COMM_WORLD\n",
        "rank, size = comm.Get_rank(), comm.Get_size()\n",
        "\n",
        "# global dimensions\n",
        "M = 1024\n",
        "rows_per_rank = M // size\n",
        "\n",
        "# rank 0 initializes matrix/vector\n",
        "if rank == 0:\n",
        "    A = np.arange(M**2, dtype=np.float64).reshape(M,M)\n",
        "    x = np.arange(M, dtype=np.float64)\n",
        "\n",
        "    # Do everything on one process just so we can check our work\n",
        "    y0 = A@x\n",
        "\n",
        "else:\n",
        "    A, x, y0 = None, None, None\n",
        "\n",
        "# scatter rows of A\n",
        "local_A = np.empty((rows_per_rank, M), dtype=np.float64)\n",
        "comm.Scatter(A, local_A, root=0)\n",
        "\n",
        "# broadcast x\n",
        "x = comm.bcast(x, root=0)\n",
        "\n",
        "# local matvec\n",
        "y_local = local_A @ x\n",
        "\n",
        "# gather results\n",
        "y = None\n",
        "if rank == 0:\n",
        "    y = np.empty(M, dtype=np.float64)\n",
        "comm.Gather(y_local, y, root=0)\n",
        "\n",
        "if rank == 0:\n",
        "    print(\"y =\", y)\n",
        "    print(\"y0=\", y0 )\n",
        "\n",
        "    npt.assert_equal(y, y0)\n",
        "\n",
        "PY"
      ]
    },
    {
      "cell_type": "code",
      "execution_count": null,
      "metadata": {
        "id": "kFy3lfdACA8K",
        "outputId": "b18fbc34-7989-428a-ef04-7a04128ba869"
      },
      "outputs": [
        {
          "name": "stdout",
          "output_type": "stream",
          "text": [
            "y = [3.57389824e+08 8.93736448e+08 1.43008307e+09 ... 5.47967293e+11\n",
            " 5.48503640e+11 5.49039986e+11]\n",
            "y0= [3.57389824e+08 8.93736448e+08 1.43008307e+09 ... 5.47967293e+11\n",
            " 5.48503640e+11 5.49039986e+11]\n"
          ]
        }
      ],
      "source": [
        "!mpiexec -n 4 python hello_mpi.py"
      ]
    }
  ],
  "metadata": {
    "colab": {
      "provenance": [],
      "include_colab_link": true
    },
    "kernelspec": {
      "display_name": "Python 3",
      "name": "python3"
    },
    "language_info": {
      "codemirror_mode": {
        "name": "ipython",
        "version": 3
      },
      "file_extension": ".py",
      "mimetype": "text/x-python",
      "name": "python",
      "nbconvert_exporter": "python",
      "pygments_lexer": "ipython3",
      "version": "3.12.11"
    }
  },
  "nbformat": 4,
  "nbformat_minor": 0
}