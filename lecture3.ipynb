{
  "cells": [
    {
      "cell_type": "markdown",
      "metadata": {
        "id": "view-in-github",
        "colab_type": "text"
      },
      "source": [
        "<a href=\"https://colab.research.google.com/github/JacobDowns/CSCI-491-591/blob/main/lecture3.ipynb\" target=\"_parent\"><img src=\"https://colab.research.google.com/assets/colab-badge.svg\" alt=\"Open In Colab\"/></a>"
      ]
    },
    {
      "cell_type": "markdown",
      "id": "KduAYPrhluw0",
      "metadata": {
        "id": "KduAYPrhluw0"
      },
      "source": [
        "# Concurrency and Parallelism\n",
        "\n",
        "\n"
      ]
    },
    {
      "cell_type": "markdown",
      "id": "7iAxIJdyUf8P",
      "metadata": {
        "id": "7iAxIJdyUf8P"
      },
      "source": [
        "* Before jumping into multiprocessing in Python, it's useful to go over the basic concepts of concurrency and parallelism.\n",
        "* A nice overview of these concepts is provided in this [article](https://towardsdatascience.com/deep-dive-into-multithreading-multiprocessing-and-asyncio-94fdbe0c91f0/) by Clara Chong\n",
        "* First, we need to distinguish between concurrency and parallelism\n",
        "\n",
        "> **Concurrency** is managing multiple tasks at the same time by task switching\n",
        "\n",
        "> **Parallelism** is about running multiple tasks simultaneously, typically on multiple cores\n",
        "\n"
      ]
    },
    {
      "cell_type": "markdown",
      "id": "Te9IDkdsW9Rp",
      "metadata": {
        "id": "Te9IDkdsW9Rp"
      },
      "source": [
        "<figure>\n",
        "<img src=\"https://towardsdatascience.com/wp-content/uploads/2024/12/15zUHBzNkzOZYPu1uvuLcSQ.png\" width=\"1000px\">\n",
        "<figcaption align=\"center\"> Concurency v. Parallelism from Clara Chong.\n",
        "</figure>"
      ]
    },
    {
      "cell_type": "markdown",
      "id": "CkQ52p2HpgMJ",
      "metadata": {
        "id": "CkQ52p2HpgMJ"
      },
      "source": [
        "## Programs and Processs\n",
        "\n",
        "* A program refers to a static file like a Python script or executable\n",
        "* A program is passive until the OS loads it into memory to run\n",
        "* A running program becomes a **process**\n",
        "\n",
        "> **Process:**  an independent instance of a running program\n",
        "\n",
        "\n",
        "\n",
        "\n"
      ]
    },
    {
      "cell_type": "markdown",
      "id": "d6bpymS5CNi-",
      "metadata": {
        "id": "d6bpymS5CNi-"
      },
      "source": [
        "* Processes are meant to be isolated from each other by default\n",
        "* They have their own memory space, resources, and execution state\n",
        "* Typically processes won't communicate with each other directly explicitly designed to\n",
        "* For example the Message Passing Interface (MPI), which we'll discuss later, facilitates interprocess communication\n"
      ]
    },
    {
      "cell_type": "markdown",
      "id": "q0w_Faj1CQgv",
      "metadata": {
        "id": "q0w_Faj1CQgv"
      },
      "source": [
        "\n",
        "## Threads\n",
        "* Processes have one or more **threads**\n",
        "\n",
        "> **Thread**: the samallest unit of execution within a process\n",
        "* Processes essentially act as containers for threads\n",
        "* Threads can be spawned or destroyed throughout the life cycle of a process.\n",
        "* Each process has at least one thread called the `main` thread\n",
        "* Threads for a single process share memory and resources\n",
        "* Shared memory enables efficient communication, but also presents challenging synchronization problems like race conditions or deadlocks\n",
        "\n",
        "\n",
        "\n",
        "> **Race Condition**: Occurs when two or more threads can access ahared data and try to change it simultaneously\n",
        "\n",
        "\n",
        "\n",
        "```\n",
        "if(x == 5)\n",
        "  # Between and the line y=x*2 another thread could modify x\n",
        "  y = x*2\n",
        "  # Now x is not what you expect, and neither is y\n",
        "```\n",
        "\n",
        "\n",
        "> **Deadlock**: Two are more threads become permanently stuck because each thread is waiting for a resource the other holds\n",
        "\n"
      ]
    },
    {
      "cell_type": "markdown",
      "id": "IpeszYmNEZzf",
      "metadata": {
        "id": "IpeszYmNEZzf"
      },
      "source": [
        "## OS Management of Threads and Processes\n",
        "* Generally, CPUs execute one task per core at a time\n",
        "\n",
        "> **Note:** This is not quite true, but it can be useful to conceptualize it this way. True parallel execution of processes (in the sense of fully independent scheduling with isolated hardware resources) requires multiple physical cores. However, even a single core can execute multiple threads or instructions simultaneously through mechanisms like hyperthreading, superscalar pipelines, and SIMD.\n",
        "\n",
        "* So how does the OS handle several threads or processes at once?\n",
        "* The OS uses preemptive context switching\n",
        "\n",
        "> During a **context switch** the OS pauses the current task, saves its state and loads the state of the next task to be executed\n",
        "* Processes do not have full control over when a context switch happens\n",
        "* Context switching between processes is much more resource-intensive than switching between threads\n",
        "* This is because the OS must save and load separate memory spaces for processes, but memory is shared between threads\n",
        "\n",
        "\n",
        "\n",
        "\n",
        "\n",
        "\n",
        "\n"
      ]
    },
    {
      "cell_type": "markdown",
      "id": "cINifHcHTokZ",
      "metadata": {
        "id": "cINifHcHTokZ"
      },
      "source": [
        "<figure>\n",
        "<img src=\"https://towardsdatascience.com/wp-content/uploads/2024/12/1YrsrPOh5y4EL_7UOFJ08yg-1536x858.png\" width=\"1000px\">\n",
        "<figcaption align=\"center\"> Visualization of processes and threads from Clara Chong.\n",
        "</figure>"
      ]
    },
    {
      "cell_type": "markdown",
      "id": "-CSbnrOSWnWO",
      "metadata": {
        "id": "-CSbnrOSWnWO"
      },
      "source": [
        "## I/O-Bound v. CPU-Bound Processes\n",
        "* We make a broad distinction between I/O-bound processes and CPU-bound processes\n",
        "* **I/O bound:** These processes spend most of their time waiting for input/output operations to complete like file access, network communication, or user input while the CPU is mostly idle.\n",
        "\n",
        "<figure>\n",
        "<img src=\"https://realpython.com/cdn-cgi/image/width=1737,format=auto/https://files.realpython.com/media/IOBound.4810a888b457.png\" width=\"1000px\">\n",
        "<figcaption align=\"center\"> Visualization of an I/O-bound process from Jim Anderson.\n",
        "</figure>\n",
        "\n",
        "* **CPU-bound:** These processes spend most of their time doing computations, making heavy use of the CPU.\n",
        "\n",
        "<figure>\n",
        "<img src=\"https://realpython.com/cdn-cgi/image/width=1737,format=auto/https://files.realpython.com/media/CPUBound.d2d32cb2626c.png\" width=\"1000px\">\n",
        "<figcaption align=\"center\"> Visualization of a CPU-bound process from Jim Anderson.\n",
        "</figure>\n",
        "\n"
      ]
    },
    {
      "cell_type": "markdown",
      "id": "bwu9c_8xUniI",
      "metadata": {
        "id": "bwu9c_8xUniI"
      },
      "source": [
        "## Concurrency in Python\n",
        "\n",
        "There are a few models for achieving concurrency in Python.\n",
        "### 1. Multithreading\n",
        "\n",
        "* Multithreading allows a process to execute muiltiple threads concurrently\n",
        "* In Python, multithreading is limited by the Global Interpreter Lock (GIL)\n",
        "> The **Global Interpreter Lock** allows only one thread to hold control of the Python interpreter at any time\n",
        "* This design simplifies memory management in Python, but has consequences for multithreading\n",
        "* The GIL typically has a limited impact on I/O-bound processes, since they are often waiting\n",
        "* For multithreaded CPU-bound operations, however, the GIL is a significant bottleneck because multiple threads competing for the GIL take turns executing Python bytecode\n",
        "* Hence, the main use case for multithreading in Python is for I/O bound tasks\n",
        "* Notably, multithreading in Python is not true parallelism, it is concurrency"
      ]
    },
    {
      "cell_type": "markdown",
      "id": "wUKmkkFLnlUV",
      "metadata": {
        "id": "wUKmkkFLnlUV"
      },
      "source": [
        "## 2. Multiprocessing\n",
        "* Multiprocessing enables a system to run multiple processes in parallel\n",
        "* In Python each of these parallel processes has its own memory, GIL, and other resources\n",
        "* This introduces additional overhead, but bypasses the limitations imposed by the GIL\n",
        "* Its primary use is for speeding up CPU bound tasks"
      ]
    },
    {
      "cell_type": "markdown",
      "id": "5Ddd79tcpBzZ",
      "metadata": {
        "id": "5Ddd79tcpBzZ"
      },
      "source": [
        "## 3. Asyncio\n",
        "* Asyncio is a little different from threading in that it uses a single thread to handle multiple tasks\n",
        "* Asyncio runs an event loop that schedules tasks\n",
        "* Tasks will voluntarily pause themselves when waiting for something like file input or a network response\n",
        "* During this pause, the event loop switches to another task\n",
        "* It is also useful for I/O-bound tasks or processes involving many small tasks that spend a lot of time waiting\n",
        "* There a few main concepts in asyncio\n",
        "\n",
        "\n",
        "> **Coroutines**: these are functions defined with `async def` that can be paused and resumed\n",
        "\n",
        "> **Event Loop**: manages the execution of all tasks\n",
        "\n",
        "> **Tasks**: Wrappers around coroutines. A coroutine is turned into a task to actually run it.\n",
        "\n",
        "> `await` : This is the keyword that pauses a coroutine. It gives control back to the event loop\n",
        "\n"
      ]
    },
    {
      "cell_type": "markdown",
      "id": "AQg8qeSfJqPj",
      "metadata": {
        "id": "AQg8qeSfJqPj"
      },
      "source": [
        "# Accelerating an I/O Bound Program"
      ]
    },
    {
      "cell_type": "markdown",
      "id": "h7dTW2GCKYhD",
      "metadata": {
        "id": "h7dTW2GCKYhD"
      },
      "source": [
        "The next few examples are based on the [article](https://realpython.com/python-concurrency/) here by Jim Anderson, which is well worth reading through. For I/O-bound tasks we can benefit from concurrency using mulithreading or asyncio. Consider this example code that downloads the contents of some websites."
      ]
    },
    {
      "cell_type": "code",
      "execution_count": null,
      "id": "s-0_Jf0QJAy3",
      "metadata": {
        "id": "s-0_Jf0QJAy3"
      },
      "outputs": [],
      "source": [
        "import time\n",
        "\n",
        "import requests\n",
        "\n",
        "def download_some_stuff():\n",
        "    sites = [\n",
        "        \"https://www.jython.org\",\n",
        "        \"http://olympus.realpython.org/dice\",\n",
        "    ] * 80\n",
        "    start_time = time.perf_counter()\n",
        "    download_all_sites(sites)\n",
        "    duration = time.perf_counter() - start_time\n",
        "    print(f\"Downloaded {len(sites)} sites in {duration} seconds\")\n",
        "\n",
        "def download_all_sites(sites):\n",
        "    with requests.Session() as session:\n",
        "        for url in sites:\n",
        "            download_site(url, session)\n",
        "\n",
        "def download_site(url, session):\n",
        "    with session.get(url) as response:\n",
        "        print(f\"Read {len(response.content)} bytes from {url}\")"
      ]
    },
    {
      "cell_type": "markdown",
      "id": "CXr94rjDK0ch",
      "metadata": {
        "id": "CXr94rjDK0ch"
      },
      "source": [
        "Let's try it out and see how long it takes."
      ]
    },
    {
      "cell_type": "code",
      "execution_count": null,
      "id": "R27_QIL5J_1W",
      "metadata": {
        "colab": {
          "base_uri": "https://localhost:8080/"
        },
        "id": "R27_QIL5J_1W",
        "outputId": "c431f10f-43a5-48d2-c377-0c52903fd884"
      },
      "outputs": [
        {
          "name": "stdout",
          "output_type": "stream",
          "text": [
            "Read 10966 bytes from https://www.jython.org\n",
            "Read 278 bytes from http://olympus.realpython.org/dice\n",
            "Read 10966 bytes from https://www.jython.org\n",
            "Read 278 bytes from http://olympus.realpython.org/dice\n",
            "Read 10966 bytes from https://www.jython.org\n",
            "Read 278 bytes from http://olympus.realpython.org/dice\n",
            "Read 10966 bytes from https://www.jython.org\n",
            "Read 278 bytes from http://olympus.realpython.org/dice\n",
            "Read 10966 bytes from https://www.jython.org\n",
            "Read 278 bytes from http://olympus.realpython.org/dice\n",
            "Read 10966 bytes from https://www.jython.org\n",
            "Read 278 bytes from http://olympus.realpython.org/dice\n",
            "Read 10966 bytes from https://www.jython.org\n",
            "Read 278 bytes from http://olympus.realpython.org/dice\n",
            "Read 10966 bytes from https://www.jython.org\n",
            "Read 278 bytes from http://olympus.realpython.org/dice\n",
            "Read 10966 bytes from https://www.jython.org\n",
            "Read 278 bytes from http://olympus.realpython.org/dice\n",
            "Read 10966 bytes from https://www.jython.org\n",
            "Read 278 bytes from http://olympus.realpython.org/dice\n",
            "Read 10966 bytes from https://www.jython.org\n",
            "Read 278 bytes from http://olympus.realpython.org/dice\n",
            "Read 10966 bytes from https://www.jython.org\n",
            "Read 278 bytes from http://olympus.realpython.org/dice\n",
            "Read 10966 bytes from https://www.jython.org\n",
            "Read 278 bytes from http://olympus.realpython.org/dice\n",
            "Read 10966 bytes from https://www.jython.org\n",
            "Read 278 bytes from http://olympus.realpython.org/dice\n",
            "Read 10966 bytes from https://www.jython.org\n",
            "Read 278 bytes from http://olympus.realpython.org/dice\n",
            "Read 10966 bytes from https://www.jython.org\n",
            "Read 278 bytes from http://olympus.realpython.org/dice\n",
            "Read 10966 bytes from https://www.jython.org\n",
            "Read 278 bytes from http://olympus.realpython.org/dice\n",
            "Read 10966 bytes from https://www.jython.org\n",
            "Read 278 bytes from http://olympus.realpython.org/dice\n",
            "Read 10966 bytes from https://www.jython.org\n",
            "Read 278 bytes from http://olympus.realpython.org/dice\n",
            "Read 10966 bytes from https://www.jython.org\n",
            "Read 278 bytes from http://olympus.realpython.org/dice\n",
            "Read 10966 bytes from https://www.jython.org\n",
            "Read 278 bytes from http://olympus.realpython.org/dice\n",
            "Read 10966 bytes from https://www.jython.org\n",
            "Read 278 bytes from http://olympus.realpython.org/dice\n",
            "Read 10966 bytes from https://www.jython.org\n",
            "Read 278 bytes from http://olympus.realpython.org/dice\n",
            "Read 10966 bytes from https://www.jython.org\n",
            "Read 278 bytes from http://olympus.realpython.org/dice\n",
            "Read 10966 bytes from https://www.jython.org\n",
            "Read 278 bytes from http://olympus.realpython.org/dice\n",
            "Read 10966 bytes from https://www.jython.org\n",
            "Read 278 bytes from http://olympus.realpython.org/dice\n",
            "Read 10966 bytes from https://www.jython.org\n",
            "Read 278 bytes from http://olympus.realpython.org/dice\n",
            "Read 10966 bytes from https://www.jython.org\n",
            "Read 278 bytes from http://olympus.realpython.org/dice\n",
            "Read 10966 bytes from https://www.jython.org\n",
            "Read 278 bytes from http://olympus.realpython.org/dice\n",
            "Read 10966 bytes from https://www.jython.org\n",
            "Read 278 bytes from http://olympus.realpython.org/dice\n",
            "Read 10966 bytes from https://www.jython.org\n",
            "Read 278 bytes from http://olympus.realpython.org/dice\n",
            "Read 10966 bytes from https://www.jython.org\n",
            "Read 278 bytes from http://olympus.realpython.org/dice\n",
            "Read 10966 bytes from https://www.jython.org\n",
            "Read 278 bytes from http://olympus.realpython.org/dice\n",
            "Read 10966 bytes from https://www.jython.org\n",
            "Read 278 bytes from http://olympus.realpython.org/dice\n",
            "Read 10966 bytes from https://www.jython.org\n",
            "Read 278 bytes from http://olympus.realpython.org/dice\n",
            "Read 10966 bytes from https://www.jython.org\n",
            "Read 278 bytes from http://olympus.realpython.org/dice\n",
            "Read 10966 bytes from https://www.jython.org\n",
            "Read 278 bytes from http://olympus.realpython.org/dice\n",
            "Read 10966 bytes from https://www.jython.org\n",
            "Read 278 bytes from http://olympus.realpython.org/dice\n",
            "Read 10966 bytes from https://www.jython.org\n",
            "Read 278 bytes from http://olympus.realpython.org/dice\n",
            "Read 10966 bytes from https://www.jython.org\n",
            "Read 278 bytes from http://olympus.realpython.org/dice\n",
            "Read 10966 bytes from https://www.jython.org\n",
            "Read 278 bytes from http://olympus.realpython.org/dice\n",
            "Read 10966 bytes from https://www.jython.org\n",
            "Read 278 bytes from http://olympus.realpython.org/dice\n",
            "Read 10966 bytes from https://www.jython.org\n",
            "Read 278 bytes from http://olympus.realpython.org/dice\n",
            "Read 10966 bytes from https://www.jython.org\n",
            "Read 278 bytes from http://olympus.realpython.org/dice\n",
            "Read 10966 bytes from https://www.jython.org\n",
            "Read 278 bytes from http://olympus.realpython.org/dice\n",
            "Read 10966 bytes from https://www.jython.org\n",
            "Read 278 bytes from http://olympus.realpython.org/dice\n",
            "Read 10966 bytes from https://www.jython.org\n",
            "Read 278 bytes from http://olympus.realpython.org/dice\n",
            "Read 10966 bytes from https://www.jython.org\n",
            "Read 278 bytes from http://olympus.realpython.org/dice\n",
            "Read 10966 bytes from https://www.jython.org\n",
            "Read 278 bytes from http://olympus.realpython.org/dice\n",
            "Read 10966 bytes from https://www.jython.org\n",
            "Read 278 bytes from http://olympus.realpython.org/dice\n",
            "Read 10966 bytes from https://www.jython.org\n",
            "Read 278 bytes from http://olympus.realpython.org/dice\n",
            "Read 10966 bytes from https://www.jython.org\n",
            "Read 278 bytes from http://olympus.realpython.org/dice\n",
            "Read 10966 bytes from https://www.jython.org\n",
            "Read 278 bytes from http://olympus.realpython.org/dice\n",
            "Read 10966 bytes from https://www.jython.org\n",
            "Read 278 bytes from http://olympus.realpython.org/dice\n",
            "Read 10966 bytes from https://www.jython.org\n",
            "Read 278 bytes from http://olympus.realpython.org/dice\n",
            "Read 10966 bytes from https://www.jython.org\n",
            "Read 278 bytes from http://olympus.realpython.org/dice\n",
            "Read 10966 bytes from https://www.jython.org\n",
            "Read 278 bytes from http://olympus.realpython.org/dice\n",
            "Read 10966 bytes from https://www.jython.org\n",
            "Read 278 bytes from http://olympus.realpython.org/dice\n",
            "Read 10966 bytes from https://www.jython.org\n",
            "Read 278 bytes from http://olympus.realpython.org/dice\n",
            "Read 10966 bytes from https://www.jython.org\n",
            "Read 278 bytes from http://olympus.realpython.org/dice\n",
            "Read 10966 bytes from https://www.jython.org\n",
            "Read 278 bytes from http://olympus.realpython.org/dice\n",
            "Read 10966 bytes from https://www.jython.org\n",
            "Read 278 bytes from http://olympus.realpython.org/dice\n",
            "Read 10966 bytes from https://www.jython.org\n",
            "Read 278 bytes from http://olympus.realpython.org/dice\n",
            "Read 10966 bytes from https://www.jython.org\n",
            "Read 278 bytes from http://olympus.realpython.org/dice\n",
            "Read 10966 bytes from https://www.jython.org\n",
            "Read 278 bytes from http://olympus.realpython.org/dice\n",
            "Read 10966 bytes from https://www.jython.org\n",
            "Read 278 bytes from http://olympus.realpython.org/dice\n",
            "Read 10966 bytes from https://www.jython.org\n",
            "Read 278 bytes from http://olympus.realpython.org/dice\n",
            "Read 10966 bytes from https://www.jython.org\n",
            "Read 278 bytes from http://olympus.realpython.org/dice\n",
            "Read 10966 bytes from https://www.jython.org\n",
            "Read 278 bytes from http://olympus.realpython.org/dice\n",
            "Read 10966 bytes from https://www.jython.org\n",
            "Read 278 bytes from http://olympus.realpython.org/dice\n",
            "Read 10966 bytes from https://www.jython.org\n",
            "Read 278 bytes from http://olympus.realpython.org/dice\n",
            "Read 10966 bytes from https://www.jython.org\n",
            "Read 278 bytes from http://olympus.realpython.org/dice\n",
            "Read 10966 bytes from https://www.jython.org\n",
            "Read 278 bytes from http://olympus.realpython.org/dice\n",
            "Read 10966 bytes from https://www.jython.org\n",
            "Read 278 bytes from http://olympus.realpython.org/dice\n",
            "Read 10966 bytes from https://www.jython.org\n",
            "Read 278 bytes from http://olympus.realpython.org/dice\n",
            "Read 10966 bytes from https://www.jython.org\n",
            "Read 278 bytes from http://olympus.realpython.org/dice\n",
            "Read 10966 bytes from https://www.jython.org\n",
            "Read 278 bytes from http://olympus.realpython.org/dice\n",
            "Read 10966 bytes from https://www.jython.org\n",
            "Read 278 bytes from http://olympus.realpython.org/dice\n",
            "Read 10966 bytes from https://www.jython.org\n",
            "Read 278 bytes from http://olympus.realpython.org/dice\n",
            "Read 10966 bytes from https://www.jython.org\n",
            "Read 278 bytes from http://olympus.realpython.org/dice\n",
            "Downloaded 160 sites in 9.394837354999254 seconds\n"
          ]
        }
      ],
      "source": [
        "download_some_stuff()"
      ]
    },
    {
      "cell_type": "code",
      "execution_count": null,
      "id": "o51oFhdNKQSj",
      "metadata": {
        "id": "o51oFhdNKQSj"
      },
      "outputs": [],
      "source": [
        "import threading\n",
        "import time\n",
        "from concurrent.futures import ThreadPoolExecutor\n",
        "import requests\n",
        "\n",
        "thread_local = threading.local()\n",
        "\n",
        "def download_some_stuff_threaded():\n",
        "    sites = [\n",
        "        \"https://www.jython.org\",\n",
        "        \"http://olympus.realpython.org/dice\",\n",
        "    ] * 80\n",
        "    start_time = time.perf_counter()\n",
        "    download_all_sites(sites)\n",
        "    duration = time.perf_counter() - start_time\n",
        "    print(f\"Downloaded {len(sites)} sites in {duration} seconds\")\n",
        "\n",
        "def download_all_sites(sites):\n",
        "    with ThreadPoolExecutor(max_workers=5) as executor:\n",
        "        executor.map(download_site, sites)\n",
        "\n",
        "def download_site(url):\n",
        "    session = get_session_for_thread()\n",
        "    with session.get(url) as response:\n",
        "        print(f\"Read {len(response.content)} bytes from {url}\")\n",
        "\n",
        "def get_session_for_thread():\n",
        "    if not hasattr(thread_local, \"session\"):\n",
        "        thread_local.session = requests.Session()\n",
        "    return thread_local.session"
      ]
    },
    {
      "cell_type": "code",
      "execution_count": null,
      "id": "4SB2rHEALwng",
      "metadata": {
        "colab": {
          "base_uri": "https://localhost:8080/"
        },
        "id": "4SB2rHEALwng",
        "outputId": "a40a1a6b-dbee-4dd7-a999-5a22c7895f91"
      },
      "outputs": [
        {
          "name": "stdout",
          "output_type": "stream",
          "text": [
            "Read 10966 bytes from https://www.jython.org\n",
            "Read 10966 bytes from https://www.jython.org\n",
            "Read 10966 bytes from https://www.jython.org\n",
            "Read 10966 bytes from https://www.jython.org\n",
            "Read 278 bytes from http://olympus.realpython.org/dice\n",
            "Read 278 bytes from http://olympus.realpython.org/dice\n",
            "Read 10966 bytes from https://www.jython.org\n",
            "Read 278 bytes from http://olympus.realpython.org/dice\n",
            "Read 278 bytes from http://olympus.realpython.org/dice\n",
            "Read 278 bytes from http://olympus.realpython.org/dice\n",
            "Read 10966 bytes from https://www.jython.org\n",
            "Read 10966 bytes from https://www.jython.org\n",
            "Read 278 bytes from http://olympus.realpython.org/dice\n",
            "Read 278 bytes from http://olympus.realpython.org/dice\n",
            "Read 10966 bytes from https://www.jython.org\n",
            "Read 278 bytes from http://olympus.realpython.org/dice\n",
            "Read 10966 bytes from https://www.jython.org\n",
            "Read 10966 bytes from https://www.jython.org\n",
            "Read 10966 bytes from https://www.jython.org\n",
            "Read 278 bytes from http://olympus.realpython.org/dice\n",
            "Read 10966 bytes from https://www.jython.org\n",
            "Read 278 bytes from http://olympus.realpython.org/dice\n",
            "Read 278 bytes from http://olympus.realpython.org/dice\n",
            "Read 10966 bytes from https://www.jython.org\n",
            "Read 10966 bytes from https://www.jython.org\n",
            "Read 278 bytes from http://olympus.realpython.org/dice\n",
            "Read 10966 bytes from https://www.jython.org\n",
            "Read 278 bytes from http://olympus.realpython.org/dice\n",
            "Read 10966 bytes from https://www.jython.org\n",
            "Read 278 bytes from http://olympus.realpython.org/dice\n",
            "Read 10966 bytes from https://www.jython.org\n",
            "Read 278 bytes from http://olympus.realpython.org/dice\n",
            "Read 10966 bytes from https://www.jython.org\n",
            "Read 278 bytes from http://olympus.realpython.org/dice\n",
            "Read 10966 bytes from https://www.jython.org\n",
            "Read 278 bytes from http://olympus.realpython.org/dice\n",
            "Read 10966 bytes from https://www.jython.org\n",
            "Read 278 bytes from http://olympus.realpython.org/dice\n",
            "Read 10966 bytes from https://www.jython.org\n",
            "Read 278 bytes from http://olympus.realpython.org/dice\n",
            "Read 10966 bytes from https://www.jython.org\n",
            "Read 278 bytes from http://olympus.realpython.org/dice\n",
            "Read 278 bytes from http://olympus.realpython.org/dice\n",
            "Read 10966 bytes from https://www.jython.org\n",
            "Read 278 bytes from http://olympus.realpython.org/dice\n",
            "Read 10966 bytes from https://www.jython.org\n",
            "Read 10966 bytes from https://www.jython.org\n",
            "Read 278 bytes from http://olympus.realpython.org/dice\n",
            "Read 10966 bytes from https://www.jython.org\n",
            "Read 278 bytes from http://olympus.realpython.org/dice\n",
            "Read 10966 bytes from https://www.jython.org\n",
            "Read 278 bytes from http://olympus.realpython.org/dice\n",
            "Read 278 bytes from http://olympus.realpython.org/dice\n",
            "Read 10966 bytes from https://www.jython.org\n",
            "Read 10966 bytes from https://www.jython.org\n",
            "Read 278 bytes from http://olympus.realpython.org/dice\n",
            "Read 10966 bytes from https://www.jython.org\n",
            "Read 278 bytes from http://olympus.realpython.org/dice\n",
            "Read 278 bytes from http://olympus.realpython.org/dice\n",
            "Read 10966 bytes from https://www.jython.org\n",
            "Read 10966 bytes from https://www.jython.org\n",
            "Read 278 bytes from http://olympus.realpython.org/dice\n",
            "Read 10966 bytes from https://www.jython.org\n",
            "Read 278 bytes from http://olympus.realpython.org/dice\n",
            "Read 10966 bytes from https://www.jython.org\n",
            "Read 278 bytes from http://olympus.realpython.org/dice\n",
            "Read 10966 bytes from https://www.jython.org\n",
            "Read 278 bytes from http://olympus.realpython.org/dice\n",
            "Read 10966 bytes from https://www.jython.org\n",
            "Read 278 bytes from http://olympus.realpython.org/dice\n",
            "Read 10966 bytes from https://www.jython.org\n",
            "Read 278 bytes from http://olympus.realpython.org/dice\n",
            "Read 10966 bytes from https://www.jython.org\n",
            "Read 278 bytes from http://olympus.realpython.org/dice\n",
            "Read 278 bytes from http://olympus.realpython.org/dice\n",
            "Read 10966 bytes from https://www.jython.org\n",
            "Read 278 bytes from http://olympus.realpython.org/dice\n",
            "Read 10966 bytes from https://www.jython.org\n",
            "Read 10966 bytes from https://www.jython.org\n",
            "Read 278 bytes from http://olympus.realpython.org/dice\n",
            "Read 10966 bytes from https://www.jython.org\n",
            "Read 278 bytes from http://olympus.realpython.org/dice\n",
            "Read 10966 bytes from https://www.jython.org\n",
            "Read 278 bytes from http://olympus.realpython.org/dice\n",
            "Read 10966 bytes from https://www.jython.org\n",
            "Read 278 bytes from http://olympus.realpython.org/dice\n",
            "Read 10966 bytes from https://www.jython.org\n",
            "Read 278 bytes from http://olympus.realpython.org/dice\n",
            "Read 10966 bytes from https://www.jython.org\n",
            "Read 10966 bytes from https://www.jython.org\n",
            "Read 278 bytes from http://olympus.realpython.org/dice\n",
            "Read 278 bytes from http://olympus.realpython.org/dice\n",
            "Read 10966 bytes from https://www.jython.org\n",
            "Read 278 bytes from http://olympus.realpython.org/dice\n",
            "Read 10966 bytes from https://www.jython.org\n",
            "Read 278 bytes from http://olympus.realpython.org/dice\n",
            "Read 10966 bytes from https://www.jython.org\n",
            "Read 278 bytes from http://olympus.realpython.org/dice\n",
            "Read 10966 bytes from https://www.jython.org\n",
            "Read 278 bytes from http://olympus.realpython.org/dice\n",
            "Read 10966 bytes from https://www.jython.org\n",
            "Read 278 bytes from http://olympus.realpython.org/dice\n",
            "Read 278 bytes from http://olympus.realpython.org/dice\n",
            "Read 10966 bytes from https://www.jython.org\n",
            "Read 10966 bytes from https://www.jython.org\n",
            "Read 10966 bytes from https://www.jython.org\n",
            "Read 278 bytes from http://olympus.realpython.org/dice\n",
            "Read 278 bytes from http://olympus.realpython.org/dice\n",
            "Read 10966 bytes from https://www.jython.org\n",
            "Read 278 bytes from http://olympus.realpython.org/dice\n",
            "Read 10966 bytes from https://www.jython.org\n",
            "Read 278 bytes from http://olympus.realpython.org/dice\n",
            "Read 10966 bytes from https://www.jython.org\n",
            "Read 278 bytes from http://olympus.realpython.org/dice\n",
            "Read 10966 bytes from https://www.jython.org\n",
            "Read 278 bytes from http://olympus.realpython.org/dice\n",
            "Read 278 bytes from http://olympus.realpython.org/dice\n",
            "Read 10966 bytes from https://www.jython.org\n",
            "Read 278 bytes from http://olympus.realpython.org/dice\n",
            "Read 10966 bytes from https://www.jython.org\n",
            "Read 10966 bytes from https://www.jython.org\n",
            "Read 278 bytes from http://olympus.realpython.org/dice\n",
            "Read 10966 bytes from https://www.jython.org\n",
            "Read 278 bytes from http://olympus.realpython.org/dice\n",
            "Read 10966 bytes from https://www.jython.org\n",
            "Read 278 bytes from http://olympus.realpython.org/dice\n",
            "Read 278 bytes from http://olympus.realpython.org/dice\n",
            "Read 10966 bytes from https://www.jython.org\n",
            "Read 278 bytes from http://olympus.realpython.org/dice\n",
            "Read 10966 bytes from https://www.jython.org\n",
            "Read 10966 bytes from https://www.jython.org\n",
            "Read 278 bytes from http://olympus.realpython.org/dice\n",
            "Read 10966 bytes from https://www.jython.org\n",
            "Read 10966 bytes from https://www.jython.org\n",
            "Read 278 bytes from http://olympus.realpython.org/dice\n",
            "Read 278 bytes from http://olympus.realpython.org/dice\n",
            "Read 10966 bytes from https://www.jython.org\n",
            "Read 278 bytes from http://olympus.realpython.org/dice\n",
            "Read 10966 bytes from https://www.jython.org\n",
            "Read 278 bytes from http://olympus.realpython.org/dice\n",
            "Read 10966 bytes from https://www.jython.org\n",
            "Read 278 bytes from http://olympus.realpython.org/dice\n",
            "Read 10966 bytes from https://www.jython.org\n",
            "Read 278 bytes from http://olympus.realpython.org/dice\n",
            "Read 10966 bytes from https://www.jython.org\n",
            "Read 278 bytes from http://olympus.realpython.org/dice\n",
            "Read 10966 bytes from https://www.jython.org\n",
            "Read 278 bytes from http://olympus.realpython.org/dice\n",
            "Read 10966 bytes from https://www.jython.org\n",
            "Read 278 bytes from http://olympus.realpython.org/dice\n",
            "Read 10966 bytes from https://www.jython.org\n",
            "Read 278 bytes from http://olympus.realpython.org/dice\n",
            "Read 10966 bytes from https://www.jython.org\n",
            "Read 278 bytes from http://olympus.realpython.org/dice\n",
            "Read 10966 bytes from https://www.jython.org\n",
            "Read 278 bytes from http://olympus.realpython.org/dice\n",
            "Read 10966 bytes from https://www.jython.org\n",
            "Read 278 bytes from http://olympus.realpython.org/dice\n",
            "Read 278 bytes from http://olympus.realpython.org/dice\n",
            "Read 278 bytes from http://olympus.realpython.org/dice\n",
            "Downloaded 160 sites in 1.9882499340001232 seconds\n"
          ]
        }
      ],
      "source": [
        "download_some_stuff_threaded()"
      ]
    },
    {
      "cell_type": "markdown",
      "id": "W9eF0mrIqhd6",
      "metadata": {
        "id": "W9eF0mrIqhd6"
      },
      "source": [
        "What are the main differences here? We're using Python's ThreadPoolExecutor here to manage threads.\n",
        "* The `max_workers` parameter defines the number of worker threads that will be created. Recall that the number of threads is not tied to the number of cores available on your machine. So in this case, we've got five threads doing requests and waiting for a response.\n",
        "\n",
        "* These five threads will stay alive until the `with` block has completed and all sites have been downloaded. So, once a thread finishes a request, its fed the next site in sites that hasn't been completed\n",
        "\n",
        "* An important note on this code is that the `Session` object is not thread safe. That is, we cannot reuse just one session object for every thread, because this would lead to race conditions where the session objects could be in the incorrect state for a given thread as other threads modify its properties.\n",
        "\n",
        "* To get around this issue, the line\n",
        "```\n",
        "thread_local = threading.local()\n",
        "```\n",
        "creates a special object that has thread local storage. It's a sort of conatiner that you can store things that shouldn't be shared among all threads.\n",
        "\n",
        "* This function\n",
        "```\n",
        "def get_session_for_thread():\n",
        "    if not hasattr(thread_local, \"session\"):\n",
        "        thread_local.session = requests.Session()\n",
        "    return thread_local.session\n",
        "```\n",
        "takes advantage of that thread local storage. When the thread is invoked, there is not a session attribute set in `thread_local`, so this function will create a new `Session` object.  On any subsequent calls in the same thread, it will reuse that local `Session` object."
      ]
    },
    {
      "cell_type": "markdown",
      "id": "m6jD-upNSIh6",
      "metadata": {
        "id": "m6jD-upNSIh6"
      },
      "source": [
        "## Using asyncio\n",
        "\n",
        "As mentioned, asyncio provides another approach to concurrency that often excels at handling I/O-bound tasks. Let's see the same example of downloading several websites implemented in asyncio."
      ]
    },
    {
      "cell_type": "code",
      "execution_count": null,
      "id": "hjD2JlUbNb8b",
      "metadata": {
        "id": "hjD2JlUbNb8b"
      },
      "outputs": [],
      "source": [
        "import asyncio\n",
        "import time\n",
        "import aiohttp\n",
        "\n",
        "async def download_stuff_asyncio():\n",
        "    sites = [\n",
        "        \"https://www.jython.org\",\n",
        "        \"http://olympus.realpython.org/dice\",\n",
        "    ] * 80\n",
        "    start_time = time.perf_counter()\n",
        "    await download_all_sites(sites)\n",
        "    duration = time.perf_counter() - start_time\n",
        "    print(f\"Downloaded {len(sites)} sites in {duration} seconds\")\n",
        "\n",
        "async def download_all_sites(sites):\n",
        "    async with aiohttp.ClientSession() as session:\n",
        "        tasks = [download_site(url, session) for url in sites]\n",
        "        await asyncio.gather(*tasks, return_exceptions=True)\n",
        "\n",
        "async def download_site(url, session):\n",
        "    async with session.get(url) as response:\n",
        "        print(f\"Read {len(await response.read())} bytes from {url}\")\n"
      ]
    },
    {
      "cell_type": "code",
      "execution_count": null,
      "id": "UOq2RzUlWM5G",
      "metadata": {
        "colab": {
          "base_uri": "https://localhost:8080/"
        },
        "id": "UOq2RzUlWM5G",
        "outputId": "d7e963b8-2f26-496b-ef68-0763b28da952"
      },
      "outputs": [
        {
          "name": "stdout",
          "output_type": "stream",
          "text": [
            "Read 10966 bytes from https://www.jython.org\n",
            "Read 10966 bytes from https://www.jython.org\n",
            "Read 10966 bytes from https://www.jython.org\n",
            "Read 10966 bytes from https://www.jython.org\n",
            "Read 10966 bytes from https://www.jython.org\n",
            "Read 10966 bytes from https://www.jython.org\n",
            "Read 10966 bytes from https://www.jython.org\n",
            "Read 10966 bytes from https://www.jython.org\n",
            "Read 10966 bytes from https://www.jython.org\n",
            "Read 10966 bytes from https://www.jython.org\n",
            "Read 10966 bytes from https://www.jython.org\n",
            "Read 10966 bytes from https://www.jython.org\n",
            "Read 10966 bytes from https://www.jython.org\n",
            "Read 10966 bytes from https://www.jython.org\n",
            "Read 10966 bytes from https://www.jython.org\n",
            "Read 10966 bytes from https://www.jython.org\n",
            "Read 10966 bytes from https://www.jython.org\n",
            "Read 10966 bytes from https://www.jython.org\n",
            "Read 10966 bytes from https://www.jython.org\n",
            "Read 10966 bytes from https://www.jython.org\n",
            "Read 10966 bytes from https://www.jython.org\n",
            "Read 10966 bytes from https://www.jython.org\n",
            "Read 10966 bytes from https://www.jython.org\n",
            "Read 10966 bytes from https://www.jython.org\n",
            "Read 10966 bytes from https://www.jython.org\n",
            "Read 10966 bytes from https://www.jython.org\n",
            "Read 10966 bytes from https://www.jython.org\n",
            "Read 10966 bytes from https://www.jython.org\n",
            "Read 10966 bytes from https://www.jython.org\n",
            "Read 10966 bytes from https://www.jython.org\n",
            "Read 10966 bytes from https://www.jython.org\n",
            "Read 10966 bytes from https://www.jython.org\n",
            "Read 10966 bytes from https://www.jython.org\n",
            "Read 10966 bytes from https://www.jython.org\n",
            "Read 10966 bytes from https://www.jython.org\n",
            "Read 10966 bytes from https://www.jython.org\n",
            "Read 10966 bytes from https://www.jython.org\n",
            "Read 10966 bytes from https://www.jython.org\n",
            "Read 10966 bytes from https://www.jython.org\n",
            "Read 10966 bytes from https://www.jython.org\n",
            "Read 10966 bytes from https://www.jython.org\n",
            "Read 10966 bytes from https://www.jython.org\n",
            "Read 10966 bytes from https://www.jython.org\n",
            "Read 10966 bytes from https://www.jython.org\n",
            "Read 10966 bytes from https://www.jython.org\n",
            "Read 10966 bytes from https://www.jython.org\n",
            "Read 10966 bytes from https://www.jython.org\n",
            "Read 10966 bytes from https://www.jython.org\n",
            "Read 10966 bytes from https://www.jython.org\n",
            "Read 10966 bytes from https://www.jython.org\n",
            "Read 10966 bytes from https://www.jython.org\n",
            "Read 10966 bytes from https://www.jython.org\n",
            "Read 10966 bytes from https://www.jython.org\n",
            "Read 10966 bytes from https://www.jython.org\n",
            "Read 278 bytes from http://olympus.realpython.org/dice\n",
            "Read 10966 bytes from https://www.jython.org\n",
            "Read 278 bytes from http://olympus.realpython.org/dice\n",
            "Read 10966 bytes from https://www.jython.org\n",
            "Read 10966 bytes from https://www.jython.org\n",
            "Read 278 bytes from http://olympus.realpython.org/dice\n",
            "Read 278 bytes from http://olympus.realpython.org/dice\n",
            "Read 278 bytes from http://olympus.realpython.org/dice\n",
            "Read 10966 bytes from https://www.jython.org\n",
            "Read 278 bytes from http://olympus.realpython.org/dice\n",
            "Read 10966 bytes from https://www.jython.org\n",
            "Read 278 bytes from http://olympus.realpython.org/dice\n",
            "Read 278 bytes from http://olympus.realpython.org/dice\n",
            "Read 10966 bytes from https://www.jython.org\n",
            "Read 10966 bytes from https://www.jython.org\n",
            "Read 10966 bytes from https://www.jython.org\n",
            "Read 278 bytes from http://olympus.realpython.org/dice\n",
            "Read 10966 bytes from https://www.jython.org\n",
            "Read 10966 bytes from https://www.jython.org\n",
            "Read 10966 bytes from https://www.jython.org\n",
            "Read 10966 bytes from https://www.jython.org\n",
            "Read 10966 bytes from https://www.jython.org\n",
            "Read 10966 bytes from https://www.jython.org\n",
            "Read 10966 bytes from https://www.jython.org\n",
            "Read 10966 bytes from https://www.jython.org\n",
            "Read 10966 bytes from https://www.jython.org\n",
            "Read 10966 bytes from https://www.jython.org\n",
            "Read 10966 bytes from https://www.jython.org\n",
            "Read 10966 bytes from https://www.jython.org\n",
            "Read 10966 bytes from https://www.jython.org\n",
            "Read 278 bytes from http://olympus.realpython.org/dice\n",
            "Read 278 bytes from http://olympus.realpython.org/dice\n",
            "Read 278 bytes from http://olympus.realpython.org/dice\n",
            "Read 278 bytes from http://olympus.realpython.org/dice\n",
            "Read 278 bytes from http://olympus.realpython.org/dice\n",
            "Read 278 bytes from http://olympus.realpython.org/dice\n",
            "Read 278 bytes from http://olympus.realpython.org/dice\n",
            "Read 278 bytes from http://olympus.realpython.org/dice\n",
            "Read 278 bytes from http://olympus.realpython.org/dice\n",
            "Read 278 bytes from http://olympus.realpython.org/dice\n",
            "Read 278 bytes from http://olympus.realpython.org/dice\n",
            "Read 278 bytes from http://olympus.realpython.org/dice\n",
            "Read 278 bytes from http://olympus.realpython.org/dice\n",
            "Read 278 bytes from http://olympus.realpython.org/dice\n",
            "Read 278 bytes from http://olympus.realpython.org/dice\n",
            "Read 278 bytes from http://olympus.realpython.org/dice\n",
            "Read 278 bytes from http://olympus.realpython.org/dice\n",
            "Read 278 bytes from http://olympus.realpython.org/dice\n",
            "Read 278 bytes from http://olympus.realpython.org/dice\n",
            "Read 278 bytes from http://olympus.realpython.org/dice\n",
            "Read 278 bytes from http://olympus.realpython.org/dice\n",
            "Read 278 bytes from http://olympus.realpython.org/dice\n",
            "Read 278 bytes from http://olympus.realpython.org/dice\n",
            "Read 278 bytes from http://olympus.realpython.org/dice\n",
            "Read 278 bytes from http://olympus.realpython.org/dice\n",
            "Read 278 bytes from http://olympus.realpython.org/dice\n",
            "Read 278 bytes from http://olympus.realpython.org/dice\n",
            "Read 10966 bytes from https://www.jython.org\n",
            "Read 278 bytes from http://olympus.realpython.org/dice\n",
            "Read 278 bytes from http://olympus.realpython.org/dice\n",
            "Read 278 bytes from http://olympus.realpython.org/dice\n",
            "Read 278 bytes from http://olympus.realpython.org/dice\n",
            "Read 278 bytes from http://olympus.realpython.org/dice\n",
            "Read 278 bytes from http://olympus.realpython.org/dice\n",
            "Read 278 bytes from http://olympus.realpython.org/dice\n",
            "Read 278 bytes from http://olympus.realpython.org/dice\n",
            "Read 10966 bytes from https://www.jython.org\n",
            "Read 278 bytes from http://olympus.realpython.org/dice\n",
            "Read 278 bytes from http://olympus.realpython.org/dice\n",
            "Read 278 bytes from http://olympus.realpython.org/dice\n",
            "Read 278 bytes from http://olympus.realpython.org/dice\n",
            "Read 10966 bytes from https://www.jython.org\n",
            "Read 278 bytes from http://olympus.realpython.org/dice\n",
            "Read 10966 bytes from https://www.jython.org\n",
            "Read 278 bytes from http://olympus.realpython.org/dice\n",
            "Read 10966 bytes from https://www.jython.org\n",
            "Read 278 bytes from http://olympus.realpython.org/dice\n",
            "Read 278 bytes from http://olympus.realpython.org/dice\n",
            "Read 278 bytes from http://olympus.realpython.org/dice\n",
            "Read 278 bytes from http://olympus.realpython.org/dice\n",
            "Read 278 bytes from http://olympus.realpython.org/dice\n",
            "Read 278 bytes from http://olympus.realpython.org/dice\n",
            "Read 278 bytes from http://olympus.realpython.org/dice\n",
            "Read 278 bytes from http://olympus.realpython.org/dice\n",
            "Read 278 bytes from http://olympus.realpython.org/dice\n",
            "Read 278 bytes from http://olympus.realpython.org/dice\n",
            "Read 278 bytes from http://olympus.realpython.org/dice\n",
            "Read 278 bytes from http://olympus.realpython.org/dice\n",
            "Read 278 bytes from http://olympus.realpython.org/dice\n",
            "Read 278 bytes from http://olympus.realpython.org/dice\n",
            "Read 278 bytes from http://olympus.realpython.org/dice\n",
            "Read 278 bytes from http://olympus.realpython.org/dice\n",
            "Read 278 bytes from http://olympus.realpython.org/dice\n",
            "Read 278 bytes from http://olympus.realpython.org/dice\n",
            "Read 278 bytes from http://olympus.realpython.org/dice\n",
            "Read 278 bytes from http://olympus.realpython.org/dice\n",
            "Read 278 bytes from http://olympus.realpython.org/dice\n",
            "Read 278 bytes from http://olympus.realpython.org/dice\n",
            "Read 278 bytes from http://olympus.realpython.org/dice\n",
            "Read 278 bytes from http://olympus.realpython.org/dice\n",
            "Read 278 bytes from http://olympus.realpython.org/dice\n",
            "Read 278 bytes from http://olympus.realpython.org/dice\n",
            "Read 278 bytes from http://olympus.realpython.org/dice\n",
            "Read 278 bytes from http://olympus.realpython.org/dice\n",
            "Read 278 bytes from http://olympus.realpython.org/dice\n",
            "Read 278 bytes from http://olympus.realpython.org/dice\n",
            "Downloaded 160 sites in 0.32622136500140186 seconds\n"
          ]
        }
      ],
      "source": [
        "await download_stuff_asyncio()"
      ]
    },
    {
      "cell_type": "markdown",
      "id": "qYYifetNakWe",
      "metadata": {
        "id": "qYYifetNakWe"
      },
      "source": [
        "What are the key differences in the asyncio version?\n",
        "* First, we switched from using the requests library to `aiohttp`. This is because `aiohttp` is designed to work with asyncio because it's non-blocking. Thus, if a request is made in `aiohttp`, it doesn't inhibit control being released back to the event loop.\n",
        "\n",
        "* The function `download_all_sites` creates a single `Session` object. Unlike the threaded version, this is fine because everything runs on a single thread in asyncio. This line creates a list of tasks to be completed\n",
        "```\n",
        "tasks = [download_site(url, session) for url in sites]\n",
        "```\n",
        "but because they async functions, they are not run immediately.\n",
        "\n",
        "* The functions / coroutines need to be awaited to actually run. Next, the line\n",
        "```\n",
        "await asyncio.gather(*tasks, return_exceptions=True)\n",
        "```\n",
        "uses a `asyncio.gather()` to run all the tasks concurrently.\n",
        "\n",
        "**Notes:**\n",
        "* Unlike threading, there is no notion of the number of the optimal number of workers or threads in asyncio. Task switching is done according to when functions release control back to the event loop.\n",
        "* The default, synchronous version showed deterministic behavior. That is, every site was downloaded in a particular order. The multithreaded and asynchronous versions are non-deterministic.\n",
        "* You need special asynchronous versions of libraries to gain the full advantage of asyncio. For example, using `requests` as opposed to `aiohttp` would've been slow because the `async` functions wouldn't have given up control.\n",
        "* Small mistakes in code can have a big impact because a coroutine needs to give up control voluntarily.\n",
        "* You could also use multiprocessing for this task, but it ends up being barely faster than the synchronous version.\n",
        "\n",
        "\n"
      ]
    },
    {
      "cell_type": "markdown",
      "id": "HD5QFiggoVAQ",
      "metadata": {
        "id": "HD5QFiggoVAQ"
      },
      "source": [
        "## Accelerating an I/O Bound Program"
      ]
    },
    {
      "cell_type": "markdown",
      "id": "GZS-zwZjpQ1a",
      "metadata": {
        "id": "GZS-zwZjpQ1a"
      },
      "source": [
        "Next, we'll shift to a CPU bound problem. Let's consider a recursive implementation of the Fibonacci sequence."
      ]
    },
    {
      "cell_type": "code",
      "execution_count": null,
      "id": "lKE76Gapuhba",
      "metadata": {
        "id": "lKE76Gapuhba"
      },
      "outputs": [],
      "source": [
        "def fib(n):\n",
        "    return n if n < 2 else fib(n - 2) + fib(n - 1)"
      ]
    },
    {
      "cell_type": "code",
      "execution_count": null,
      "id": "NZHPcLRNlryn",
      "metadata": {
        "id": "NZHPcLRNlryn"
      },
      "outputs": [],
      "source": [
        "import time\n",
        "\n",
        "def run_synchronous():\n",
        "    start_time = time.perf_counter()\n",
        "    for _ in range(10):\n",
        "        fib(38)\n",
        "    duration = time.perf_counter() - start_time\n",
        "    print(f\"Computed in {duration} seconds\")\n",
        "\n"
      ]
    },
    {
      "cell_type": "code",
      "execution_count": null,
      "id": "JXJyewz2pyzZ",
      "metadata": {
        "colab": {
          "base_uri": "https://localhost:8080/"
        },
        "id": "JXJyewz2pyzZ",
        "outputId": "64a132e9-c57b-44ce-fe37-a8e2f784b61c"
      },
      "outputs": [
        {
          "name": "stdout",
          "output_type": "stream",
          "text": [
            "Computed in 31.64398568499928 seconds\n"
          ]
        }
      ],
      "source": [
        "run_synchronous()"
      ]
    },
    {
      "cell_type": "markdown",
      "id": "xTCsGnGFqAhH",
      "metadata": {
        "id": "xTCsGnGFqAhH"
      },
      "source": [
        "That took a while. What if we tried to speed it up with multithreading?"
      ]
    },
    {
      "cell_type": "code",
      "execution_count": null,
      "id": "eLEm8Vp4p0dm",
      "metadata": {
        "id": "eLEm8Vp4p0dm"
      },
      "outputs": [],
      "source": [
        "import time\n",
        "from concurrent.futures import ThreadPoolExecutor\n",
        "\n",
        "def run_threaded():\n",
        "    start_time = time.perf_counter()\n",
        "    with ThreadPoolExecutor(max_workers=5) as executor:\n",
        "        executor.map(fib, [38] * 10)\n",
        "    duration = time.perf_counter() - start_time\n",
        "    print(f\"Computed in {duration} seconds\")\n"
      ]
    },
    {
      "cell_type": "code",
      "execution_count": null,
      "id": "bLbcyZu2qRz0",
      "metadata": {
        "colab": {
          "base_uri": "https://localhost:8080/"
        },
        "id": "bLbcyZu2qRz0",
        "outputId": "08fcae66-d1b7-4114-c747-ee16fec4bb42"
      },
      "outputs": [
        {
          "name": "stdout",
          "output_type": "stream",
          "text": [
            "Computed in 42.23928950899972 seconds\n"
          ]
        }
      ],
      "source": [
        "run_threaded()"
      ]
    },
    {
      "cell_type": "markdown",
      "id": "ZaEJM1Geqex2",
      "metadata": {
        "id": "ZaEJM1Geqex2"
      },
      "source": [
        "This was even slower than the standard Python version due to overhead of switching between threads. This is a problem that benefits from multiprocessing."
      ]
    },
    {
      "cell_type": "code",
      "execution_count": null,
      "id": "mMYMC8n_qS02",
      "metadata": {
        "id": "mMYMC8n_qS02"
      },
      "outputs": [],
      "source": [
        "import time\n",
        "from concurrent.futures import ProcessPoolExecutor\n",
        "\n",
        "def run_parallel():\n",
        "    start_time = time.perf_counter()\n",
        "    with ProcessPoolExecutor(max_workers=2) as executor:\n",
        "        executor.map(fib, [38] * 10)\n",
        "    duration = time.perf_counter() - start_time\n",
        "    print(f\"Computed in {duration} seconds\")"
      ]
    },
    {
      "cell_type": "code",
      "execution_count": null,
      "id": "tiwp02CQqwPT",
      "metadata": {
        "colab": {
          "base_uri": "https://localhost:8080/"
        },
        "id": "tiwp02CQqwPT",
        "outputId": "4b39e709-31b0-4910-a6cb-ab1deb764502"
      },
      "outputs": [
        {
          "name": "stdout",
          "output_type": "stream",
          "text": [
            "Computed in 15.787282847000824 seconds\n"
          ]
        }
      ],
      "source": [
        "run_parallel()"
      ]
    },
    {
      "cell_type": "markdown",
      "id": "yoeGjXDSuDFS",
      "metadata": {
        "id": "yoeGjXDSuDFS"
      },
      "source": [
        "For this CPU bound problem, multiprocessing provides a substantial performance increase. Indeed, on my machine this took almost exactly half the time of the synchronous version."
      ]
    },
    {
      "cell_type": "markdown",
      "id": "14d5ff04",
      "metadata": {
        "id": "14d5ff04"
      },
      "source": [
        "## Parallel Performance Scaling\n",
        "How does performance scale as we add more processors? In theory, on this task, the time should scale inversely with the number or processors we use."
      ]
    },
    {
      "cell_type": "code",
      "execution_count": null,
      "id": "9cee8963",
      "metadata": {
        "id": "9cee8963"
      },
      "outputs": [],
      "source": [
        "def run_parallel(max_workers):\n",
        "    start_time = time.perf_counter()\n",
        "    with ProcessPoolExecutor(max_workers) as executor:\n",
        "        executor.map(fib, [38] * 10)\n",
        "    duration = time.perf_counter() - start_time\n",
        "    return duration"
      ]
    },
    {
      "cell_type": "code",
      "execution_count": null,
      "id": "e0bf3fa2",
      "metadata": {
        "id": "e0bf3fa2",
        "outputId": "eec91e9f-56d0-49f0-85b4-f0bbb4e39184"
      },
      "outputs": [
        {
          "name": "stdout",
          "output_type": "stream",
          "text": [
            "Running on 1 processor(s).\n",
            "Took 31.56438967899885 seconds.\n",
            "Running on 2 processor(s).\n",
            "Took 15.805733072000294 seconds.\n",
            "Running on 3 processor(s).\n",
            "Took 12.636884308001754 seconds.\n",
            "Running on 4 processor(s).\n",
            "Took 9.477804975998879 seconds.\n",
            "Running on 5 processor(s).\n",
            "Took 6.454539813999872 seconds.\n",
            "Running on 6 processor(s).\n",
            "Took 6.369663725999999 seconds.\n",
            "Running on 7 processor(s).\n",
            "Took 6.345318141000462 seconds.\n",
            "Running on 8 processor(s).\n",
            "Took 6.376174231998448 seconds.\n",
            "Running on 9 processor(s).\n",
            "Took 6.349347348997981 seconds.\n",
            "Running on 10 processor(s).\n",
            "Took 3.9411018760001753 seconds.\n",
            "Running on 11 processor(s).\n",
            "Took 4.223324272999889 seconds.\n",
            "Running on 12 processor(s).\n",
            "Took 4.185547403001692 seconds.\n",
            "Running on 13 processor(s).\n",
            "Took 4.18327516899808 seconds.\n"
          ]
        }
      ],
      "source": [
        "times = []\n",
        "for i in range(1,14):\n",
        "    print(f'Running on {i} processor(s).')\n",
        "    t = run_parallel(i)\n",
        "    times.append(t)\n",
        "    print(f'Took {t} seconds.')"
      ]
    },
    {
      "cell_type": "code",
      "execution_count": null,
      "id": "1fd81110",
      "metadata": {
        "id": "1fd81110",
        "outputId": "2d1c3ca7-e907-42a6-c4a1-18e3b30bf930"
      },
      "outputs": [
        {
          "data": {
            "image/png": "[encoded data removed]",
            "text/plain": [
              "<Figure size 640x480 with 1 Axes>"
            ]
          },
          "metadata": {},
          "output_type": "display_data"
        }
      ],
      "source": [
        "import matplotlib.pyplot as plt\n",
        "import numpy as np\n",
        "procs = np.arange(1,14)\n",
        "plt.plot(procs, times, 'bo-', label='Real Time')\n",
        "plt.xlabel('Number or Processors')\n",
        "plt.ylabel('Seconds')\n",
        "plt.grid(True, linestyle=':')\n",
        "plt.plot(procs, times[0] / procs, 'ro-', label = 'Theoretical Time')\n",
        "plt.xlim([0.9,13])\n",
        "plt.ylim([0,32])\n",
        "plt.show()"
      ]
    },
    {
      "cell_type": "markdown",
      "id": "8de8e6ec",
      "metadata": {
        "id": "8de8e6ec"
      },
      "source": [
        "For the most part, this is true. We're achieving almost the maximum theoretical speedup that we'd expect. This is an example of an **emberassingly parallel** task where there is no intercommunication required between processes. Hence, each call of `fib` is essentially an independent task."
      ]
    },
    {
      "cell_type": "markdown",
      "id": "3fcac3e0",
      "metadata": {
        "id": "3fcac3e0"
      },
      "source": [
        "## Amdahl's Law\n",
        "\n",
        "* Suppose that part of our program is easy to parallelize, but another portion of it is serial, meaning it doesn't benefit from parallelism\n",
        "* Amdahl's law defines the theoretical maximum speedup that can be achieved depending on the portion of the program that is parallelizable.\n",
        "* Suppose that a task takes time $T$ to complete when running on a single processor.\n",
        "* Let $P$ be the fraction of the task that can be parallelized\n",
        "* Then $(1-P)$ is the fraction that is sequential or cannot be parallelized\n",
        "* Let $N$ be the number of processors\n",
        "* Then the time it takes to complete the task, assuming that the time it takes to finish parallelizable portion of the program scales inversely with the number of processors is\n",
        "\n",
        "$$T_p = T \\left ( (1-P) + \\frac{P}{N} \\right )$$\n",
        "* The speedup is then given by by the ratio of the time for the original sequential version $T$ over the time for the parallelized version $T_p$, or\n",
        "$$ \\frac{T}{T_p} = \\frac{1}{  (1-P) + \\frac{P}{N} }$$\n",
        "\n",
        "Let's see some examples of the speedups that can be achieved for different values of P and N."
      ]
    },
    {
      "cell_type": "code",
      "execution_count": null,
      "id": "5f4dde27",
      "metadata": {
        "id": "5f4dde27",
        "outputId": "431015a1-01f8-4366-d100-0053463371c6"
      },
      "outputs": [
        {
          "data": {
            "image/png": "[encoded data removed]",
            "text/plain": [
              "<Figure size 640x480 with 1 Axes>"
            ]
          },
          "metadata": {},
          "output_type": "display_data"
        }
      ],
      "source": [
        "import numpy as np\n",
        "import matplotlib.pyplot as plt\n",
        "\n",
        "n = np.arange(1, 64)            # processors 1..32\n",
        "ps = np.linspace(0.1, 0.9, 9)   # 0.1, 0.2, ..., 0.9\n",
        "\n",
        "for p in ps:\n",
        "    S = 1.0 / ((1 - p) + (p / n))\n",
        "    plt.plot(n, S, label=f\"p={p:.1f}\")\n",
        "\n",
        "plt.xlabel(\"n (processors)\")\n",
        "plt.ylabel(\"Speedup S(n)\")\n",
        "plt.title(\"Amdahl's Law: S(n) = 1 / ((1 - p) + p/n)\")\n",
        "plt.legend(title=\"Parallel fraction\")\n",
        "plt.grid(True)\n",
        "plt.tight_layout()\n",
        "plt.show()"
      ]
    }
  ],
  "metadata": {
    "colab": {
      "provenance": [],
      "include_colab_link": true
    },
    "kernelspec": {
      "display_name": "Python 3",
      "language": "python",
      "name": "python3"
    },
    "language_info": {
      "codemirror_mode": {
        "name": "ipython",
        "version": 3
      },
      "file_extension": ".py",
      "mimetype": "text/x-python",
      "name": "python",
      "nbconvert_exporter": "python",
      "pygments_lexer": "ipython3",
      "version": "3.12.11"
    }
  },
  "nbformat": 4,
  "nbformat_minor": 5
}