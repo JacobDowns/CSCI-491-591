{
  "cells": [
    {
      "cell_type": "markdown",
      "id": "f5306f27",
      "metadata": {
        "id": "f5306f27"
      },
      "source": [
        "# NDArrays"
      ]
    },
    {
      "cell_type": "markdown",
      "id": "1eb7b45c",
      "metadata": {
        "id": "1eb7b45c"
      },
      "source": []
    },
    {
      "cell_type": "markdown",
      "id": "7e25090d",
      "metadata": {
        "id": "7e25090d"
      },
      "source": [
        "*   Numpy defines an n-dimensional array where every element in the array has the same data type\n",
        "*  Examples: float32, float64, int32, int64, etc.\n",
        "* It is common to use high-dimensional arrays in Numpy\n",
        "* There are many typical ways to allocate new arrays in Numpy\n",
        "\n"
      ]
    },
    {
      "cell_type": "markdown",
      "source": [
        "## Defining Arrays"
      ],
      "metadata": {
        "id": "T_19ElzXA7ct"
      },
      "id": "T_19ElzXA7ct"
    },
    {
      "cell_type": "code",
      "execution_count": 1,
      "id": "2edcc35b",
      "metadata": {
        "id": "2edcc35b"
      },
      "outputs": [],
      "source": [
        "import numpy as np"
      ]
    },
    {
      "cell_type": "code",
      "source": [
        "# 1d array\n",
        "x1 = np.array([1,2,3,4,5])\n",
        "x1"
      ],
      "metadata": {
        "colab": {
          "base_uri": "https://localhost:8080/"
        },
        "id": "QyVcqN469FP4",
        "outputId": "7ad53d8b-ca49-4b4f-a381-67dddcf6d7ee"
      },
      "id": "QyVcqN469FP4",
      "execution_count": 3,
      "outputs": [
        {
          "output_type": "execute_result",
          "data": {
            "text/plain": [
              "array([1, 2, 3, 4, 5])"
            ]
          },
          "metadata": {},
          "execution_count": 3
        }
      ]
    },
    {
      "cell_type": "code",
      "source": [
        "# 2d array (array of 1d arrays)\n",
        "x2 = np.array([[1,2,3],[4,5,6]])\n",
        "x2"
      ],
      "metadata": {
        "colab": {
          "base_uri": "https://localhost:8080/"
        },
        "id": "QKQvUlT_9b3k",
        "outputId": "38479526-60c4-4a97-8635-9c8ace420efd"
      },
      "id": "QKQvUlT_9b3k",
      "execution_count": 6,
      "outputs": [
        {
          "output_type": "execute_result",
          "data": {
            "text/plain": [
              "array([[1, 2, 3],\n",
              "       [4, 5, 6]])"
            ]
          },
          "metadata": {},
          "execution_count": 6
        }
      ]
    },
    {
      "cell_type": "code",
      "source": [
        "# 3d array  (Array of 2d arrays)\n",
        "x3 = np.array([[[1,2,3],[4,5,6]],[[7,8,9],[10,11,12]]])\n",
        "x3"
      ],
      "metadata": {
        "colab": {
          "base_uri": "https://localhost:8080/"
        },
        "id": "1KRl4Oas9j-v",
        "outputId": "c5873616-534a-48c7-ad6d-c6f0c07bfa91"
      },
      "id": "1KRl4Oas9j-v",
      "execution_count": 7,
      "outputs": [
        {
          "output_type": "execute_result",
          "data": {
            "text/plain": [
              "array([[[ 1,  2,  3],\n",
              "        [ 4,  5,  6]],\n",
              "\n",
              "       [[ 7,  8,  9],\n",
              "        [10, 11, 12]]])"
            ]
          },
          "metadata": {},
          "execution_count": 7
        }
      ]
    },
    {
      "cell_type": "code",
      "source": [
        "# You can get the shape of an array with .shape\n",
        "(x1.shape, x2.shape, x3.shape)"
      ],
      "metadata": {
        "colab": {
          "base_uri": "https://localhost:8080/"
        },
        "id": "lDu75AcDGY4i",
        "outputId": "2e0db983-9f27-46aa-ea43-f628ebba31ca"
      },
      "id": "lDu75AcDGY4i",
      "execution_count": 50,
      "outputs": [
        {
          "output_type": "execute_result",
          "data": {
            "text/plain": [
              "((5,), (2, 3), (2, 2, 3))"
            ]
          },
          "metadata": {},
          "execution_count": 50
        }
      ]
    },
    {
      "cell_type": "markdown",
      "source": [
        "There are several short-hand ways of defining common arrays"
      ],
      "metadata": {
        "id": "dzwZgTLJ-SUX"
      },
      "id": "dzwZgTLJ-SUX"
    },
    {
      "cell_type": "code",
      "source": [
        "# 1d array of zeros\n",
        "x4 = np.zeros(3)\n",
        "x4"
      ],
      "metadata": {
        "colab": {
          "base_uri": "https://localhost:8080/"
        },
        "id": "q15ia5Sx9m_T",
        "outputId": "d81952ce-b334-4670-d90a-e4d7cd72a555"
      },
      "id": "q15ia5Sx9m_T",
      "execution_count": 14,
      "outputs": [
        {
          "output_type": "execute_result",
          "data": {
            "text/plain": [
              "array([0., 0., 0.])"
            ]
          },
          "metadata": {},
          "execution_count": 14
        }
      ]
    },
    {
      "cell_type": "code",
      "source": [
        "# 2d array of zeros\n",
        "x5 = np.zeros((3,3))\n",
        "x5"
      ],
      "metadata": {
        "colab": {
          "base_uri": "https://localhost:8080/"
        },
        "id": "D9257WAj-Bnd",
        "outputId": "d8dcb238-dae0-4b2f-dde1-ed263a62667d"
      },
      "id": "D9257WAj-Bnd",
      "execution_count": 15,
      "outputs": [
        {
          "output_type": "execute_result",
          "data": {
            "text/plain": [
              "array([[0., 0., 0.],\n",
              "       [0., 0., 0.],\n",
              "       [0., 0., 0.]])"
            ]
          },
          "metadata": {},
          "execution_count": 15
        }
      ]
    },
    {
      "cell_type": "code",
      "source": [
        "# 3d Array of zeros\n",
        "x6 = np.zeros((3,3,3))\n",
        "x6"
      ],
      "metadata": {
        "colab": {
          "base_uri": "https://localhost:8080/"
        },
        "id": "JXKH8Awg-JG9",
        "outputId": "d199ce17-0757-429f-f529-340551b3df1d"
      },
      "id": "JXKH8Awg-JG9",
      "execution_count": 16,
      "outputs": [
        {
          "output_type": "execute_result",
          "data": {
            "text/plain": [
              "array([[[0., 0., 0.],\n",
              "        [0., 0., 0.],\n",
              "        [0., 0., 0.]],\n",
              "\n",
              "       [[0., 0., 0.],\n",
              "        [0., 0., 0.],\n",
              "        [0., 0., 0.]],\n",
              "\n",
              "       [[0., 0., 0.],\n",
              "        [0., 0., 0.],\n",
              "        [0., 0., 0.]]])"
            ]
          },
          "metadata": {},
          "execution_count": 16
        }
      ]
    },
    {
      "cell_type": "code",
      "source": [
        "# An array of ones\n",
        "x7 = np.ones(3)\n",
        "x7"
      ],
      "metadata": {
        "colab": {
          "base_uri": "https://localhost:8080/"
        },
        "id": "eeslROWx-fZM",
        "outputId": "71a96b4c-3fcc-447f-8bc7-26a792cc9c3a"
      },
      "id": "eeslROWx-fZM",
      "execution_count": 17,
      "outputs": [
        {
          "output_type": "execute_result",
          "data": {
            "text/plain": [
              "array([1., 1., 1.])"
            ]
          },
          "metadata": {},
          "execution_count": 17
        }
      ]
    },
    {
      "cell_type": "code",
      "source": [
        "# Numpy will use a default type (often float64)\n",
        "x7.dtype"
      ],
      "metadata": {
        "colab": {
          "base_uri": "https://localhost:8080/"
        },
        "id": "ocrYB6uM-ymW",
        "outputId": "80d502d8-fd02-4243-f7b5-7b1fca0d3431"
      },
      "id": "ocrYB6uM-ymW",
      "execution_count": 20,
      "outputs": [
        {
          "output_type": "execute_result",
          "data": {
            "text/plain": [
              "dtype('float64')"
            ]
          },
          "metadata": {},
          "execution_count": 20
        }
      ]
    },
    {
      "cell_type": "code",
      "source": [
        "# However you can define a specific type as follows\n",
        "x8 = np.ones(3, dtype=np.int64)\n",
        "x8.dtype"
      ],
      "metadata": {
        "colab": {
          "base_uri": "https://localhost:8080/"
        },
        "id": "ouLWTpJ4--K6",
        "outputId": "25306d4b-c03a-4295-fb9e-d587ba59cb8a"
      },
      "id": "ouLWTpJ4--K6",
      "execution_count": 23,
      "outputs": [
        {
          "output_type": "execute_result",
          "data": {
            "text/plain": [
              "dtype('int64')"
            ]
          },
          "metadata": {},
          "execution_count": 23
        }
      ]
    },
    {
      "cell_type": "code",
      "source": [
        "# Or you can cast to a differnt type\n",
        "x9 = x8.astype(np.float32)\n",
        "x9"
      ],
      "metadata": {
        "colab": {
          "base_uri": "https://localhost:8080/"
        },
        "id": "OJI1zT20_YA5",
        "outputId": "61241d28-e99b-4873-9dec-58a46966c209"
      },
      "id": "OJI1zT20_YA5",
      "execution_count": 24,
      "outputs": [
        {
          "output_type": "execute_result",
          "data": {
            "text/plain": [
              "array([1., 1., 1.], dtype=float32)"
            ]
          },
          "metadata": {},
          "execution_count": 24
        }
      ]
    },
    {
      "cell_type": "code",
      "source": [
        "# Another common way to define an array is using arange, which just counts up from 0 by integers\n",
        "x10 = np.arange(10)\n",
        "x10"
      ],
      "metadata": {
        "colab": {
          "base_uri": "https://localhost:8080/"
        },
        "id": "yHpbjnWt_Yrq",
        "outputId": "84b7cd02-7954-40cf-e009-659e3af96207"
      },
      "id": "yHpbjnWt_Yrq",
      "execution_count": 28,
      "outputs": [
        {
          "output_type": "execute_result",
          "data": {
            "text/plain": [
              "array([0, 1, 2, 3, 4, 5, 6, 7, 8, 9])"
            ]
          },
          "metadata": {},
          "execution_count": 28
        }
      ]
    },
    {
      "cell_type": "code",
      "source": [
        "# It has int64 type by default\n",
        "x10.dtype"
      ],
      "metadata": {
        "colab": {
          "base_uri": "https://localhost:8080/"
        },
        "id": "6A4gcoHO_st3",
        "outputId": "19124be1-b558-43db-d28d-073f92f9557a"
      },
      "id": "6A4gcoHO_st3",
      "execution_count": 27,
      "outputs": [
        {
          "output_type": "execute_result",
          "data": {
            "text/plain": [
              "dtype('int64')"
            ]
          },
          "metadata": {},
          "execution_count": 27
        }
      ]
    },
    {
      "cell_type": "code",
      "source": [
        "# You can also define, the start, stop, and step explicitely. These don't have to be integers.\n",
        "x11 = np.arange(1,10,0.5)\n",
        "x11"
      ],
      "metadata": {
        "colab": {
          "base_uri": "https://localhost:8080/"
        },
        "id": "FgMor0n_ACFk",
        "outputId": "0e371f8b-4576-42d4-9d3a-c2434f153f1c"
      },
      "id": "FgMor0n_ACFk",
      "execution_count": 29,
      "outputs": [
        {
          "output_type": "execute_result",
          "data": {
            "text/plain": [
              "array([1. , 1.5, 2. , 2.5, 3. , 3.5, 4. , 4.5, 5. , 5.5, 6. , 6.5, 7. ,\n",
              "       7.5, 8. , 8.5, 9. , 9.5])"
            ]
          },
          "metadata": {},
          "execution_count": 29
        }
      ]
    },
    {
      "cell_type": "code",
      "source": [
        "# Another useful function is linspace, which produces evenly spaced numbers in an interval\n",
        "x12 = np.linspace(0.,1.,10)\n",
        "x12"
      ],
      "metadata": {
        "colab": {
          "base_uri": "https://localhost:8080/"
        },
        "id": "8NYBAk7NAoIb",
        "outputId": "3b7b6107-72c0-42ba-b482-2191f5905064"
      },
      "id": "8NYBAk7NAoIb",
      "execution_count": 31,
      "outputs": [
        {
          "output_type": "execute_result",
          "data": {
            "text/plain": [
              "array([0.        , 0.11111111, 0.22222222, 0.33333333, 0.44444444,\n",
              "       0.55555556, 0.66666667, 0.77777778, 0.88888889, 1.        ])"
            ]
          },
          "metadata": {},
          "execution_count": 31
        }
      ]
    },
    {
      "cell_type": "markdown",
      "source": [
        "## Reshaping"
      ],
      "metadata": {
        "id": "mLYsg9S2KxPk"
      },
      "id": "mLYsg9S2KxPk"
    },
    {
      "cell_type": "code",
      "source": [
        "# You can reshape an array as long as the total number of elements checks out\n",
        "x13 = np.arange(25)\n",
        "x14 = x13.reshape((5,5))\n",
        "x14"
      ],
      "metadata": {
        "colab": {
          "base_uri": "https://localhost:8080/"
        },
        "id": "YjqcMrKEKzV3",
        "outputId": "bb510ed8-0570-4bbd-99b4-8d3649f16192"
      },
      "id": "YjqcMrKEKzV3",
      "execution_count": 69,
      "outputs": [
        {
          "output_type": "execute_result",
          "data": {
            "text/plain": [
              "array([[ 0,  1,  2,  3,  4],\n",
              "       [ 5,  6,  7,  8,  9],\n",
              "       [10, 11, 12, 13, 14],\n",
              "       [15, 16, 17, 18, 19],\n",
              "       [20, 21, 22, 23, 24]])"
            ]
          },
          "metadata": {},
          "execution_count": 69
        }
      ]
    },
    {
      "cell_type": "markdown",
      "source": [
        "By default reshape uses row-major order. This means elements are read in a C-like index order, where the last axis index changes fastest. You can specify the order."
      ],
      "metadata": {
        "id": "BYr3WOJwPY4N"
      },
      "id": "BYr3WOJwPY4N"
    },
    {
      "cell_type": "code",
      "source": [
        "# Reshaping with Fortran-like order\n",
        "x15 = x13.reshape((5,5), order='F')\n",
        "x15"
      ],
      "metadata": {
        "colab": {
          "base_uri": "https://localhost:8080/"
        },
        "id": "slyPCdrOPzAG",
        "outputId": "24b7c576-233c-4da6-aa72-5ae7b353f08c"
      },
      "id": "slyPCdrOPzAG",
      "execution_count": 71,
      "outputs": [
        {
          "output_type": "execute_result",
          "data": {
            "text/plain": [
              "array([[ 0,  5, 10, 15, 20],\n",
              "       [ 1,  6, 11, 16, 21],\n",
              "       [ 2,  7, 12, 17, 22],\n",
              "       [ 3,  8, 13, 18, 23],\n",
              "       [ 4,  9, 14, 19, 24]])"
            ]
          },
          "metadata": {},
          "execution_count": 71
        }
      ]
    },
    {
      "cell_type": "code",
      "source": [
        "# Arrays can also be flattened in numerous ways\n",
        "x16 = np.arange(25).reshape((5,5))\n",
        "x16.reshape((25,))"
      ],
      "metadata": {
        "colab": {
          "base_uri": "https://localhost:8080/"
        },
        "id": "0f0oxXKQQEX-",
        "outputId": "a478927d-4283-4269-e973-fcb630d64acb"
      },
      "id": "0f0oxXKQQEX-",
      "execution_count": 73,
      "outputs": [
        {
          "output_type": "execute_result",
          "data": {
            "text/plain": [
              "array([ 0,  1,  2,  3,  4,  5,  6,  7,  8,  9, 10, 11, 12, 13, 14, 15, 16,\n",
              "       17, 18, 19, 20, 21, 22, 23, 24])"
            ]
          },
          "metadata": {},
          "execution_count": 73
        }
      ]
    },
    {
      "cell_type": "code",
      "source": [
        "# Using flatten\n",
        "x16.flatten()"
      ],
      "metadata": {
        "colab": {
          "base_uri": "https://localhost:8080/"
        },
        "id": "-_VFOeBnQfn3",
        "outputId": "ce132008-3f7e-4b52-c880-fbad42ad138f"
      },
      "id": "-_VFOeBnQfn3",
      "execution_count": 74,
      "outputs": [
        {
          "output_type": "execute_result",
          "data": {
            "text/plain": [
              "array([ 0,  1,  2,  3,  4,  5,  6,  7,  8,  9, 10, 11, 12, 13, 14, 15, 16,\n",
              "       17, 18, 19, 20, 21, 22, 23, 24])"
            ]
          },
          "metadata": {},
          "execution_count": 74
        }
      ]
    },
    {
      "cell_type": "markdown",
      "source": [
        "## Views Versus Copies"
      ],
      "metadata": {
        "id": "dEvaAIPVSFHy"
      },
      "id": "dEvaAIPVSFHy"
    },
    {
      "cell_type": "markdown",
      "source": [
        "Note that some functions in numpy return views of the original array, while others return copies. For example, ravel and flatten are similar, but ravel returns a view. This is faster and uses less memory. However, modifying it modifies the original array."
      ],
      "metadata": {
        "id": "KdiHt4CFSJX5"
      },
      "id": "KdiHt4CFSJX5"
    },
    {
      "cell_type": "code",
      "source": [
        "import numpy as np\n",
        "\n",
        "a = np.array([[1, 2], [3, 4]])\n",
        "\n",
        "r = a.ravel()\n",
        "f = a.flatten()\n",
        "\n",
        "r[0] = 99\n",
        "f[1] = 88\n",
        "\n",
        "print(\"Original:\\n\", a)\n",
        "print(\"ravel:\\n\", r)\n",
        "print(\"flatten:\\n\", f)"
      ],
      "metadata": {
        "id": "HHYY3acGRzQS",
        "outputId": "95dda749-4416-4c9e-cba2-f8729541aa93",
        "colab": {
          "base_uri": "https://localhost:8080/"
        }
      },
      "id": "HHYY3acGRzQS",
      "execution_count": 76,
      "outputs": [
        {
          "output_type": "stream",
          "name": "stdout",
          "text": [
            "Original:\n",
            " [[99  2]\n",
            " [ 3  4]]\n",
            "ravel:\n",
            " [99  2  3  4]\n",
            "flatten:\n",
            " [ 1 88  3  4]\n"
          ]
        }
      ]
    },
    {
      "cell_type": "markdown",
      "source": [
        "## Basic Indexing"
      ],
      "metadata": {
        "id": "sF3rXBDyA_9n"
      },
      "id": "sF3rXBDyA_9n"
    },
    {
      "cell_type": "code",
      "source": [
        "# Indexing works how you would expect\n",
        "x = np.arange(10)\n",
        "print(x[0], x[1])"
      ],
      "metadata": {
        "colab": {
          "base_uri": "https://localhost:8080/"
        },
        "id": "uu4V6bKqBCfS",
        "outputId": "78097e09-277e-4f73-b747-0dffe70c1720"
      },
      "id": "uu4V6bKqBCfS",
      "execution_count": 52,
      "outputs": [
        {
          "output_type": "stream",
          "name": "stdout",
          "text": [
            "0 1\n"
          ]
        }
      ]
    },
    {
      "cell_type": "code",
      "source": [
        "# To get the last element of an array\n",
        "print(x[-1])"
      ],
      "metadata": {
        "colab": {
          "base_uri": "https://localhost:8080/"
        },
        "id": "UDSWepokCMHY",
        "outputId": "d40f0422-fffc-4fa9-8057-78a872c3460d"
      },
      "id": "UDSWepokCMHY",
      "execution_count": 53,
      "outputs": [
        {
          "output_type": "stream",
          "name": "stdout",
          "text": [
            "9\n"
          ]
        }
      ]
    },
    {
      "cell_type": "code",
      "source": [
        "# Or second to last ...\n",
        "print(x[-2])"
      ],
      "metadata": {
        "colab": {
          "base_uri": "https://localhost:8080/"
        },
        "id": "GNvBIfe2HZ9S",
        "outputId": "b6c8eda7-909f-45bf-cdf3-013217b0cd48"
      },
      "id": "GNvBIfe2HZ9S",
      "execution_count": 54,
      "outputs": [
        {
          "output_type": "stream",
          "name": "stdout",
          "text": [
            "8\n"
          ]
        }
      ]
    },
    {
      "cell_type": "code",
      "source": [
        "# Things are similar for 2d arrays. The indexes point to rows, then columns.\n",
        "x = np.array([[1,2,3],[4,5,6]])\n",
        "print(x[0,0], x[0,1], x[1,0])"
      ],
      "metadata": {
        "colab": {
          "base_uri": "https://localhost:8080/"
        },
        "id": "nqC3qw0MCSbB",
        "outputId": "105f9dd3-933c-443b-8bad-535063036afd"
      },
      "id": "nqC3qw0MCSbB",
      "execution_count": 55,
      "outputs": [
        {
          "output_type": "stream",
          "name": "stdout",
          "text": [
            "1 2 4\n"
          ]
        }
      ]
    },
    {
      "cell_type": "code",
      "source": [
        "# Similarly for 3d arrays.\n",
        "x = np.array([\n",
        "    [[1,2,3],[4,5,6]],\n",
        "    [[7,8,9],[10,11,12]]\n",
        "])\n",
        "print(x[0,0,0], x[0,0,1], x[1,0,0])"
      ],
      "metadata": {
        "colab": {
          "base_uri": "https://localhost:8080/"
        },
        "id": "Msi-4EG1Cbh2",
        "outputId": "ef7fe923-c01a-423c-e02c-1c9ca452fde8"
      },
      "id": "Msi-4EG1Cbh2",
      "execution_count": 56,
      "outputs": [
        {
          "output_type": "stream",
          "name": "stdout",
          "text": [
            "1 2 7\n"
          ]
        }
      ]
    },
    {
      "cell_type": "code",
      "source": [
        "# You can think of this notation as dissecting the array into subarrays. For example,\n",
        "# let's look at x[1]. It's a 2d array\n",
        "x[1]"
      ],
      "metadata": {
        "colab": {
          "base_uri": "https://localhost:8080/"
        },
        "id": "WiQYUvurCyqF",
        "outputId": "bd363f12-308f-4940-ddc1-6689f8f8090a"
      },
      "id": "WiQYUvurCyqF",
      "execution_count": 57,
      "outputs": [
        {
          "output_type": "execute_result",
          "data": {
            "text/plain": [
              "array([[ 7,  8,  9],\n",
              "       [10, 11, 12]])"
            ]
          },
          "metadata": {},
          "execution_count": 57
        }
      ]
    },
    {
      "cell_type": "code",
      "source": [
        "# The notation x[1][1] or x[1,1] pulls out the second row of x[1]\n",
        "print(x[1][1], x[1,1])"
      ],
      "metadata": {
        "colab": {
          "base_uri": "https://localhost:8080/"
        },
        "id": "prVgLwsoD4MS",
        "outputId": "dad96363-c85c-44dc-e8f1-3d219f52d129"
      },
      "id": "prVgLwsoD4MS",
      "execution_count": 46,
      "outputs": [
        {
          "output_type": "stream",
          "name": "stdout",
          "text": [
            "[10 11 12] [10 11 12]\n"
          ]
        }
      ]
    },
    {
      "cell_type": "code",
      "source": [
        "# The notation x[1][1][2] or x[1,1,2] pulls out the third element of the second row of x[1]\n",
        "print(x[1][1][2], x[1,1,2])"
      ],
      "metadata": {
        "colab": {
          "base_uri": "https://localhost:8080/"
        },
        "id": "mY42EuU2EXDT",
        "outputId": "a2fd6ccd-8312-4d67-8f43-c971138e4154"
      },
      "id": "mY42EuU2EXDT",
      "execution_count": 58,
      "outputs": [
        {
          "output_type": "stream",
          "name": "stdout",
          "text": [
            "12 12\n"
          ]
        }
      ]
    },
    {
      "cell_type": "markdown",
      "source": [
        "## More Advanced Indexing"
      ],
      "metadata": {
        "id": "--5EVfBvGmtL"
      },
      "id": "--5EVfBvGmtL"
    },
    {
      "cell_type": "code",
      "source": [
        "# Slicing let's pull out portions of an array\n",
        "y1 = np.arange(20)\n",
        "y1"
      ],
      "metadata": {
        "colab": {
          "base_uri": "https://localhost:8080/"
        },
        "id": "6Co8vpp8FRfl",
        "outputId": "b581bf03-b20a-4ee0-e067-01283173e78b"
      },
      "id": "6Co8vpp8FRfl",
      "execution_count": 60,
      "outputs": [
        {
          "output_type": "execute_result",
          "data": {
            "text/plain": [
              "array([0, 1, 2, 3, 4, 5, 6, 7, 8, 9])"
            ]
          },
          "metadata": {},
          "execution_count": 60
        }
      ]
    },
    {
      "cell_type": "code",
      "source": [
        "y1[5:9]"
      ],
      "metadata": {
        "colab": {
          "base_uri": "https://localhost:8080/"
        },
        "id": "8wGZs4EuH2e3",
        "outputId": "5a1351d0-bfb3-4b85-b92c-b0faac9cd75b"
      },
      "id": "8wGZs4EuH2e3",
      "execution_count": 61,
      "outputs": [
        {
          "output_type": "execute_result",
          "data": {
            "text/plain": [
              "array([5, 6, 7, 8])"
            ]
          },
          "metadata": {},
          "execution_count": 61
        }
      ]
    },
    {
      "cell_type": "markdown",
      "source": [
        "**From the Numpy guide:**\n",
        "*The basic slice syntax is $i:j:k$ where $i$ is the starting index, $j$ is the stopping index, and $k$ is the step ($k \\neq 0$)\n",
        "). This selects the m elements (in the corresponding dimension) with index values $i, i + k, …, i + (m - 1) k$ where\n",
        " and $q$ and $r$ are the quotient and remainder obtained by dividing $j - i$ by $k: j - i = q k + r$, so that $i + (m - 1) k < j$.*\n"
      ],
      "metadata": {
        "id": "Z8WcPXcMIVct"
      },
      "id": "Z8WcPXcMIVct"
    },
    {
      "cell_type": "code",
      "source": [
        "# Basically, you can take steps bigger than 1 when slicing\n",
        "y1[5:9:2]"
      ],
      "metadata": {
        "colab": {
          "base_uri": "https://localhost:8080/"
        },
        "id": "ztkkWxgCH8iz",
        "outputId": "42f43ba0-3259-437f-cadb-54e98add1e8b"
      },
      "id": "ztkkWxgCH8iz",
      "execution_count": 64,
      "outputs": [
        {
          "output_type": "execute_result",
          "data": {
            "text/plain": [
              "array([5, 7])"
            ]
          },
          "metadata": {},
          "execution_count": 64
        }
      ]
    },
    {
      "cell_type": "code",
      "source": [
        "# There is special syntax for slicing from the beginning of an array\n",
        "y1[:5]"
      ],
      "metadata": {
        "colab": {
          "base_uri": "https://localhost:8080/"
        },
        "id": "0k1BRVeWIQBV",
        "outputId": "4c2640cc-65ac-4097-94a2-c00b6958a969"
      },
      "id": "0k1BRVeWIQBV",
      "execution_count": 65,
      "outputs": [
        {
          "output_type": "execute_result",
          "data": {
            "text/plain": [
              "array([0, 1, 2, 3, 4])"
            ]
          },
          "metadata": {},
          "execution_count": 65
        }
      ]
    },
    {
      "cell_type": "code",
      "source": [
        "# Or for slicing to the end of an array\n",
        "y1[5:]"
      ],
      "metadata": {
        "colab": {
          "base_uri": "https://localhost:8080/"
        },
        "id": "9wtcvt65JouM",
        "outputId": "f28a5187-e169-4bfc-f788-670cc406d1d9"
      },
      "id": "9wtcvt65JouM",
      "execution_count": 66,
      "outputs": [
        {
          "output_type": "execute_result",
          "data": {
            "text/plain": [
              "array([5, 6, 7, 8, 9])"
            ]
          },
          "metadata": {},
          "execution_count": 66
        }
      ]
    },
    {
      "cell_type": "code",
      "source": [
        "# Slicing can be done in any dimension\n",
        "y2 = np."
      ],
      "metadata": {
        "id": "SceMGBoPJtAK"
      },
      "id": "SceMGBoPJtAK",
      "execution_count": null,
      "outputs": []
    }
  ],
  "metadata": {
    "kernelspec": {
      "display_name": "Python 3",
      "language": "python",
      "name": "python3"
    },
    "language_info": {
      "name": "python",
      "version": "3.12.11"
    },
    "colab": {
      "provenance": []
    }
  },
  "nbformat": 4,
  "nbformat_minor": 5
}