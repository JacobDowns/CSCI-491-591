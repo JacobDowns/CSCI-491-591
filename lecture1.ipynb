{
 "cells": [
  {
   "cell_type": "markdown",
   "id": "f5306f27",
   "metadata": {},
   "source": [
    "# Vectorization"
   ]
  },
  {
   "cell_type": "markdown",
   "id": "1eb7b45c",
   "metadata": {},
   "source": []
  },
  {
   "cell_type": "code",
   "execution_count": null,
   "id": "498e7d09",
   "metadata": {},
   "outputs": [],
   "source": [
    "import numpy as np"
   ]
  },
  {
   "cell_type": "markdown",
   "id": "7e25090d",
   "metadata": {},
   "source": [
    "Numpy defines an n-dimensional array type where every element in the array has the same type. "
   ]
  },
  {
   "cell_type": "code",
   "execution_count": null,
   "id": "2edcc35b",
   "metadata": {},
   "outputs": [],
   "source": []
  }
 ],
 "metadata": {
  "kernelspec": {
   "display_name": "Python 3",
   "language": "python",
   "name": "python3"
  },
  "language_info": {
   "name": "python",
   "version": "3.12.11"
  }
 },
 "nbformat": 4,
 "nbformat_minor": 5
}
