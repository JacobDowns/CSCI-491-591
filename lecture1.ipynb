{
  "cells": [
    {
      "cell_type": "markdown",
      "metadata": {
        "id": "view-in-github",
        "colab_type": "text"
      },
      "source": [
        "<a href=\"https://colab.research.google.com/github/JacobDowns/CSCI-491-591/blob/main/lecture1.ipynb\" target=\"_parent\"><img src=\"https://colab.research.google.com/assets/colab-badge.svg\" alt=\"Open In Colab\"/></a>"
      ]
    },
    {
      "cell_type": "markdown",
      "source": [
        "# NumPy\n",
        "\n",
        "\n",
        "*   NumPy is a useful package for accelerating numerical computations in Python\n",
        "*   Many complex loops, numerical algorithms, or mathematical operations can be translated to NumPy for efficiency\n",
        "* Implementing numerical operations in NumPy is vastly faster than using loops\n",
        "* Under the hood, NumPy is primarily written in C\n",
        "* Allocating an array, for example, allocates a chunk of memory that can be referenced in C, Fortran, and Python\n",
        "* Mathematical operations are implemented implemented in C or Fortran, taking advantage of optimized numerical libraries\n",
        "* Vectorized operations are converted to loops in a faster language!\n",
        "\n"
      ],
      "metadata": {
        "id": "KduAYPrhluw0"
      },
      "id": "KduAYPrhluw0"
    },
    {
      "cell_type": "markdown",
      "source": [
        "## NDArrays"
      ],
      "metadata": {
        "id": "7gfdPtHBnKmA"
      },
      "id": "7gfdPtHBnKmA"
    },
    {
      "cell_type": "markdown",
      "id": "7e25090d",
      "metadata": {
        "id": "7e25090d"
      },
      "source": [
        "*   Numpy defines an n-dimensional array where every element in the array has the same data type\n",
        "*  Examples: float32, float64, int32, int64, etc.\n",
        "* It is common to use high-dimensional arrays in Numpy\n",
        "* There are many typical ways to allocate new arrays in Numpy\n",
        "\n"
      ]
    },
    {
      "cell_type": "markdown",
      "source": [
        "## Defining Arrays"
      ],
      "metadata": {
        "id": "T_19ElzXA7ct"
      },
      "id": "T_19ElzXA7ct"
    },
    {
      "cell_type": "code",
      "execution_count": 2,
      "id": "2edcc35b",
      "metadata": {
        "id": "2edcc35b"
      },
      "outputs": [],
      "source": [
        "import numpy as np"
      ]
    },
    {
      "cell_type": "code",
      "source": [
        "# 1d array\n",
        "x1 = np.array([1,2,3,4,5])\n",
        "x1"
      ],
      "metadata": {
        "colab": {
          "base_uri": "https://localhost:8080/"
        },
        "id": "QyVcqN469FP4",
        "outputId": "7ad53d8b-ca49-4b4f-a381-67dddcf6d7ee"
      },
      "id": "QyVcqN469FP4",
      "execution_count": null,
      "outputs": [
        {
          "output_type": "execute_result",
          "data": {
            "text/plain": [
              "array([1, 2, 3, 4, 5])"
            ]
          },
          "metadata": {},
          "execution_count": 3
        }
      ]
    },
    {
      "cell_type": "code",
      "source": [
        "# 2d array (array of 1d arrays)\n",
        "x2 = np.array([[1,2,3],[4,5,6]])\n",
        "x2"
      ],
      "metadata": {
        "colab": {
          "base_uri": "https://localhost:8080/"
        },
        "id": "QKQvUlT_9b3k",
        "outputId": "38479526-60c4-4a97-8635-9c8ace420efd"
      },
      "id": "QKQvUlT_9b3k",
      "execution_count": null,
      "outputs": [
        {
          "output_type": "execute_result",
          "data": {
            "text/plain": [
              "array([[1, 2, 3],\n",
              "       [4, 5, 6]])"
            ]
          },
          "metadata": {},
          "execution_count": 6
        }
      ]
    },
    {
      "cell_type": "code",
      "source": [
        "# 3d array  (Array of 2d arrays)\n",
        "x3 = np.array([[[1,2,3],[4,5,6]],[[7,8,9],[10,11,12]]])\n",
        "x3"
      ],
      "metadata": {
        "colab": {
          "base_uri": "https://localhost:8080/"
        },
        "id": "1KRl4Oas9j-v",
        "outputId": "c5873616-534a-48c7-ad6d-c6f0c07bfa91"
      },
      "id": "1KRl4Oas9j-v",
      "execution_count": null,
      "outputs": [
        {
          "output_type": "execute_result",
          "data": {
            "text/plain": [
              "array([[[ 1,  2,  3],\n",
              "        [ 4,  5,  6]],\n",
              "\n",
              "       [[ 7,  8,  9],\n",
              "        [10, 11, 12]]])"
            ]
          },
          "metadata": {},
          "execution_count": 7
        }
      ]
    },
    {
      "cell_type": "code",
      "source": [
        "# You can get the shape of an array with .shape\n",
        "(x1.shape, x2.shape, x3.shape)"
      ],
      "metadata": {
        "colab": {
          "base_uri": "https://localhost:8080/"
        },
        "id": "lDu75AcDGY4i",
        "outputId": "2e0db983-9f27-46aa-ea43-f628ebba31ca"
      },
      "id": "lDu75AcDGY4i",
      "execution_count": null,
      "outputs": [
        {
          "output_type": "execute_result",
          "data": {
            "text/plain": [
              "((5,), (2, 3), (2, 2, 3))"
            ]
          },
          "metadata": {},
          "execution_count": 50
        }
      ]
    },
    {
      "cell_type": "code",
      "source": [
        "# The number of elements is given by size\n",
        "(x1.size, x2.size, x3.size)"
      ],
      "metadata": {
        "colab": {
          "base_uri": "https://localhost:8080/"
        },
        "id": "he08DZ7P5T44",
        "outputId": "2e70a3f7-7724-4eb9-efe9-986cb1883966"
      },
      "id": "he08DZ7P5T44",
      "execution_count": null,
      "outputs": [
        {
          "output_type": "execute_result",
          "data": {
            "text/plain": [
              "(5, 6, 12)"
            ]
          },
          "metadata": {},
          "execution_count": 110
        }
      ]
    },
    {
      "cell_type": "code",
      "source": [
        "# The number of dimensions\n",
        "(x1.ndim, x2.ndim, x3.ndim)"
      ],
      "metadata": {
        "colab": {
          "base_uri": "https://localhost:8080/"
        },
        "id": "kAIyn4VU5cnc",
        "outputId": "3f0c8639-ba47-49e9-e42f-70ae8da7d9ce"
      },
      "id": "kAIyn4VU5cnc",
      "execution_count": null,
      "outputs": [
        {
          "output_type": "execute_result",
          "data": {
            "text/plain": [
              "(1, 2, 3)"
            ]
          },
          "metadata": {},
          "execution_count": 111
        }
      ]
    },
    {
      "cell_type": "markdown",
      "source": [
        "There are several short-hand ways of defining common arrays"
      ],
      "metadata": {
        "id": "dzwZgTLJ-SUX"
      },
      "id": "dzwZgTLJ-SUX"
    },
    {
      "cell_type": "code",
      "source": [
        "# 1d array of zeros\n",
        "x4 = np.zeros(3)\n",
        "x4"
      ],
      "metadata": {
        "colab": {
          "base_uri": "https://localhost:8080/"
        },
        "id": "q15ia5Sx9m_T",
        "outputId": "d81952ce-b334-4670-d90a-e4d7cd72a555"
      },
      "id": "q15ia5Sx9m_T",
      "execution_count": null,
      "outputs": [
        {
          "output_type": "execute_result",
          "data": {
            "text/plain": [
              "array([0., 0., 0.])"
            ]
          },
          "metadata": {},
          "execution_count": 14
        }
      ]
    },
    {
      "cell_type": "code",
      "source": [
        "# 2d array of zeros\n",
        "x5 = np.zeros((3,3))\n",
        "x5"
      ],
      "metadata": {
        "colab": {
          "base_uri": "https://localhost:8080/"
        },
        "id": "D9257WAj-Bnd",
        "outputId": "d8dcb238-dae0-4b2f-dde1-ed263a62667d"
      },
      "id": "D9257WAj-Bnd",
      "execution_count": null,
      "outputs": [
        {
          "output_type": "execute_result",
          "data": {
            "text/plain": [
              "array([[0., 0., 0.],\n",
              "       [0., 0., 0.],\n",
              "       [0., 0., 0.]])"
            ]
          },
          "metadata": {},
          "execution_count": 15
        }
      ]
    },
    {
      "cell_type": "code",
      "source": [
        "# 3d Array of zeros\n",
        "x6 = np.zeros((3,3,3))\n",
        "x6"
      ],
      "metadata": {
        "colab": {
          "base_uri": "https://localhost:8080/"
        },
        "id": "JXKH8Awg-JG9",
        "outputId": "d199ce17-0757-429f-f529-340551b3df1d"
      },
      "id": "JXKH8Awg-JG9",
      "execution_count": null,
      "outputs": [
        {
          "output_type": "execute_result",
          "data": {
            "text/plain": [
              "array([[[0., 0., 0.],\n",
              "        [0., 0., 0.],\n",
              "        [0., 0., 0.]],\n",
              "\n",
              "       [[0., 0., 0.],\n",
              "        [0., 0., 0.],\n",
              "        [0., 0., 0.]],\n",
              "\n",
              "       [[0., 0., 0.],\n",
              "        [0., 0., 0.],\n",
              "        [0., 0., 0.]]])"
            ]
          },
          "metadata": {},
          "execution_count": 16
        }
      ]
    },
    {
      "cell_type": "code",
      "source": [
        "# An array of ones\n",
        "x7 = np.ones(3)\n",
        "x7"
      ],
      "metadata": {
        "colab": {
          "base_uri": "https://localhost:8080/"
        },
        "id": "eeslROWx-fZM",
        "outputId": "71a96b4c-3fcc-447f-8bc7-26a792cc9c3a"
      },
      "id": "eeslROWx-fZM",
      "execution_count": null,
      "outputs": [
        {
          "output_type": "execute_result",
          "data": {
            "text/plain": [
              "array([1., 1., 1.])"
            ]
          },
          "metadata": {},
          "execution_count": 17
        }
      ]
    },
    {
      "cell_type": "code",
      "source": [
        "# Numpy will use a default type, dpending on how the array is created\n",
        "x7.dtype"
      ],
      "metadata": {
        "colab": {
          "base_uri": "https://localhost:8080/"
        },
        "id": "ocrYB6uM-ymW",
        "outputId": "80d502d8-fd02-4243-f7b5-7b1fca0d3431"
      },
      "id": "ocrYB6uM-ymW",
      "execution_count": null,
      "outputs": [
        {
          "output_type": "execute_result",
          "data": {
            "text/plain": [
              "dtype('float64')"
            ]
          },
          "metadata": {},
          "execution_count": 20
        }
      ]
    },
    {
      "cell_type": "code",
      "source": [
        "# However you can define a specific type as follows\n",
        "x8 = np.ones(3, dtype=np.int64)\n",
        "x8.dtype"
      ],
      "metadata": {
        "colab": {
          "base_uri": "https://localhost:8080/"
        },
        "id": "ouLWTpJ4--K6",
        "outputId": "25306d4b-c03a-4295-fb9e-d587ba59cb8a"
      },
      "id": "ouLWTpJ4--K6",
      "execution_count": null,
      "outputs": [
        {
          "output_type": "execute_result",
          "data": {
            "text/plain": [
              "dtype('int64')"
            ]
          },
          "metadata": {},
          "execution_count": 23
        }
      ]
    },
    {
      "cell_type": "code",
      "source": [
        "# Or you can cast to a differnt type\n",
        "x9 = x8.astype(np.float32)\n",
        "x9"
      ],
      "metadata": {
        "colab": {
          "base_uri": "https://localhost:8080/"
        },
        "id": "OJI1zT20_YA5",
        "outputId": "61241d28-e99b-4873-9dec-58a46966c209"
      },
      "id": "OJI1zT20_YA5",
      "execution_count": null,
      "outputs": [
        {
          "output_type": "execute_result",
          "data": {
            "text/plain": [
              "array([1., 1., 1.], dtype=float32)"
            ]
          },
          "metadata": {},
          "execution_count": 24
        }
      ]
    },
    {
      "cell_type": "code",
      "source": [
        "# Another common way to define an array is using arange, which just counts up from 0 by integers\n",
        "x10 = np.arange(10)\n",
        "x10"
      ],
      "metadata": {
        "colab": {
          "base_uri": "https://localhost:8080/"
        },
        "id": "yHpbjnWt_Yrq",
        "outputId": "84b7cd02-7954-40cf-e009-659e3af96207"
      },
      "id": "yHpbjnWt_Yrq",
      "execution_count": null,
      "outputs": [
        {
          "output_type": "execute_result",
          "data": {
            "text/plain": [
              "array([0, 1, 2, 3, 4, 5, 6, 7, 8, 9])"
            ]
          },
          "metadata": {},
          "execution_count": 28
        }
      ]
    },
    {
      "cell_type": "code",
      "source": [
        "# It has int64 type by default\n",
        "x10.dtype"
      ],
      "metadata": {
        "colab": {
          "base_uri": "https://localhost:8080/"
        },
        "id": "6A4gcoHO_st3",
        "outputId": "19124be1-b558-43db-d28d-073f92f9557a"
      },
      "id": "6A4gcoHO_st3",
      "execution_count": null,
      "outputs": [
        {
          "output_type": "execute_result",
          "data": {
            "text/plain": [
              "dtype('int64')"
            ]
          },
          "metadata": {},
          "execution_count": 27
        }
      ]
    },
    {
      "cell_type": "code",
      "source": [
        "# You can also define, the start, stop, and step explicitely. These don't have to be integers.\n",
        "x11 = np.arange(1,10,0.5)\n",
        "x11"
      ],
      "metadata": {
        "colab": {
          "base_uri": "https://localhost:8080/"
        },
        "id": "FgMor0n_ACFk",
        "outputId": "0e371f8b-4576-42d4-9d3a-c2434f153f1c"
      },
      "id": "FgMor0n_ACFk",
      "execution_count": null,
      "outputs": [
        {
          "output_type": "execute_result",
          "data": {
            "text/plain": [
              "array([1. , 1.5, 2. , 2.5, 3. , 3.5, 4. , 4.5, 5. , 5.5, 6. , 6.5, 7. ,\n",
              "       7.5, 8. , 8.5, 9. , 9.5])"
            ]
          },
          "metadata": {},
          "execution_count": 29
        }
      ]
    },
    {
      "cell_type": "code",
      "source": [
        "# Another useful function is linspace, which produces evenly spaced numbers in an interval\n",
        "x12 = np.linspace(0.,1.,10)\n",
        "x12"
      ],
      "metadata": {
        "colab": {
          "base_uri": "https://localhost:8080/"
        },
        "id": "8NYBAk7NAoIb",
        "outputId": "3b7b6107-72c0-42ba-b482-2191f5905064"
      },
      "id": "8NYBAk7NAoIb",
      "execution_count": null,
      "outputs": [
        {
          "output_type": "execute_result",
          "data": {
            "text/plain": [
              "array([0.        , 0.11111111, 0.22222222, 0.33333333, 0.44444444,\n",
              "       0.55555556, 0.66666667, 0.77777778, 0.88888889, 1.        ])"
            ]
          },
          "metadata": {},
          "execution_count": 31
        }
      ]
    },
    {
      "cell_type": "markdown",
      "source": [
        "## Reshaping"
      ],
      "metadata": {
        "id": "mLYsg9S2KxPk"
      },
      "id": "mLYsg9S2KxPk"
    },
    {
      "cell_type": "code",
      "source": [
        "# You can reshape an array as long as the total number of elements checks out\n",
        "# By default reshape uses row-major order. This means elements are read in a C-like\n",
        "# index order, where the last axis index changes fastest.\n",
        "x13 = np.arange(25)\n",
        "x14 = x13.reshape((5,5))\n",
        "x14"
      ],
      "metadata": {
        "colab": {
          "base_uri": "https://localhost:8080/"
        },
        "id": "YjqcMrKEKzV3",
        "outputId": "789303f8-8f72-40e2-c923-579304982b08"
      },
      "id": "YjqcMrKEKzV3",
      "execution_count": null,
      "outputs": [
        {
          "output_type": "execute_result",
          "data": {
            "text/plain": [
              "array([[ 0,  1,  2,  3,  4],\n",
              "       [ 5,  6,  7,  8,  9],\n",
              "       [10, 11, 12, 13, 14],\n",
              "       [15, 16, 17, 18, 19],\n",
              "       [20, 21, 22, 23, 24]])"
            ]
          },
          "metadata": {},
          "execution_count": 9
        }
      ]
    },
    {
      "cell_type": "code",
      "source": [
        "# You can change the order in memory. For exmaple, reshaping\n",
        "# to Fortran-like order\n",
        "x15 = x13.reshape((5,5), order='F')\n",
        "x15"
      ],
      "metadata": {
        "colab": {
          "base_uri": "https://localhost:8080/"
        },
        "id": "slyPCdrOPzAG",
        "outputId": "87960678-1da4-426c-f657-46183336851a"
      },
      "id": "slyPCdrOPzAG",
      "execution_count": null,
      "outputs": [
        {
          "output_type": "execute_result",
          "data": {
            "text/plain": [
              "array([[ 0,  5, 10, 15, 20],\n",
              "       [ 1,  6, 11, 16, 21],\n",
              "       [ 2,  7, 12, 17, 22],\n",
              "       [ 3,  8, 13, 18, 23],\n",
              "       [ 4,  9, 14, 19, 24]])"
            ]
          },
          "metadata": {},
          "execution_count": 10
        }
      ]
    },
    {
      "cell_type": "code",
      "source": [
        "# Arrays can also be flattened in numerous ways\n",
        "x16 = np.arange(25).reshape((5,5))\n",
        "x16.reshape((25,))"
      ],
      "metadata": {
        "colab": {
          "base_uri": "https://localhost:8080/"
        },
        "id": "0f0oxXKQQEX-",
        "outputId": "273144cd-c8e7-4238-f502-6ad921942032"
      },
      "id": "0f0oxXKQQEX-",
      "execution_count": null,
      "outputs": [
        {
          "output_type": "execute_result",
          "data": {
            "text/plain": [
              "array([ 0,  1,  2,  3,  4,  5,  6,  7,  8,  9, 10, 11, 12, 13, 14, 15, 16,\n",
              "       17, 18, 19, 20, 21, 22, 23, 24])"
            ]
          },
          "metadata": {},
          "execution_count": 11
        }
      ]
    },
    {
      "cell_type": "code",
      "source": [
        "# Using flatten\n",
        "x16.flatten()"
      ],
      "metadata": {
        "colab": {
          "base_uri": "https://localhost:8080/"
        },
        "id": "-_VFOeBnQfn3",
        "outputId": "ce132008-3f7e-4b52-c880-fbad42ad138f"
      },
      "id": "-_VFOeBnQfn3",
      "execution_count": null,
      "outputs": [
        {
          "output_type": "execute_result",
          "data": {
            "text/plain": [
              "array([ 0,  1,  2,  3,  4,  5,  6,  7,  8,  9, 10, 11, 12, 13, 14, 15, 16,\n",
              "       17, 18, 19, 20, 21, 22, 23, 24])"
            ]
          },
          "metadata": {},
          "execution_count": 74
        }
      ]
    },
    {
      "cell_type": "markdown",
      "source": [
        "## Views Versus Copies"
      ],
      "metadata": {
        "id": "dEvaAIPVSFHy"
      },
      "id": "dEvaAIPVSFHy"
    },
    {
      "cell_type": "markdown",
      "source": [
        "Note that some functions in numpy return views of the original array, while others return copies. For example, ravel and flatten are similar, but ravel returns a view of an array, whereas flatten returns a copy. Returning a view is faster and uses less memory. However, be aware that modifying it modifies the original array. This is important to keep in mind so you know what operations have side effects."
      ],
      "metadata": {
        "id": "KdiHt4CFSJX5"
      },
      "id": "KdiHt4CFSJX5"
    },
    {
      "cell_type": "code",
      "source": [
        "import numpy as np\n",
        "\n",
        "a = np.array([[1, 2], [3, 4]])\n",
        "\n",
        "r = a.ravel()\n",
        "f = a.flatten()\n",
        "\n",
        "r[0] = 99\n",
        "f[1] = 88\n",
        "\n",
        "print(\"Original:\\n\", a)\n",
        "print(\"ravel:\\n\", r)\n",
        "print(\"flatten:\\n\", f)"
      ],
      "metadata": {
        "colab": {
          "base_uri": "https://localhost:8080/"
        },
        "id": "HHYY3acGRzQS",
        "outputId": "d1eb83fd-d51d-4ebb-f3e2-3e5b9cfc730b"
      },
      "id": "HHYY3acGRzQS",
      "execution_count": null,
      "outputs": [
        {
          "output_type": "stream",
          "name": "stdout",
          "text": [
            "Original:\n",
            " [[99  2]\n",
            " [ 3  4]]\n",
            "ravel:\n",
            " [99  2  3  4]\n",
            "flatten:\n",
            " [ 1 88  3  4]\n"
          ]
        }
      ]
    },
    {
      "cell_type": "code",
      "source": [
        "# You can check if an array is based on another array F\n",
        "print(r.base is a)\n",
        "print(f.base is a)"
      ],
      "metadata": {
        "colab": {
          "base_uri": "https://localhost:8080/"
        },
        "id": "fSR3SNt7c1cf",
        "outputId": "cad6e685-37a4-4d27-a352-b9f17b07fc47"
      },
      "id": "fSR3SNt7c1cf",
      "execution_count": null,
      "outputs": [
        {
          "output_type": "stream",
          "name": "stdout",
          "text": [
            "True\n",
            "False\n"
          ]
        }
      ]
    },
    {
      "cell_type": "code",
      "source": [
        "# Or if two arrays share memory\n",
        "(np.shares_memory(a, r), np.shares_memory(a, f))"
      ],
      "metadata": {
        "colab": {
          "base_uri": "https://localhost:8080/"
        },
        "id": "QKjMLBhhdPSD",
        "outputId": "40a60076-8dd4-47c1-91c5-a096065e5b34"
      },
      "id": "QKjMLBhhdPSD",
      "execution_count": null,
      "outputs": [
        {
          "output_type": "execute_result",
          "data": {
            "text/plain": [
              "(True, False)"
            ]
          },
          "metadata": {},
          "execution_count": 15
        }
      ]
    },
    {
      "cell_type": "markdown",
      "source": [
        "## Basic Indexing"
      ],
      "metadata": {
        "id": "sF3rXBDyA_9n"
      },
      "id": "sF3rXBDyA_9n"
    },
    {
      "cell_type": "code",
      "source": [
        "# Indexing works how you would expect\n",
        "x = np.arange(10)\n",
        "print(x[0], x[1], x[9])"
      ],
      "metadata": {
        "colab": {
          "base_uri": "https://localhost:8080/"
        },
        "id": "uu4V6bKqBCfS",
        "outputId": "29846da1-0320-4a7d-e6ee-2c10a27343ae"
      },
      "id": "uu4V6bKqBCfS",
      "execution_count": null,
      "outputs": [
        {
          "output_type": "stream",
          "name": "stdout",
          "text": [
            "0 1 9\n"
          ]
        }
      ]
    },
    {
      "cell_type": "code",
      "source": [
        "# You can use negative indexes to start indexing from the last element of an array\n",
        "print(x[-1])"
      ],
      "metadata": {
        "colab": {
          "base_uri": "https://localhost:8080/"
        },
        "id": "UDSWepokCMHY",
        "outputId": "f3d7d560-1e2f-44c3-9bef-16beb5d1bd91"
      },
      "id": "UDSWepokCMHY",
      "execution_count": null,
      "outputs": [
        {
          "output_type": "stream",
          "name": "stdout",
          "text": [
            "9\n"
          ]
        }
      ]
    },
    {
      "cell_type": "code",
      "source": [
        "# For example, the second to last element...\n",
        "print(x[-2])"
      ],
      "metadata": {
        "colab": {
          "base_uri": "https://localhost:8080/"
        },
        "id": "GNvBIfe2HZ9S",
        "outputId": "665a191b-f80e-4163-cc30-5bb605ca645a"
      },
      "id": "GNvBIfe2HZ9S",
      "execution_count": null,
      "outputs": [
        {
          "output_type": "stream",
          "name": "stdout",
          "text": [
            "8\n"
          ]
        }
      ]
    },
    {
      "cell_type": "code",
      "source": [
        "# Things are similar for 2d arrays. The indices refer to rows then columns.\n",
        "x = np.array([\n",
        "    [1,2,3],\n",
        "    [4,5,6]\n",
        "])\n",
        "print(x[0,0], x[0,1], x[1,0], x[1,-1])"
      ],
      "metadata": {
        "colab": {
          "base_uri": "https://localhost:8080/"
        },
        "id": "nqC3qw0MCSbB",
        "outputId": "e9acfacd-fcc7-4d72-a524-5b134da3354a"
      },
      "id": "nqC3qw0MCSbB",
      "execution_count": null,
      "outputs": [
        {
          "output_type": "stream",
          "name": "stdout",
          "text": [
            "1 2 4 6\n"
          ]
        }
      ]
    },
    {
      "cell_type": "code",
      "source": [
        "# What will this output?\n",
        "x[-1, 1]"
      ],
      "metadata": {
        "id": "n3F7JrRa3rxn"
      },
      "id": "n3F7JrRa3rxn",
      "execution_count": null,
      "outputs": []
    },
    {
      "cell_type": "code",
      "source": [
        "# Similarly for 3d arrays.\n",
        "x = np.array([\n",
        "    [[1,2,3],[4,5,6]],\n",
        "    [[7,8,9],[10,11,12]]\n",
        "])\n",
        "print(x[0,0,0], x[0,0,1], x[1,0,0])"
      ],
      "metadata": {
        "colab": {
          "base_uri": "https://localhost:8080/"
        },
        "id": "Msi-4EG1Cbh2",
        "outputId": "a799da4b-4459-4f0e-da67-282d21c518b4"
      },
      "id": "Msi-4EG1Cbh2",
      "execution_count": null,
      "outputs": [
        {
          "output_type": "stream",
          "name": "stdout",
          "text": [
            "1 2 7\n"
          ]
        }
      ]
    },
    {
      "cell_type": "code",
      "source": [
        "# You can think of index notation as dissecting the array into subarrays, and pulling elements\n",
        "# (which could be numbers or subarrays) from them. For example,\n",
        "# let's look at x[1]. It's a 2d array\n",
        "x[1]"
      ],
      "metadata": {
        "colab": {
          "base_uri": "https://localhost:8080/"
        },
        "id": "WiQYUvurCyqF",
        "outputId": "75794da8-0db0-43d4-f14b-9a975a940bee"
      },
      "id": "WiQYUvurCyqF",
      "execution_count": null,
      "outputs": [
        {
          "output_type": "execute_result",
          "data": {
            "text/plain": [
              "array([[ 7,  8,  9],\n",
              "       [10, 11, 12]])"
            ]
          },
          "metadata": {},
          "execution_count": 24
        }
      ]
    },
    {
      "cell_type": "code",
      "source": [
        "# The notation x[1][1] or x[1,1] pulls out the second row of x[1]\n",
        "print(x[1][1], x[1,1])"
      ],
      "metadata": {
        "colab": {
          "base_uri": "https://localhost:8080/"
        },
        "id": "prVgLwsoD4MS",
        "outputId": "e5be3b64-a65a-4eda-c0a4-9cfaff1946ee"
      },
      "id": "prVgLwsoD4MS",
      "execution_count": null,
      "outputs": [
        {
          "output_type": "stream",
          "name": "stdout",
          "text": [
            "[10 11 12] [10 11 12]\n"
          ]
        }
      ]
    },
    {
      "cell_type": "code",
      "source": [
        "# The notation x[1][1][2] or x[1,1,2] pulls out the third element of the second row of x[1]\n",
        "print(x[1][1][2], x[1,1,2])"
      ],
      "metadata": {
        "colab": {
          "base_uri": "https://localhost:8080/"
        },
        "id": "mY42EuU2EXDT",
        "outputId": "8925dbe1-a643-49b2-f51f-2ad80ac5451d"
      },
      "id": "mY42EuU2EXDT",
      "execution_count": null,
      "outputs": [
        {
          "output_type": "stream",
          "name": "stdout",
          "text": [
            "12 12\n"
          ]
        }
      ]
    },
    {
      "cell_type": "markdown",
      "source": [
        "## Fancy Indexing In Numpy"
      ],
      "metadata": {
        "id": "--5EVfBvGmtL"
      },
      "id": "--5EVfBvGmtL"
    },
    {
      "cell_type": "code",
      "source": [
        "# Slicing let's let's you pull out portions of an array\n",
        "y1 = np.arange(20)\n",
        "y1"
      ],
      "metadata": {
        "colab": {
          "base_uri": "https://localhost:8080/"
        },
        "id": "6Co8vpp8FRfl",
        "outputId": "d8b328a8-63b8-480d-87b1-b1b248b18244"
      },
      "id": "6Co8vpp8FRfl",
      "execution_count": null,
      "outputs": [
        {
          "output_type": "execute_result",
          "data": {
            "text/plain": [
              "array([ 0,  1,  2,  3,  4,  5,  6,  7,  8,  9, 10, 11, 12, 13, 14, 15, 16,\n",
              "       17, 18, 19])"
            ]
          },
          "metadata": {},
          "execution_count": 27
        }
      ]
    },
    {
      "cell_type": "code",
      "source": [
        "# For example, this returns elements at indexes 5,6,7,8.\n",
        "# Note that, for a slice i:j, the j-th element is not included\n",
        "y1[5:9]"
      ],
      "metadata": {
        "colab": {
          "base_uri": "https://localhost:8080/"
        },
        "id": "8wGZs4EuH2e3",
        "outputId": "2eb28b68-2600-43a1-d43c-d3e34a9298c1"
      },
      "id": "8wGZs4EuH2e3",
      "execution_count": null,
      "outputs": [
        {
          "output_type": "execute_result",
          "data": {
            "text/plain": [
              "array([5, 6, 7, 8])"
            ]
          },
          "metadata": {},
          "execution_count": 41
        }
      ]
    },
    {
      "cell_type": "markdown",
      "source": [
        "**From the Numpy guide:**\n",
        "*The basic slice syntax is $i:j:k$ where $i$ is the starting index, $j$ is the stopping index, and $k$ is the step ($k \\neq 0$)\n",
        "). This selects the m elements (in the corresponding dimension) with index values $i, i + k, …, i + (m - 1) k$ where\n",
        " and $q$ and $r$ are the quotient and remainder obtained by dividing $j - i$ by $k: j - i = q k + r$, so that $i + (m - 1) k < j$.*\n"
      ],
      "metadata": {
        "id": "Z8WcPXcMIVct"
      },
      "id": "Z8WcPXcMIVct"
    },
    {
      "cell_type": "code",
      "source": [
        "# You can take steps bigger than 1 when slicing\n",
        "y1[5:9:2]"
      ],
      "metadata": {
        "colab": {
          "base_uri": "https://localhost:8080/"
        },
        "id": "ztkkWxgCH8iz",
        "outputId": "f2d42087-2b3d-4d2e-fd37-c207ca277d5e"
      },
      "id": "ztkkWxgCH8iz",
      "execution_count": null,
      "outputs": [
        {
          "output_type": "execute_result",
          "data": {
            "text/plain": [
              "array([5, 7])"
            ]
          },
          "metadata": {},
          "execution_count": 42
        }
      ]
    },
    {
      "cell_type": "code",
      "source": [
        "# There is special syntax for slicing from the beginning of an array to a given index\n",
        "y1[:5]"
      ],
      "metadata": {
        "colab": {
          "base_uri": "https://localhost:8080/"
        },
        "id": "0k1BRVeWIQBV",
        "outputId": "4a2a35ea-1271-400f-856c-cbd87cf6a3f6"
      },
      "id": "0k1BRVeWIQBV",
      "execution_count": null,
      "outputs": [
        {
          "output_type": "execute_result",
          "data": {
            "text/plain": [
              "array([0, 1, 2, 3, 4])"
            ]
          },
          "metadata": {},
          "execution_count": 43
        }
      ]
    },
    {
      "cell_type": "code",
      "source": [
        "# Or for slicing from a given index to the end\n",
        "y1[5:]"
      ],
      "metadata": {
        "colab": {
          "base_uri": "https://localhost:8080/"
        },
        "id": "9wtcvt65JouM",
        "outputId": "23488054-c761-4f15-ea45-ea1bd46ebf1d"
      },
      "id": "9wtcvt65JouM",
      "execution_count": null,
      "outputs": [
        {
          "output_type": "execute_result",
          "data": {
            "text/plain": [
              "array([ 5,  6,  7,  8,  9, 10, 11, 12, 13, 14, 15, 16, 17, 18, 19])"
            ]
          },
          "metadata": {},
          "execution_count": 44
        }
      ]
    },
    {
      "cell_type": "code",
      "source": [
        "# You can get every n-th element of an array\n",
        "y1[::2]"
      ],
      "metadata": {
        "colab": {
          "base_uri": "https://localhost:8080/"
        },
        "id": "R6wQNYAEXLIo",
        "outputId": "f412c9cb-2e70-438f-f58f-dea5c6d44899"
      },
      "id": "R6wQNYAEXLIo",
      "execution_count": null,
      "outputs": [
        {
          "output_type": "execute_result",
          "data": {
            "text/plain": [
              "array([ 0,  2,  4,  6,  8, 10, 12, 14, 16, 18])"
            ]
          },
          "metadata": {},
          "execution_count": 34
        }
      ]
    },
    {
      "cell_type": "code",
      "source": [
        "# Or reverse an array with this notation. These work with multidemensional arrays too.\n",
        "y1[::-1]"
      ],
      "metadata": {
        "colab": {
          "base_uri": "https://localhost:8080/"
        },
        "id": "Xff9brztXUXZ",
        "outputId": "0637dea8-6293-440c-ebc1-6683a4d4325a"
      },
      "id": "Xff9brztXUXZ",
      "execution_count": null,
      "outputs": [
        {
          "output_type": "execute_result",
          "data": {
            "text/plain": [
              "array([19, 18, 17, 16, 15, 14, 13, 12, 11, 10,  9,  8,  7,  6,  5,  4,  3,\n",
              "        2,  1,  0])"
            ]
          },
          "metadata": {},
          "execution_count": 35
        }
      ]
    },
    {
      "cell_type": "code",
      "source": [
        "# Slicing can be done in any dimension\n",
        "y2 = np.arange(25).reshape((5,5))\n",
        "y2"
      ],
      "metadata": {
        "colab": {
          "base_uri": "https://localhost:8080/"
        },
        "id": "SceMGBoPJtAK",
        "outputId": "066eafcd-ccde-4bb6-975a-caa04040e08f"
      },
      "id": "SceMGBoPJtAK",
      "execution_count": null,
      "outputs": [
        {
          "output_type": "execute_result",
          "data": {
            "text/plain": [
              "array([[ 0,  1,  2,  3,  4],\n",
              "       [ 5,  6,  7,  8,  9],\n",
              "       [10, 11, 12, 13, 14],\n",
              "       [15, 16, 17, 18, 19],\n",
              "       [20, 21, 22, 23, 24]])"
            ]
          },
          "metadata": {},
          "execution_count": 45
        }
      ]
    },
    {
      "cell_type": "code",
      "source": [
        "# The notation :, means get all elements in this dimension, so this gets the first and second\n",
        "# elements of each row\n",
        "y2[:,0:2]\n"
      ],
      "metadata": {
        "colab": {
          "base_uri": "https://localhost:8080/"
        },
        "id": "Yc92lDwETNhM",
        "outputId": "9c813dd5-00ac-4cf4-d361-b783d7a23272"
      },
      "id": "Yc92lDwETNhM",
      "execution_count": null,
      "outputs": [
        {
          "output_type": "execute_result",
          "data": {
            "text/plain": [
              "array([[ 0,  1],\n",
              "       [ 5,  6],\n",
              "       [10, 11],\n",
              "       [15, 16],\n",
              "       [20, 21]])"
            ]
          },
          "metadata": {},
          "execution_count": 37
        }
      ]
    },
    {
      "cell_type": "code",
      "source": [
        "# What will this return?\n",
        "y2[1:-1,1:-1]"
      ],
      "metadata": {
        "id": "JHChI8-A5KS1"
      },
      "id": "JHChI8-A5KS1",
      "execution_count": null,
      "outputs": []
    },
    {
      "cell_type": "markdown",
      "source": [
        "## Exercise 1\n",
        "Create a checkboard using an array of integers with 0 for black and 1 for white."
      ],
      "metadata": {
        "id": "z157Z9OgAs4N"
      },
      "id": "z157Z9OgAs4N"
    },
    {
      "cell_type": "code",
      "source": [
        "import matplotlib.pyplot as plt\n",
        "board = np.zeros((8,8), dtype=int)\n",
        "board[1::2,1::2] = 1\n",
        "board[::2,0::2] = 1\n",
        "plt.imshow(board, cmap='gray')\n"
      ],
      "metadata": {
        "id": "QOWvTDEDBC1G",
        "outputId": "de81596b-ef65-4644-dee4-667426cad0de",
        "colab": {
          "base_uri": "https://localhost:8080/",
          "height": 447
        }
      },
      "id": "QOWvTDEDBC1G",
      "execution_count": null,
      "outputs": [
        {
          "output_type": "execute_result",
          "data": {
            "text/plain": [
              "<matplotlib.image.AxesImage at 0x79d37e465990>"
            ]
          },
          "metadata": {},
          "execution_count": 47
        },
        {
          "output_type": "display_data",
          "data": {
            "text/plain": [
              "<Figure size 640x480 with 1 Axes>"
            ],
            "image/png": "[encoded data removed]"
          },
          "metadata": {}
        }
      ]
    },
    {
      "cell_type": "markdown",
      "source": [
        "## Dimensional Indexing"
      ],
      "metadata": {
        "id": "csqmsYSeUxTf"
      },
      "id": "csqmsYSeUxTf"
    },
    {
      "cell_type": "markdown",
      "source": [
        "There are some tools to facilitate the easy matching of array shapes with expressions and in assignments."
      ],
      "metadata": {
        "id": "LCU5rGBN6CuO"
      },
      "id": "LCU5rGBN6CuO"
    },
    {
      "cell_type": "code",
      "source": [
        "# 3d array\n",
        "y3 = np.arange(125).reshape((5,5,5))\n",
        "y3"
      ],
      "metadata": {
        "colab": {
          "base_uri": "https://localhost:8080/"
        },
        "id": "bQxhB_yrTVvO",
        "outputId": "dc0e5c1f-743a-4aa5-91c7-641ae4d27360"
      },
      "id": "bQxhB_yrTVvO",
      "execution_count": null,
      "outputs": [
        {
          "output_type": "execute_result",
          "data": {
            "text/plain": [
              "array([[[  0,   1,   2,   3,   4],\n",
              "        [  5,   6,   7,   8,   9],\n",
              "        [ 10,  11,  12,  13,  14],\n",
              "        [ 15,  16,  17,  18,  19],\n",
              "        [ 20,  21,  22,  23,  24]],\n",
              "\n",
              "       [[ 25,  26,  27,  28,  29],\n",
              "        [ 30,  31,  32,  33,  34],\n",
              "        [ 35,  36,  37,  38,  39],\n",
              "        [ 40,  41,  42,  43,  44],\n",
              "        [ 45,  46,  47,  48,  49]],\n",
              "\n",
              "       [[ 50,  51,  52,  53,  54],\n",
              "        [ 55,  56,  57,  58,  59],\n",
              "        [ 60,  61,  62,  63,  64],\n",
              "        [ 65,  66,  67,  68,  69],\n",
              "        [ 70,  71,  72,  73,  74]],\n",
              "\n",
              "       [[ 75,  76,  77,  78,  79],\n",
              "        [ 80,  81,  82,  83,  84],\n",
              "        [ 85,  86,  87,  88,  89],\n",
              "        [ 90,  91,  92,  93,  94],\n",
              "        [ 95,  96,  97,  98,  99]],\n",
              "\n",
              "       [[100, 101, 102, 103, 104],\n",
              "        [105, 106, 107, 108, 109],\n",
              "        [110, 111, 112, 113, 114],\n",
              "        [115, 116, 117, 118, 119],\n",
              "        [120, 121, 122, 123, 124]]])"
            ]
          },
          "metadata": {},
          "execution_count": 48
        }
      ]
    },
    {
      "cell_type": "code",
      "source": [
        "# The notation [..., ]. expands to the number of : objects needed for the selection tuple\n",
        "# to index all dimensions. In most cases, this means that the length of the expanded\n",
        "# selection tuple is x.ndim. There may only be a single ellipsis present.\n",
        "print(y3[...,0])\n",
        "print(y3[:,:,0])"
      ],
      "metadata": {
        "colab": {
          "base_uri": "https://localhost:8080/"
        },
        "id": "MoBtKk0TUOYk",
        "outputId": "ea0d747c-e9b4-4bc3-ac81-61d1f7347e44"
      },
      "id": "MoBtKk0TUOYk",
      "execution_count": null,
      "outputs": [
        {
          "output_type": "stream",
          "name": "stdout",
          "text": [
            "[[  0   5  10  15  20]\n",
            " [ 25  30  35  40  45]\n",
            " [ 50  55  60  65  70]\n",
            " [ 75  80  85  90  95]\n",
            " [100 105 110 115 120]]\n",
            "[[  0   5  10  15  20]\n",
            " [ 25  30  35  40  45]\n",
            " [ 50  55  60  65  70]\n",
            " [ 75  80  85  90  95]\n",
            " [100 105 110 115 120]]\n"
          ]
        }
      ]
    },
    {
      "cell_type": "code",
      "source": [
        "# What will this return?\n",
        "y3[1,...,1]"
      ],
      "metadata": {
        "colab": {
          "base_uri": "https://localhost:8080/"
        },
        "id": "oTjx2sy36_uC",
        "outputId": "f9f01a4e-6162-410a-8f02-19ae2d5a5df1"
      },
      "id": "oTjx2sy36_uC",
      "execution_count": null,
      "outputs": [
        {
          "output_type": "execute_result",
          "data": {
            "text/plain": [
              "array([26, 31, 36, 41, 46])"
            ]
          },
          "metadata": {},
          "execution_count": 53
        }
      ]
    },
    {
      "cell_type": "code",
      "source": [
        "# Singleton dimensions can be added anywhere with this special notation\n",
        "# We'll see why this can be useful later when we discuss broadcasting\n",
        "y3[:,None,:,:]"
      ],
      "metadata": {
        "colab": {
          "base_uri": "https://localhost:8080/"
        },
        "id": "b1FeUIdiUQlv",
        "outputId": "264e96ea-0de9-4d43-fe2a-9df8ca855666"
      },
      "id": "b1FeUIdiUQlv",
      "execution_count": null,
      "outputs": [
        {
          "output_type": "execute_result",
          "data": {
            "text/plain": [
              "array([[[[  0,   1,   2,   3,   4],\n",
              "         [  5,   6,   7,   8,   9],\n",
              "         [ 10,  11,  12,  13,  14],\n",
              "         [ 15,  16,  17,  18,  19],\n",
              "         [ 20,  21,  22,  23,  24]]],\n",
              "\n",
              "\n",
              "       [[[ 25,  26,  27,  28,  29],\n",
              "         [ 30,  31,  32,  33,  34],\n",
              "         [ 35,  36,  37,  38,  39],\n",
              "         [ 40,  41,  42,  43,  44],\n",
              "         [ 45,  46,  47,  48,  49]]],\n",
              "\n",
              "\n",
              "       [[[ 50,  51,  52,  53,  54],\n",
              "         [ 55,  56,  57,  58,  59],\n",
              "         [ 60,  61,  62,  63,  64],\n",
              "         [ 65,  66,  67,  68,  69],\n",
              "         [ 70,  71,  72,  73,  74]]],\n",
              "\n",
              "\n",
              "       [[[ 75,  76,  77,  78,  79],\n",
              "         [ 80,  81,  82,  83,  84],\n",
              "         [ 85,  86,  87,  88,  89],\n",
              "         [ 90,  91,  92,  93,  94],\n",
              "         [ 95,  96,  97,  98,  99]]],\n",
              "\n",
              "\n",
              "       [[[100, 101, 102, 103, 104],\n",
              "         [105, 106, 107, 108, 109],\n",
              "         [110, 111, 112, 113, 114],\n",
              "         [115, 116, 117, 118, 119],\n",
              "         [120, 121, 122, 123, 124]]]])"
            ]
          },
          "metadata": {},
          "execution_count": 86
        }
      ]
    },
    {
      "cell_type": "code",
      "source": [
        "y3[:,None,:,:].shape"
      ],
      "metadata": {
        "colab": {
          "base_uri": "https://localhost:8080/"
        },
        "id": "t3RbTVAaVXct",
        "outputId": "3eba7d1c-dc58-49c7-f045-85c69b8e5c39"
      },
      "id": "t3RbTVAaVXct",
      "execution_count": null,
      "outputs": [
        {
          "output_type": "execute_result",
          "data": {
            "text/plain": [
              "(5, 1, 5, 5)"
            ]
          },
          "metadata": {},
          "execution_count": 87
        }
      ]
    },
    {
      "cell_type": "code",
      "source": [
        "# This is also equivalent to\n",
        "y3[:,np.newaxis,:,:]"
      ],
      "metadata": {
        "colab": {
          "base_uri": "https://localhost:8080/"
        },
        "id": "SA-3iCaGVZ0C",
        "outputId": "93d245db-b256-4262-f3c3-19b4d8e4d30d"
      },
      "id": "SA-3iCaGVZ0C",
      "execution_count": null,
      "outputs": [
        {
          "output_type": "execute_result",
          "data": {
            "text/plain": [
              "array([[[[  0,   1,   2,   3,   4],\n",
              "         [  5,   6,   7,   8,   9],\n",
              "         [ 10,  11,  12,  13,  14],\n",
              "         [ 15,  16,  17,  18,  19],\n",
              "         [ 20,  21,  22,  23,  24]]],\n",
              "\n",
              "\n",
              "       [[[ 25,  26,  27,  28,  29],\n",
              "         [ 30,  31,  32,  33,  34],\n",
              "         [ 35,  36,  37,  38,  39],\n",
              "         [ 40,  41,  42,  43,  44],\n",
              "         [ 45,  46,  47,  48,  49]]],\n",
              "\n",
              "\n",
              "       [[[ 50,  51,  52,  53,  54],\n",
              "         [ 55,  56,  57,  58,  59],\n",
              "         [ 60,  61,  62,  63,  64],\n",
              "         [ 65,  66,  67,  68,  69],\n",
              "         [ 70,  71,  72,  73,  74]]],\n",
              "\n",
              "\n",
              "       [[[ 75,  76,  77,  78,  79],\n",
              "         [ 80,  81,  82,  83,  84],\n",
              "         [ 85,  86,  87,  88,  89],\n",
              "         [ 90,  91,  92,  93,  94],\n",
              "         [ 95,  96,  97,  98,  99]]],\n",
              "\n",
              "\n",
              "       [[[100, 101, 102, 103, 104],\n",
              "         [105, 106, 107, 108, 109],\n",
              "         [110, 111, 112, 113, 114],\n",
              "         [115, 116, 117, 118, 119],\n",
              "         [120, 121, 122, 123, 124]]]])"
            ]
          },
          "metadata": {},
          "execution_count": 88
        }
      ]
    },
    {
      "cell_type": "markdown",
      "source": [
        "## Advanced Indexing"
      ],
      "metadata": {
        "id": "S1h-qBLfWCK2"
      },
      "id": "S1h-qBLfWCK2"
    },
    {
      "cell_type": "markdown",
      "source": [
        "**From the Numpy Guide:** *Advanced indexing is triggered when the selection object, obj, is a non-tuple sequence object, an ndarray (of data type integer or bool), or a tuple with at least one sequence object or ndarray (of data type integer or bool). There are two types of advanced indexing: integer and Boolean.*\n",
        "\n",
        "Note that advanced indexing returns copies of the data rather than views."
      ],
      "metadata": {
        "id": "dJZS2dg1f--Z"
      },
      "id": "dJZS2dg1f--Z"
    },
    {
      "cell_type": "code",
      "source": [
        "# Arrays can be indexed by other arrays of integers\n",
        "z0 = np.arange(10)\n",
        "indexes = np.array([9,3,1,4])\n",
        "z0[indexes]"
      ],
      "metadata": {
        "colab": {
          "base_uri": "https://localhost:8080/"
        },
        "id": "Y-vHXE1uVhrn",
        "outputId": "704299fa-3929-4eb2-a33c-eb84bdbd4517"
      },
      "id": "Y-vHXE1uVhrn",
      "execution_count": null,
      "outputs": [
        {
          "output_type": "execute_result",
          "data": {
            "text/plain": [
              "array([9, 3, 1, 4])"
            ]
          },
          "metadata": {},
          "execution_count": 56
        }
      ]
    },
    {
      "cell_type": "code",
      "source": [
        "# You can also index using plain Python lists\n",
        "z0[[9,3,1,4]]"
      ],
      "metadata": {
        "colab": {
          "base_uri": "https://localhost:8080/"
        },
        "id": "oPlFXKr772B7",
        "outputId": "bfb26a3d-3608-47c9-8ac2-7f1a07dd0fe2"
      },
      "id": "oPlFXKr772B7",
      "execution_count": null,
      "outputs": [
        {
          "output_type": "execute_result",
          "data": {
            "text/plain": [
              "array([9, 3, 1, 4])"
            ]
          },
          "metadata": {},
          "execution_count": 58
        }
      ]
    },
    {
      "cell_type": "code",
      "source": [
        "# For 2d arrays you can pass in two arrays of integers\n",
        "z1 = np.arange(100).reshape((10,10))\n",
        "indexes0 = np.array([9,3,1,4])\n",
        "indexes1 = np.array([1,2,3,4])\n",
        "z1[indexes0,indexes1]"
      ],
      "metadata": {
        "colab": {
          "base_uri": "https://localhost:8080/"
        },
        "id": "DoQKbA-FcRuC",
        "outputId": "0ef78602-7cd1-4775-93ee-9abb211cc258"
      },
      "id": "DoQKbA-FcRuC",
      "execution_count": null,
      "outputs": [
        {
          "output_type": "execute_result",
          "data": {
            "text/plain": [
              "array([91, 32, 13, 44])"
            ]
          },
          "metadata": {},
          "execution_count": 54
        }
      ]
    },
    {
      "cell_type": "code",
      "source": [
        "# It's also common to use boolean indexing\n",
        "indexes = np.array([True, False, True, False, True, False, True, False, True, False])\n",
        "z0[indexes]"
      ],
      "metadata": {
        "colab": {
          "base_uri": "https://localhost:8080/"
        },
        "id": "n32ZzH6Ufke_",
        "outputId": "87eb38cb-cac5-4394-c4f9-7a28d4b7b7c8"
      },
      "id": "n32ZzH6Ufke_",
      "execution_count": null,
      "outputs": [
        {
          "output_type": "execute_result",
          "data": {
            "text/plain": [
              "array([0, 2, 4, 6, 8])"
            ]
          },
          "metadata": {},
          "execution_count": 59
        }
      ]
    },
    {
      "cell_type": "code",
      "source": [
        "# Boolean indexing is often used with comparison operators\n",
        "# This identifies the elements greater than 4\n",
        "indexes = z0 > 4\n",
        "indexes"
      ],
      "metadata": {
        "colab": {
          "base_uri": "https://localhost:8080/"
        },
        "id": "d03iO6_lkq27",
        "outputId": "b6bcdb45-11bd-4ee1-dcfc-c2b73794242a"
      },
      "id": "d03iO6_lkq27",
      "execution_count": null,
      "outputs": [
        {
          "output_type": "execute_result",
          "data": {
            "text/plain": [
              "array([False, False, False, False, False,  True,  True,  True,  True,\n",
              "        True])"
            ]
          },
          "metadata": {},
          "execution_count": 61
        }
      ]
    },
    {
      "cell_type": "code",
      "source": [
        "# This pulls out those elements into an array\n",
        "z0[indexes]"
      ],
      "metadata": {
        "colab": {
          "base_uri": "https://localhost:8080/"
        },
        "id": "J-KIWlCd8MwG",
        "outputId": "0d856b9d-f0b6-46c3-90ae-be48e047c581"
      },
      "id": "J-KIWlCd8MwG",
      "execution_count": null,
      "outputs": [
        {
          "output_type": "execute_result",
          "data": {
            "text/plain": [
              "array([5, 6, 7, 8, 9])"
            ]
          },
          "metadata": {},
          "execution_count": 62
        }
      ]
    },
    {
      "cell_type": "code",
      "source": [
        "# Doing this for a higher dimensional array will return a flattened array\n",
        "indexes = z1 > 10\n",
        "z1[indexes]"
      ],
      "metadata": {
        "colab": {
          "base_uri": "https://localhost:8080/"
        },
        "id": "ZCBMF7QylDGV",
        "outputId": "dd6c476d-2a8c-4025-b92b-8d0a6130ca98"
      },
      "id": "ZCBMF7QylDGV",
      "execution_count": null,
      "outputs": [
        {
          "output_type": "execute_result",
          "data": {
            "text/plain": [
              "array([11, 12, 13, 14, 15, 16, 17, 18, 19, 20, 21, 22, 23, 24, 25, 26, 27,\n",
              "       28, 29, 30, 31, 32, 33, 34, 35, 36, 37, 38, 39, 40, 41, 42, 43, 44,\n",
              "       45, 46, 47, 48, 49, 50, 51, 52, 53, 54, 55, 56, 57, 58, 59, 60, 61,\n",
              "       62, 63, 64, 65, 66, 67, 68, 69, 70, 71, 72, 73, 74, 75, 76, 77, 78,\n",
              "       79, 80, 81, 82, 83, 84, 85, 86, 87, 88, 89, 90, 91, 92, 93, 94, 95,\n",
              "       96, 97, 98, 99])"
            ]
          },
          "metadata": {},
          "execution_count": 63
        }
      ]
    },
    {
      "cell_type": "code",
      "source": [
        "# You can also assign values to a set of indices\n",
        "z3 = np.arange(10)\n",
        "z3[[0,5,9]] = 0\n",
        "z3"
      ],
      "metadata": {
        "colab": {
          "base_uri": "https://localhost:8080/"
        },
        "id": "zqy2G5hx6Eoe",
        "outputId": "abf99264-3d5c-4449-a0b1-43bb0bfdc5dd"
      },
      "id": "zqy2G5hx6Eoe",
      "execution_count": null,
      "outputs": [
        {
          "output_type": "execute_result",
          "data": {
            "text/plain": [
              "array([0, 1, 2, 3, 4, 0, 6, 7, 8, 0])"
            ]
          },
          "metadata": {},
          "execution_count": 64
        }
      ]
    },
    {
      "cell_type": "code",
      "source": [
        "# What will this return?\n",
        "X = np.zeros((5,5))\n",
        "X[np.arange(5), np.arange(5)] = 1.\n",
        "X"
      ],
      "metadata": {
        "colab": {
          "base_uri": "https://localhost:8080/"
        },
        "id": "iM1b9XZo8d0K",
        "outputId": "597b7cef-e898-422e-c3c5-8be41bbe003d"
      },
      "id": "iM1b9XZo8d0K",
      "execution_count": null,
      "outputs": [
        {
          "output_type": "execute_result",
          "data": {
            "text/plain": [
              "array([[1., 0., 0., 0., 0.],\n",
              "       [0., 1., 0., 0., 0.],\n",
              "       [0., 0., 1., 0., 0.],\n",
              "       [0., 0., 0., 1., 0.],\n",
              "       [0., 0., 0., 0., 1.]])"
            ]
          },
          "metadata": {},
          "execution_count": 75
        }
      ]
    },
    {
      "cell_type": "code",
      "source": [
        "# Is this valid? What will this return?\n",
        "X = np.zeros((5,5))\n",
        "X[np.arange(5), :] = np.arange(5)\n",
        "X"
      ],
      "metadata": {
        "collapsed": true,
        "id": "MdAA7Fuy8yod"
      },
      "id": "MdAA7Fuy8yod",
      "execution_count": null,
      "outputs": []
    },
    {
      "cell_type": "code",
      "source": [
        "# The equivalent loop\n",
        "X = np.zeros((5,5))\n",
        "for i in range(5):\n",
        "  for j in range(5):\n",
        "    X[i,j] = j\n",
        "X"
      ],
      "metadata": {
        "id": "6atXkknb9X3t"
      },
      "id": "6atXkknb9X3t",
      "execution_count": null,
      "outputs": []
    },
    {
      "cell_type": "markdown",
      "source": [
        "## Splitting, Merging, and Building Arrays"
      ],
      "metadata": {
        "id": "LshbitfV6U2F"
      },
      "id": "LshbitfV6U2F"
    },
    {
      "cell_type": "code",
      "source": [
        "# Arrays can be concatenated, or combined on an existing axis\n",
        "# That means the size in that axis increases\n",
        "a = np.array([1,2,3])\n",
        "b = np.array([4,5,6])\n",
        "c = np.concatenate((a,b))\n",
        "c"
      ],
      "metadata": {
        "colab": {
          "base_uri": "https://localhost:8080/"
        },
        "id": "jyEWwBsllEx8",
        "outputId": "e98c0e05-0878-45bf-ea24-1f462bf3df5b"
      },
      "id": "jyEWwBsllEx8",
      "execution_count": 3,
      "outputs": [
        {
          "output_type": "execute_result",
          "data": {
            "text/plain": [
              "array([1, 2, 3, 4, 5, 6])"
            ]
          },
          "metadata": {},
          "execution_count": 3
        }
      ]
    },
    {
      "cell_type": "code",
      "source": [
        "print(a.shape, b.shape, c.shape)"
      ],
      "metadata": {
        "colab": {
          "base_uri": "https://localhost:8080/"
        },
        "id": "P371kzoB-Hrm",
        "outputId": "de638862-0109-4322-c733-af01de331bd2"
      },
      "id": "P371kzoB-Hrm",
      "execution_count": null,
      "outputs": [
        {
          "output_type": "stream",
          "name": "stdout",
          "text": [
            "(3,) (3,) (6,)\n"
          ]
        }
      ]
    },
    {
      "cell_type": "code",
      "source": [
        "# Higher dimensional arrays can be concatenated too. By default this is along the first axis\n",
        "# so if you have an n x k and a j x k, you'd get a (n+j)xk output\n",
        "a = np.array([\n",
        "    [1,2,3],\n",
        "    [4,5,6]\n",
        "])\n",
        "b = np.array([\n",
        "    [7,8,9],\n",
        "    [10,11,12]\n",
        "])\n",
        "np.concatenate((a,b))"
      ],
      "metadata": {
        "colab": {
          "base_uri": "https://localhost:8080/"
        },
        "id": "7VgG5Gge6_az",
        "outputId": "e764e712-79b3-47dc-dc74-19534f225261"
      },
      "id": "7VgG5Gge6_az",
      "execution_count": null,
      "outputs": [
        {
          "output_type": "execute_result",
          "data": {
            "text/plain": [
              "array([[ 1,  2,  3],\n",
              "       [ 4,  5,  6],\n",
              "       [ 7,  8,  9],\n",
              "       [10, 11, 12]])"
            ]
          },
          "metadata": {},
          "execution_count": 115
        }
      ]
    },
    {
      "cell_type": "code",
      "source": [
        "# This, in turn, will concatenate along the columns dimension, so if you have an nxk and a nxj array, you get\n",
        "# an nx(k+j) output\n",
        "np.concatenate((a,b), axis=1)"
      ],
      "metadata": {
        "colab": {
          "base_uri": "https://localhost:8080/"
        },
        "id": "IWv9gufC7E9L",
        "outputId": "3481ee41-1c7c-4600-b61d-7871bf413a64"
      },
      "id": "IWv9gufC7E9L",
      "execution_count": null,
      "outputs": [
        {
          "output_type": "execute_result",
          "data": {
            "text/plain": [
              "array([[ 1,  2,  3,  7,  8,  9],\n",
              "       [ 4,  5,  6, 10, 11, 12]])"
            ]
          },
          "metadata": {},
          "execution_count": 117
        }
      ]
    },
    {
      "cell_type": "code",
      "source": [
        "# What's the shape of this concatenated array\n",
        "a = np.zeros((3,3,3))\n",
        "b = np.ones((3,3,3))\n",
        "c = np.concatenate((a,b), axis=2)\n",
        "c.shape"
      ],
      "metadata": {
        "colab": {
          "base_uri": "https://localhost:8080/"
        },
        "id": "FGyZNaBP-8Pm",
        "outputId": "30e4da78-5881-482b-c441-4a93489896aa"
      },
      "id": "FGyZNaBP-8Pm",
      "execution_count": 4,
      "outputs": [
        {
          "output_type": "execute_result",
          "data": {
            "text/plain": [
              "(3, 3, 6)"
            ]
          },
          "metadata": {},
          "execution_count": 4
        }
      ]
    },
    {
      "cell_type": "code",
      "source": [
        "# And what does the resulting array look like?\n",
        "c"
      ],
      "metadata": {
        "colab": {
          "base_uri": "https://localhost:8080/"
        },
        "id": "KQqyI8Mk_au1",
        "outputId": "c2e1fc13-6e35-49d8-80f0-b70222c127a5"
      },
      "id": "KQqyI8Mk_au1",
      "execution_count": 5,
      "outputs": [
        {
          "output_type": "execute_result",
          "data": {
            "text/plain": [
              "array([[[0., 0., 0., 1., 1., 1.],\n",
              "        [0., 0., 0., 1., 1., 1.],\n",
              "        [0., 0., 0., 1., 1., 1.]],\n",
              "\n",
              "       [[0., 0., 0., 1., 1., 1.],\n",
              "        [0., 0., 0., 1., 1., 1.],\n",
              "        [0., 0., 0., 1., 1., 1.]],\n",
              "\n",
              "       [[0., 0., 0., 1., 1., 1.],\n",
              "        [0., 0., 0., 1., 1., 1.],\n",
              "        [0., 0., 0., 1., 1., 1.]]])"
            ]
          },
          "metadata": {},
          "execution_count": 5
        }
      ]
    },
    {
      "cell_type": "code",
      "source": [
        "# Unlike concatenation, stacking joins arrays along a new axis using\n",
        "a = np.array([1,2,3])\n",
        "b = np.array([4,5,6])\n",
        "c = np.array([7,8,9])\n",
        "d = np.stack((a,b,c))\n",
        "d.shape"
      ],
      "metadata": {
        "colab": {
          "base_uri": "https://localhost:8080/"
        },
        "id": "G7dzRJ437dtQ",
        "outputId": "8143b962-87e8-4261-966c-48ae3f601f0f"
      },
      "id": "G7dzRJ437dtQ",
      "execution_count": 6,
      "outputs": [
        {
          "output_type": "execute_result",
          "data": {
            "text/plain": [
              "(3, 3)"
            ]
          },
          "metadata": {},
          "execution_count": 6
        }
      ]
    },
    {
      "cell_type": "code",
      "source": [
        "d"
      ],
      "metadata": {
        "colab": {
          "base_uri": "https://localhost:8080/"
        },
        "id": "uSG1J-u3BaFu",
        "outputId": "61251090-fa41-4a33-c7a7-deb1e101f457"
      },
      "id": "uSG1J-u3BaFu",
      "execution_count": null,
      "outputs": [
        {
          "output_type": "execute_result",
          "data": {
            "text/plain": [
              "array([[1, 2, 3],\n",
              "       [4, 5, 6],\n",
              "       [7, 8, 9]])"
            ]
          },
          "metadata": {},
          "execution_count": 88
        }
      ]
    },
    {
      "cell_type": "code",
      "source": [
        "# Stacking can also be done for different axes\n",
        "a = np.array([\n",
        "    [1,2,3],\n",
        "    [4,5,6]\n",
        "])\n",
        "b = np.array([\n",
        "    [7,8,9],\n",
        "    [10,11,12]\n",
        "])\n",
        "c = np.stack((a,b), axis=2)\n",
        "c.shape"
      ],
      "metadata": {
        "colab": {
          "base_uri": "https://localhost:8080/"
        },
        "id": "rX5FPjtJ8MHs",
        "outputId": "cefb9395-0101-4139-91c0-a0dff4584125"
      },
      "id": "rX5FPjtJ8MHs",
      "execution_count": null,
      "outputs": [
        {
          "output_type": "execute_result",
          "data": {
            "text/plain": [
              "(2, 3, 2)"
            ]
          },
          "metadata": {},
          "execution_count": 89
        }
      ]
    },
    {
      "cell_type": "code",
      "source": [
        "c"
      ],
      "metadata": {
        "colab": {
          "base_uri": "https://localhost:8080/"
        },
        "id": "gAOeOR-z8P-e",
        "outputId": "a447bb7e-6c45-4bdf-f369-6176ea93ed47"
      },
      "id": "gAOeOR-z8P-e",
      "execution_count": null,
      "outputs": [
        {
          "output_type": "execute_result",
          "data": {
            "text/plain": [
              "array([[[ 1,  7],\n",
              "        [ 2,  8],\n",
              "        [ 3,  9]],\n",
              "\n",
              "       [[ 4, 10],\n",
              "        [ 5, 11],\n",
              "        [ 6, 12]]])"
            ]
          },
          "metadata": {},
          "execution_count": 90
        }
      ]
    },
    {
      "cell_type": "code",
      "source": [
        "# What is the expected output of this?\n",
        "c = np.stack((a,b), axis=1)\n",
        "c.shape"
      ],
      "metadata": {
        "colab": {
          "base_uri": "https://localhost:8080/"
        },
        "id": "zZwSUWgVCGQl",
        "outputId": "b68a700b-14d6-4bf0-dac6-655992694094"
      },
      "id": "zZwSUWgVCGQl",
      "execution_count": null,
      "outputs": [
        {
          "output_type": "execute_result",
          "data": {
            "text/plain": [
              "(2, 2, 3)"
            ]
          },
          "metadata": {},
          "execution_count": 91
        }
      ]
    },
    {
      "cell_type": "code",
      "source": [
        "c"
      ],
      "metadata": {
        "colab": {
          "base_uri": "https://localhost:8080/"
        },
        "id": "tFvb7KrGCO0u",
        "outputId": "33af45d5-0fd6-4509-8234-876a87cce93d"
      },
      "id": "tFvb7KrGCO0u",
      "execution_count": null,
      "outputs": [
        {
          "output_type": "execute_result",
          "data": {
            "text/plain": [
              "array([[[ 1,  2,  3],\n",
              "        [ 7,  8,  9]],\n",
              "\n",
              "       [[ 4,  5,  6],\n",
              "        [10, 11, 12]]])"
            ]
          },
          "metadata": {},
          "execution_count": 92
        }
      ]
    },
    {
      "cell_type": "code",
      "source": [
        "# There are some special functions for 2d arrays.\n",
        "# hsplit operates on 2d arrays, splitting them into a given number of equally sized sub-arrays\n",
        "a = np.array([[1, 2, 3],\n",
        "              [4, 5, 6]])\n",
        "\n",
        "np.hsplit(a, 3)"
      ],
      "metadata": {
        "colab": {
          "base_uri": "https://localhost:8080/"
        },
        "id": "THLCAHSf80iq",
        "outputId": "9e4a87af-7512-4f6f-bf0e-d1f3901c30a2"
      },
      "id": "THLCAHSf80iq",
      "execution_count": null,
      "outputs": [
        {
          "output_type": "execute_result",
          "data": {
            "text/plain": [
              "[array([[1],\n",
              "        [4]]),\n",
              " array([[2],\n",
              "        [5]]),\n",
              " array([[3],\n",
              "        [6]])]"
            ]
          },
          "metadata": {},
          "execution_count": 93
        }
      ]
    },
    {
      "cell_type": "code",
      "source": [
        "# vsplit is similar, but splits along rows instead of columns.\n",
        "np.vsplit(a, 2)"
      ],
      "metadata": {
        "id": "V6w8fk109ujc",
        "outputId": "708de074-2806-4dd5-e95b-b8d5b14636d7",
        "colab": {
          "base_uri": "https://localhost:8080/"
        }
      },
      "id": "V6w8fk109ujc",
      "execution_count": null,
      "outputs": [
        {
          "output_type": "execute_result",
          "data": {
            "text/plain": [
              "[array([[1, 2, 3]]), array([[4, 5, 6]])]"
            ]
          },
          "metadata": {},
          "execution_count": 94
        }
      ]
    },
    {
      "cell_type": "markdown",
      "source": [
        "## Operations on arrays\n",
        "So far we've seen how to build, index, and manipulate arrays. Now we can do something useful with them! NumPy operations are usually done on pairs of arrays on an element-by-element basis. In the simplest case, the two arrays must have exactly the same shape, as in the following example:"
      ],
      "metadata": {
        "id": "bUdkKLC6Dz__"
      },
      "id": "bUdkKLC6Dz__"
    },
    {
      "cell_type": "code",
      "source": [
        "# Multiplying, dividing, adding element-wise\n",
        "a = np.array([1.0, 2.0, 3.0])\n",
        "b = np.array([2.0, 2.0, 2.0])\n",
        "print(a*b, a/b, a+b)"
      ],
      "metadata": {
        "id": "uHRTXijReLJP",
        "outputId": "096bb08e-1cef-4c48-d419-2261ddaac31b",
        "colab": {
          "base_uri": "https://localhost:8080/"
        }
      },
      "id": "uHRTXijReLJP",
      "execution_count": 9,
      "outputs": [
        {
          "output_type": "stream",
          "name": "stdout",
          "text": [
            "[2. 4. 6.] [0.5 1.  1.5] [3. 4. 5.]\n"
          ]
        }
      ]
    },
    {
      "cell_type": "code",
      "source": [
        "# Basic unary operations are also performed element-wise\n",
        "x = np.arange(5)\n",
        "print(x, x**2, np.sqrt(x), np.exp(x))"
      ],
      "metadata": {
        "id": "-QVy3a2zFV-w",
        "outputId": "20cc5de1-89ba-41f7-f80d-5a916496928b",
        "colab": {
          "base_uri": "https://localhost:8080/"
        }
      },
      "id": "-QVy3a2zFV-w",
      "execution_count": 12,
      "outputs": [
        {
          "output_type": "stream",
          "name": "stdout",
          "text": [
            "[0 1 2 3 4] [ 0  1  4  9 16] [0.         1.         1.41421356 1.73205081 2.        ] [ 1.          2.71828183  7.3890561  20.08553692 54.59815003]\n"
          ]
        }
      ]
    },
    {
      "cell_type": "code",
      "source": [
        "# You're also allowed to do operations between constants and arrays\n",
        "# like add a constant to every element, or multiply every element\n",
        "# by a constant. This is the most basic type of broadcasting\n",
        "x = np.ones(5)\n",
        "print(x*2., x+2.)\n"
      ],
      "metadata": {
        "id": "n9jyCrM8-hGh",
        "colab": {
          "base_uri": "https://localhost:8080/"
        },
        "outputId": "a6689bac-f2af-4095-87c2-a0065ed9fac5"
      },
      "id": "n9jyCrM8-hGh",
      "execution_count": 11,
      "outputs": [
        {
          "output_type": "stream",
          "name": "stdout",
          "text": [
            "[2. 2. 2. 2. 2.] [3. 3. 3. 3. 3.]\n"
          ]
        }
      ]
    },
    {
      "cell_type": "markdown",
      "source": [
        "![broadcasting_1.png](data:image/png;base64,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)"
      ],
      "metadata": {
        "id": "OG7cIyo2fEFP"
      },
      "id": "OG7cIyo2fEFP"
    },
    {
      "cell_type": "markdown",
      "source": [
        "## Broadcasting\n",
        "Broadcasting is extremely useful and can make some complex code very concise. The NumPy guide lays out the basic rules for broadcasting:\n",
        "\n",
        "\n",
        "---\n",
        "\n",
        "\n",
        "When operating on two arrays, NumPy compares their shapes element-wise. It starts with the trailing (i.e. rightmost) dimension and works its way left. Two dimensions are compatible when\n",
        "\n",
        "*   they are equal\n",
        "*   one of them is 1.\n",
        "\n",
        "\n",
        "Input arrays do not need to have the same number of dimensions. The resulting array will have the same number of dimensions as the input array with the greatest number of dimensions, where the size of each dimension is the largest size of the corresponding dimension among the input arrays. Note that missing dimensions are assumed to have size one."
      ],
      "metadata": {
        "id": "kmhEF3iUf_11"
      },
      "id": "kmhEF3iUf_11"
    },
    {
      "cell_type": "code",
      "source": [],
      "metadata": {
        "id": "VnRPgnrhOgA7"
      },
      "id": "VnRPgnrhOgA7",
      "execution_count": null,
      "outputs": []
    }
  ],
  "metadata": {
    "kernelspec": {
      "display_name": "Python 3",
      "language": "python",
      "name": "python3"
    },
    "language_info": {
      "name": "python",
      "version": "3.12.11"
    },
    "colab": {
      "provenance": [],
      "include_colab_link": true
    }
  },
  "nbformat": 4,
  "nbformat_minor": 5
}