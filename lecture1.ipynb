{
  "cells": [
    {
      "cell_type": "markdown",
      "metadata": {
        "id": "view-in-github",
        "colab_type": "text"
      },
      "source": [
        "<a href=\"https://colab.research.google.com/github/JacobDowns/CSCI-491-591/blob/main/lecture1.ipynb\" target=\"_parent\"><img src=\"https://colab.research.google.com/assets/colab-badge.svg\" alt=\"Open In Colab\"/></a>"
      ]
    },
    {
      "cell_type": "markdown",
      "source": [
        "# NumPy\n",
        "\n",
        "\n",
        "*   NumPy is a useful package for accelerating array based, numerical operations in Python\n",
        "*   Many complex loops or other operations can be translated to NumPy for efficiency\n",
        "* Under the hood, NumPy is primarily written in C\n",
        "* Allocating an array, for example, allocates a chunk of memory that can be referenced in C, Fortran, and Python\n",
        "* Mathematical operations and linear algebra are also implemented in C or Fortran, taking advantage of optimized numerical libraries\n",
        "\n"
      ],
      "metadata": {
        "id": "KduAYPrhluw0"
      },
      "id": "KduAYPrhluw0"
    },
    {
      "cell_type": "markdown",
      "source": [
        "## NDArrays"
      ],
      "metadata": {
        "id": "7gfdPtHBnKmA"
      },
      "id": "7gfdPtHBnKmA"
    },
    {
      "cell_type": "markdown",
      "id": "7e25090d",
      "metadata": {
        "id": "7e25090d"
      },
      "source": [
        "*   Numpy defines an n-dimensional array where every element in the array has the same data type\n",
        "*  Examples: float32, float64, int32, int64, etc.\n",
        "* It is common to use high-dimensional arrays in Numpy\n",
        "* There are many typical ways to allocate new arrays in Numpy\n",
        "\n"
      ]
    },
    {
      "cell_type": "markdown",
      "source": [
        "## Defining Arrays"
      ],
      "metadata": {
        "id": "T_19ElzXA7ct"
      },
      "id": "T_19ElzXA7ct"
    },
    {
      "cell_type": "code",
      "execution_count": 2,
      "id": "2edcc35b",
      "metadata": {
        "id": "2edcc35b"
      },
      "outputs": [],
      "source": [
        "import numpy as np"
      ]
    },
    {
      "cell_type": "code",
      "source": [
        "# 1d array\n",
        "x1 = np.array([1,2,3,4,5])\n",
        "x1"
      ],
      "metadata": {
        "colab": {
          "base_uri": "https://localhost:8080/"
        },
        "id": "QyVcqN469FP4",
        "outputId": "7ad53d8b-ca49-4b4f-a381-67dddcf6d7ee"
      },
      "id": "QyVcqN469FP4",
      "execution_count": null,
      "outputs": [
        {
          "output_type": "execute_result",
          "data": {
            "text/plain": [
              "array([1, 2, 3, 4, 5])"
            ]
          },
          "metadata": {},
          "execution_count": 3
        }
      ]
    },
    {
      "cell_type": "code",
      "source": [
        "# 2d array (array of 1d arrays)\n",
        "x2 = np.array([[1,2,3],[4,5,6]])\n",
        "x2"
      ],
      "metadata": {
        "colab": {
          "base_uri": "https://localhost:8080/"
        },
        "id": "QKQvUlT_9b3k",
        "outputId": "38479526-60c4-4a97-8635-9c8ace420efd"
      },
      "id": "QKQvUlT_9b3k",
      "execution_count": null,
      "outputs": [
        {
          "output_type": "execute_result",
          "data": {
            "text/plain": [
              "array([[1, 2, 3],\n",
              "       [4, 5, 6]])"
            ]
          },
          "metadata": {},
          "execution_count": 6
        }
      ]
    },
    {
      "cell_type": "code",
      "source": [
        "# 3d array  (Array of 2d arrays)\n",
        "x3 = np.array([[[1,2,3],[4,5,6]],[[7,8,9],[10,11,12]]])\n",
        "x3"
      ],
      "metadata": {
        "colab": {
          "base_uri": "https://localhost:8080/"
        },
        "id": "1KRl4Oas9j-v",
        "outputId": "c5873616-534a-48c7-ad6d-c6f0c07bfa91"
      },
      "id": "1KRl4Oas9j-v",
      "execution_count": null,
      "outputs": [
        {
          "output_type": "execute_result",
          "data": {
            "text/plain": [
              "array([[[ 1,  2,  3],\n",
              "        [ 4,  5,  6]],\n",
              "\n",
              "       [[ 7,  8,  9],\n",
              "        [10, 11, 12]]])"
            ]
          },
          "metadata": {},
          "execution_count": 7
        }
      ]
    },
    {
      "cell_type": "code",
      "source": [
        "# You can get the shape of an array with .shape\n",
        "(x1.shape, x2.shape, x3.shape)"
      ],
      "metadata": {
        "colab": {
          "base_uri": "https://localhost:8080/"
        },
        "id": "lDu75AcDGY4i",
        "outputId": "2e0db983-9f27-46aa-ea43-f628ebba31ca"
      },
      "id": "lDu75AcDGY4i",
      "execution_count": null,
      "outputs": [
        {
          "output_type": "execute_result",
          "data": {
            "text/plain": [
              "((5,), (2, 3), (2, 2, 3))"
            ]
          },
          "metadata": {},
          "execution_count": 50
        }
      ]
    },
    {
      "cell_type": "code",
      "source": [
        "# The number of elements is given by size\n",
        "(x1.size, x2.size, x3.size)"
      ],
      "metadata": {
        "colab": {
          "base_uri": "https://localhost:8080/"
        },
        "id": "he08DZ7P5T44",
        "outputId": "2e70a3f7-7724-4eb9-efe9-986cb1883966"
      },
      "id": "he08DZ7P5T44",
      "execution_count": null,
      "outputs": [
        {
          "output_type": "execute_result",
          "data": {
            "text/plain": [
              "(5, 6, 12)"
            ]
          },
          "metadata": {},
          "execution_count": 110
        }
      ]
    },
    {
      "cell_type": "code",
      "source": [
        "# The number of dimensions\n",
        "(x1.ndim, x2.ndim, x3.ndim)"
      ],
      "metadata": {
        "colab": {
          "base_uri": "https://localhost:8080/"
        },
        "id": "kAIyn4VU5cnc",
        "outputId": "3f0c8639-ba47-49e9-e42f-70ae8da7d9ce"
      },
      "id": "kAIyn4VU5cnc",
      "execution_count": null,
      "outputs": [
        {
          "output_type": "execute_result",
          "data": {
            "text/plain": [
              "(1, 2, 3)"
            ]
          },
          "metadata": {},
          "execution_count": 111
        }
      ]
    },
    {
      "cell_type": "markdown",
      "source": [
        "There are several short-hand ways of defining common arrays"
      ],
      "metadata": {
        "id": "dzwZgTLJ-SUX"
      },
      "id": "dzwZgTLJ-SUX"
    },
    {
      "cell_type": "code",
      "source": [
        "# 1d array of zeros\n",
        "x4 = np.zeros(3)\n",
        "x4"
      ],
      "metadata": {
        "colab": {
          "base_uri": "https://localhost:8080/"
        },
        "id": "q15ia5Sx9m_T",
        "outputId": "d81952ce-b334-4670-d90a-e4d7cd72a555"
      },
      "id": "q15ia5Sx9m_T",
      "execution_count": null,
      "outputs": [
        {
          "output_type": "execute_result",
          "data": {
            "text/plain": [
              "array([0., 0., 0.])"
            ]
          },
          "metadata": {},
          "execution_count": 14
        }
      ]
    },
    {
      "cell_type": "code",
      "source": [
        "# 2d array of zeros\n",
        "x5 = np.zeros((3,3))\n",
        "x5"
      ],
      "metadata": {
        "colab": {
          "base_uri": "https://localhost:8080/"
        },
        "id": "D9257WAj-Bnd",
        "outputId": "d8dcb238-dae0-4b2f-dde1-ed263a62667d"
      },
      "id": "D9257WAj-Bnd",
      "execution_count": null,
      "outputs": [
        {
          "output_type": "execute_result",
          "data": {
            "text/plain": [
              "array([[0., 0., 0.],\n",
              "       [0., 0., 0.],\n",
              "       [0., 0., 0.]])"
            ]
          },
          "metadata": {},
          "execution_count": 15
        }
      ]
    },
    {
      "cell_type": "code",
      "source": [
        "# 3d Array of zeros\n",
        "x6 = np.zeros((3,3,3))\n",
        "x6"
      ],
      "metadata": {
        "colab": {
          "base_uri": "https://localhost:8080/"
        },
        "id": "JXKH8Awg-JG9",
        "outputId": "d199ce17-0757-429f-f529-340551b3df1d"
      },
      "id": "JXKH8Awg-JG9",
      "execution_count": null,
      "outputs": [
        {
          "output_type": "execute_result",
          "data": {
            "text/plain": [
              "array([[[0., 0., 0.],\n",
              "        [0., 0., 0.],\n",
              "        [0., 0., 0.]],\n",
              "\n",
              "       [[0., 0., 0.],\n",
              "        [0., 0., 0.],\n",
              "        [0., 0., 0.]],\n",
              "\n",
              "       [[0., 0., 0.],\n",
              "        [0., 0., 0.],\n",
              "        [0., 0., 0.]]])"
            ]
          },
          "metadata": {},
          "execution_count": 16
        }
      ]
    },
    {
      "cell_type": "code",
      "source": [
        "# An array of ones\n",
        "x7 = np.ones(3)\n",
        "x7"
      ],
      "metadata": {
        "colab": {
          "base_uri": "https://localhost:8080/"
        },
        "id": "eeslROWx-fZM",
        "outputId": "71a96b4c-3fcc-447f-8bc7-26a792cc9c3a"
      },
      "id": "eeslROWx-fZM",
      "execution_count": null,
      "outputs": [
        {
          "output_type": "execute_result",
          "data": {
            "text/plain": [
              "array([1., 1., 1.])"
            ]
          },
          "metadata": {},
          "execution_count": 17
        }
      ]
    },
    {
      "cell_type": "code",
      "source": [
        "# Numpy will use a default type, dpending on how the array is created\n",
        "x7.dtype"
      ],
      "metadata": {
        "colab": {
          "base_uri": "https://localhost:8080/"
        },
        "id": "ocrYB6uM-ymW",
        "outputId": "80d502d8-fd02-4243-f7b5-7b1fca0d3431"
      },
      "id": "ocrYB6uM-ymW",
      "execution_count": null,
      "outputs": [
        {
          "output_type": "execute_result",
          "data": {
            "text/plain": [
              "dtype('float64')"
            ]
          },
          "metadata": {},
          "execution_count": 20
        }
      ]
    },
    {
      "cell_type": "code",
      "source": [
        "# However you can define a specific type as follows\n",
        "x8 = np.ones(3, dtype=np.int64)\n",
        "x8.dtype"
      ],
      "metadata": {
        "colab": {
          "base_uri": "https://localhost:8080/"
        },
        "id": "ouLWTpJ4--K6",
        "outputId": "25306d4b-c03a-4295-fb9e-d587ba59cb8a"
      },
      "id": "ouLWTpJ4--K6",
      "execution_count": null,
      "outputs": [
        {
          "output_type": "execute_result",
          "data": {
            "text/plain": [
              "dtype('int64')"
            ]
          },
          "metadata": {},
          "execution_count": 23
        }
      ]
    },
    {
      "cell_type": "code",
      "source": [
        "# Or you can cast to a differnt type\n",
        "x9 = x8.astype(np.float32)\n",
        "x9"
      ],
      "metadata": {
        "colab": {
          "base_uri": "https://localhost:8080/"
        },
        "id": "OJI1zT20_YA5",
        "outputId": "61241d28-e99b-4873-9dec-58a46966c209"
      },
      "id": "OJI1zT20_YA5",
      "execution_count": null,
      "outputs": [
        {
          "output_type": "execute_result",
          "data": {
            "text/plain": [
              "array([1., 1., 1.], dtype=float32)"
            ]
          },
          "metadata": {},
          "execution_count": 24
        }
      ]
    },
    {
      "cell_type": "code",
      "source": [
        "# Another common way to define an array is using arange, which just counts up from 0 by integers\n",
        "x10 = np.arange(10)\n",
        "x10"
      ],
      "metadata": {
        "colab": {
          "base_uri": "https://localhost:8080/"
        },
        "id": "yHpbjnWt_Yrq",
        "outputId": "84b7cd02-7954-40cf-e009-659e3af96207"
      },
      "id": "yHpbjnWt_Yrq",
      "execution_count": null,
      "outputs": [
        {
          "output_type": "execute_result",
          "data": {
            "text/plain": [
              "array([0, 1, 2, 3, 4, 5, 6, 7, 8, 9])"
            ]
          },
          "metadata": {},
          "execution_count": 28
        }
      ]
    },
    {
      "cell_type": "code",
      "source": [
        "# It has int64 type by default\n",
        "x10.dtype"
      ],
      "metadata": {
        "colab": {
          "base_uri": "https://localhost:8080/"
        },
        "id": "6A4gcoHO_st3",
        "outputId": "19124be1-b558-43db-d28d-073f92f9557a"
      },
      "id": "6A4gcoHO_st3",
      "execution_count": null,
      "outputs": [
        {
          "output_type": "execute_result",
          "data": {
            "text/plain": [
              "dtype('int64')"
            ]
          },
          "metadata": {},
          "execution_count": 27
        }
      ]
    },
    {
      "cell_type": "code",
      "source": [
        "# You can also define, the start, stop, and step explicitely. These don't have to be integers.\n",
        "x11 = np.arange(1,10,0.5)\n",
        "x11"
      ],
      "metadata": {
        "colab": {
          "base_uri": "https://localhost:8080/"
        },
        "id": "FgMor0n_ACFk",
        "outputId": "0e371f8b-4576-42d4-9d3a-c2434f153f1c"
      },
      "id": "FgMor0n_ACFk",
      "execution_count": null,
      "outputs": [
        {
          "output_type": "execute_result",
          "data": {
            "text/plain": [
              "array([1. , 1.5, 2. , 2.5, 3. , 3.5, 4. , 4.5, 5. , 5.5, 6. , 6.5, 7. ,\n",
              "       7.5, 8. , 8.5, 9. , 9.5])"
            ]
          },
          "metadata": {},
          "execution_count": 29
        }
      ]
    },
    {
      "cell_type": "code",
      "source": [
        "# Another useful function is linspace, which produces evenly spaced numbers in an interval\n",
        "x12 = np.linspace(0.,1.,10)\n",
        "x12"
      ],
      "metadata": {
        "colab": {
          "base_uri": "https://localhost:8080/"
        },
        "id": "8NYBAk7NAoIb",
        "outputId": "3b7b6107-72c0-42ba-b482-2191f5905064"
      },
      "id": "8NYBAk7NAoIb",
      "execution_count": null,
      "outputs": [
        {
          "output_type": "execute_result",
          "data": {
            "text/plain": [
              "array([0.        , 0.11111111, 0.22222222, 0.33333333, 0.44444444,\n",
              "       0.55555556, 0.66666667, 0.77777778, 0.88888889, 1.        ])"
            ]
          },
          "metadata": {},
          "execution_count": 31
        }
      ]
    },
    {
      "cell_type": "markdown",
      "source": [
        "## Reshaping"
      ],
      "metadata": {
        "id": "mLYsg9S2KxPk"
      },
      "id": "mLYsg9S2KxPk"
    },
    {
      "cell_type": "code",
      "source": [
        "# You can reshape an array as long as the total number of elements checks out\n",
        "# By default reshape uses row-major order. This means elements are read in a C-like\n",
        "# index order, where the last axis index changes fastest.\n",
        "x13 = np.arange(25)\n",
        "x14 = x13.reshape((5,5))\n",
        "x14"
      ],
      "metadata": {
        "colab": {
          "base_uri": "https://localhost:8080/"
        },
        "id": "YjqcMrKEKzV3",
        "outputId": "789303f8-8f72-40e2-c923-579304982b08"
      },
      "id": "YjqcMrKEKzV3",
      "execution_count": 9,
      "outputs": [
        {
          "output_type": "execute_result",
          "data": {
            "text/plain": [
              "array([[ 0,  1,  2,  3,  4],\n",
              "       [ 5,  6,  7,  8,  9],\n",
              "       [10, 11, 12, 13, 14],\n",
              "       [15, 16, 17, 18, 19],\n",
              "       [20, 21, 22, 23, 24]])"
            ]
          },
          "metadata": {},
          "execution_count": 9
        }
      ]
    },
    {
      "cell_type": "code",
      "source": [
        "# You can change the order in memory. For exmaple, reshaping\n",
        "# to Fortran-like order\n",
        "x15 = x13.reshape((5,5), order='F')\n",
        "x15"
      ],
      "metadata": {
        "colab": {
          "base_uri": "https://localhost:8080/"
        },
        "id": "slyPCdrOPzAG",
        "outputId": "87960678-1da4-426c-f657-46183336851a"
      },
      "id": "slyPCdrOPzAG",
      "execution_count": 10,
      "outputs": [
        {
          "output_type": "execute_result",
          "data": {
            "text/plain": [
              "array([[ 0,  5, 10, 15, 20],\n",
              "       [ 1,  6, 11, 16, 21],\n",
              "       [ 2,  7, 12, 17, 22],\n",
              "       [ 3,  8, 13, 18, 23],\n",
              "       [ 4,  9, 14, 19, 24]])"
            ]
          },
          "metadata": {},
          "execution_count": 10
        }
      ]
    },
    {
      "cell_type": "code",
      "source": [
        "# Arrays can also be flattened in numerous ways\n",
        "x16 = np.arange(25).reshape((5,5))\n",
        "x16.reshape((25,))"
      ],
      "metadata": {
        "colab": {
          "base_uri": "https://localhost:8080/"
        },
        "id": "0f0oxXKQQEX-",
        "outputId": "273144cd-c8e7-4238-f502-6ad921942032"
      },
      "id": "0f0oxXKQQEX-",
      "execution_count": 11,
      "outputs": [
        {
          "output_type": "execute_result",
          "data": {
            "text/plain": [
              "array([ 0,  1,  2,  3,  4,  5,  6,  7,  8,  9, 10, 11, 12, 13, 14, 15, 16,\n",
              "       17, 18, 19, 20, 21, 22, 23, 24])"
            ]
          },
          "metadata": {},
          "execution_count": 11
        }
      ]
    },
    {
      "cell_type": "code",
      "source": [
        "# Using flatten\n",
        "x16.flatten()"
      ],
      "metadata": {
        "colab": {
          "base_uri": "https://localhost:8080/"
        },
        "id": "-_VFOeBnQfn3",
        "outputId": "ce132008-3f7e-4b52-c880-fbad42ad138f"
      },
      "id": "-_VFOeBnQfn3",
      "execution_count": null,
      "outputs": [
        {
          "output_type": "execute_result",
          "data": {
            "text/plain": [
              "array([ 0,  1,  2,  3,  4,  5,  6,  7,  8,  9, 10, 11, 12, 13, 14, 15, 16,\n",
              "       17, 18, 19, 20, 21, 22, 23, 24])"
            ]
          },
          "metadata": {},
          "execution_count": 74
        }
      ]
    },
    {
      "cell_type": "markdown",
      "source": [
        "## Views Versus Copies"
      ],
      "metadata": {
        "id": "dEvaAIPVSFHy"
      },
      "id": "dEvaAIPVSFHy"
    },
    {
      "cell_type": "markdown",
      "source": [
        "Note that some functions in numpy return views of the original array, while others return copies. For example, ravel and flatten are similar, but ravel returns a view of an array, whereas flatten returns a copy. Returning a view is faster and uses less memory. However, be aware that modifying it modifies the original array. This is important to keep in mind so you know what operations have side effects."
      ],
      "metadata": {
        "id": "KdiHt4CFSJX5"
      },
      "id": "KdiHt4CFSJX5"
    },
    {
      "cell_type": "code",
      "source": [
        "import numpy as np\n",
        "\n",
        "a = np.array([[1, 2], [3, 4]])\n",
        "\n",
        "r = a.ravel()\n",
        "f = a.flatten()\n",
        "\n",
        "r[0] = 99\n",
        "f[1] = 88\n",
        "\n",
        "print(\"Original:\\n\", a)\n",
        "print(\"ravel:\\n\", r)\n",
        "print(\"flatten:\\n\", f)"
      ],
      "metadata": {
        "colab": {
          "base_uri": "https://localhost:8080/"
        },
        "id": "HHYY3acGRzQS",
        "outputId": "d1eb83fd-d51d-4ebb-f3e2-3e5b9cfc730b"
      },
      "id": "HHYY3acGRzQS",
      "execution_count": 12,
      "outputs": [
        {
          "output_type": "stream",
          "name": "stdout",
          "text": [
            "Original:\n",
            " [[99  2]\n",
            " [ 3  4]]\n",
            "ravel:\n",
            " [99  2  3  4]\n",
            "flatten:\n",
            " [ 1 88  3  4]\n"
          ]
        }
      ]
    },
    {
      "cell_type": "code",
      "source": [
        "# You can check if an array is based on another array F\n",
        "print(r.base is a)\n",
        "print(f.base is a)"
      ],
      "metadata": {
        "colab": {
          "base_uri": "https://localhost:8080/"
        },
        "id": "fSR3SNt7c1cf",
        "outputId": "cad6e685-37a4-4d27-a352-b9f17b07fc47"
      },
      "id": "fSR3SNt7c1cf",
      "execution_count": 13,
      "outputs": [
        {
          "output_type": "stream",
          "name": "stdout",
          "text": [
            "True\n",
            "False\n"
          ]
        }
      ]
    },
    {
      "cell_type": "code",
      "source": [
        "# Or if two arrays share memory\n",
        "(np.shares_memory(a, r), np.shares_memory(a, f))"
      ],
      "metadata": {
        "colab": {
          "base_uri": "https://localhost:8080/"
        },
        "id": "QKjMLBhhdPSD",
        "outputId": "40a60076-8dd4-47c1-91c5-a096065e5b34"
      },
      "id": "QKjMLBhhdPSD",
      "execution_count": 15,
      "outputs": [
        {
          "output_type": "execute_result",
          "data": {
            "text/plain": [
              "(True, False)"
            ]
          },
          "metadata": {},
          "execution_count": 15
        }
      ]
    },
    {
      "cell_type": "markdown",
      "source": [
        "## Basic Indexing"
      ],
      "metadata": {
        "id": "sF3rXBDyA_9n"
      },
      "id": "sF3rXBDyA_9n"
    },
    {
      "cell_type": "code",
      "source": [
        "# Indexing works how you would expect\n",
        "x = np.arange(10)\n",
        "print(x[0], x[1], x[9])"
      ],
      "metadata": {
        "colab": {
          "base_uri": "https://localhost:8080/"
        },
        "id": "uu4V6bKqBCfS",
        "outputId": "29846da1-0320-4a7d-e6ee-2c10a27343ae"
      },
      "id": "uu4V6bKqBCfS",
      "execution_count": 17,
      "outputs": [
        {
          "output_type": "stream",
          "name": "stdout",
          "text": [
            "0 1 9\n"
          ]
        }
      ]
    },
    {
      "cell_type": "code",
      "source": [
        "# You can use negative indexes to start indexing from the last element of an array\n",
        "print(x[-1])"
      ],
      "metadata": {
        "colab": {
          "base_uri": "https://localhost:8080/"
        },
        "id": "UDSWepokCMHY",
        "outputId": "f3d7d560-1e2f-44c3-9bef-16beb5d1bd91"
      },
      "id": "UDSWepokCMHY",
      "execution_count": 18,
      "outputs": [
        {
          "output_type": "stream",
          "name": "stdout",
          "text": [
            "9\n"
          ]
        }
      ]
    },
    {
      "cell_type": "code",
      "source": [
        "# For example, the second to last element...\n",
        "print(x[-2])"
      ],
      "metadata": {
        "colab": {
          "base_uri": "https://localhost:8080/"
        },
        "id": "GNvBIfe2HZ9S",
        "outputId": "665a191b-f80e-4163-cc30-5bb605ca645a"
      },
      "id": "GNvBIfe2HZ9S",
      "execution_count": 19,
      "outputs": [
        {
          "output_type": "stream",
          "name": "stdout",
          "text": [
            "8\n"
          ]
        }
      ]
    },
    {
      "cell_type": "code",
      "source": [
        "# Things are similar for 2d arrays. The indices refer to rows then columns.\n",
        "x = np.array([\n",
        "    [1,2,3],\n",
        "    [4,5,6]\n",
        "])\n",
        "print(x[0,0], x[0,1], x[1,0], x[1,-1])"
      ],
      "metadata": {
        "colab": {
          "base_uri": "https://localhost:8080/"
        },
        "id": "nqC3qw0MCSbB",
        "outputId": "e9acfacd-fcc7-4d72-a524-5b134da3354a"
      },
      "id": "nqC3qw0MCSbB",
      "execution_count": 21,
      "outputs": [
        {
          "output_type": "stream",
          "name": "stdout",
          "text": [
            "1 2 4 6\n"
          ]
        }
      ]
    },
    {
      "cell_type": "code",
      "source": [
        "# What will this output?\n",
        "x[-1, 1]"
      ],
      "metadata": {
        "id": "n3F7JrRa3rxn"
      },
      "id": "n3F7JrRa3rxn",
      "execution_count": null,
      "outputs": []
    },
    {
      "cell_type": "code",
      "source": [
        "# Similarly for 3d arrays.\n",
        "x = np.array([\n",
        "    [[1,2,3],[4,5,6]],\n",
        "    [[7,8,9],[10,11,12]]\n",
        "])\n",
        "print(x[0,0,0], x[0,0,1], x[1,0,0])"
      ],
      "metadata": {
        "colab": {
          "base_uri": "https://localhost:8080/"
        },
        "id": "Msi-4EG1Cbh2",
        "outputId": "a799da4b-4459-4f0e-da67-282d21c518b4"
      },
      "id": "Msi-4EG1Cbh2",
      "execution_count": 23,
      "outputs": [
        {
          "output_type": "stream",
          "name": "stdout",
          "text": [
            "1 2 7\n"
          ]
        }
      ]
    },
    {
      "cell_type": "code",
      "source": [
        "# You can think of index notation as dissecting the array into subarrays, and pulling elements\n",
        "# (which could be numbers or subarrays) from them. For example,\n",
        "# let's look at x[1]. It's a 2d array\n",
        "x[1]"
      ],
      "metadata": {
        "colab": {
          "base_uri": "https://localhost:8080/"
        },
        "id": "WiQYUvurCyqF",
        "outputId": "75794da8-0db0-43d4-f14b-9a975a940bee"
      },
      "id": "WiQYUvurCyqF",
      "execution_count": 24,
      "outputs": [
        {
          "output_type": "execute_result",
          "data": {
            "text/plain": [
              "array([[ 7,  8,  9],\n",
              "       [10, 11, 12]])"
            ]
          },
          "metadata": {},
          "execution_count": 24
        }
      ]
    },
    {
      "cell_type": "code",
      "source": [
        "# The notation x[1][1] or x[1,1] pulls out the second row of x[1]\n",
        "print(x[1][1], x[1,1])"
      ],
      "metadata": {
        "colab": {
          "base_uri": "https://localhost:8080/"
        },
        "id": "prVgLwsoD4MS",
        "outputId": "e5be3b64-a65a-4eda-c0a4-9cfaff1946ee"
      },
      "id": "prVgLwsoD4MS",
      "execution_count": 25,
      "outputs": [
        {
          "output_type": "stream",
          "name": "stdout",
          "text": [
            "[10 11 12] [10 11 12]\n"
          ]
        }
      ]
    },
    {
      "cell_type": "code",
      "source": [
        "# The notation x[1][1][2] or x[1,1,2] pulls out the third element of the second row of x[1]\n",
        "print(x[1][1][2], x[1,1,2])"
      ],
      "metadata": {
        "colab": {
          "base_uri": "https://localhost:8080/"
        },
        "id": "mY42EuU2EXDT",
        "outputId": "8925dbe1-a643-49b2-f51f-2ad80ac5451d"
      },
      "id": "mY42EuU2EXDT",
      "execution_count": 26,
      "outputs": [
        {
          "output_type": "stream",
          "name": "stdout",
          "text": [
            "12 12\n"
          ]
        }
      ]
    },
    {
      "cell_type": "markdown",
      "source": [
        "## Fancy Indexing In Numpy"
      ],
      "metadata": {
        "id": "--5EVfBvGmtL"
      },
      "id": "--5EVfBvGmtL"
    },
    {
      "cell_type": "code",
      "source": [
        "# Slicing let's let's you pull out portions of an array\n",
        "y1 = np.arange(20)\n",
        "y1"
      ],
      "metadata": {
        "colab": {
          "base_uri": "https://localhost:8080/"
        },
        "id": "6Co8vpp8FRfl",
        "outputId": "d8b328a8-63b8-480d-87b1-b1b248b18244"
      },
      "id": "6Co8vpp8FRfl",
      "execution_count": 27,
      "outputs": [
        {
          "output_type": "execute_result",
          "data": {
            "text/plain": [
              "array([ 0,  1,  2,  3,  4,  5,  6,  7,  8,  9, 10, 11, 12, 13, 14, 15, 16,\n",
              "       17, 18, 19])"
            ]
          },
          "metadata": {},
          "execution_count": 27
        }
      ]
    },
    {
      "cell_type": "code",
      "source": [
        "# For example, this returns elements at indexes 5,6,7,8.\n",
        "# Note that, for a slice i:j, the j-th element is not included\n",
        "y1[5:9]"
      ],
      "metadata": {
        "colab": {
          "base_uri": "https://localhost:8080/"
        },
        "id": "8wGZs4EuH2e3",
        "outputId": "6f3d00c4-0fa6-4c22-c25b-1341144e8b89"
      },
      "id": "8wGZs4EuH2e3",
      "execution_count": 29,
      "outputs": [
        {
          "output_type": "execute_result",
          "data": {
            "text/plain": [
              "array([5, 6, 7, 8])"
            ]
          },
          "metadata": {},
          "execution_count": 29
        }
      ]
    },
    {
      "cell_type": "markdown",
      "source": [
        "**From the Numpy guide:**\n",
        "*The basic slice syntax is $i:j:k$ where $i$ is the starting index, $j$ is the stopping index, and $k$ is the step ($k \\neq 0$)\n",
        "). This selects the m elements (in the corresponding dimension) with index values $i, i + k, …, i + (m - 1) k$ where\n",
        " and $q$ and $r$ are the quotient and remainder obtained by dividing $j - i$ by $k: j - i = q k + r$, so that $i + (m - 1) k < j$.*\n"
      ],
      "metadata": {
        "id": "Z8WcPXcMIVct"
      },
      "id": "Z8WcPXcMIVct"
    },
    {
      "cell_type": "code",
      "source": [
        "# You can take steps bigger than 1 when slicing\n",
        "y1[5:9:2]"
      ],
      "metadata": {
        "colab": {
          "base_uri": "https://localhost:8080/"
        },
        "id": "ztkkWxgCH8iz",
        "outputId": "3e9a4875-4274-4d20-8f5a-5deba8c29029"
      },
      "id": "ztkkWxgCH8iz",
      "execution_count": 30,
      "outputs": [
        {
          "output_type": "execute_result",
          "data": {
            "text/plain": [
              "array([5, 7])"
            ]
          },
          "metadata": {},
          "execution_count": 30
        }
      ]
    },
    {
      "cell_type": "code",
      "source": [
        "# There is special syntax for slicing from the beginning of an array to a given index\n",
        "y1[:5]"
      ],
      "metadata": {
        "colab": {
          "base_uri": "https://localhost:8080/"
        },
        "id": "0k1BRVeWIQBV",
        "outputId": "3efb0674-513b-461e-851a-079829666ac5"
      },
      "id": "0k1BRVeWIQBV",
      "execution_count": 32,
      "outputs": [
        {
          "output_type": "execute_result",
          "data": {
            "text/plain": [
              "array([0, 1, 2, 3, 4])"
            ]
          },
          "metadata": {},
          "execution_count": 32
        }
      ]
    },
    {
      "cell_type": "code",
      "source": [
        "# Or for slicing from a given index to the end\n",
        "y1[5:]"
      ],
      "metadata": {
        "colab": {
          "base_uri": "https://localhost:8080/"
        },
        "id": "9wtcvt65JouM",
        "outputId": "748d1e5b-1833-44f6-e439-abce6fa95d96"
      },
      "id": "9wtcvt65JouM",
      "execution_count": 33,
      "outputs": [
        {
          "output_type": "execute_result",
          "data": {
            "text/plain": [
              "array([ 5,  6,  7,  8,  9, 10, 11, 12, 13, 14, 15, 16, 17, 18, 19])"
            ]
          },
          "metadata": {},
          "execution_count": 33
        }
      ]
    },
    {
      "cell_type": "code",
      "source": [
        "# You can get every n-th element of an array\n",
        "y1[::2]"
      ],
      "metadata": {
        "colab": {
          "base_uri": "https://localhost:8080/"
        },
        "id": "R6wQNYAEXLIo",
        "outputId": "f412c9cb-2e70-438f-f58f-dea5c6d44899"
      },
      "id": "R6wQNYAEXLIo",
      "execution_count": 34,
      "outputs": [
        {
          "output_type": "execute_result",
          "data": {
            "text/plain": [
              "array([ 0,  2,  4,  6,  8, 10, 12, 14, 16, 18])"
            ]
          },
          "metadata": {},
          "execution_count": 34
        }
      ]
    },
    {
      "cell_type": "code",
      "source": [
        "# Or reverse an array with this notation. These work with multidemensional arrays too.\n",
        "y1[::-1]"
      ],
      "metadata": {
        "colab": {
          "base_uri": "https://localhost:8080/"
        },
        "id": "Xff9brztXUXZ",
        "outputId": "0637dea8-6293-440c-ebc1-6683a4d4325a"
      },
      "id": "Xff9brztXUXZ",
      "execution_count": 35,
      "outputs": [
        {
          "output_type": "execute_result",
          "data": {
            "text/plain": [
              "array([19, 18, 17, 16, 15, 14, 13, 12, 11, 10,  9,  8,  7,  6,  5,  4,  3,\n",
              "        2,  1,  0])"
            ]
          },
          "metadata": {},
          "execution_count": 35
        }
      ]
    },
    {
      "cell_type": "code",
      "source": [
        "# Slicing can be done in any dimension\n",
        "y2 = np.arange(25).reshape((5,5))\n",
        "y2"
      ],
      "metadata": {
        "colab": {
          "base_uri": "https://localhost:8080/"
        },
        "id": "SceMGBoPJtAK",
        "outputId": "76ede1e9-b7df-43dd-c56f-037e16b66370"
      },
      "id": "SceMGBoPJtAK",
      "execution_count": 36,
      "outputs": [
        {
          "output_type": "execute_result",
          "data": {
            "text/plain": [
              "array([[ 0,  1,  2,  3,  4],\n",
              "       [ 5,  6,  7,  8,  9],\n",
              "       [10, 11, 12, 13, 14],\n",
              "       [15, 16, 17, 18, 19],\n",
              "       [20, 21, 22, 23, 24]])"
            ]
          },
          "metadata": {},
          "execution_count": 36
        }
      ]
    },
    {
      "cell_type": "code",
      "source": [
        "# The notation :, means get all elements in this dimension, so this gets the first and second\n",
        "# elements of each row\n",
        "y2[:,0:2]\n"
      ],
      "metadata": {
        "colab": {
          "base_uri": "https://localhost:8080/"
        },
        "id": "Yc92lDwETNhM",
        "outputId": "9c813dd5-00ac-4cf4-d361-b783d7a23272"
      },
      "id": "Yc92lDwETNhM",
      "execution_count": 37,
      "outputs": [
        {
          "output_type": "execute_result",
          "data": {
            "text/plain": [
              "array([[ 0,  1],\n",
              "       [ 5,  6],\n",
              "       [10, 11],\n",
              "       [15, 16],\n",
              "       [20, 21]])"
            ]
          },
          "metadata": {},
          "execution_count": 37
        }
      ]
    },
    {
      "cell_type": "code",
      "source": [
        "# What will this return?\n",
        "y2[1:-1,1:-1]"
      ],
      "metadata": {
        "colab": {
          "base_uri": "https://localhost:8080/"
        },
        "id": "JHChI8-A5KS1",
        "outputId": "15c1da61-4342-4867-8833-b42484748f17"
      },
      "id": "JHChI8-A5KS1",
      "execution_count": 40,
      "outputs": [
        {
          "output_type": "execute_result",
          "data": {
            "text/plain": [
              "array([[ 6,  7,  8],\n",
              "       [11, 12, 13],\n",
              "       [16, 17, 18]])"
            ]
          },
          "metadata": {},
          "execution_count": 40
        }
      ]
    },
    {
      "cell_type": "markdown",
      "source": [
        "## Exercise 1\n",
        "Create a checkboard using an array of integers with 0 for black and 1 for white."
      ],
      "metadata": {
        "id": "z157Z9OgAs4N"
      },
      "id": "z157Z9OgAs4N"
    },
    {
      "cell_type": "code",
      "source": [
        "import matplotlib.pyplot as plt\n",
        "board = np.zeros((8,8), dtype=int)\n",
        "board[1::2,1::2] = 1\n",
        "board[::2,0::2] = 1\n",
        "plt.imshow(board, cmap='gray')\n"
      ],
      "metadata": {
        "id": "QOWvTDEDBC1G",
        "outputId": "f9283967-4e77-4899-c8c7-88974d93fae9",
        "colab": {
          "base_uri": "https://localhost:8080/",
          "height": 447
        }
      },
      "id": "QOWvTDEDBC1G",
      "execution_count": null,
      "outputs": [
        {
          "output_type": "execute_result",
          "data": {
            "text/plain": [
              "<matplotlib.image.AxesImage at 0x7d6f85f0e790>"
            ]
          },
          "metadata": {},
          "execution_count": 141
        },
        {
          "output_type": "display_data",
          "data": {
            "text/plain": [
              "<Figure size 640x480 with 1 Axes>"
            ],
            "image/png": "[encoded data removed]"
          },
          "metadata": {}
        }
      ]
    },
    {
      "cell_type": "markdown",
      "source": [
        "## Dimensional Indexing"
      ],
      "metadata": {
        "id": "csqmsYSeUxTf"
      },
      "id": "csqmsYSeUxTf"
    },
    {
      "cell_type": "code",
      "source": [
        "# You can also do dimensional indexing for n-dimensional arrays\n",
        "y3 = np.arange(125).reshape((5,5,5))\n",
        "y3"
      ],
      "metadata": {
        "colab": {
          "base_uri": "https://localhost:8080/"
        },
        "id": "bQxhB_yrTVvO",
        "outputId": "adf1f50b-1d2d-4c3a-d59d-0d82e36ef36c"
      },
      "id": "bQxhB_yrTVvO",
      "execution_count": null,
      "outputs": [
        {
          "output_type": "execute_result",
          "data": {
            "text/plain": [
              "array([[[  0,   1,   2,   3,   4],\n",
              "        [  5,   6,   7,   8,   9],\n",
              "        [ 10,  11,  12,  13,  14],\n",
              "        [ 15,  16,  17,  18,  19],\n",
              "        [ 20,  21,  22,  23,  24]],\n",
              "\n",
              "       [[ 25,  26,  27,  28,  29],\n",
              "        [ 30,  31,  32,  33,  34],\n",
              "        [ 35,  36,  37,  38,  39],\n",
              "        [ 40,  41,  42,  43,  44],\n",
              "        [ 45,  46,  47,  48,  49]],\n",
              "\n",
              "       [[ 50,  51,  52,  53,  54],\n",
              "        [ 55,  56,  57,  58,  59],\n",
              "        [ 60,  61,  62,  63,  64],\n",
              "        [ 65,  66,  67,  68,  69],\n",
              "        [ 70,  71,  72,  73,  74]],\n",
              "\n",
              "       [[ 75,  76,  77,  78,  79],\n",
              "        [ 80,  81,  82,  83,  84],\n",
              "        [ 85,  86,  87,  88,  89],\n",
              "        [ 90,  91,  92,  93,  94],\n",
              "        [ 95,  96,  97,  98,  99]],\n",
              "\n",
              "       [[100, 101, 102, 103, 104],\n",
              "        [105, 106, 107, 108, 109],\n",
              "        [110, 111, 112, 113, 114],\n",
              "        [115, 116, 117, 118, 119],\n",
              "        [120, 121, 122, 123, 124]]])"
            ]
          },
          "metadata": {},
          "execution_count": 82
        }
      ]
    },
    {
      "cell_type": "code",
      "source": [
        "# The notation [..., ]. expands to the number of : objects needed for the selection tuple to index all dimensions.\n",
        "# In most cases, this means that the length of the expanded selection tuple is x.ndim. There may only be a single ellipsis present. From the above example:\n",
        "y3[...,0]"
      ],
      "metadata": {
        "colab": {
          "base_uri": "https://localhost:8080/"
        },
        "id": "MoBtKk0TUOYk",
        "outputId": "6713bbfc-9e3d-41cf-e0a7-d0d6a1324683"
      },
      "id": "MoBtKk0TUOYk",
      "execution_count": null,
      "outputs": [
        {
          "output_type": "execute_result",
          "data": {
            "text/plain": [
              "array([[  0,   5,  10,  15,  20],\n",
              "       [ 25,  30,  35,  40,  45],\n",
              "       [ 50,  55,  60,  65,  70],\n",
              "       [ 75,  80,  85,  90,  95],\n",
              "       [100, 105, 110, 115, 120]])"
            ]
          },
          "metadata": {},
          "execution_count": 85
        }
      ]
    },
    {
      "cell_type": "code",
      "source": [
        "# Singleton dimensions can be added anywhere with this special notation\n",
        "y3[:,None,:,:]"
      ],
      "metadata": {
        "colab": {
          "base_uri": "https://localhost:8080/"
        },
        "id": "b1FeUIdiUQlv",
        "outputId": "264e96ea-0de9-4d43-fe2a-9df8ca855666"
      },
      "id": "b1FeUIdiUQlv",
      "execution_count": null,
      "outputs": [
        {
          "output_type": "execute_result",
          "data": {
            "text/plain": [
              "array([[[[  0,   1,   2,   3,   4],\n",
              "         [  5,   6,   7,   8,   9],\n",
              "         [ 10,  11,  12,  13,  14],\n",
              "         [ 15,  16,  17,  18,  19],\n",
              "         [ 20,  21,  22,  23,  24]]],\n",
              "\n",
              "\n",
              "       [[[ 25,  26,  27,  28,  29],\n",
              "         [ 30,  31,  32,  33,  34],\n",
              "         [ 35,  36,  37,  38,  39],\n",
              "         [ 40,  41,  42,  43,  44],\n",
              "         [ 45,  46,  47,  48,  49]]],\n",
              "\n",
              "\n",
              "       [[[ 50,  51,  52,  53,  54],\n",
              "         [ 55,  56,  57,  58,  59],\n",
              "         [ 60,  61,  62,  63,  64],\n",
              "         [ 65,  66,  67,  68,  69],\n",
              "         [ 70,  71,  72,  73,  74]]],\n",
              "\n",
              "\n",
              "       [[[ 75,  76,  77,  78,  79],\n",
              "         [ 80,  81,  82,  83,  84],\n",
              "         [ 85,  86,  87,  88,  89],\n",
              "         [ 90,  91,  92,  93,  94],\n",
              "         [ 95,  96,  97,  98,  99]]],\n",
              "\n",
              "\n",
              "       [[[100, 101, 102, 103, 104],\n",
              "         [105, 106, 107, 108, 109],\n",
              "         [110, 111, 112, 113, 114],\n",
              "         [115, 116, 117, 118, 119],\n",
              "         [120, 121, 122, 123, 124]]]])"
            ]
          },
          "metadata": {},
          "execution_count": 86
        }
      ]
    },
    {
      "cell_type": "code",
      "source": [
        "y3[:,None,:,:].shape"
      ],
      "metadata": {
        "colab": {
          "base_uri": "https://localhost:8080/"
        },
        "id": "t3RbTVAaVXct",
        "outputId": "3eba7d1c-dc58-49c7-f045-85c69b8e5c39"
      },
      "id": "t3RbTVAaVXct",
      "execution_count": null,
      "outputs": [
        {
          "output_type": "execute_result",
          "data": {
            "text/plain": [
              "(5, 1, 5, 5)"
            ]
          },
          "metadata": {},
          "execution_count": 87
        }
      ]
    },
    {
      "cell_type": "code",
      "source": [
        "# This is also equivalent to\n",
        "y3[:,np.newaxis,:,:]"
      ],
      "metadata": {
        "colab": {
          "base_uri": "https://localhost:8080/"
        },
        "id": "SA-3iCaGVZ0C",
        "outputId": "93d245db-b256-4262-f3c3-19b4d8e4d30d"
      },
      "id": "SA-3iCaGVZ0C",
      "execution_count": null,
      "outputs": [
        {
          "output_type": "execute_result",
          "data": {
            "text/plain": [
              "array([[[[  0,   1,   2,   3,   4],\n",
              "         [  5,   6,   7,   8,   9],\n",
              "         [ 10,  11,  12,  13,  14],\n",
              "         [ 15,  16,  17,  18,  19],\n",
              "         [ 20,  21,  22,  23,  24]]],\n",
              "\n",
              "\n",
              "       [[[ 25,  26,  27,  28,  29],\n",
              "         [ 30,  31,  32,  33,  34],\n",
              "         [ 35,  36,  37,  38,  39],\n",
              "         [ 40,  41,  42,  43,  44],\n",
              "         [ 45,  46,  47,  48,  49]]],\n",
              "\n",
              "\n",
              "       [[[ 50,  51,  52,  53,  54],\n",
              "         [ 55,  56,  57,  58,  59],\n",
              "         [ 60,  61,  62,  63,  64],\n",
              "         [ 65,  66,  67,  68,  69],\n",
              "         [ 70,  71,  72,  73,  74]]],\n",
              "\n",
              "\n",
              "       [[[ 75,  76,  77,  78,  79],\n",
              "         [ 80,  81,  82,  83,  84],\n",
              "         [ 85,  86,  87,  88,  89],\n",
              "         [ 90,  91,  92,  93,  94],\n",
              "         [ 95,  96,  97,  98,  99]]],\n",
              "\n",
              "\n",
              "       [[[100, 101, 102, 103, 104],\n",
              "         [105, 106, 107, 108, 109],\n",
              "         [110, 111, 112, 113, 114],\n",
              "         [115, 116, 117, 118, 119],\n",
              "         [120, 121, 122, 123, 124]]]])"
            ]
          },
          "metadata": {},
          "execution_count": 88
        }
      ]
    },
    {
      "cell_type": "markdown",
      "source": [
        "## Advanced Indexing"
      ],
      "metadata": {
        "id": "S1h-qBLfWCK2"
      },
      "id": "S1h-qBLfWCK2"
    },
    {
      "cell_type": "markdown",
      "source": [
        "**From the Numpy Guide:** *Advanced indexing is triggered when the selection object, obj, is a non-tuple sequence object, an ndarray (of data type integer or bool), or a tuple with at least one sequence object or ndarray (of data type integer or bool). There are two types of advanced indexing: integer and Boolean.*\n",
        "\n",
        "Note that advanced indexing returns copies of the data rather than views."
      ],
      "metadata": {
        "id": "dJZS2dg1f--Z"
      },
      "id": "dJZS2dg1f--Z"
    },
    {
      "cell_type": "code",
      "source": [
        "# Arrays can be indexed by other arrays of integers\n",
        "z0 = np.arange(10)\n",
        "indexes = np.array([9,3,1,4])\n",
        "z0[indexes]"
      ],
      "metadata": {
        "colab": {
          "base_uri": "https://localhost:8080/"
        },
        "id": "Y-vHXE1uVhrn",
        "outputId": "b3aadf1f-0c80-4235-aef3-4022096f1f81"
      },
      "id": "Y-vHXE1uVhrn",
      "execution_count": null,
      "outputs": [
        {
          "output_type": "execute_result",
          "data": {
            "text/plain": [
              "array([9, 3, 1, 4])"
            ]
          },
          "metadata": {},
          "execution_count": 94
        }
      ]
    },
    {
      "cell_type": "code",
      "source": [
        "# 2d arrays\n",
        "z1 = np.arange(100).reshape((10,10))\n",
        "indexes0 = np.array([9,3,1,4])\n",
        "indexes1 = np.array([1,2,3,4])\n",
        "z1[indexes0,indexes1]"
      ],
      "metadata": {
        "colab": {
          "base_uri": "https://localhost:8080/"
        },
        "id": "DoQKbA-FcRuC",
        "outputId": "9308df54-4532-428b-ece0-d85cb061a77d"
      },
      "id": "DoQKbA-FcRuC",
      "execution_count": null,
      "outputs": [
        {
          "output_type": "execute_result",
          "data": {
            "text/plain": [
              "array([91, 32, 13, 44])"
            ]
          },
          "metadata": {},
          "execution_count": 102
        }
      ]
    },
    {
      "cell_type": "code",
      "source": [
        "# It's also common to use boolean indexing\n",
        "indexes = np.array([True, False, True, False, True, False, True, False, True, False])\n",
        "z0[indexes]"
      ],
      "metadata": {
        "colab": {
          "base_uri": "https://localhost:8080/"
        },
        "id": "n32ZzH6Ufke_",
        "outputId": "ca640639-448a-499c-ce0c-a7a2539f4a6b"
      },
      "id": "n32ZzH6Ufke_",
      "execution_count": null,
      "outputs": [
        {
          "output_type": "execute_result",
          "data": {
            "text/plain": [
              "array([0, 2, 4, 6, 8])"
            ]
          },
          "metadata": {},
          "execution_count": 104
        }
      ]
    },
    {
      "cell_type": "code",
      "source": [
        "# Boolean indexing is often used with comparison operators\n",
        "indexes = z0 > 4\n",
        "indexes"
      ],
      "metadata": {
        "colab": {
          "base_uri": "https://localhost:8080/"
        },
        "id": "d03iO6_lkq27",
        "outputId": "253c48b8-e6c7-4d80-848a-af665b99d887"
      },
      "id": "d03iO6_lkq27",
      "execution_count": null,
      "outputs": [
        {
          "output_type": "execute_result",
          "data": {
            "text/plain": [
              "array([False, False, False, False, False,  True,  True,  True,  True,\n",
              "        True])"
            ]
          },
          "metadata": {},
          "execution_count": 105
        }
      ]
    },
    {
      "cell_type": "code",
      "source": [
        "# Doing this for a higher dimensional array will return a flattened array\n",
        "indexes = z1 > 10\n",
        "z1[indexes]"
      ],
      "metadata": {
        "colab": {
          "base_uri": "https://localhost:8080/"
        },
        "id": "ZCBMF7QylDGV",
        "outputId": "1225c89c-9fbd-48ee-a45c-c697d6885536"
      },
      "id": "ZCBMF7QylDGV",
      "execution_count": null,
      "outputs": [
        {
          "output_type": "execute_result",
          "data": {
            "text/plain": [
              "array([11, 12, 13, 14, 15, 16, 17, 18, 19, 20, 21, 22, 23, 24, 25, 26, 27,\n",
              "       28, 29, 30, 31, 32, 33, 34, 35, 36, 37, 38, 39, 40, 41, 42, 43, 44,\n",
              "       45, 46, 47, 48, 49, 50, 51, 52, 53, 54, 55, 56, 57, 58, 59, 60, 61,\n",
              "       62, 63, 64, 65, 66, 67, 68, 69, 70, 71, 72, 73, 74, 75, 76, 77, 78,\n",
              "       79, 80, 81, 82, 83, 84, 85, 86, 87, 88, 89, 90, 91, 92, 93, 94, 95,\n",
              "       96, 97, 98, 99])"
            ]
          },
          "metadata": {},
          "execution_count": 109
        }
      ]
    },
    {
      "cell_type": "code",
      "source": [
        "# You can also assign to a set of incices\n",
        "z3 = np.arange(10)\n",
        "z3[[0,5,9]] = 0\n",
        "z3"
      ],
      "metadata": {
        "colab": {
          "base_uri": "https://localhost:8080/"
        },
        "id": "zqy2G5hx6Eoe",
        "outputId": "85cdec1a-ee5a-40be-9014-2eaafd568052"
      },
      "id": "zqy2G5hx6Eoe",
      "execution_count": null,
      "outputs": [
        {
          "output_type": "execute_result",
          "data": {
            "text/plain": [
              "array([0, 1, 2, 3, 4, 0, 6, 7, 8, 0])"
            ]
          },
          "metadata": {},
          "execution_count": 112
        }
      ]
    },
    {
      "cell_type": "markdown",
      "source": [
        "## Splitting, Merging, and Building Arrays"
      ],
      "metadata": {
        "id": "LshbitfV6U2F"
      },
      "id": "LshbitfV6U2F"
    },
    {
      "cell_type": "code",
      "source": [
        "# Arrays can be concatenated(combined on an existing axis)\n",
        "a = np.array([1,2,3])\n",
        "b = np.array([4,5,6])\n",
        "np.concatenate((a,b))"
      ],
      "metadata": {
        "colab": {
          "base_uri": "https://localhost:8080/"
        },
        "id": "jyEWwBsllEx8",
        "outputId": "1d315bda-0ec3-4dc0-c4b3-a1d85298c146"
      },
      "id": "jyEWwBsllEx8",
      "execution_count": null,
      "outputs": [
        {
          "output_type": "execute_result",
          "data": {
            "text/plain": [
              "array([1, 2, 3, 4, 5, 6])"
            ]
          },
          "metadata": {},
          "execution_count": 113
        }
      ]
    },
    {
      "cell_type": "code",
      "source": [
        "# Higher dimensional arrays can be concatenated too. By default this is along the first axis\n",
        "# so if you have an n x k and a j x k, you'd get a (n+j)xk output\n",
        "a = np.array([[1,2,3],[4,5,6]])\n",
        "b = np.array([[7,8,9],[10,11,12]])\n",
        "np.concatenate((a,b))"
      ],
      "metadata": {
        "colab": {
          "base_uri": "https://localhost:8080/"
        },
        "id": "7VgG5Gge6_az",
        "outputId": "e764e712-79b3-47dc-dc74-19534f225261"
      },
      "id": "7VgG5Gge6_az",
      "execution_count": null,
      "outputs": [
        {
          "output_type": "execute_result",
          "data": {
            "text/plain": [
              "array([[ 1,  2,  3],\n",
              "       [ 4,  5,  6],\n",
              "       [ 7,  8,  9],\n",
              "       [10, 11, 12]])"
            ]
          },
          "metadata": {},
          "execution_count": 115
        }
      ]
    },
    {
      "cell_type": "code",
      "source": [
        "# This, in turn, will concatenate along the columns dimension, so if you have an nxk and a nxj array, you get\n",
        "# an nx(k+j) output\n",
        "np.concatenate((a,b), axis=1)"
      ],
      "metadata": {
        "colab": {
          "base_uri": "https://localhost:8080/"
        },
        "id": "IWv9gufC7E9L",
        "outputId": "3481ee41-1c7c-4600-b61d-7871bf413a64"
      },
      "id": "IWv9gufC7E9L",
      "execution_count": null,
      "outputs": [
        {
          "output_type": "execute_result",
          "data": {
            "text/plain": [
              "array([[ 1,  2,  3,  7,  8,  9],\n",
              "       [ 4,  5,  6, 10, 11, 12]])"
            ]
          },
          "metadata": {},
          "execution_count": 117
        }
      ]
    },
    {
      "cell_type": "code",
      "source": [
        "# You can also join arrays along a new axis using stack\n",
        "a = np.array([1,2,3])\n",
        "b = np.array([4,5,6])\n",
        "c = np.array([7,8,9])\n",
        "d = np.stack((a,b,c))\n",
        "d"
      ],
      "metadata": {
        "colab": {
          "base_uri": "https://localhost:8080/"
        },
        "id": "G7dzRJ437dtQ",
        "outputId": "222fed6b-e7be-40ea-95f9-c0e39e9233c8"
      },
      "id": "G7dzRJ437dtQ",
      "execution_count": null,
      "outputs": [
        {
          "output_type": "execute_result",
          "data": {
            "text/plain": [
              "array([[1, 2, 3],\n",
              "       [4, 5, 6],\n",
              "       [7, 8, 9]])"
            ]
          },
          "metadata": {},
          "execution_count": 122
        }
      ]
    },
    {
      "cell_type": "code",
      "source": [
        "# Stacking can also be done for different axes\n",
        "a = np.array([\n",
        "    [1,2,3],\n",
        "    [4,5,6]\n",
        "])\n",
        "b = np.array([\n",
        "    [7,8,9],\n",
        "    [10,11,12]\n",
        "])\n",
        "c = np.stack((a,b), axis=2)\n",
        "c"
      ],
      "metadata": {
        "colab": {
          "base_uri": "https://localhost:8080/"
        },
        "id": "rX5FPjtJ8MHs",
        "outputId": "929b87e0-6de9-48f3-c263-f527de9f01c3"
      },
      "id": "rX5FPjtJ8MHs",
      "execution_count": null,
      "outputs": [
        {
          "output_type": "execute_result",
          "data": {
            "text/plain": [
              "array([[[ 1,  7],\n",
              "        [ 2,  8],\n",
              "        [ 3,  9]],\n",
              "\n",
              "       [[ 4, 10],\n",
              "        [ 5, 11],\n",
              "        [ 6, 12]]])"
            ]
          },
          "metadata": {},
          "execution_count": 131
        }
      ]
    },
    {
      "cell_type": "code",
      "source": [
        "c.shape"
      ],
      "metadata": {
        "colab": {
          "base_uri": "https://localhost:8080/"
        },
        "id": "gAOeOR-z8P-e",
        "outputId": "de51be42-c5d5-4c7c-a81b-da68aa3b793d"
      },
      "id": "gAOeOR-z8P-e",
      "execution_count": null,
      "outputs": [
        {
          "output_type": "execute_result",
          "data": {
            "text/plain": [
              "(2, 3, 2)"
            ]
          },
          "metadata": {},
          "execution_count": 130
        }
      ]
    },
    {
      "cell_type": "code",
      "source": [
        "# hsplit operates on 2d arrays, splitting them into a given number of equally sized sub-arrays\n",
        "a = np.array([[1, 2, 3],\n",
        "              [4, 5, 6]])\n",
        "\n",
        "np.hsplit(a, 3)"
      ],
      "metadata": {
        "colab": {
          "base_uri": "https://localhost:8080/"
        },
        "id": "THLCAHSf80iq",
        "outputId": "cbfe0eb8-e535-4f33-847c-18b887727aaf"
      },
      "id": "THLCAHSf80iq",
      "execution_count": 5,
      "outputs": [
        {
          "output_type": "execute_result",
          "data": {
            "text/plain": [
              "[array([[1],\n",
              "        [4]]),\n",
              " array([[2],\n",
              "        [5]]),\n",
              " array([[3],\n",
              "        [6]])]"
            ]
          },
          "metadata": {},
          "execution_count": 5
        }
      ]
    },
    {
      "cell_type": "code",
      "source": [
        "# Vsplit is similar, but splits along rows instead of columns.\n",
        "np.vsplit(a, 2)"
      ],
      "metadata": {
        "id": "V6w8fk109ujc",
        "outputId": "a0b9520d-b732-4f05-ee00-e16316da1be7",
        "colab": {
          "base_uri": "https://localhost:8080/"
        }
      },
      "id": "V6w8fk109ujc",
      "execution_count": 6,
      "outputs": [
        {
          "output_type": "execute_result",
          "data": {
            "text/plain": [
              "[array([[1, 2, 3]]), array([[4, 5, 6]])]"
            ]
          },
          "metadata": {},
          "execution_count": 6
        }
      ]
    },
    {
      "cell_type": "markdown",
      "source": [
        "## Operations on arrays\n",
        "So far we've seen how to build, index, and manipulate arrays, but no we need to do something useful with them. Many array operations can be performed element-wise."
      ],
      "metadata": {
        "id": "bUdkKLC6Dz__"
      },
      "id": "bUdkKLC6Dz__"
    },
    {
      "cell_type": "code",
      "source": [],
      "metadata": {
        "id": "n9jyCrM8-hGh"
      },
      "id": "n9jyCrM8-hGh",
      "execution_count": null,
      "outputs": []
    }
  ],
  "metadata": {
    "kernelspec": {
      "display_name": "Python 3",
      "language": "python",
      "name": "python3"
    },
    "language_info": {
      "name": "python",
      "version": "3.12.11"
    },
    "colab": {
      "provenance": [],
      "include_colab_link": true
    }
  },
  "nbformat": 4,
  "nbformat_minor": 5
}