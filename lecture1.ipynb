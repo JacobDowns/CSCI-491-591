{
  "cells": [
    {
      "cell_type": "markdown",
      "id": "f5306f27",
      "metadata": {
        "id": "f5306f27"
      },
      "source": [
        "# NDArrays"
      ]
    },
    {
      "cell_type": "markdown",
      "id": "1eb7b45c",
      "metadata": {
        "id": "1eb7b45c"
      },
      "source": []
    },
    {
      "cell_type": "markdown",
      "id": "7e25090d",
      "metadata": {
        "id": "7e25090d"
      },
      "source": [
        "*   Numpy defines an n-dimensional array where every element in the array has the same data type\n",
        "*  Examples: float32, float64, int32, int64, etc.\n",
        "* It is common to use high-dimensional arrays in Numpy\n",
        "* There are many typical ways to allocate new arrays in Numpy\n",
        "\n"
      ]
    },
    {
      "cell_type": "markdown",
      "source": [
        "## Defining Arrays"
      ],
      "metadata": {
        "id": "T_19ElzXA7ct"
      },
      "id": "T_19ElzXA7ct"
    },
    {
      "cell_type": "code",
      "execution_count": 1,
      "id": "2edcc35b",
      "metadata": {
        "id": "2edcc35b"
      },
      "outputs": [],
      "source": [
        "import numpy as np"
      ]
    },
    {
      "cell_type": "code",
      "source": [
        "# 1d array\n",
        "x1 = np.array([1,2,3,4,5])\n",
        "x1"
      ],
      "metadata": {
        "id": "QyVcqN469FP4",
        "outputId": "7ad53d8b-ca49-4b4f-a381-67dddcf6d7ee",
        "colab": {
          "base_uri": "https://localhost:8080/"
        }
      },
      "id": "QyVcqN469FP4",
      "execution_count": 3,
      "outputs": [
        {
          "output_type": "execute_result",
          "data": {
            "text/plain": [
              "array([1, 2, 3, 4, 5])"
            ]
          },
          "metadata": {},
          "execution_count": 3
        }
      ]
    },
    {
      "cell_type": "code",
      "source": [
        "# 2d array (array of 1d arrays)\n",
        "x2 = np.array([[1,2,3],[4,5,6]])\n",
        "x2"
      ],
      "metadata": {
        "id": "QKQvUlT_9b3k",
        "outputId": "38479526-60c4-4a97-8635-9c8ace420efd",
        "colab": {
          "base_uri": "https://localhost:8080/"
        }
      },
      "id": "QKQvUlT_9b3k",
      "execution_count": 6,
      "outputs": [
        {
          "output_type": "execute_result",
          "data": {
            "text/plain": [
              "array([[1, 2, 3],\n",
              "       [4, 5, 6]])"
            ]
          },
          "metadata": {},
          "execution_count": 6
        }
      ]
    },
    {
      "cell_type": "code",
      "source": [
        "# 3d array  (Array of 2d arrays)\n",
        "x3 = np.array([[[1,2,3],[4,5,6]],[[7,8,9],[10,11,12]]])\n",
        "x3"
      ],
      "metadata": {
        "id": "1KRl4Oas9j-v",
        "outputId": "c5873616-534a-48c7-ad6d-c6f0c07bfa91",
        "colab": {
          "base_uri": "https://localhost:8080/"
        }
      },
      "id": "1KRl4Oas9j-v",
      "execution_count": 7,
      "outputs": [
        {
          "output_type": "execute_result",
          "data": {
            "text/plain": [
              "array([[[ 1,  2,  3],\n",
              "        [ 4,  5,  6]],\n",
              "\n",
              "       [[ 7,  8,  9],\n",
              "        [10, 11, 12]]])"
            ]
          },
          "metadata": {},
          "execution_count": 7
        }
      ]
    },
    {
      "cell_type": "markdown",
      "source": [
        "There are short-hand ways of defining many common arrays"
      ],
      "metadata": {
        "id": "dzwZgTLJ-SUX"
      },
      "id": "dzwZgTLJ-SUX"
    },
    {
      "cell_type": "code",
      "source": [
        "# 1d array of zeros\n",
        "x4 = np.zeros(3)\n",
        "x4"
      ],
      "metadata": {
        "id": "q15ia5Sx9m_T",
        "outputId": "d81952ce-b334-4670-d90a-e4d7cd72a555",
        "colab": {
          "base_uri": "https://localhost:8080/"
        }
      },
      "id": "q15ia5Sx9m_T",
      "execution_count": 14,
      "outputs": [
        {
          "output_type": "execute_result",
          "data": {
            "text/plain": [
              "array([0., 0., 0.])"
            ]
          },
          "metadata": {},
          "execution_count": 14
        }
      ]
    },
    {
      "cell_type": "code",
      "source": [
        "# 2d array of zeros\n",
        "x5 = np.zeros((3,3))\n",
        "x5"
      ],
      "metadata": {
        "id": "D9257WAj-Bnd",
        "outputId": "d8dcb238-dae0-4b2f-dde1-ed263a62667d",
        "colab": {
          "base_uri": "https://localhost:8080/"
        }
      },
      "id": "D9257WAj-Bnd",
      "execution_count": 15,
      "outputs": [
        {
          "output_type": "execute_result",
          "data": {
            "text/plain": [
              "array([[0., 0., 0.],\n",
              "       [0., 0., 0.],\n",
              "       [0., 0., 0.]])"
            ]
          },
          "metadata": {},
          "execution_count": 15
        }
      ]
    },
    {
      "cell_type": "code",
      "source": [
        "# 3d Array of zeros\n",
        "x6 = np.zeros((3,3,3))\n",
        "x6"
      ],
      "metadata": {
        "id": "JXKH8Awg-JG9",
        "outputId": "d199ce17-0757-429f-f529-340551b3df1d",
        "colab": {
          "base_uri": "https://localhost:8080/"
        }
      },
      "id": "JXKH8Awg-JG9",
      "execution_count": 16,
      "outputs": [
        {
          "output_type": "execute_result",
          "data": {
            "text/plain": [
              "array([[[0., 0., 0.],\n",
              "        [0., 0., 0.],\n",
              "        [0., 0., 0.]],\n",
              "\n",
              "       [[0., 0., 0.],\n",
              "        [0., 0., 0.],\n",
              "        [0., 0., 0.]],\n",
              "\n",
              "       [[0., 0., 0.],\n",
              "        [0., 0., 0.],\n",
              "        [0., 0., 0.]]])"
            ]
          },
          "metadata": {},
          "execution_count": 16
        }
      ]
    },
    {
      "cell_type": "code",
      "source": [
        "# An array of ones\n",
        "x7 = np.ones(3)\n",
        "x7"
      ],
      "metadata": {
        "id": "eeslROWx-fZM",
        "outputId": "71a96b4c-3fcc-447f-8bc7-26a792cc9c3a",
        "colab": {
          "base_uri": "https://localhost:8080/"
        }
      },
      "id": "eeslROWx-fZM",
      "execution_count": 17,
      "outputs": [
        {
          "output_type": "execute_result",
          "data": {
            "text/plain": [
              "array([1., 1., 1.])"
            ]
          },
          "metadata": {},
          "execution_count": 17
        }
      ]
    },
    {
      "cell_type": "code",
      "source": [
        "# Numpy will use a default type (often float64)\n",
        "x7.dtype"
      ],
      "metadata": {
        "id": "ocrYB6uM-ymW",
        "outputId": "80d502d8-fd02-4243-f7b5-7b1fca0d3431",
        "colab": {
          "base_uri": "https://localhost:8080/"
        }
      },
      "id": "ocrYB6uM-ymW",
      "execution_count": 20,
      "outputs": [
        {
          "output_type": "execute_result",
          "data": {
            "text/plain": [
              "dtype('float64')"
            ]
          },
          "metadata": {},
          "execution_count": 20
        }
      ]
    },
    {
      "cell_type": "code",
      "source": [
        "# However you can define a specific type as follows\n",
        "x8 = np.ones(3, dtype=np.int64)\n",
        "x8.dtype"
      ],
      "metadata": {
        "id": "ouLWTpJ4--K6",
        "outputId": "25306d4b-c03a-4295-fb9e-d587ba59cb8a",
        "colab": {
          "base_uri": "https://localhost:8080/"
        }
      },
      "id": "ouLWTpJ4--K6",
      "execution_count": 23,
      "outputs": [
        {
          "output_type": "execute_result",
          "data": {
            "text/plain": [
              "dtype('int64')"
            ]
          },
          "metadata": {},
          "execution_count": 23
        }
      ]
    },
    {
      "cell_type": "code",
      "source": [
        "# Or you can cast to a differnt type\n",
        "x9 = x8.astype(np.float32)\n",
        "x9"
      ],
      "metadata": {
        "id": "OJI1zT20_YA5",
        "outputId": "61241d28-e99b-4873-9dec-58a46966c209",
        "colab": {
          "base_uri": "https://localhost:8080/"
        }
      },
      "id": "OJI1zT20_YA5",
      "execution_count": 24,
      "outputs": [
        {
          "output_type": "execute_result",
          "data": {
            "text/plain": [
              "array([1., 1., 1.], dtype=float32)"
            ]
          },
          "metadata": {},
          "execution_count": 24
        }
      ]
    },
    {
      "cell_type": "code",
      "source": [
        "# Another common way to define an array is using arange, which just counts up from 0 by integers\n",
        "x10 = np.arange(10)\n",
        "x10"
      ],
      "metadata": {
        "id": "yHpbjnWt_Yrq",
        "outputId": "84b7cd02-7954-40cf-e009-659e3af96207",
        "colab": {
          "base_uri": "https://localhost:8080/"
        }
      },
      "id": "yHpbjnWt_Yrq",
      "execution_count": 28,
      "outputs": [
        {
          "output_type": "execute_result",
          "data": {
            "text/plain": [
              "array([0, 1, 2, 3, 4, 5, 6, 7, 8, 9])"
            ]
          },
          "metadata": {},
          "execution_count": 28
        }
      ]
    },
    {
      "cell_type": "code",
      "source": [
        "# It has int64 type by default\n",
        "x10.dtype"
      ],
      "metadata": {
        "id": "6A4gcoHO_st3",
        "outputId": "19124be1-b558-43db-d28d-073f92f9557a",
        "colab": {
          "base_uri": "https://localhost:8080/"
        }
      },
      "id": "6A4gcoHO_st3",
      "execution_count": 27,
      "outputs": [
        {
          "output_type": "execute_result",
          "data": {
            "text/plain": [
              "dtype('int64')"
            ]
          },
          "metadata": {},
          "execution_count": 27
        }
      ]
    },
    {
      "cell_type": "code",
      "source": [
        "# You can also define, the start, stop, and step explicitely. These don't have to be integers.\n",
        "x11 = np.arange(1,10,0.5)\n",
        "x11"
      ],
      "metadata": {
        "id": "FgMor0n_ACFk",
        "outputId": "0e371f8b-4576-42d4-9d3a-c2434f153f1c",
        "colab": {
          "base_uri": "https://localhost:8080/"
        }
      },
      "id": "FgMor0n_ACFk",
      "execution_count": 29,
      "outputs": [
        {
          "output_type": "execute_result",
          "data": {
            "text/plain": [
              "array([1. , 1.5, 2. , 2.5, 3. , 3.5, 4. , 4.5, 5. , 5.5, 6. , 6.5, 7. ,\n",
              "       7.5, 8. , 8.5, 9. , 9.5])"
            ]
          },
          "metadata": {},
          "execution_count": 29
        }
      ]
    },
    {
      "cell_type": "code",
      "source": [
        "# Another useful function is linspace, which bproduces evenly spaced numbers in an interval\n",
        "x12 = np.linspace(0.,1.,10)\n",
        "x12"
      ],
      "metadata": {
        "id": "8NYBAk7NAoIb",
        "outputId": "3b7b6107-72c0-42ba-b482-2191f5905064",
        "colab": {
          "base_uri": "https://localhost:8080/"
        }
      },
      "id": "8NYBAk7NAoIb",
      "execution_count": 31,
      "outputs": [
        {
          "output_type": "execute_result",
          "data": {
            "text/plain": [
              "array([0.        , 0.11111111, 0.22222222, 0.33333333, 0.44444444,\n",
              "       0.55555556, 0.66666667, 0.77777778, 0.88888889, 1.        ])"
            ]
          },
          "metadata": {},
          "execution_count": 31
        }
      ]
    },
    {
      "cell_type": "markdown",
      "source": [
        "## Reshaping and Manipulating Arrays"
      ],
      "metadata": {
        "id": "sF3rXBDyA_9n"
      },
      "id": "sF3rXBDyA_9n"
    },
    {
      "cell_type": "code",
      "source": [],
      "metadata": {
        "id": "uu4V6bKqBCfS"
      },
      "id": "uu4V6bKqBCfS",
      "execution_count": null,
      "outputs": []
    }
  ],
  "metadata": {
    "kernelspec": {
      "display_name": "Python 3",
      "language": "python",
      "name": "python3"
    },
    "language_info": {
      "name": "python",
      "version": "3.12.11"
    },
    "colab": {
      "provenance": []
    }
  },
  "nbformat": 4,
  "nbformat_minor": 5
}