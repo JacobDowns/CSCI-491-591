{
  "cells": [
    {
      "cell_type": "markdown",
      "metadata": {
        "id": "view-in-github",
        "colab_type": "text"
      },
      "source": [
        "<a href=\"https://colab.research.google.com/github/JacobDowns/CSCI-491-591/blob/main/lecture2.ipynb\" target=\"_parent\"><img src=\"https://colab.research.google.com/assets/colab-badge.svg\" alt=\"Open In Colab\"/></a>"
      ]
    },
    {
      "cell_type": "markdown",
      "source": [
        "# Numba\n",
        "\n",
        "\n"
      ],
      "metadata": {
        "id": "KduAYPrhluw0"
      },
      "id": "KduAYPrhluw0"
    },
    {
      "cell_type": "markdown",
      "source": [
        "* Numba translates Python functions to optimized machine code at runtime using LLVM compiler library\n",
        "* Numba-compiled numerical algorithms can approach the speeds of C or Fortran, despite being written in basic Python syntax\n",
        "* Numba is interoperable with NumPy, so NumPy arrays can be used in Numba\n",
        "* Many NumPy functions are also supported within Numba Functions\n",
        "* Numba's central features is the `@jit` decorator\n",
        "* This will mark a function for optimization by Numba's JIT compiler\n",
        "\n"
      ],
      "metadata": {
        "id": "7iAxIJdyUf8P"
      },
      "id": "7iAxIJdyUf8P"
    },
    {
      "cell_type": "markdown",
      "source": [
        "## Example\n",
        "\n",
        "Here's a naive implementation of bubble sort in Python."
      ],
      "metadata": {
        "id": "haztas4wI00y"
      },
      "id": "haztas4wI00y"
    },
    {
      "cell_type": "code",
      "source": [
        "from numba import jit, njit\n",
        "import numpy as np\n",
        "\n",
        "def bubblesort(X):\n",
        "    N = len(X)\n",
        "    for end in range(N, 1, -1):\n",
        "        for i in range(end - 1):\n",
        "            cur = X[i]\n",
        "            if cur > X[i + 1]:\n",
        "                tmp = X[i]\n",
        "                X[i] = X[i + 1]\n",
        "                X[i + 1] = tmp"
      ],
      "metadata": {
        "id": "wLTI7mMVIBtG"
      },
      "id": "wLTI7mMVIBtG",
      "execution_count": null,
      "outputs": []
    },
    {
      "cell_type": "markdown",
      "source": [
        "Let's do  some tests to get a sense of its performance. In a Jupyter notebook `%timeit` will time a single line. It will exectue the line multitple times. The precise number of times is determined automatically. It will report the mean and standard deviation in timing of each execution.  "
      ],
      "metadata": {
        "id": "udETV8KwzgZl"
      },
      "id": "udETV8KwzgZl"
    },
    {
      "cell_type": "code",
      "source": [
        "N = 5000\n",
        "x = np.linspace(0., 1., N)\n",
        "shuffled = x.copy()\n",
        "np.random.shuffle(shuffled)\n",
        "sorted = shuffled.copy()"
      ],
      "metadata": {
        "id": "SSoTYD1VI9L4"
      },
      "id": "SSoTYD1VI9L4",
      "execution_count": null,
      "outputs": []
    },
    {
      "cell_type": "code",
      "source": [
        "# Shuffle and resort the array several times\n",
        "%timeit sorted[:] = shuffled[:]; bubblesort(sorted)"
      ],
      "metadata": {
        "colab": {
          "base_uri": "https://localhost:8080/"
        },
        "id": "nHcbT5ytJgTn",
        "outputId": "82ce7d20-ad87-40b0-8022-d6fc52c6f0ee"
      },
      "id": "nHcbT5ytJgTn",
      "execution_count": null,
      "outputs": [
        {
          "output_type": "stream",
          "name": "stdout",
          "text": [
            "6.81 s ± 454 ms per loop (mean ± std. dev. of 7 runs, 1 loop each)\n"
          ]
        }
      ]
    },
    {
      "cell_type": "markdown",
      "source": [
        "Well, it's pretty slow unfortunately. Here is the same implementation in Numba. Here data types are inferred by Numba and a function with the appropriate type signatures is compiled."
      ],
      "metadata": {
        "id": "YqfvtVxwMC2J"
      },
      "id": "YqfvtVxwMC2J"
    },
    {
      "cell_type": "code",
      "source": [
        "from numba import jit, njit\n",
        "\n",
        "@jit\n",
        "def bubblesort_numba(X):\n",
        "    N = len(X)\n",
        "    for end in range(N, 1, -1):\n",
        "        for i in range(end - 1):\n",
        "            cur = X[i]\n",
        "            if cur > X[i + 1]:\n",
        "                tmp = X[i]\n",
        "                X[i] = X[i + 1]\n",
        "                X[i + 1] = tmp"
      ],
      "metadata": {
        "id": "un-5pZUTKZ34"
      },
      "id": "un-5pZUTKZ34",
      "execution_count": null,
      "outputs": []
    },
    {
      "cell_type": "code",
      "source": [
        "%timeit sorted[:] = shuffled[:]; bubblesort_numba(sorted)"
      ],
      "metadata": {
        "colab": {
          "base_uri": "https://localhost:8080/"
        },
        "id": "RcQaK0vxL8vg",
        "outputId": "4d35f5a5-0c6a-4f4e-b30a-b9d5861428a8"
      },
      "id": "RcQaK0vxL8vg",
      "execution_count": null,
      "outputs": [
        {
          "output_type": "stream",
          "name": "stdout",
          "text": [
            "21.4 ms ± 1.9 ms per loop (mean ± std. dev. of 7 runs, 1 loop each)\n"
          ]
        }
      ]
    },
    {
      "cell_type": "markdown",
      "source": [
        "This is considerably faster with no change to the actual code. Just a decorator."
      ],
      "metadata": {
        "id": "ehPgLbP-WMCb"
      },
      "id": "ehPgLbP-WMCb"
    },
    {
      "cell_type": "markdown",
      "source": [
        "## Data Types"
      ],
      "metadata": {
        "id": "vlhHckTaWVju"
      },
      "id": "vlhHckTaWVju"
    },
    {
      "cell_type": "markdown",
      "source": [
        "By default, Numba will attempt to infer data types for every operation. If you do not want data types to be inferred by Numba you can specify types explicitly."
      ],
      "metadata": {
        "id": "O8ex-_y8OUOF"
      },
      "id": "O8ex-_y8OUOF"
    },
    {
      "cell_type": "code",
      "source": [
        "from numba import int32\n",
        "\n",
        "@jit(int32(int32, int32))\n",
        "def f(x, y):\n",
        "    # A somewhat trivial example\n",
        "    return x + y"
      ],
      "metadata": {
        "id": "X--rDqBnNsmE"
      },
      "id": "X--rDqBnNsmE",
      "execution_count": null,
      "outputs": []
    },
    {
      "cell_type": "code",
      "source": [
        "a = 1\n",
        "b = 2\n",
        "f(a,b)"
      ],
      "metadata": {
        "colab": {
          "base_uri": "https://localhost:8080/"
        },
        "id": "_q_DnOuxOj7c",
        "outputId": "f7a035fc-c9ef-409d-ca2a-18f533549aa6"
      },
      "id": "_q_DnOuxOj7c",
      "execution_count": null,
      "outputs": [
        {
          "output_type": "execute_result",
          "data": {
            "text/plain": [
              "3"
            ]
          },
          "metadata": {},
          "execution_count": 6
        }
      ]
    },
    {
      "cell_type": "markdown",
      "source": [
        "From the Numba docs, Numba supports a number of types including these common ones:\n",
        "* `void` is the return type of functions returning nothing (which actually return None when called from Python)\n",
        "\n",
        "* `int8`, `uint8`, `int16`, `uint16`, `int32`, `uint32`, `int64`, `uint64` are fixed-width integers of the corresponding bit width (signed and unsigned)\n",
        "\n",
        "* `float32` and `float64` are single- and double-precision floating-point numbers, respectively\n",
        "\n",
        "* `complex64` and `complex128` are single- and double-precision complex numbers, respectively\n",
        "\n",
        "* array types can be specified by indexing any numeric type, e.g. `float32[:]` for a one-dimensional single-precision array or `int8[:,:]` for a two-dimensional array of 8-bit integers.\n",
        "\n"
      ],
      "metadata": {
        "id": "L4WawvKSPPka"
      },
      "id": "L4WawvKSPPka"
    },
    {
      "cell_type": "markdown",
      "source": [
        "## Composing Functions"
      ],
      "metadata": {
        "id": "CyBw0FAsXwzG"
      },
      "id": "CyBw0FAsXwzG"
    },
    {
      "cell_type": "markdown",
      "source": [
        "Numba-compiled functions can call other compiled functions as well as many NumPy functions."
      ],
      "metadata": {
        "id": "1gDnSsBvO1Cc"
      },
      "id": "1gDnSsBvO1Cc"
    },
    {
      "cell_type": "code",
      "source": [
        "import math\n",
        "\n",
        "@jit\n",
        "def square(x):\n",
        "    return x ** 2\n",
        "\n",
        "@jit\n",
        "def hypot(x, y):\n",
        "    return math.sqrt(square(x) + square(y))\n",
        "\n",
        "@jit\n",
        "def distance(x, y):\n",
        "    return np.sqrt(np.sum((x - y) ** 2))"
      ],
      "metadata": {
        "id": "XhE8Fz9qOp_b"
      },
      "id": "XhE8Fz9qOp_b",
      "execution_count": null,
      "outputs": []
    },
    {
      "cell_type": "code",
      "source": [
        "(hypot(3, 4), square(10)), distance(np.array([1, 2]), np.array([3, 4]))"
      ],
      "metadata": {
        "colab": {
          "base_uri": "https://localhost:8080/"
        },
        "id": "Qztxd0bzPDO8",
        "outputId": "4491e414-98d6-4171-bf26-4f920efd6d1b"
      },
      "id": "Qztxd0bzPDO8",
      "execution_count": null,
      "outputs": [
        {
          "output_type": "execute_result",
          "data": {
            "text/plain": [
              "((5.0, 100), 2.8284271247461903)"
            ]
          },
          "metadata": {},
          "execution_count": 40
        }
      ]
    },
    {
      "cell_type": "markdown",
      "source": [
        "## Compilation Options\n",
        "* Numba has two compilation modes, nopython mode and object mode\n",
        "* In nopython mode, the Numba will generate code that does not access the Python C API\n",
        "* This yields the highest performance, but requires all native types of values can be inferred\n",
        "* In object mode, the Numba compiler generates code that handles all values as Python objects and uses the C API to perform operations on those objercts\n",
        "* This is typically not much faster than standard Python"
      ],
      "metadata": {
        "id": "eAQBNkKgPtQ2"
      },
      "id": "eAQBNkKgPtQ2"
    },
    {
      "cell_type": "code",
      "source": [
        "import numpy as np\n",
        "from numba import jit, float32, void\n",
        "\n",
        "@jit(void(float32[:]), nopython=True)\n",
        "def bubblesort(X):\n",
        "    N = len(X)\n",
        "    for end in range(N, 1, -1):\n",
        "        for i in range(end - 1):\n",
        "            if X[i] > X[i + 1]:\n",
        "                tmp = X[i]\n",
        "                X[i] = X[i + 1]\n",
        "                X[i + 1] = tmp"
      ],
      "metadata": {
        "id": "eYLpCEYlPGvY"
      },
      "id": "eYLpCEYlPGvY",
      "execution_count": null,
      "outputs": []
    },
    {
      "cell_type": "markdown",
      "source": [
        "There is also a shortand decorator for nopython mode `@njit`."
      ],
      "metadata": {
        "id": "v3lLoXSw1V96"
      },
      "id": "v3lLoXSw1V96"
    },
    {
      "cell_type": "code",
      "source": [
        "@njit\n",
        "def add(x, y):\n",
        "    return x + y"
      ],
      "metadata": {
        "id": "-HW7Yyv8hdvu"
      },
      "id": "-HW7Yyv8hdvu",
      "execution_count": null,
      "outputs": []
    },
    {
      "cell_type": "markdown",
      "source": [
        "Certain things don't work in nopython mode such as most things that aren't using primitive data types."
      ],
      "metadata": {
        "id": "YdoF91EcAGRl"
      },
      "id": "YdoF91EcAGRl"
    },
    {
      "cell_type": "code",
      "source": [
        "from numba import njit\n",
        "from decimal import Decimal\n",
        "\n",
        "def bubblesort(X):\n",
        "    N = len(X)\n",
        "    # This is an issue\n",
        "    val = Decimal(100)\n",
        "    for end in range(N, 1, -1):\n",
        "        for i in range(end - 1):\n",
        "            cur = X[i]\n",
        "            if cur > X[i + 1]:\n",
        "                tmp = X[i]\n",
        "                X[i] = X[i + 1]\n",
        "                X[i + 1] = tmp"
      ],
      "metadata": {
        "id": "diJy6sAnAYIo"
      },
      "id": "diJy6sAnAYIo",
      "execution_count": null,
      "outputs": []
    },
    {
      "cell_type": "markdown",
      "source": [
        "## NumPy Universal Functions\n",
        "\n",
        "* Numba's @vectorize decorator converts scalard functions to NumPy ufuncs\n",
        "* A ufunc or universal function operates on ndarrays in an element-wise fashion\n",
        "* They support broadcasting, type casting, and other standard Numpy features"
      ],
      "metadata": {
        "id": "0M4Cu6sTiMhP"
      },
      "id": "0M4Cu6sTiMhP"
    },
    {
      "cell_type": "code",
      "source": [
        "import numpy as np\n",
        "from numba import vectorize, int64\n",
        "@vectorize([int64(int64, int64)])\n",
        "def vec_add(x, y):\n",
        "    return x + y\n",
        "\n",
        "a = np.arange(6, dtype=np.int64)\n",
        "b = np.linspace(0, 10, 6, dtype=np.int64)\n",
        "print(vec_add(a, a))\n",
        "print(vec_add(b, b))"
      ],
      "metadata": {
        "colab": {
          "base_uri": "https://localhost:8080/"
        },
        "id": "GOg5j1LvhhYP",
        "outputId": "c808db70-0804-476e-f7a9-45f2e3d3bbd8"
      },
      "id": "GOg5j1LvhhYP",
      "execution_count": null,
      "outputs": [
        {
          "output_type": "stream",
          "name": "stdout",
          "text": [
            "[ 0  2  4  6  8 10]\n",
            "[ 0  4  8 12 16 20]\n"
          ]
        }
      ]
    },
    {
      "cell_type": "markdown",
      "source": [
        "## What Works in Numba?"
      ],
      "metadata": {
        "id": "qb09NvuV9IKz"
      },
      "id": "qb09NvuV9IKz"
    },
    {
      "cell_type": "markdown",
      "source": [
        "This works well!"
      ],
      "metadata": {
        "id": "C2ZMEUgr9TFu"
      },
      "id": "C2ZMEUgr9TFu"
    },
    {
      "cell_type": "code",
      "source": [
        "from numba import jit\n",
        "import numpy as np\n",
        "\n",
        "x = np.arange(100).reshape(10, 10)\n",
        "\n",
        "@jit\n",
        "def go_fast(a): # Function is compiled to machine code when called the first time\n",
        "    trace = 0.0\n",
        "    for i in range(a.shape[0]):   # Numba likes loops\n",
        "        trace += np.tanh(a[i, i]) # Numba likes NumPy functions\n",
        "    return a + trace              # Numba likes NumPy broadcasting\n",
        "\n",
        "print(go_fast(x))"
      ],
      "metadata": {
        "colab": {
          "base_uri": "https://localhost:8080/"
        },
        "id": "MHoV6Fxw6C1F",
        "outputId": "e5d94964-b231-475f-9795-afe39df8f56b"
      },
      "id": "MHoV6Fxw6C1F",
      "execution_count": null,
      "outputs": [
        {
          "output_type": "stream",
          "name": "stdout",
          "text": [
            "[[  9.  10.  11.  12.  13.  14.  15.  16.  17.  18.]\n",
            " [ 19.  20.  21.  22.  23.  24.  25.  26.  27.  28.]\n",
            " [ 29.  30.  31.  32.  33.  34.  35.  36.  37.  38.]\n",
            " [ 39.  40.  41.  42.  43.  44.  45.  46.  47.  48.]\n",
            " [ 49.  50.  51.  52.  53.  54.  55.  56.  57.  58.]\n",
            " [ 59.  60.  61.  62.  63.  64.  65.  66.  67.  68.]\n",
            " [ 69.  70.  71.  72.  73.  74.  75.  76.  77.  78.]\n",
            " [ 79.  80.  81.  82.  83.  84.  85.  86.  87.  88.]\n",
            " [ 89.  90.  91.  92.  93.  94.  95.  96.  97.  98.]\n",
            " [ 99. 100. 101. 102. 103. 104. 105. 106. 107. 108.]]\n"
          ]
        }
      ]
    },
    {
      "cell_type": "markdown",
      "source": [
        "This makes Numba sad because it doesn't understand more complex objects."
      ],
      "metadata": {
        "id": "cT_eIFDV9Vl1"
      },
      "id": "cT_eIFDV9Vl1"
    },
    {
      "cell_type": "markdown",
      "source": [
        "## A Mental Model for Numba\n",
        "It can be helpful to have a general conceptual overview of how Numba performs JIT compilation. Roughly speaking the process works like this:\n",
        "\n",
        "1. You decorate a function (e.g., @njit). Numba doesn't compile immediately (unless you supplied an explicit signature). Instead it creates a dispatcher object that waits for the first call.\n",
        "\n",
        "2. First call triggers specialization. The dispatcher looks at the argument types (e.g., int64, float64[:]) and either reuses an existing compiled version or builds a new specialization for that exact signature. Future calls with the same types reuse it.\n",
        "\n",
        "3. Compilation pipeline (per specialization):\n",
        "\n",
        "  * Typing (type inference): Numba walks your Python AST (Abstract Syntax Tree) / bytecode and assigns Numba types to every value and operation. This either succeeds (pure “nopython” path) or falls back to object mode (much slower, uses Python/C API), or errors if you asked for nopython=True.\n",
        "\n",
        "\n",
        "  * Lowering to IR and LLVM: The typed IR is lowered to LLVM IR via llvmlite; then LLVM optimizes and emits machine code.\n",
        "  numba.readthedocs.io\n",
        "\n",
        "  * Boxing/unboxing boundaries: Values are converted to/from Python objects only at the call boundary (entering/exiting compiled code). In strict nopython, these conversions are minimized/avoided; in object mode they're everywhere.\n",
        "\n",
        "\n",
        "4. Execution & caching:\n",
        "\n",
        "  * The compiled machine code is stored in-memory on the dispatcher keyed by signature.\n",
        "\n",
        "  * If you pass cache=True, Numba also keeps a disk cache (e.g., under __pycache__) so a new Python process can skip recompilation for the same function/signature/options. (Not every function is cacheable.)\n"
      ],
      "metadata": {
        "id": "KXKTP30O4MMd"
      },
      "id": "KXKTP30O4MMd"
    },
    {
      "cell_type": "code",
      "source": [
        "from numba import jit\n",
        "import pandas as pd\n",
        "\n",
        "x = {'a': [1, 2, 3], 'b': [20, 30, 40]}\n",
        "\n",
        "@jit(forceobj=True, looplift=True) # Need to use object mode, try and compile loops!\n",
        "def use_pandas(a): # Function will not benefit from Numba jit\n",
        "    df = pd.DataFrame.from_dict(a) # Numba doesn't know about pd.DataFrame\n",
        "    df += 1                        # Numba doesn't understand what this is\n",
        "    return df.cov()                # or this!\n",
        "\n",
        "print(use_pandas(x))"
      ],
      "metadata": {
        "colab": {
          "base_uri": "https://localhost:8080/"
        },
        "id": "SWFfyTKo9Qf2",
        "outputId": "b1ab27c1-91f0-436b-9913-bfab3dad416d"
      },
      "id": "SWFfyTKo9Qf2",
      "execution_count": null,
      "outputs": [
        {
          "output_type": "stream",
          "name": "stdout",
          "text": [
            "      a      b\n",
            "a   1.0   10.0\n",
            "b  10.0  100.0\n"
          ]
        }
      ]
    },
    {
      "cell_type": "markdown",
      "source": [
        "## Demo: Mandelbrot Set\n",
        "\n",
        "* Let's look at an example where Numba shines\n",
        "* The Mandelbrot set is defined as a two-dimensional set in the complex plane for which the function\n",
        "$$ f_c(z) = z^2 + c$$\n",
        "does not diverge to infinity when iterated starting at $z = 0$. Below we have a standard implementation in Python, where for every point on a grid, we perform the this iteration and test for divergence.\n"
      ],
      "metadata": {
        "id": "TBsf_ELP_tV4"
      },
      "id": "TBsf_ELP_tV4"
    },
    {
      "cell_type": "code",
      "source": [
        "import numpy as np\n",
        "\n",
        "def mandelbrot_py(xmin, xmax, ymin, ymax, width, height, maxiter):\n",
        "    result = np.zeros((height, width), dtype=np.int32)\n",
        "    for j in range(height):\n",
        "        y0 = ymin + j * (ymax - ymin) / height\n",
        "        for i in range(width):\n",
        "            x0 = xmin + i * (xmax - xmin) / width\n",
        "            x = 0.0\n",
        "            y = 0.0\n",
        "            it = 0\n",
        "            while x*x + y*y <= 4.0 and it < maxiter:\n",
        "                xt = x*x - y*y + x0\n",
        "                y = 2.0*x*y + y0\n",
        "                x = xt\n",
        "                it += 1\n",
        "            result[j, i] = it\n",
        "    return result"
      ],
      "metadata": {
        "id": "PnPyOSwQ9Ls6"
      },
      "id": "PnPyOSwQ9Ls6",
      "execution_count": null,
      "outputs": []
    },
    {
      "cell_type": "code",
      "source": [
        "import matplotlib.pyplot as plt\n",
        "C = mandelbrot_py(-2.0, 1.0, -1.5, 1.5, 5000, 5000, 100)\n",
        "plt.imshow(C)"
      ],
      "metadata": {
        "colab": {
          "base_uri": "https://localhost:8080/",
          "height": 452
        },
        "id": "HmtyFcX7DYOb",
        "outputId": "957bede1-4b16-4587-bdb7-759cfab4f464"
      },
      "id": "HmtyFcX7DYOb",
      "execution_count": null,
      "outputs": [
        {
          "output_type": "execute_result",
          "data": {
            "text/plain": [
              "<matplotlib.image.AxesImage at 0x7ae10e01f710>"
            ]
          },
          "metadata": {},
          "execution_count": 19
        },
        {
          "output_type": "display_data",
          "data": {
            "text/plain": [
              "<Figure size 640x480 with 1 Axes>"
            ],
            "image/png": "[encoded data removed]"
          },
          "metadata": {}
        }
      ]
    },
    {
      "cell_type": "markdown",
      "source": [
        "Next, lets look at an example implementation in Numba."
      ],
      "metadata": {
        "id": "sQrFxHEjEqpc"
      },
      "id": "sQrFxHEjEqpc"
    },
    {
      "cell_type": "code",
      "source": [
        "import numpy as np\n",
        "from numba import njit, prange\n",
        "\n",
        "@njit\n",
        "def mandelbrot_numba(xmin, xmax, ymin, ymax, width, height, maxiter):\n",
        "    result = np.empty((height, width), np.int32)\n",
        "    for j in prange(height):\n",
        "        y0 = ymin + j*(ymax-ymin)/height\n",
        "        for i in range(width):\n",
        "            x0 = xmin + i*(xmax-xmin)/width\n",
        "            x = 0.0\n",
        "            y = 0.0\n",
        "            it = 0\n",
        "            while x*x + y*y <= 4.0 and it < maxiter:\n",
        "                xt = x*x - y*y + x0\n",
        "                y  = 2.0*x*y + y0\n",
        "                x  = xt\n",
        "                it += 1\n",
        "            result[j, i] = it\n",
        "    return result"
      ],
      "metadata": {
        "id": "qD-DVEjzDopE"
      },
      "id": "qD-DVEjzDopE",
      "execution_count": null,
      "outputs": []
    },
    {
      "cell_type": "code",
      "source": [
        "import matplotlib.pyplot as plt\n",
        "C = mandelbrot_numba(-2.0, 1.0, -1.5, 1.5, 2500, 2500, 100)\n",
        "plt.imshow(C)"
      ],
      "metadata": {
        "colab": {
          "base_uri": "https://localhost:8080/",
          "height": 452
        },
        "id": "A9jcQ00PFT9f",
        "outputId": "3bcc5fdc-43a1-4e50-868d-42442ef4be7d"
      },
      "id": "A9jcQ00PFT9f",
      "execution_count": null,
      "outputs": [
        {
          "output_type": "execute_result",
          "data": {
            "text/plain": [
              "<matplotlib.image.AxesImage at 0x7ae107e7e3f0>"
            ]
          },
          "metadata": {},
          "execution_count": 30
        },
        {
          "output_type": "display_data",
          "data": {
            "text/plain": [
              "<Figure size 640x480 with 1 Axes>"
            ],
            "image/png": "[encoded data removed]"
          },
          "metadata": {}
        }
      ]
    },
    {
      "cell_type": "code",
      "source": [
        "import time, statistics as stats\n",
        "\n",
        "def bench(fn, *args, warmup=True, repeats=5):\n",
        "    if warmup:\n",
        "        fn(*args)  # JIT warmup, ignore timing\n",
        "    times = []\n",
        "    for _ in range(repeats):\n",
        "        t0 = time.perf_counter()\n",
        "        fn(*args)\n",
        "        times.append(time.perf_counter() - t0)\n",
        "    return {\n",
        "        \"median_s\": stats.median(times),\n",
        "        \"mean_s\": stats.mean(times),\n",
        "        \"min_s\": min(times),\n",
        "        \"runs\": repeats,\n",
        "        \"all_s\": times,\n",
        "    }\n",
        "\n",
        "# Problem size\n",
        "xmin, xmax = -2.0, 1.0\n",
        "ymin, ymax = -1.5, 1.5\n",
        "width, height = 1200, 1200\n",
        "maxiter = 500\n",
        "\n",
        "# Are the results the same?\n",
        "ref = mandelbrot_py(xmin, xmax, ymin, ymax, 300, 200, 200)\n",
        "test = mandelbrot_numba(xmin, xmax, ymin, ymax, 300, 200, 200)\n",
        "assert np.array_equal(ref, test), \"Mismatch between Python and Numba results!\"\n",
        "\n",
        "# Timings\n",
        "r_py    = bench(mandelbrot_py, xmin, xmax, ymin, ymax, width, height, maxiter, warmup=False)\n",
        "r_numba = bench(mandelbrot_numba, xmin, xmax, ymin, ymax, width, height, maxiter)\n",
        "\n",
        "print(f\"Pure Python median: {r_py['median_s']*1e3:.1f} ms\")\n",
        "print(f\"Numba (CPU,no-par) median: {r_numba['median_s']*1e3:.1f} ms\")\n",
        "print(f\"Speedup (Python / Numba): {r_py['median_s']/r_numba['median_s']:.2f}×\")"
      ],
      "metadata": {
        "colab": {
          "base_uri": "https://localhost:8080/"
        },
        "id": "ZFE3TQUnFlN6",
        "outputId": "bfa49b15-adb5-40b9-dc06-ce758f41d430"
      },
      "id": "ZFE3TQUnFlN6",
      "execution_count": null,
      "outputs": [
        {
          "output_type": "stream",
          "name": "stdout",
          "text": [
            "Pure Python median: 21697.4 ms\n",
            "Numba (CPU,no-par) median: 647.1 ms\n",
            "Speedup (Python / Numba): 33.53×\n"
          ]
        }
      ]
    }
  ],
  "metadata": {
    "kernelspec": {
      "display_name": "Python 3",
      "language": "python",
      "name": "python3"
    },
    "language_info": {
      "name": "python",
      "version": "3.12.11"
    },
    "colab": {
      "provenance": [],
      "include_colab_link": true
    }
  },
  "nbformat": 4,
  "nbformat_minor": 5
}