{
  "cells": [
    {
      "cell_type": "markdown",
      "metadata": {
        "id": "view-in-github",
        "colab_type": "text"
      },
      "source": [
        "<a href=\"https://colab.research.google.com/github/JacobDowns/CSCI-491-591/blob/main/lecture2.ipynb\" target=\"_parent\"><img src=\"https://colab.research.google.com/assets/colab-badge.svg\" alt=\"Open In Colab\"/></a>"
      ]
    },
    {
      "cell_type": "markdown",
      "source": [
        "# Example: Doing Something Interesting with Numpy\n",
        "\n",
        "\n"
      ],
      "metadata": {
        "id": "KduAYPrhluw0"
      },
      "id": "KduAYPrhluw0"
    },
    {
      "cell_type": "code",
      "source": [
        "import numpy as np\n",
        "import matplotlib.pyplot as plt"
      ],
      "metadata": {
        "id": "bVxaVmwSd4Cn"
      },
      "id": "bVxaVmwSd4Cn",
      "execution_count": 2,
      "outputs": []
    },
    {
      "cell_type": "code",
      "source": [
        "# Simulation constants, mostly taken from original code\n",
        "A_PIPE = 0.6  # virtual pipe cross section\n",
        "G = 9.81      # gravitational acceleration\n",
        "L_PIPE = 1    # virtual pipe length\n",
        "LX = 1        # horizontal distance between grid points\n",
        "LY = 1        # vertical distance between grid points"
      ],
      "metadata": {
        "id": "lXDgFU3zd5Gs"
      },
      "id": "lXDgFU3zd5Gs",
      "execution_count": 1,
      "outputs": []
    },
    {
      "cell_type": "code",
      "source": [
        "from scipy.ndimage import gaussian_filter\n",
        "\n",
        "\n",
        "def generate_terrain(n, steps=5):\n",
        "  z = np.zeros((n, n))\n",
        "  for i in range(steps):\n",
        "    z_i = np.random.randn(n, n)\n",
        "    z_i = gaussian_filter(sigma = float(n / i))\n",
        "    z += z_i\n",
        "\n",
        "  return z\n",
        "\n"
      ],
      "metadata": {
        "id": "PmglP0-nCyQL"
      },
      "id": "PmglP0-nCyQL",
      "execution_count": null,
      "outputs": []
    }
  ],
  "metadata": {
    "kernelspec": {
      "display_name": "Python 3",
      "language": "python",
      "name": "python3"
    },
    "language_info": {
      "name": "python",
      "version": "3.12.11"
    },
    "colab": {
      "provenance": [],
      "name": "lecture2.ipynb",
      "include_colab_link": true
    }
  },
  "nbformat": 4,
  "nbformat_minor": 5
}