{
  "cells": [
    {
      "cell_type": "markdown",
      "metadata": {
        "id": "view-in-github",
        "colab_type": "text"
      },
      "source": [
        "<a href=\"https://colab.research.google.com/github/JacobDowns/CSCI-491-591/blob/main/lecture2.ipynb\" target=\"_parent\"><img src=\"https://colab.research.google.com/assets/colab-badge.svg\" alt=\"Open In Colab\"/></a>"
      ]
    },
    {
      "cell_type": "markdown",
      "source": [
        "# NumPy\n",
        "\n",
        "\n",
        "*   NumPy is a useful package for accelerating numerical computations in Python\n",
        "*   Many complex loops, numerical algorithms, or mathematical operations can be translated to NumPy for efficiency\n",
        "* Implementing numerical operations in NumPy is vastly faster than using loops\n",
        "* Under the hood, NumPy is primarily written in C\n",
        "* Allocating an array, for example, allocates a chunk of memory that can be referenced in C, Fortran, and Python\n",
        "* Mathematical operations are implemented implemented in C or Fortran, taking advantage of optimized numerical libraries\n",
        "* Vectorized operations are converted to loops in a faster language!\n",
        "\n"
      ],
      "metadata": {
        "id": "KduAYPrhluw0"
      },
      "id": "KduAYPrhluw0"
    },
    {
      "cell_type": "markdown",
      "source": [
        "## NDArrays"
      ],
      "metadata": {
        "id": "7gfdPtHBnKmA"
      },
      "id": "7gfdPtHBnKmA"
    },
    {
      "cell_type": "markdown",
      "id": "7e25090d",
      "metadata": {
        "id": "7e25090d"
      },
      "source": [
        "*   Numpy defines an n-dimensional array where every element in the array has the same data type\n",
        "*  Examples: float32, float64, int32, int64, etc.\n",
        "* It is common to use high-dimensional arrays in Numpy\n",
        "* There are many typical ways to allocate new arrays in Numpy\n",
        "\n"
      ]
    },
    {
      "cell_type": "markdown",
      "source": [
        "## Defining Arrays"
      ],
      "metadata": {
        "id": "T_19ElzXA7ct"
      },
      "id": "T_19ElzXA7ct"
    },
    {
      "cell_type": "code",
      "execution_count": null,
      "id": "2edcc35b",
      "metadata": {
        "id": "2edcc35b"
      },
      "outputs": [],
      "source": [
        "import numpy as np"
      ]
    },
    {
      "cell_type": "code",
      "source": [
        "# 1d array\n",
        "x1 = np.array([1,2,3,4,5])\n",
        "x1"
      ],
      "metadata": {
        "colab": {
          "base_uri": "https://localhost:8080/"
        },
        "id": "QyVcqN469FP4",
        "outputId": "7ad53d8b-ca49-4b4f-a381-67dddcf6d7ee"
      },
      "id": "QyVcqN469FP4",
      "execution_count": null,
      "outputs": [
        {
          "output_type": "execute_result",
          "data": {
            "text/plain": [
              "array([1, 2, 3, 4, 5])"
            ]
          },
          "metadata": {},
          "execution_count": 3
        }
      ]
    },
    {
      "cell_type": "code",
      "source": [
        "# 2d array (array of 1d arrays)\n",
        "x2 = np.array([[1,2,3],[4,5,6]])\n",
        "x2"
      ],
      "metadata": {
        "colab": {
          "base_uri": "https://localhost:8080/"
        },
        "id": "QKQvUlT_9b3k",
        "outputId": "38479526-60c4-4a97-8635-9c8ace420efd"
      },
      "id": "QKQvUlT_9b3k",
      "execution_count": null,
      "outputs": [
        {
          "output_type": "execute_result",
          "data": {
            "text/plain": [
              "array([[1, 2, 3],\n",
              "       [4, 5, 6]])"
            ]
          },
          "metadata": {},
          "execution_count": 6
        }
      ]
    },
    {
      "cell_type": "code",
      "source": [
        "# 3d array  (Array of 2d arrays)\n",
        "x3 = np.array([[[1,2,3],[4,5,6]],[[7,8,9],[10,11,12]]])\n",
        "x3"
      ],
      "metadata": {
        "colab": {
          "base_uri": "https://localhost:8080/"
        },
        "id": "1KRl4Oas9j-v",
        "outputId": "c5873616-534a-48c7-ad6d-c6f0c07bfa91"
      },
      "id": "1KRl4Oas9j-v",
      "execution_count": null,
      "outputs": [
        {
          "output_type": "execute_result",
          "data": {
            "text/plain": [
              "array([[[ 1,  2,  3],\n",
              "        [ 4,  5,  6]],\n",
              "\n",
              "       [[ 7,  8,  9],\n",
              "        [10, 11, 12]]])"
            ]
          },
          "metadata": {},
          "execution_count": 7
        }
      ]
    },
    {
      "cell_type": "code",
      "source": [
        "# You can get the shape of an array with .shape\n",
        "(x1.shape, x2.shape, x3.shape)"
      ],
      "metadata": {
        "colab": {
          "base_uri": "https://localhost:8080/"
        },
        "id": "lDu75AcDGY4i",
        "outputId": "2e0db983-9f27-46aa-ea43-f628ebba31ca"
      },
      "id": "lDu75AcDGY4i",
      "execution_count": null,
      "outputs": [
        {
          "output_type": "execute_result",
          "data": {
            "text/plain": [
              "((5,), (2, 3), (2, 2, 3))"
            ]
          },
          "metadata": {},
          "execution_count": 50
        }
      ]
    },
    {
      "cell_type": "code",
      "source": [
        "# The number of elements is given by size\n",
        "(x1.size, x2.size, x3.size)"
      ],
      "metadata": {
        "colab": {
          "base_uri": "https://localhost:8080/"
        },
        "id": "he08DZ7P5T44",
        "outputId": "2e70a3f7-7724-4eb9-efe9-986cb1883966"
      },
      "id": "he08DZ7P5T44",
      "execution_count": null,
      "outputs": [
        {
          "output_type": "execute_result",
          "data": {
            "text/plain": [
              "(5, 6, 12)"
            ]
          },
          "metadata": {},
          "execution_count": 110
        }
      ]
    },
    {
      "cell_type": "code",
      "source": [
        "# The number of dimensions\n",
        "(x1.ndim, x2.ndim, x3.ndim)"
      ],
      "metadata": {
        "colab": {
          "base_uri": "https://localhost:8080/"
        },
        "id": "kAIyn4VU5cnc",
        "outputId": "3f0c8639-ba47-49e9-e42f-70ae8da7d9ce"
      },
      "id": "kAIyn4VU5cnc",
      "execution_count": null,
      "outputs": [
        {
          "output_type": "execute_result",
          "data": {
            "text/plain": [
              "(1, 2, 3)"
            ]
          },
          "metadata": {},
          "execution_count": 111
        }
      ]
    },
    {
      "cell_type": "markdown",
      "source": [
        "There are several short-hand ways of defining common arrays"
      ],
      "metadata": {
        "id": "dzwZgTLJ-SUX"
      },
      "id": "dzwZgTLJ-SUX"
    },
    {
      "cell_type": "code",
      "source": [
        "# 1d array of zeros\n",
        "x4 = np.zeros(3)\n",
        "x4"
      ],
      "metadata": {
        "colab": {
          "base_uri": "https://localhost:8080/"
        },
        "id": "q15ia5Sx9m_T",
        "outputId": "d81952ce-b334-4670-d90a-e4d7cd72a555"
      },
      "id": "q15ia5Sx9m_T",
      "execution_count": null,
      "outputs": [
        {
          "output_type": "execute_result",
          "data": {
            "text/plain": [
              "array([0., 0., 0.])"
            ]
          },
          "metadata": {},
          "execution_count": 14
        }
      ]
    },
    {
      "cell_type": "code",
      "source": [
        "# 2d array of zeros\n",
        "x5 = np.zeros((3,3))\n",
        "x5"
      ],
      "metadata": {
        "colab": {
          "base_uri": "https://localhost:8080/"
        },
        "id": "D9257WAj-Bnd",
        "outputId": "d8dcb238-dae0-4b2f-dde1-ed263a62667d"
      },
      "id": "D9257WAj-Bnd",
      "execution_count": null,
      "outputs": [
        {
          "output_type": "execute_result",
          "data": {
            "text/plain": [
              "array([[0., 0., 0.],\n",
              "       [0., 0., 0.],\n",
              "       [0., 0., 0.]])"
            ]
          },
          "metadata": {},
          "execution_count": 15
        }
      ]
    },
    {
      "cell_type": "code",
      "source": [
        "# 3d Array of zeros\n",
        "x6 = np.zeros((3,3,3))\n",
        "x6"
      ],
      "metadata": {
        "colab": {
          "base_uri": "https://localhost:8080/"
        },
        "id": "JXKH8Awg-JG9",
        "outputId": "d199ce17-0757-429f-f529-340551b3df1d"
      },
      "id": "JXKH8Awg-JG9",
      "execution_count": null,
      "outputs": [
        {
          "output_type": "execute_result",
          "data": {
            "text/plain": [
              "array([[[0., 0., 0.],\n",
              "        [0., 0., 0.],\n",
              "        [0., 0., 0.]],\n",
              "\n",
              "       [[0., 0., 0.],\n",
              "        [0., 0., 0.],\n",
              "        [0., 0., 0.]],\n",
              "\n",
              "       [[0., 0., 0.],\n",
              "        [0., 0., 0.],\n",
              "        [0., 0., 0.]]])"
            ]
          },
          "metadata": {},
          "execution_count": 16
        }
      ]
    },
    {
      "cell_type": "code",
      "source": [
        "# An array of ones\n",
        "x7 = np.ones(3)\n",
        "x7"
      ],
      "metadata": {
        "colab": {
          "base_uri": "https://localhost:8080/"
        },
        "id": "eeslROWx-fZM",
        "outputId": "71a96b4c-3fcc-447f-8bc7-26a792cc9c3a"
      },
      "id": "eeslROWx-fZM",
      "execution_count": null,
      "outputs": [
        {
          "output_type": "execute_result",
          "data": {
            "text/plain": [
              "array([1., 1., 1.])"
            ]
          },
          "metadata": {},
          "execution_count": 17
        }
      ]
    },
    {
      "cell_type": "code",
      "source": [
        "# Numpy will use a default type, dpending on how the array is created\n",
        "x7.dtype"
      ],
      "metadata": {
        "colab": {
          "base_uri": "https://localhost:8080/"
        },
        "id": "ocrYB6uM-ymW",
        "outputId": "80d502d8-fd02-4243-f7b5-7b1fca0d3431"
      },
      "id": "ocrYB6uM-ymW",
      "execution_count": null,
      "outputs": [
        {
          "output_type": "execute_result",
          "data": {
            "text/plain": [
              "dtype('float64')"
            ]
          },
          "metadata": {},
          "execution_count": 20
        }
      ]
    },
    {
      "cell_type": "code",
      "source": [
        "# However you can define a specific type as follows\n",
        "x8 = np.ones(3, dtype=np.int64)\n",
        "x8.dtype"
      ],
      "metadata": {
        "colab": {
          "base_uri": "https://localhost:8080/"
        },
        "id": "ouLWTpJ4--K6",
        "outputId": "25306d4b-c03a-4295-fb9e-d587ba59cb8a"
      },
      "id": "ouLWTpJ4--K6",
      "execution_count": null,
      "outputs": [
        {
          "output_type": "execute_result",
          "data": {
            "text/plain": [
              "dtype('int64')"
            ]
          },
          "metadata": {},
          "execution_count": 23
        }
      ]
    },
    {
      "cell_type": "code",
      "source": [
        "# Or you can cast to a differnt type\n",
        "x9 = x8.astype(np.float32)\n",
        "x9"
      ],
      "metadata": {
        "colab": {
          "base_uri": "https://localhost:8080/"
        },
        "id": "OJI1zT20_YA5",
        "outputId": "61241d28-e99b-4873-9dec-58a46966c209"
      },
      "id": "OJI1zT20_YA5",
      "execution_count": null,
      "outputs": [
        {
          "output_type": "execute_result",
          "data": {
            "text/plain": [
              "array([1., 1., 1.], dtype=float32)"
            ]
          },
          "metadata": {},
          "execution_count": 24
        }
      ]
    },
    {
      "cell_type": "code",
      "source": [
        "# Another common way to define an array is using arange, which just counts up from 0 by integers\n",
        "x10 = np.arange(10)\n",
        "x10"
      ],
      "metadata": {
        "colab": {
          "base_uri": "https://localhost:8080/"
        },
        "id": "yHpbjnWt_Yrq",
        "outputId": "84b7cd02-7954-40cf-e009-659e3af96207"
      },
      "id": "yHpbjnWt_Yrq",
      "execution_count": null,
      "outputs": [
        {
          "output_type": "execute_result",
          "data": {
            "text/plain": [
              "array([0, 1, 2, 3, 4, 5, 6, 7, 8, 9])"
            ]
          },
          "metadata": {},
          "execution_count": 28
        }
      ]
    },
    {
      "cell_type": "code",
      "source": [
        "# It has int64 type by default\n",
        "x10.dtype"
      ],
      "metadata": {
        "colab": {
          "base_uri": "https://localhost:8080/"
        },
        "id": "6A4gcoHO_st3",
        "outputId": "19124be1-b558-43db-d28d-073f92f9557a"
      },
      "id": "6A4gcoHO_st3",
      "execution_count": null,
      "outputs": [
        {
          "output_type": "execute_result",
          "data": {
            "text/plain": [
              "dtype('int64')"
            ]
          },
          "metadata": {},
          "execution_count": 27
        }
      ]
    },
    {
      "cell_type": "code",
      "source": [
        "# You can also define, the start, stop, and step explicitely. These don't have to be integers.\n",
        "x11 = np.arange(1,10,0.5)\n",
        "x11"
      ],
      "metadata": {
        "colab": {
          "base_uri": "https://localhost:8080/"
        },
        "id": "FgMor0n_ACFk",
        "outputId": "0e371f8b-4576-42d4-9d3a-c2434f153f1c"
      },
      "id": "FgMor0n_ACFk",
      "execution_count": null,
      "outputs": [
        {
          "output_type": "execute_result",
          "data": {
            "text/plain": [
              "array([1. , 1.5, 2. , 2.5, 3. , 3.5, 4. , 4.5, 5. , 5.5, 6. , 6.5, 7. ,\n",
              "       7.5, 8. , 8.5, 9. , 9.5])"
            ]
          },
          "metadata": {},
          "execution_count": 29
        }
      ]
    },
    {
      "cell_type": "code",
      "source": [
        "# Another useful function is linspace, which produces evenly spaced numbers in an interval\n",
        "x12 = np.linspace(0.,1.,10)\n",
        "x12"
      ],
      "metadata": {
        "colab": {
          "base_uri": "https://localhost:8080/"
        },
        "id": "8NYBAk7NAoIb",
        "outputId": "3b7b6107-72c0-42ba-b482-2191f5905064"
      },
      "id": "8NYBAk7NAoIb",
      "execution_count": null,
      "outputs": [
        {
          "output_type": "execute_result",
          "data": {
            "text/plain": [
              "array([0.        , 0.11111111, 0.22222222, 0.33333333, 0.44444444,\n",
              "       0.55555556, 0.66666667, 0.77777778, 0.88888889, 1.        ])"
            ]
          },
          "metadata": {},
          "execution_count": 31
        }
      ]
    },
    {
      "cell_type": "markdown",
      "source": [
        "## Reshaping"
      ],
      "metadata": {
        "id": "mLYsg9S2KxPk"
      },
      "id": "mLYsg9S2KxPk"
    },
    {
      "cell_type": "code",
      "source": [
        "# You can reshape an array as long as the total number of elements checks out\n",
        "# By default reshape uses row-major order. This means elements are read in a C-like\n",
        "# index order, where the last axis index changes fastest.\n",
        "x13 = np.arange(25)\n",
        "x14 = x13.reshape((5,5))\n",
        "x14"
      ],
      "metadata": {
        "colab": {
          "base_uri": "https://localhost:8080/"
        },
        "id": "YjqcMrKEKzV3",
        "outputId": "789303f8-8f72-40e2-c923-579304982b08"
      },
      "id": "YjqcMrKEKzV3",
      "execution_count": null,
      "outputs": [
        {
          "output_type": "execute_result",
          "data": {
            "text/plain": [
              "array([[ 0,  1,  2,  3,  4],\n",
              "       [ 5,  6,  7,  8,  9],\n",
              "       [10, 11, 12, 13, 14],\n",
              "       [15, 16, 17, 18, 19],\n",
              "       [20, 21, 22, 23, 24]])"
            ]
          },
          "metadata": {},
          "execution_count": 9
        }
      ]
    },
    {
      "cell_type": "code",
      "source": [
        "# You can change the order in memory. For exmaple, reshaping\n",
        "# to Fortran-like order\n",
        "x15 = x13.reshape((5,5), order='F')\n",
        "x15"
      ],
      "metadata": {
        "colab": {
          "base_uri": "https://localhost:8080/"
        },
        "id": "slyPCdrOPzAG",
        "outputId": "87960678-1da4-426c-f657-46183336851a"
      },
      "id": "slyPCdrOPzAG",
      "execution_count": null,
      "outputs": [
        {
          "output_type": "execute_result",
          "data": {
            "text/plain": [
              "array([[ 0,  5, 10, 15, 20],\n",
              "       [ 1,  6, 11, 16, 21],\n",
              "       [ 2,  7, 12, 17, 22],\n",
              "       [ 3,  8, 13, 18, 23],\n",
              "       [ 4,  9, 14, 19, 24]])"
            ]
          },
          "metadata": {},
          "execution_count": 10
        }
      ]
    },
    {
      "cell_type": "code",
      "source": [
        "# Arrays can also be flattened in numerous ways\n",
        "x16 = np.arange(25).reshape((5,5))\n",
        "x16.reshape((25,))"
      ],
      "metadata": {
        "colab": {
          "base_uri": "https://localhost:8080/"
        },
        "id": "0f0oxXKQQEX-",
        "outputId": "273144cd-c8e7-4238-f502-6ad921942032"
      },
      "id": "0f0oxXKQQEX-",
      "execution_count": null,
      "outputs": [
        {
          "output_type": "execute_result",
          "data": {
            "text/plain": [
              "array([ 0,  1,  2,  3,  4,  5,  6,  7,  8,  9, 10, 11, 12, 13, 14, 15, 16,\n",
              "       17, 18, 19, 20, 21, 22, 23, 24])"
            ]
          },
          "metadata": {},
          "execution_count": 11
        }
      ]
    },
    {
      "cell_type": "code",
      "source": [
        "# Using flatten\n",
        "x16.flatten()"
      ],
      "metadata": {
        "colab": {
          "base_uri": "https://localhost:8080/"
        },
        "id": "-_VFOeBnQfn3",
        "outputId": "ce132008-3f7e-4b52-c880-fbad42ad138f"
      },
      "id": "-_VFOeBnQfn3",
      "execution_count": null,
      "outputs": [
        {
          "output_type": "execute_result",
          "data": {
            "text/plain": [
              "array([ 0,  1,  2,  3,  4,  5,  6,  7,  8,  9, 10, 11, 12, 13, 14, 15, 16,\n",
              "       17, 18, 19, 20, 21, 22, 23, 24])"
            ]
          },
          "metadata": {},
          "execution_count": 74
        }
      ]
    },
    {
      "cell_type": "markdown",
      "source": [
        "## Views Versus Copies"
      ],
      "metadata": {
        "id": "dEvaAIPVSFHy"
      },
      "id": "dEvaAIPVSFHy"
    },
    {
      "cell_type": "markdown",
      "source": [
        "Note that some functions in numpy return views of the original array, while others return copies. For example, ravel and flatten are similar, but ravel returns a view of an array, whereas flatten returns a copy. Returning a view is faster and uses less memory. However, be aware that modifying it modifies the original array. This is important to keep in mind so you know what operations have side effects."
      ],
      "metadata": {
        "id": "KdiHt4CFSJX5"
      },
      "id": "KdiHt4CFSJX5"
    },
    {
      "cell_type": "code",
      "source": [
        "import numpy as np\n",
        "\n",
        "a = np.array([[1, 2], [3, 4]])\n",
        "\n",
        "r = a.ravel()\n",
        "f = a.flatten()\n",
        "\n",
        "r[0] = 99\n",
        "f[1] = 88\n",
        "\n",
        "print(\"Original:\\n\", a)\n",
        "print(\"ravel:\\n\", r)\n",
        "print(\"flatten:\\n\", f)"
      ],
      "metadata": {
        "colab": {
          "base_uri": "https://localhost:8080/"
        },
        "id": "HHYY3acGRzQS",
        "outputId": "d1eb83fd-d51d-4ebb-f3e2-3e5b9cfc730b"
      },
      "id": "HHYY3acGRzQS",
      "execution_count": null,
      "outputs": [
        {
          "output_type": "stream",
          "name": "stdout",
          "text": [
            "Original:\n",
            " [[99  2]\n",
            " [ 3  4]]\n",
            "ravel:\n",
            " [99  2  3  4]\n",
            "flatten:\n",
            " [ 1 88  3  4]\n"
          ]
        }
      ]
    },
    {
      "cell_type": "code",
      "source": [
        "# You can check if an array is based on another array F\n",
        "print(r.base is a)\n",
        "print(f.base is a)"
      ],
      "metadata": {
        "colab": {
          "base_uri": "https://localhost:8080/"
        },
        "id": "fSR3SNt7c1cf",
        "outputId": "cad6e685-37a4-4d27-a352-b9f17b07fc47"
      },
      "id": "fSR3SNt7c1cf",
      "execution_count": null,
      "outputs": [
        {
          "output_type": "stream",
          "name": "stdout",
          "text": [
            "True\n",
            "False\n"
          ]
        }
      ]
    },
    {
      "cell_type": "code",
      "source": [
        "# Or if two arrays share memory\n",
        "(np.shares_memory(a, r), np.shares_memory(a, f))"
      ],
      "metadata": {
        "colab": {
          "base_uri": "https://localhost:8080/"
        },
        "id": "QKjMLBhhdPSD",
        "outputId": "40a60076-8dd4-47c1-91c5-a096065e5b34"
      },
      "id": "QKjMLBhhdPSD",
      "execution_count": null,
      "outputs": [
        {
          "output_type": "execute_result",
          "data": {
            "text/plain": [
              "(True, False)"
            ]
          },
          "metadata": {},
          "execution_count": 15
        }
      ]
    },
    {
      "cell_type": "markdown",
      "source": [
        "## Basic Indexing"
      ],
      "metadata": {
        "id": "sF3rXBDyA_9n"
      },
      "id": "sF3rXBDyA_9n"
    },
    {
      "cell_type": "code",
      "source": [
        "# Indexing works how you would expect\n",
        "x = np.arange(10)\n",
        "print(x[0], x[1], x[9])"
      ],
      "metadata": {
        "colab": {
          "base_uri": "https://localhost:8080/"
        },
        "id": "uu4V6bKqBCfS",
        "outputId": "29846da1-0320-4a7d-e6ee-2c10a27343ae"
      },
      "id": "uu4V6bKqBCfS",
      "execution_count": null,
      "outputs": [
        {
          "output_type": "stream",
          "name": "stdout",
          "text": [
            "0 1 9\n"
          ]
        }
      ]
    },
    {
      "cell_type": "code",
      "source": [
        "# You can use negative indexes to start indexing from the last element of an array\n",
        "print(x[-1])"
      ],
      "metadata": {
        "colab": {
          "base_uri": "https://localhost:8080/"
        },
        "id": "UDSWepokCMHY",
        "outputId": "f3d7d560-1e2f-44c3-9bef-16beb5d1bd91"
      },
      "id": "UDSWepokCMHY",
      "execution_count": null,
      "outputs": [
        {
          "output_type": "stream",
          "name": "stdout",
          "text": [
            "9\n"
          ]
        }
      ]
    },
    {
      "cell_type": "code",
      "source": [
        "# For example, the second to last element...\n",
        "print(x[-2])"
      ],
      "metadata": {
        "colab": {
          "base_uri": "https://localhost:8080/"
        },
        "id": "GNvBIfe2HZ9S",
        "outputId": "665a191b-f80e-4163-cc30-5bb605ca645a"
      },
      "id": "GNvBIfe2HZ9S",
      "execution_count": null,
      "outputs": [
        {
          "output_type": "stream",
          "name": "stdout",
          "text": [
            "8\n"
          ]
        }
      ]
    },
    {
      "cell_type": "code",
      "source": [
        "# Things are similar for 2d arrays. The indices refer to rows then columns.\n",
        "x = np.array([\n",
        "    [1,2,3],\n",
        "    [4,5,6]\n",
        "])\n",
        "print(x[0,0], x[0,1], x[1,0], x[1,-1])"
      ],
      "metadata": {
        "colab": {
          "base_uri": "https://localhost:8080/"
        },
        "id": "nqC3qw0MCSbB",
        "outputId": "e9acfacd-fcc7-4d72-a524-5b134da3354a"
      },
      "id": "nqC3qw0MCSbB",
      "execution_count": null,
      "outputs": [
        {
          "output_type": "stream",
          "name": "stdout",
          "text": [
            "1 2 4 6\n"
          ]
        }
      ]
    },
    {
      "cell_type": "code",
      "source": [
        "# What will this output?\n",
        "x[-1, 1]"
      ],
      "metadata": {
        "id": "n3F7JrRa3rxn"
      },
      "id": "n3F7JrRa3rxn",
      "execution_count": null,
      "outputs": []
    },
    {
      "cell_type": "code",
      "source": [
        "# Similarly for 3d arrays.\n",
        "x = np.array([\n",
        "    [[1,2,3],[4,5,6]],\n",
        "    [[7,8,9],[10,11,12]]\n",
        "])\n",
        "print(x[0,0,0], x[0,0,1], x[1,0,0])"
      ],
      "metadata": {
        "colab": {
          "base_uri": "https://localhost:8080/"
        },
        "id": "Msi-4EG1Cbh2",
        "outputId": "a799da4b-4459-4f0e-da67-282d21c518b4"
      },
      "id": "Msi-4EG1Cbh2",
      "execution_count": null,
      "outputs": [
        {
          "output_type": "stream",
          "name": "stdout",
          "text": [
            "1 2 7\n"
          ]
        }
      ]
    },
    {
      "cell_type": "code",
      "source": [
        "# You can think of index notation as dissecting the array into subarrays, and pulling elements\n",
        "# (which could be numbers or subarrays) from them. For example,\n",
        "# let's look at x[1]. It's a 2d array\n",
        "x[1]"
      ],
      "metadata": {
        "colab": {
          "base_uri": "https://localhost:8080/"
        },
        "id": "WiQYUvurCyqF",
        "outputId": "75794da8-0db0-43d4-f14b-9a975a940bee"
      },
      "id": "WiQYUvurCyqF",
      "execution_count": null,
      "outputs": [
        {
          "output_type": "execute_result",
          "data": {
            "text/plain": [
              "array([[ 7,  8,  9],\n",
              "       [10, 11, 12]])"
            ]
          },
          "metadata": {},
          "execution_count": 24
        }
      ]
    },
    {
      "cell_type": "code",
      "source": [
        "# The notation x[1][1] or x[1,1] pulls out the second row of x[1]\n",
        "print(x[1][1], x[1,1])"
      ],
      "metadata": {
        "colab": {
          "base_uri": "https://localhost:8080/"
        },
        "id": "prVgLwsoD4MS",
        "outputId": "e5be3b64-a65a-4eda-c0a4-9cfaff1946ee"
      },
      "id": "prVgLwsoD4MS",
      "execution_count": null,
      "outputs": [
        {
          "output_type": "stream",
          "name": "stdout",
          "text": [
            "[10 11 12] [10 11 12]\n"
          ]
        }
      ]
    },
    {
      "cell_type": "code",
      "source": [
        "# The notation x[1][1][2] or x[1,1,2] pulls out the third element of the second row of x[1]\n",
        "print(x[1][1][2], x[1,1,2])"
      ],
      "metadata": {
        "colab": {
          "base_uri": "https://localhost:8080/"
        },
        "id": "mY42EuU2EXDT",
        "outputId": "8925dbe1-a643-49b2-f51f-2ad80ac5451d"
      },
      "id": "mY42EuU2EXDT",
      "execution_count": null,
      "outputs": [
        {
          "output_type": "stream",
          "name": "stdout",
          "text": [
            "12 12\n"
          ]
        }
      ]
    },
    {
      "cell_type": "markdown",
      "source": [
        "## Fancy Indexing In Numpy"
      ],
      "metadata": {
        "id": "--5EVfBvGmtL"
      },
      "id": "--5EVfBvGmtL"
    },
    {
      "cell_type": "code",
      "source": [
        "# Slicing let's let's you pull out portions of an array\n",
        "y1 = np.arange(20)\n",
        "y1"
      ],
      "metadata": {
        "colab": {
          "base_uri": "https://localhost:8080/"
        },
        "id": "6Co8vpp8FRfl",
        "outputId": "d8b328a8-63b8-480d-87b1-b1b248b18244"
      },
      "id": "6Co8vpp8FRfl",
      "execution_count": null,
      "outputs": [
        {
          "output_type": "execute_result",
          "data": {
            "text/plain": [
              "array([ 0,  1,  2,  3,  4,  5,  6,  7,  8,  9, 10, 11, 12, 13, 14, 15, 16,\n",
              "       17, 18, 19])"
            ]
          },
          "metadata": {},
          "execution_count": 27
        }
      ]
    },
    {
      "cell_type": "code",
      "source": [
        "# For example, this returns elements at indexes 5,6,7,8.\n",
        "# Note that, for a slice i:j, the j-th element is not included\n",
        "y1[5:9]"
      ],
      "metadata": {
        "colab": {
          "base_uri": "https://localhost:8080/"
        },
        "id": "8wGZs4EuH2e3",
        "outputId": "2eb28b68-2600-43a1-d43c-d3e34a9298c1"
      },
      "id": "8wGZs4EuH2e3",
      "execution_count": null,
      "outputs": [
        {
          "output_type": "execute_result",
          "data": {
            "text/plain": [
              "array([5, 6, 7, 8])"
            ]
          },
          "metadata": {},
          "execution_count": 41
        }
      ]
    },
    {
      "cell_type": "markdown",
      "source": [
        "**From the Numpy guide:**\n",
        "*The basic slice syntax is $i:j:k$ where $i$ is the starting index, $j$ is the stopping index, and $k$ is the step ($k \\neq 0$)\n",
        "). This selects the m elements (in the corresponding dimension) with index values $i, i + k, …, i + (m - 1) k$ where\n",
        " and $q$ and $r$ are the quotient and remainder obtained by dividing $j - i$ by $k: j - i = q k + r$, so that $i + (m - 1) k < j$.*\n"
      ],
      "metadata": {
        "id": "Z8WcPXcMIVct"
      },
      "id": "Z8WcPXcMIVct"
    },
    {
      "cell_type": "code",
      "source": [
        "# You can take steps bigger than 1 when slicing\n",
        "y1[5:9:2]"
      ],
      "metadata": {
        "colab": {
          "base_uri": "https://localhost:8080/"
        },
        "id": "ztkkWxgCH8iz",
        "outputId": "f2d42087-2b3d-4d2e-fd37-c207ca277d5e"
      },
      "id": "ztkkWxgCH8iz",
      "execution_count": null,
      "outputs": [
        {
          "output_type": "execute_result",
          "data": {
            "text/plain": [
              "array([5, 7])"
            ]
          },
          "metadata": {},
          "execution_count": 42
        }
      ]
    },
    {
      "cell_type": "code",
      "source": [
        "# There is special syntax for slicing from the beginning of an array to a given index\n",
        "y1[:5]"
      ],
      "metadata": {
        "colab": {
          "base_uri": "https://localhost:8080/"
        },
        "id": "0k1BRVeWIQBV",
        "outputId": "4a2a35ea-1271-400f-856c-cbd87cf6a3f6"
      },
      "id": "0k1BRVeWIQBV",
      "execution_count": null,
      "outputs": [
        {
          "output_type": "execute_result",
          "data": {
            "text/plain": [
              "array([0, 1, 2, 3, 4])"
            ]
          },
          "metadata": {},
          "execution_count": 43
        }
      ]
    },
    {
      "cell_type": "code",
      "source": [
        "# Or for slicing from a given index to the end\n",
        "y1[5:]"
      ],
      "metadata": {
        "colab": {
          "base_uri": "https://localhost:8080/"
        },
        "id": "9wtcvt65JouM",
        "outputId": "23488054-c761-4f15-ea45-ea1bd46ebf1d"
      },
      "id": "9wtcvt65JouM",
      "execution_count": null,
      "outputs": [
        {
          "output_type": "execute_result",
          "data": {
            "text/plain": [
              "array([ 5,  6,  7,  8,  9, 10, 11, 12, 13, 14, 15, 16, 17, 18, 19])"
            ]
          },
          "metadata": {},
          "execution_count": 44
        }
      ]
    },
    {
      "cell_type": "code",
      "source": [
        "# You can get every n-th element of an array\n",
        "y1[::2]"
      ],
      "metadata": {
        "colab": {
          "base_uri": "https://localhost:8080/"
        },
        "id": "R6wQNYAEXLIo",
        "outputId": "f412c9cb-2e70-438f-f58f-dea5c6d44899"
      },
      "id": "R6wQNYAEXLIo",
      "execution_count": null,
      "outputs": [
        {
          "output_type": "execute_result",
          "data": {
            "text/plain": [
              "array([ 0,  2,  4,  6,  8, 10, 12, 14, 16, 18])"
            ]
          },
          "metadata": {},
          "execution_count": 34
        }
      ]
    },
    {
      "cell_type": "code",
      "source": [
        "# Or reverse an array with this notation. These work with multidemensional arrays too.\n",
        "y1[::-1]"
      ],
      "metadata": {
        "colab": {
          "base_uri": "https://localhost:8080/"
        },
        "id": "Xff9brztXUXZ",
        "outputId": "0637dea8-6293-440c-ebc1-6683a4d4325a"
      },
      "id": "Xff9brztXUXZ",
      "execution_count": null,
      "outputs": [
        {
          "output_type": "execute_result",
          "data": {
            "text/plain": [
              "array([19, 18, 17, 16, 15, 14, 13, 12, 11, 10,  9,  8,  7,  6,  5,  4,  3,\n",
              "        2,  1,  0])"
            ]
          },
          "metadata": {},
          "execution_count": 35
        }
      ]
    },
    {
      "cell_type": "code",
      "source": [
        "# Slicing can be done in any dimension\n",
        "y2 = np.arange(25).reshape((5,5))\n",
        "y2"
      ],
      "metadata": {
        "colab": {
          "base_uri": "https://localhost:8080/"
        },
        "id": "SceMGBoPJtAK",
        "outputId": "066eafcd-ccde-4bb6-975a-caa04040e08f"
      },
      "id": "SceMGBoPJtAK",
      "execution_count": null,
      "outputs": [
        {
          "output_type": "execute_result",
          "data": {
            "text/plain": [
              "array([[ 0,  1,  2,  3,  4],\n",
              "       [ 5,  6,  7,  8,  9],\n",
              "       [10, 11, 12, 13, 14],\n",
              "       [15, 16, 17, 18, 19],\n",
              "       [20, 21, 22, 23, 24]])"
            ]
          },
          "metadata": {},
          "execution_count": 45
        }
      ]
    },
    {
      "cell_type": "code",
      "source": [
        "# The notation :, means get all elements in this dimension, so this gets the first and second\n",
        "# elements of each row\n",
        "y2[:,0:2]\n"
      ],
      "metadata": {
        "colab": {
          "base_uri": "https://localhost:8080/"
        },
        "id": "Yc92lDwETNhM",
        "outputId": "9c813dd5-00ac-4cf4-d361-b783d7a23272"
      },
      "id": "Yc92lDwETNhM",
      "execution_count": null,
      "outputs": [
        {
          "output_type": "execute_result",
          "data": {
            "text/plain": [
              "array([[ 0,  1],\n",
              "       [ 5,  6],\n",
              "       [10, 11],\n",
              "       [15, 16],\n",
              "       [20, 21]])"
            ]
          },
          "metadata": {},
          "execution_count": 37
        }
      ]
    },
    {
      "cell_type": "code",
      "source": [
        "# What will this return?\n",
        "y2[1:-1,1:-1]"
      ],
      "metadata": {
        "id": "JHChI8-A5KS1"
      },
      "id": "JHChI8-A5KS1",
      "execution_count": null,
      "outputs": []
    },
    {
      "cell_type": "markdown",
      "source": [
        "## Exercise 1\n",
        "Create a checkboard using an array of integers with 0 for black and 1 for white."
      ],
      "metadata": {
        "id": "z157Z9OgAs4N"
      },
      "id": "z157Z9OgAs4N"
    },
    {
      "cell_type": "code",
      "source": [
        "import matplotlib.pyplot as plt\n",
        "board = np.zeros((8,8), dtype=int)\n",
        "board[1::2,1::2] = 1\n",
        "board[::2,0::2] = 1\n",
        "plt.imshow(board, cmap='gray')\n"
      ],
      "metadata": {
        "id": "QOWvTDEDBC1G",
        "outputId": "de81596b-ef65-4644-dee4-667426cad0de",
        "colab": {
          "base_uri": "https://localhost:8080/",
          "height": 447
        }
      },
      "id": "QOWvTDEDBC1G",
      "execution_count": null,
      "outputs": [
        {
          "output_type": "execute_result",
          "data": {
            "text/plain": [
              "<matplotlib.image.AxesImage at 0x79d37e465990>"
            ]
          },
          "metadata": {},
          "execution_count": 47
        },
        {
          "output_type": "display_data",
          "data": {
            "text/plain": [
              "<Figure size 640x480 with 1 Axes>"
            ],
            "image/png": "[encoded data removed]"
          },
          "metadata": {}
        }
      ]
    },
    {
      "cell_type": "markdown",
      "source": [
        "## Dimensional Indexing"
      ],
      "metadata": {
        "id": "csqmsYSeUxTf"
      },
      "id": "csqmsYSeUxTf"
    },
    {
      "cell_type": "markdown",
      "source": [
        "There are some tools to facilitate the easy matching of array shapes with expressions and in assignments."
      ],
      "metadata": {
        "id": "LCU5rGBN6CuO"
      },
      "id": "LCU5rGBN6CuO"
    },
    {
      "cell_type": "code",
      "source": [
        "# 3d array\n",
        "y3 = np.arange(125).reshape((5,5,5))\n",
        "y3"
      ],
      "metadata": {
        "colab": {
          "base_uri": "https://localhost:8080/"
        },
        "id": "bQxhB_yrTVvO",
        "outputId": "dc0e5c1f-743a-4aa5-91c7-641ae4d27360"
      },
      "id": "bQxhB_yrTVvO",
      "execution_count": null,
      "outputs": [
        {
          "output_type": "execute_result",
          "data": {
            "text/plain": [
              "array([[[  0,   1,   2,   3,   4],\n",
              "        [  5,   6,   7,   8,   9],\n",
              "        [ 10,  11,  12,  13,  14],\n",
              "        [ 15,  16,  17,  18,  19],\n",
              "        [ 20,  21,  22,  23,  24]],\n",
              "\n",
              "       [[ 25,  26,  27,  28,  29],\n",
              "        [ 30,  31,  32,  33,  34],\n",
              "        [ 35,  36,  37,  38,  39],\n",
              "        [ 40,  41,  42,  43,  44],\n",
              "        [ 45,  46,  47,  48,  49]],\n",
              "\n",
              "       [[ 50,  51,  52,  53,  54],\n",
              "        [ 55,  56,  57,  58,  59],\n",
              "        [ 60,  61,  62,  63,  64],\n",
              "        [ 65,  66,  67,  68,  69],\n",
              "        [ 70,  71,  72,  73,  74]],\n",
              "\n",
              "       [[ 75,  76,  77,  78,  79],\n",
              "        [ 80,  81,  82,  83,  84],\n",
              "        [ 85,  86,  87,  88,  89],\n",
              "        [ 90,  91,  92,  93,  94],\n",
              "        [ 95,  96,  97,  98,  99]],\n",
              "\n",
              "       [[100, 101, 102, 103, 104],\n",
              "        [105, 106, 107, 108, 109],\n",
              "        [110, 111, 112, 113, 114],\n",
              "        [115, 116, 117, 118, 119],\n",
              "        [120, 121, 122, 123, 124]]])"
            ]
          },
          "metadata": {},
          "execution_count": 48
        }
      ]
    },
    {
      "cell_type": "code",
      "source": [
        "# The notation [..., ]. expands to the number of : objects needed for the selection tuple\n",
        "# to index all dimensions. In most cases, this means that the length of the expanded\n",
        "# selection tuple is x.ndim. There may only be a single ellipsis present.\n",
        "print(y3[...,0])\n",
        "print(y3[:,:,0])"
      ],
      "metadata": {
        "colab": {
          "base_uri": "https://localhost:8080/"
        },
        "id": "MoBtKk0TUOYk",
        "outputId": "ea0d747c-e9b4-4bc3-ac81-61d1f7347e44"
      },
      "id": "MoBtKk0TUOYk",
      "execution_count": null,
      "outputs": [
        {
          "output_type": "stream",
          "name": "stdout",
          "text": [
            "[[  0   5  10  15  20]\n",
            " [ 25  30  35  40  45]\n",
            " [ 50  55  60  65  70]\n",
            " [ 75  80  85  90  95]\n",
            " [100 105 110 115 120]]\n",
            "[[  0   5  10  15  20]\n",
            " [ 25  30  35  40  45]\n",
            " [ 50  55  60  65  70]\n",
            " [ 75  80  85  90  95]\n",
            " [100 105 110 115 120]]\n"
          ]
        }
      ]
    },
    {
      "cell_type": "code",
      "source": [
        "# What will this return?\n",
        "y3[1,...,1]"
      ],
      "metadata": {
        "colab": {
          "base_uri": "https://localhost:8080/"
        },
        "id": "oTjx2sy36_uC",
        "outputId": "f9f01a4e-6162-410a-8f02-19ae2d5a5df1"
      },
      "id": "oTjx2sy36_uC",
      "execution_count": null,
      "outputs": [
        {
          "output_type": "execute_result",
          "data": {
            "text/plain": [
              "array([26, 31, 36, 41, 46])"
            ]
          },
          "metadata": {},
          "execution_count": 53
        }
      ]
    },
    {
      "cell_type": "code",
      "source": [
        "# Singleton dimensions can be added anywhere with this special notation\n",
        "# We'll see why this can be useful later when we discuss broadcasting\n",
        "y3[:,None,:,:]"
      ],
      "metadata": {
        "colab": {
          "base_uri": "https://localhost:8080/"
        },
        "id": "b1FeUIdiUQlv",
        "outputId": "264e96ea-0de9-4d43-fe2a-9df8ca855666"
      },
      "id": "b1FeUIdiUQlv",
      "execution_count": null,
      "outputs": [
        {
          "output_type": "execute_result",
          "data": {
            "text/plain": [
              "array([[[[  0,   1,   2,   3,   4],\n",
              "         [  5,   6,   7,   8,   9],\n",
              "         [ 10,  11,  12,  13,  14],\n",
              "         [ 15,  16,  17,  18,  19],\n",
              "         [ 20,  21,  22,  23,  24]]],\n",
              "\n",
              "\n",
              "       [[[ 25,  26,  27,  28,  29],\n",
              "         [ 30,  31,  32,  33,  34],\n",
              "         [ 35,  36,  37,  38,  39],\n",
              "         [ 40,  41,  42,  43,  44],\n",
              "         [ 45,  46,  47,  48,  49]]],\n",
              "\n",
              "\n",
              "       [[[ 50,  51,  52,  53,  54],\n",
              "         [ 55,  56,  57,  58,  59],\n",
              "         [ 60,  61,  62,  63,  64],\n",
              "         [ 65,  66,  67,  68,  69],\n",
              "         [ 70,  71,  72,  73,  74]]],\n",
              "\n",
              "\n",
              "       [[[ 75,  76,  77,  78,  79],\n",
              "         [ 80,  81,  82,  83,  84],\n",
              "         [ 85,  86,  87,  88,  89],\n",
              "         [ 90,  91,  92,  93,  94],\n",
              "         [ 95,  96,  97,  98,  99]]],\n",
              "\n",
              "\n",
              "       [[[100, 101, 102, 103, 104],\n",
              "         [105, 106, 107, 108, 109],\n",
              "         [110, 111, 112, 113, 114],\n",
              "         [115, 116, 117, 118, 119],\n",
              "         [120, 121, 122, 123, 124]]]])"
            ]
          },
          "metadata": {},
          "execution_count": 86
        }
      ]
    },
    {
      "cell_type": "code",
      "source": [
        "y3[:,None,:,:].shape"
      ],
      "metadata": {
        "colab": {
          "base_uri": "https://localhost:8080/"
        },
        "id": "t3RbTVAaVXct",
        "outputId": "3eba7d1c-dc58-49c7-f045-85c69b8e5c39"
      },
      "id": "t3RbTVAaVXct",
      "execution_count": null,
      "outputs": [
        {
          "output_type": "execute_result",
          "data": {
            "text/plain": [
              "(5, 1, 5, 5)"
            ]
          },
          "metadata": {},
          "execution_count": 87
        }
      ]
    },
    {
      "cell_type": "code",
      "source": [
        "# This is also equivalent to\n",
        "y3[:,np.newaxis,:,:]"
      ],
      "metadata": {
        "colab": {
          "base_uri": "https://localhost:8080/"
        },
        "id": "SA-3iCaGVZ0C",
        "outputId": "93d245db-b256-4262-f3c3-19b4d8e4d30d"
      },
      "id": "SA-3iCaGVZ0C",
      "execution_count": null,
      "outputs": [
        {
          "output_type": "execute_result",
          "data": {
            "text/plain": [
              "array([[[[  0,   1,   2,   3,   4],\n",
              "         [  5,   6,   7,   8,   9],\n",
              "         [ 10,  11,  12,  13,  14],\n",
              "         [ 15,  16,  17,  18,  19],\n",
              "         [ 20,  21,  22,  23,  24]]],\n",
              "\n",
              "\n",
              "       [[[ 25,  26,  27,  28,  29],\n",
              "         [ 30,  31,  32,  33,  34],\n",
              "         [ 35,  36,  37,  38,  39],\n",
              "         [ 40,  41,  42,  43,  44],\n",
              "         [ 45,  46,  47,  48,  49]]],\n",
              "\n",
              "\n",
              "       [[[ 50,  51,  52,  53,  54],\n",
              "         [ 55,  56,  57,  58,  59],\n",
              "         [ 60,  61,  62,  63,  64],\n",
              "         [ 65,  66,  67,  68,  69],\n",
              "         [ 70,  71,  72,  73,  74]]],\n",
              "\n",
              "\n",
              "       [[[ 75,  76,  77,  78,  79],\n",
              "         [ 80,  81,  82,  83,  84],\n",
              "         [ 85,  86,  87,  88,  89],\n",
              "         [ 90,  91,  92,  93,  94],\n",
              "         [ 95,  96,  97,  98,  99]]],\n",
              "\n",
              "\n",
              "       [[[100, 101, 102, 103, 104],\n",
              "         [105, 106, 107, 108, 109],\n",
              "         [110, 111, 112, 113, 114],\n",
              "         [115, 116, 117, 118, 119],\n",
              "         [120, 121, 122, 123, 124]]]])"
            ]
          },
          "metadata": {},
          "execution_count": 88
        }
      ]
    },
    {
      "cell_type": "markdown",
      "source": [
        "## Advanced Indexing"
      ],
      "metadata": {
        "id": "S1h-qBLfWCK2"
      },
      "id": "S1h-qBLfWCK2"
    },
    {
      "cell_type": "markdown",
      "source": [
        "**From the Numpy Guide:** *Advanced indexing is triggered when the selection object, obj, is a non-tuple sequence object, an ndarray (of data type integer or bool), or a tuple with at least one sequence object or ndarray (of data type integer or bool). There are two types of advanced indexing: integer and Boolean.*\n",
        "\n",
        "Note that advanced indexing returns copies of the data rather than views."
      ],
      "metadata": {
        "id": "dJZS2dg1f--Z"
      },
      "id": "dJZS2dg1f--Z"
    },
    {
      "cell_type": "code",
      "source": [
        "# Arrays can be indexed by other arrays of integers\n",
        "z0 = np.arange(10)\n",
        "indexes = np.array([9,3,1,4])\n",
        "z0[indexes]"
      ],
      "metadata": {
        "colab": {
          "base_uri": "https://localhost:8080/"
        },
        "id": "Y-vHXE1uVhrn",
        "outputId": "704299fa-3929-4eb2-a33c-eb84bdbd4517"
      },
      "id": "Y-vHXE1uVhrn",
      "execution_count": null,
      "outputs": [
        {
          "output_type": "execute_result",
          "data": {
            "text/plain": [
              "array([9, 3, 1, 4])"
            ]
          },
          "metadata": {},
          "execution_count": 56
        }
      ]
    },
    {
      "cell_type": "code",
      "source": [
        "# You can also index using plain Python lists\n",
        "z0[[9,3,1,4]]"
      ],
      "metadata": {
        "colab": {
          "base_uri": "https://localhost:8080/"
        },
        "id": "oPlFXKr772B7",
        "outputId": "bfb26a3d-3608-47c9-8ac2-7f1a07dd0fe2"
      },
      "id": "oPlFXKr772B7",
      "execution_count": null,
      "outputs": [
        {
          "output_type": "execute_result",
          "data": {
            "text/plain": [
              "array([9, 3, 1, 4])"
            ]
          },
          "metadata": {},
          "execution_count": 58
        }
      ]
    },
    {
      "cell_type": "code",
      "source": [
        "# For 2d arrays you can pass in two arrays of integers\n",
        "z1 = np.arange(100).reshape((10,10))\n",
        "indexes0 = np.array([9,3,1,4])\n",
        "indexes1 = np.array([1,2,3,4])\n",
        "z1[indexes0,indexes1]"
      ],
      "metadata": {
        "colab": {
          "base_uri": "https://localhost:8080/"
        },
        "id": "DoQKbA-FcRuC",
        "outputId": "0ef78602-7cd1-4775-93ee-9abb211cc258"
      },
      "id": "DoQKbA-FcRuC",
      "execution_count": null,
      "outputs": [
        {
          "output_type": "execute_result",
          "data": {
            "text/plain": [
              "array([91, 32, 13, 44])"
            ]
          },
          "metadata": {},
          "execution_count": 54
        }
      ]
    },
    {
      "cell_type": "code",
      "source": [
        "# It's also common to use boolean indexing\n",
        "indexes = np.array([True, False, True, False, True, False, True, False, True, False])\n",
        "z0[indexes]"
      ],
      "metadata": {
        "colab": {
          "base_uri": "https://localhost:8080/"
        },
        "id": "n32ZzH6Ufke_",
        "outputId": "87eb38cb-cac5-4394-c4f9-7a28d4b7b7c8"
      },
      "id": "n32ZzH6Ufke_",
      "execution_count": null,
      "outputs": [
        {
          "output_type": "execute_result",
          "data": {
            "text/plain": [
              "array([0, 2, 4, 6, 8])"
            ]
          },
          "metadata": {},
          "execution_count": 59
        }
      ]
    },
    {
      "cell_type": "code",
      "source": [
        "# Boolean indexing is often used with comparison operators\n",
        "# This identifies the elements greater than 4\n",
        "indexes = z0 > 4\n",
        "indexes"
      ],
      "metadata": {
        "colab": {
          "base_uri": "https://localhost:8080/"
        },
        "id": "d03iO6_lkq27",
        "outputId": "b6bcdb45-11bd-4ee1-dcfc-c2b73794242a"
      },
      "id": "d03iO6_lkq27",
      "execution_count": null,
      "outputs": [
        {
          "output_type": "execute_result",
          "data": {
            "text/plain": [
              "array([False, False, False, False, False,  True,  True,  True,  True,\n",
              "        True])"
            ]
          },
          "metadata": {},
          "execution_count": 61
        }
      ]
    },
    {
      "cell_type": "code",
      "source": [
        "# This pulls out those elements into an array\n",
        "z0[indexes]"
      ],
      "metadata": {
        "colab": {
          "base_uri": "https://localhost:8080/"
        },
        "id": "J-KIWlCd8MwG",
        "outputId": "0d856b9d-f0b6-46c3-90ae-be48e047c581"
      },
      "id": "J-KIWlCd8MwG",
      "execution_count": null,
      "outputs": [
        {
          "output_type": "execute_result",
          "data": {
            "text/plain": [
              "array([5, 6, 7, 8, 9])"
            ]
          },
          "metadata": {},
          "execution_count": 62
        }
      ]
    },
    {
      "cell_type": "code",
      "source": [
        "# Doing this for a higher dimensional array will return a flattened array\n",
        "indexes = z1 > 10\n",
        "z1[indexes]"
      ],
      "metadata": {
        "colab": {
          "base_uri": "https://localhost:8080/"
        },
        "id": "ZCBMF7QylDGV",
        "outputId": "dd6c476d-2a8c-4025-b92b-8d0a6130ca98"
      },
      "id": "ZCBMF7QylDGV",
      "execution_count": null,
      "outputs": [
        {
          "output_type": "execute_result",
          "data": {
            "text/plain": [
              "array([11, 12, 13, 14, 15, 16, 17, 18, 19, 20, 21, 22, 23, 24, 25, 26, 27,\n",
              "       28, 29, 30, 31, 32, 33, 34, 35, 36, 37, 38, 39, 40, 41, 42, 43, 44,\n",
              "       45, 46, 47, 48, 49, 50, 51, 52, 53, 54, 55, 56, 57, 58, 59, 60, 61,\n",
              "       62, 63, 64, 65, 66, 67, 68, 69, 70, 71, 72, 73, 74, 75, 76, 77, 78,\n",
              "       79, 80, 81, 82, 83, 84, 85, 86, 87, 88, 89, 90, 91, 92, 93, 94, 95,\n",
              "       96, 97, 98, 99])"
            ]
          },
          "metadata": {},
          "execution_count": 63
        }
      ]
    },
    {
      "cell_type": "code",
      "source": [
        "# You can also assign values to a set of indices\n",
        "z3 = np.arange(10)\n",
        "z3[[0,5,9]] = 0\n",
        "z3"
      ],
      "metadata": {
        "colab": {
          "base_uri": "https://localhost:8080/"
        },
        "id": "zqy2G5hx6Eoe",
        "outputId": "abf99264-3d5c-4449-a0b1-43bb0bfdc5dd"
      },
      "id": "zqy2G5hx6Eoe",
      "execution_count": null,
      "outputs": [
        {
          "output_type": "execute_result",
          "data": {
            "text/plain": [
              "array([0, 1, 2, 3, 4, 0, 6, 7, 8, 0])"
            ]
          },
          "metadata": {},
          "execution_count": 64
        }
      ]
    },
    {
      "cell_type": "code",
      "source": [
        "# What will this return?\n",
        "X = np.zeros((5,5))\n",
        "X[np.arange(5), np.arange(5)] = 1.\n",
        "X"
      ],
      "metadata": {
        "colab": {
          "base_uri": "https://localhost:8080/"
        },
        "id": "iM1b9XZo8d0K",
        "outputId": "597b7cef-e898-422e-c3c5-8be41bbe003d"
      },
      "id": "iM1b9XZo8d0K",
      "execution_count": null,
      "outputs": [
        {
          "output_type": "execute_result",
          "data": {
            "text/plain": [
              "array([[1., 0., 0., 0., 0.],\n",
              "       [0., 1., 0., 0., 0.],\n",
              "       [0., 0., 1., 0., 0.],\n",
              "       [0., 0., 0., 1., 0.],\n",
              "       [0., 0., 0., 0., 1.]])"
            ]
          },
          "metadata": {},
          "execution_count": 75
        }
      ]
    },
    {
      "cell_type": "code",
      "source": [
        "# Is this valid? What will this return?\n",
        "X = np.zeros((5,5))\n",
        "X[np.arange(5), :] = np.arange(5)\n",
        "X"
      ],
      "metadata": {
        "collapsed": true,
        "id": "MdAA7Fuy8yod"
      },
      "id": "MdAA7Fuy8yod",
      "execution_count": null,
      "outputs": []
    },
    {
      "cell_type": "code",
      "source": [
        "# The equivalent loop\n",
        "X = np.zeros((5,5))\n",
        "for i in range(5):\n",
        "  for j in range(5):\n",
        "    X[i,j] = j\n",
        "X"
      ],
      "metadata": {
        "id": "6atXkknb9X3t"
      },
      "id": "6atXkknb9X3t",
      "execution_count": null,
      "outputs": []
    },
    {
      "cell_type": "markdown",
      "source": [
        "## Splitting, Merging, and Building Arrays"
      ],
      "metadata": {
        "id": "LshbitfV6U2F"
      },
      "id": "LshbitfV6U2F"
    },
    {
      "cell_type": "code",
      "source": [
        "# Arrays can be concatenated, or combined on an existing axis\n",
        "# That means the size in that axis increases\n",
        "a = np.array([1,2,3])\n",
        "b = np.array([4,5,6])\n",
        "c = np.concatenate((a,b))\n",
        "c"
      ],
      "metadata": {
        "colab": {
          "base_uri": "https://localhost:8080/"
        },
        "id": "jyEWwBsllEx8",
        "outputId": "e98c0e05-0878-45bf-ea24-1f462bf3df5b"
      },
      "id": "jyEWwBsllEx8",
      "execution_count": null,
      "outputs": [
        {
          "output_type": "execute_result",
          "data": {
            "text/plain": [
              "array([1, 2, 3, 4, 5, 6])"
            ]
          },
          "metadata": {},
          "execution_count": 3
        }
      ]
    },
    {
      "cell_type": "code",
      "source": [
        "print(a.shape, b.shape, c.shape)"
      ],
      "metadata": {
        "colab": {
          "base_uri": "https://localhost:8080/"
        },
        "id": "P371kzoB-Hrm",
        "outputId": "de638862-0109-4322-c733-af01de331bd2"
      },
      "id": "P371kzoB-Hrm",
      "execution_count": null,
      "outputs": [
        {
          "output_type": "stream",
          "name": "stdout",
          "text": [
            "(3,) (3,) (6,)\n"
          ]
        }
      ]
    },
    {
      "cell_type": "code",
      "source": [
        "# Higher dimensional arrays can be concatenated too. By default this is along the first axis\n",
        "# so if you have an n x k and a j x k, you'd get a (n+j)xk output\n",
        "a = np.array([\n",
        "    [1,2,3],\n",
        "    [4,5,6]\n",
        "])\n",
        "b = np.array([\n",
        "    [7,8,9],\n",
        "    [10,11,12]\n",
        "])\n",
        "np.concatenate((a,b))"
      ],
      "metadata": {
        "colab": {
          "base_uri": "https://localhost:8080/"
        },
        "id": "7VgG5Gge6_az",
        "outputId": "e764e712-79b3-47dc-dc74-19534f225261"
      },
      "id": "7VgG5Gge6_az",
      "execution_count": null,
      "outputs": [
        {
          "output_type": "execute_result",
          "data": {
            "text/plain": [
              "array([[ 1,  2,  3],\n",
              "       [ 4,  5,  6],\n",
              "       [ 7,  8,  9],\n",
              "       [10, 11, 12]])"
            ]
          },
          "metadata": {},
          "execution_count": 115
        }
      ]
    },
    {
      "cell_type": "code",
      "source": [
        "# This, in turn, will concatenate along the columns dimension, so if you have an nxk and a nxj array, you get\n",
        "# an nx(k+j) output\n",
        "np.concatenate((a,b), axis=1)"
      ],
      "metadata": {
        "colab": {
          "base_uri": "https://localhost:8080/"
        },
        "id": "IWv9gufC7E9L",
        "outputId": "3481ee41-1c7c-4600-b61d-7871bf413a64"
      },
      "id": "IWv9gufC7E9L",
      "execution_count": null,
      "outputs": [
        {
          "output_type": "execute_result",
          "data": {
            "text/plain": [
              "array([[ 1,  2,  3,  7,  8,  9],\n",
              "       [ 4,  5,  6, 10, 11, 12]])"
            ]
          },
          "metadata": {},
          "execution_count": 117
        }
      ]
    },
    {
      "cell_type": "code",
      "source": [
        "# What's the shape of this concatenated array\n",
        "a = np.zeros((3,3,3))\n",
        "b = np.ones((3,3,3))\n",
        "c = np.concatenate((a,b), axis=2)\n",
        "c.shape"
      ],
      "metadata": {
        "colab": {
          "base_uri": "https://localhost:8080/"
        },
        "id": "FGyZNaBP-8Pm",
        "outputId": "30e4da78-5881-482b-c441-4a93489896aa"
      },
      "id": "FGyZNaBP-8Pm",
      "execution_count": null,
      "outputs": [
        {
          "output_type": "execute_result",
          "data": {
            "text/plain": [
              "(3, 3, 6)"
            ]
          },
          "metadata": {},
          "execution_count": 4
        }
      ]
    },
    {
      "cell_type": "code",
      "source": [
        "# And what does the resulting array look like?\n",
        "c"
      ],
      "metadata": {
        "colab": {
          "base_uri": "https://localhost:8080/"
        },
        "id": "KQqyI8Mk_au1",
        "outputId": "c2e1fc13-6e35-49d8-80f0-b70222c127a5"
      },
      "id": "KQqyI8Mk_au1",
      "execution_count": null,
      "outputs": [
        {
          "output_type": "execute_result",
          "data": {
            "text/plain": [
              "array([[[0., 0., 0., 1., 1., 1.],\n",
              "        [0., 0., 0., 1., 1., 1.],\n",
              "        [0., 0., 0., 1., 1., 1.]],\n",
              "\n",
              "       [[0., 0., 0., 1., 1., 1.],\n",
              "        [0., 0., 0., 1., 1., 1.],\n",
              "        [0., 0., 0., 1., 1., 1.]],\n",
              "\n",
              "       [[0., 0., 0., 1., 1., 1.],\n",
              "        [0., 0., 0., 1., 1., 1.],\n",
              "        [0., 0., 0., 1., 1., 1.]]])"
            ]
          },
          "metadata": {},
          "execution_count": 5
        }
      ]
    },
    {
      "cell_type": "code",
      "source": [
        "# Unlike concatenation, stacking joins arrays along a new axis using\n",
        "a = np.array([1,2,3])\n",
        "b = np.array([4,5,6])\n",
        "c = np.array([7,8,9])\n",
        "d = np.stack((a,b,c))\n",
        "d.shape"
      ],
      "metadata": {
        "colab": {
          "base_uri": "https://localhost:8080/"
        },
        "id": "G7dzRJ437dtQ",
        "outputId": "8143b962-87e8-4261-966c-48ae3f601f0f"
      },
      "id": "G7dzRJ437dtQ",
      "execution_count": null,
      "outputs": [
        {
          "output_type": "execute_result",
          "data": {
            "text/plain": [
              "(3, 3)"
            ]
          },
          "metadata": {},
          "execution_count": 6
        }
      ]
    },
    {
      "cell_type": "code",
      "source": [
        "d"
      ],
      "metadata": {
        "colab": {
          "base_uri": "https://localhost:8080/"
        },
        "id": "uSG1J-u3BaFu",
        "outputId": "61251090-fa41-4a33-c7a7-deb1e101f457"
      },
      "id": "uSG1J-u3BaFu",
      "execution_count": null,
      "outputs": [
        {
          "output_type": "execute_result",
          "data": {
            "text/plain": [
              "array([[1, 2, 3],\n",
              "       [4, 5, 6],\n",
              "       [7, 8, 9]])"
            ]
          },
          "metadata": {},
          "execution_count": 88
        }
      ]
    },
    {
      "cell_type": "code",
      "source": [
        "# Stacking can also be done for different axes\n",
        "a = np.array([\n",
        "    [1,2,3],\n",
        "    [4,5,6]\n",
        "])\n",
        "b = np.array([\n",
        "    [7,8,9],\n",
        "    [10,11,12]\n",
        "])\n",
        "c = np.stack((a,b), axis=2)\n",
        "c.shape"
      ],
      "metadata": {
        "colab": {
          "base_uri": "https://localhost:8080/"
        },
        "id": "rX5FPjtJ8MHs",
        "outputId": "cefb9395-0101-4139-91c0-a0dff4584125"
      },
      "id": "rX5FPjtJ8MHs",
      "execution_count": null,
      "outputs": [
        {
          "output_type": "execute_result",
          "data": {
            "text/plain": [
              "(2, 3, 2)"
            ]
          },
          "metadata": {},
          "execution_count": 89
        }
      ]
    },
    {
      "cell_type": "code",
      "source": [
        "c"
      ],
      "metadata": {
        "colab": {
          "base_uri": "https://localhost:8080/"
        },
        "id": "gAOeOR-z8P-e",
        "outputId": "a447bb7e-6c45-4bdf-f369-6176ea93ed47"
      },
      "id": "gAOeOR-z8P-e",
      "execution_count": null,
      "outputs": [
        {
          "output_type": "execute_result",
          "data": {
            "text/plain": [
              "array([[[ 1,  7],\n",
              "        [ 2,  8],\n",
              "        [ 3,  9]],\n",
              "\n",
              "       [[ 4, 10],\n",
              "        [ 5, 11],\n",
              "        [ 6, 12]]])"
            ]
          },
          "metadata": {},
          "execution_count": 90
        }
      ]
    },
    {
      "cell_type": "code",
      "source": [
        "# What is the expected output of this?\n",
        "c = np.stack((a,b), axis=1)\n",
        "c.shape"
      ],
      "metadata": {
        "colab": {
          "base_uri": "https://localhost:8080/"
        },
        "id": "zZwSUWgVCGQl",
        "outputId": "b68a700b-14d6-4bf0-dac6-655992694094"
      },
      "id": "zZwSUWgVCGQl",
      "execution_count": null,
      "outputs": [
        {
          "output_type": "execute_result",
          "data": {
            "text/plain": [
              "(2, 2, 3)"
            ]
          },
          "metadata": {},
          "execution_count": 91
        }
      ]
    },
    {
      "cell_type": "code",
      "source": [
        "c"
      ],
      "metadata": {
        "colab": {
          "base_uri": "https://localhost:8080/"
        },
        "id": "tFvb7KrGCO0u",
        "outputId": "33af45d5-0fd6-4509-8234-876a87cce93d"
      },
      "id": "tFvb7KrGCO0u",
      "execution_count": null,
      "outputs": [
        {
          "output_type": "execute_result",
          "data": {
            "text/plain": [
              "array([[[ 1,  2,  3],\n",
              "        [ 7,  8,  9]],\n",
              "\n",
              "       [[ 4,  5,  6],\n",
              "        [10, 11, 12]]])"
            ]
          },
          "metadata": {},
          "execution_count": 92
        }
      ]
    },
    {
      "cell_type": "code",
      "source": [
        "# There are some special functions for 2d arrays.\n",
        "# hsplit operates on 2d arrays, splitting them into a given number of equally sized sub-arrays\n",
        "a = np.array([[1, 2, 3],\n",
        "              [4, 5, 6]])\n",
        "\n",
        "np.hsplit(a, 3)"
      ],
      "metadata": {
        "colab": {
          "base_uri": "https://localhost:8080/"
        },
        "id": "THLCAHSf80iq",
        "outputId": "9e4a87af-7512-4f6f-bf0e-d1f3901c30a2"
      },
      "id": "THLCAHSf80iq",
      "execution_count": null,
      "outputs": [
        {
          "output_type": "execute_result",
          "data": {
            "text/plain": [
              "[array([[1],\n",
              "        [4]]),\n",
              " array([[2],\n",
              "        [5]]),\n",
              " array([[3],\n",
              "        [6]])]"
            ]
          },
          "metadata": {},
          "execution_count": 93
        }
      ]
    },
    {
      "cell_type": "code",
      "source": [
        "# vsplit is similar, but splits along rows instead of columns.\n",
        "np.vsplit(a, 2)"
      ],
      "metadata": {
        "id": "V6w8fk109ujc",
        "outputId": "708de074-2806-4dd5-e95b-b8d5b14636d7",
        "colab": {
          "base_uri": "https://localhost:8080/"
        }
      },
      "id": "V6w8fk109ujc",
      "execution_count": null,
      "outputs": [
        {
          "output_type": "execute_result",
          "data": {
            "text/plain": [
              "[array([[1, 2, 3]]), array([[4, 5, 6]])]"
            ]
          },
          "metadata": {},
          "execution_count": 94
        }
      ]
    },
    {
      "cell_type": "markdown",
      "source": [
        "## Operations on arrays\n",
        "So far we've seen how to build, index, and manipulate arrays. Now we can do something useful with them! NumPy operations are usually done on pairs of arrays on an element-by-element basis. In the simplest case, the two arrays must have exactly the same shape, as in the following example:"
      ],
      "metadata": {
        "id": "bUdkKLC6Dz__"
      },
      "id": "bUdkKLC6Dz__"
    },
    {
      "cell_type": "code",
      "source": [
        "# Multiplying, dividing, adding element-wise\n",
        "a = np.array([1.0, 2.0, 3.0])\n",
        "b = np.array([2.0, 2.0, 2.0])\n",
        "print(a*b, a/b, a+b)"
      ],
      "metadata": {
        "colab": {
          "base_uri": "https://localhost:8080/"
        },
        "id": "uHRTXijReLJP",
        "outputId": "096bb08e-1cef-4c48-d419-2261ddaac31b"
      },
      "id": "uHRTXijReLJP",
      "execution_count": null,
      "outputs": [
        {
          "output_type": "stream",
          "name": "stdout",
          "text": [
            "[2. 4. 6.] [0.5 1.  1.5] [3. 4. 5.]\n"
          ]
        }
      ]
    },
    {
      "cell_type": "code",
      "source": [
        "# Basic unary operations are also performed element-wise\n",
        "x = np.arange(5)\n",
        "print(x, x**2, np.sqrt(x), np.exp(x))"
      ],
      "metadata": {
        "id": "-QVy3a2zFV-w",
        "outputId": "20cc5de1-89ba-41f7-f80d-5a916496928b",
        "colab": {
          "base_uri": "https://localhost:8080/"
        }
      },
      "id": "-QVy3a2zFV-w",
      "execution_count": null,
      "outputs": [
        {
          "output_type": "stream",
          "name": "stdout",
          "text": [
            "[0 1 2 3 4] [ 0  1  4  9 16] [0.         1.         1.41421356 1.73205081 2.        ] [ 1.          2.71828183  7.3890561  20.08553692 54.59815003]\n"
          ]
        }
      ]
    },
    {
      "cell_type": "code",
      "source": [
        "# You're also allowed to do operations between constants and arrays\n",
        "# like add a constant to every element, or multiply every element\n",
        "# by a constant. This is the most basic type of broadcasting\n",
        "x = np.ones(5)\n",
        "print(x*2., x+2.)\n"
      ],
      "metadata": {
        "id": "n9jyCrM8-hGh",
        "colab": {
          "base_uri": "https://localhost:8080/"
        },
        "outputId": "a6689bac-f2af-4095-87c2-a0065ed9fac5"
      },
      "id": "n9jyCrM8-hGh",
      "execution_count": null,
      "outputs": [
        {
          "output_type": "stream",
          "name": "stdout",
          "text": [
            "[2. 2. 2. 2. 2.] [3. 3. 3. 3. 3.]\n"
          ]
        }
      ]
    },
    {
      "cell_type": "markdown",
      "source": [
        "![broadcasting_1.png](data:image/png;base64,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)"
      ],
      "metadata": {
        "id": "OG7cIyo2fEFP"
      },
      "id": "OG7cIyo2fEFP"
    },
    {
      "cell_type": "markdown",
      "source": [
        "## Broadcasting\n",
        "Broadcasting is extremely useful and can make some complex code very concise. The NumPy guide lays out the basic rules for broadcasting:\n",
        "\n",
        "\n",
        "---\n",
        "\n",
        "\n",
        "When operating on two arrays, NumPy compares their shapes element-wise. It starts with the trailing (i.e. rightmost) dimension and works its way left. Two dimensions are compatible when\n",
        "\n",
        "*   they are equal\n",
        "*   one of them is 1.\n",
        "\n",
        "\n",
        "Input arrays do not need to have the same number of dimensions. The resulting array will have the same number of dimensions as the input array with the greatest number of dimensions, where the size of each dimension is the largest size of the corresponding dimension among the input arrays. Note that missing dimensions are assumed to have size one."
      ],
      "metadata": {
        "id": "kmhEF3iUf_11"
      },
      "id": "kmhEF3iUf_11"
    },
    {
      "cell_type": "code",
      "source": [
        "# Adding a 1-d array to a 2d array\n",
        "a = np.array([[ 0.0,  0.0,  0.0],\n",
        "              [10.0, 10.0, 10.0],\n",
        "              [20.0, 20.0, 20.0],\n",
        "              [30.0, 30.0, 30.0]])\n",
        "b = np.array([1.0, 2.0, 3.0])\n",
        "a + b"
      ],
      "metadata": {
        "id": "VnRPgnrhOgA7",
        "colab": {
          "base_uri": "https://localhost:8080/"
        },
        "outputId": "3fb34e88-6ef1-409f-a609-73ebbcdd2261"
      },
      "id": "VnRPgnrhOgA7",
      "execution_count": null,
      "outputs": [
        {
          "output_type": "execute_result",
          "data": {
            "text/plain": [
              "array([[ 1.,  2.,  3.],\n",
              "       [11., 12., 13.],\n",
              "       [21., 22., 23.],\n",
              "       [31., 32., 33.]])"
            ]
          },
          "metadata": {},
          "execution_count": 13
        }
      ]
    },
    {
      "cell_type": "markdown",
      "source": [
        "![broadcasting_2.png](data:image/png;base64,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)"
      ],
      "metadata": {
        "id": "7y6UNva0jeMo"
      },
      "id": "7y6UNva0jeMo"
    },
    {
      "cell_type": "code",
      "source": [
        "# For a slightly more useful example, consider computing a matrix of pairwise distances\n",
        "x = np.linspace(0., 1., 10)\n",
        "y = np.linspace(0., 1., 10)\n",
        "d = np.sqrt((x[:, None] - y)**2)"
      ],
      "metadata": {
        "id": "X2sP5wwDjgqY"
      },
      "id": "X2sP5wwDjgqY",
      "execution_count": null,
      "outputs": []
    },
    {
      "cell_type": "code",
      "source": [
        "import matplotlib.pyplot as plt\n",
        "plt.imshow(d)\n",
        "plt.colorbar()\n",
        "plt.show()"
      ],
      "metadata": {
        "colab": {
          "base_uri": "https://localhost:8080/",
          "height": 435
        },
        "id": "CnnBIJetkhYO",
        "outputId": "42e9ddc8-9246-43f7-f228-aa3e216bc8bb"
      },
      "id": "CnnBIJetkhYO",
      "execution_count": null,
      "outputs": [
        {
          "output_type": "display_data",
          "data": {
            "text/plain": [
              "<Figure size 640x480 with 2 Axes>"
            ],
            "image/png": "[encoded data removed]"
          },
          "metadata": {}
        }
      ]
    },
    {
      "cell_type": "markdown",
      "source": [
        "Aggregation Operations"
      ],
      "metadata": {
        "id": "1OAmODoRxYds"
      },
      "id": "1OAmODoRxYds"
    },
    {
      "cell_type": "code",
      "source": [],
      "metadata": {
        "id": "TciFIOq-oUVr"
      },
      "id": "TciFIOq-oUVr",
      "execution_count": null,
      "outputs": []
    }
  ],
  "metadata": {
    "kernelspec": {
      "display_name": "Python 3",
      "language": "python",
      "name": "python3"
    },
    "language_info": {
      "name": "python",
      "version": "3.12.11"
    },
    "colab": {
      "provenance": [],
      "name": "lecture2.ipynb",
      "include_colab_link": true
    }
  },
  "nbformat": 4,
  "nbformat_minor": 5
}