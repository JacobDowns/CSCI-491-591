{
  "cells": [
    {
      "cell_type": "markdown",
      "id": "7d77dac9",
      "metadata": {
        "id": "7d77dac9"
      },
      "source": [
        "# Parallelizing the Heat Equation\n",
        "\n",
        "* We previously saw some examples of solving the time-dependent heat equation in NumPy. Here, we'll consider how to make this code faster by parallelizing it using MPI."
      ]
    },
    {
      "cell_type": "markdown",
      "id": "fa5dc269",
      "metadata": {
        "id": "fa5dc269"
      },
      "source": [
        "## Idea\n",
        "\n",
        "* The basic idea here is that we can break down the spatial domain into chunks and have each process responsible for computing the diffusion stencil for its own chunk.\n",
        "* Computing the diffusion stencil at a given cell involves the cells adjacent to it.\n",
        "* For most cells in the domain, this is fine, but what do we do at the edge of chunks?\n",
        "* We can't directly access data from a different, chunk, so we can use MPI to communicate between chunks.\n",
        "* In practice each process is responsible for doing compuatations on a given set of rows. Each row contains a subset of rows in the domain, plus top and bottom \"halo\" rows.\n",
        "* Rows from other ranks can be copied into these halos so that each process has all of the information it needs to compute the diffusion stencil on its chunk of the domain."
      ]
    },
    {
      "cell_type": "markdown",
      "id": "59c7a229",
      "metadata": {
        "id": "59c7a229"
      },
      "source": [
        "## Full Code\n",
        "The full code is presented here, but we'll break down each function in turn."
      ]
    },
    {
      "cell_type": "code",
      "execution_count": null,
      "id": "0805e6d7",
      "metadata": {
        "id": "0805e6d7"
      },
      "outputs": [],
      "source": [
        "from mpi4py import MPI\n",
        "import numpy as np\n",
        "import matplotlib.pyplot as plt\n",
        "\n",
        "def init_field(nx, ny, hot=1.0, block=10):\n",
        "    \"\"\"\n",
        "    Initialize a 2D field with a hot square in the center.\n",
        "\n",
        "    Parameters\n",
        "    ----------\n",
        "    nx : int\n",
        "        Number of columns.\n",
        "    ny : int\n",
        "        Number of rows.\n",
        "    hot : float, optional\n",
        "        Value to assign inside the hot block (default 1.0).\n",
        "    block : int, optional\n",
        "        Approximate size of the hot block edge (default 10).\n",
        "\n",
        "    Returns\n",
        "    -------\n",
        "    u : ndarray of shape (ny, nx)\n",
        "        Array with the hot block set to `hot`, rest zero.\n",
        "    \"\"\"\n",
        "    u = np.zeros((ny, nx), dtype=np.float64)\n",
        "    cx, cy = nx // 2, ny // 2\n",
        "    b = block // 2\n",
        "    u[cy-b:cy+b, cx-b:cx+b] = hot\n",
        "    return u\n",
        "\n",
        "def halo_exchange(comm, u):\n",
        "    \"\"\"\n",
        "    Exchange top/bottom halo rows with neighboring ranks.\n",
        "\n",
        "    Parameters\n",
        "    ----------\n",
        "    comm : MPI.Comm\n",
        "        MPI communicator.\n",
        "    u : ndarray of shape (my+2, nx)\n",
        "        Local array with one ghost row at top and bottom.\n",
        "    \"\"\"\n",
        "    rank = comm.Get_rank()\n",
        "    size = comm.Get_size()\n",
        "\n",
        "    up   = rank - 1 if rank > 0 else MPI.PROC_NULL\n",
        "    down = rank + 1 if rank < size - 1 else MPI.PROC_NULL\n",
        "\n",
        "    comm.Sendrecv(u[1, :],  dest=up,   sendtag=0,\n",
        "                  recvbuf=u[-1, :], source=down, recvtag=0)\n",
        "    comm.Sendrecv(u[-2, :], dest=down, sendtag=1,\n",
        "                  recvbuf=u[0, :],    source=up,   recvtag=1)\n",
        "\n",
        "def run_sim(comm, u0=None, steps=500, alpha=0.24):\n",
        "    \"\"\"\n",
        "    Distribute the initial field, run Jacobi iterations, and gather results.\n",
        "\n",
        "    Parameters\n",
        "    ----------\n",
        "    comm : MPI.Comm\n",
        "        MPI communicator.\n",
        "    u0 : ndarray or None\n",
        "        Full initial condition on root; None on other ranks.\n",
        "    steps : int, optional\n",
        "        Number of Jacobi iterations (default 500).\n",
        "    alpha : float, optional\n",
        "        Diffusion coefficient for the update (default 0.24).\n",
        "\n",
        "    Returns\n",
        "    -------\n",
        "    U_final : ndarray or None\n",
        "        Global field on root, None on other ranks.\n",
        "    \"\"\"\n",
        "    rank = comm.Get_rank()\n",
        "    size = comm.Get_size()\n",
        "\n",
        "    if rank == 0:\n",
        "        ny, nx = map(int, u0.shape)\n",
        "    else:\n",
        "        ny, nx = None, None\n",
        "    ny, nx = comm.bcast((ny, nx), root=0)\n",
        "\n",
        "    edges = np.floor(np.linspace(0, ny, size + 1)).astype(np.int64)\n",
        "    starts = edges[:-1]\n",
        "    stops  = edges[1:]\n",
        "    y0, y1 = int(starts[rank]), int(stops[rank])\n",
        "    my = y1 - y0\n",
        "\n",
        "    if rank == 0:\n",
        "        counts = (stops - starts) * nx\n",
        "        displs = starts * nx\n",
        "        sendbuf = [u0, counts, displs, MPI.DOUBLE]\n",
        "    else:\n",
        "        sendbuf = None\n",
        "\n",
        "    local = np.empty((my, nx), dtype=np.float64)\n",
        "    comm.Scatterv(sendbuf, local, root=0)\n",
        "\n",
        "    u = np.zeros((my + 2, nx), dtype=np.float64)\n",
        "    u[1:-1, :] = local\n",
        "\n",
        "    for _ in range(steps):\n",
        "        halo_exchange(comm, u)\n",
        "        un = u.copy()\n",
        "        center = u[1:-1, 1:-1]\n",
        "        left   = u[1:-1, :-2]\n",
        "        right  = u[1:-1, 2:]\n",
        "        up     = u[0:-2, 1:-1]\n",
        "        down   = u[2:, 1:-1]\n",
        "        un[1:-1, 1:-1] = center + alpha*(left + right + up + down - 4.0*center)\n",
        "        u = un\n",
        "\n",
        "    interior = u[1:-1, :]\n",
        "\n",
        "    if rank == 0:\n",
        "        recvbuf = np.empty((ny, nx), dtype=u.dtype)\n",
        "        mpi_dt = MPI._typedict[interior.dtype.char]\n",
        "        comm.Gatherv(interior, [recvbuf, counts, displs, mpi_dt], root=0)\n",
        "        U_final = recvbuf\n",
        "    else:\n",
        "        comm.Gatherv(interior, None, root=0)\n",
        "        U_final = None\n",
        "\n",
        "    return U_final\n",
        "\n",
        "\n",
        "if __name__ == \"__main__\":\n",
        "    comm = MPI.COMM_WORLD\n",
        "    rank = comm.Get_rank()\n",
        "\n",
        "    nx, ny = 1024, 1024\n",
        "    if rank == 0:\n",
        "        u0 = init_field(nx=nx, ny=ny, hot=1.0, block=250)\n",
        "    else:\n",
        "        u0 = None\n",
        "\n",
        "    u1 = run_sim(comm, u0=u0, steps=5000, alpha=0.24)\n",
        "\n",
        "    if rank == 0:\n",
        "        plt.imshow(u1)\n",
        "        plt.colorbar()\n",
        "        plt.show()"
      ]
    },
    {
      "cell_type": "markdown",
      "id": "ade828c2",
      "metadata": {
        "id": "ade828c2"
      },
      "source": [
        "## 1. Initial Condition"
      ]
    },
    {
      "cell_type": "markdown",
      "id": "3e3fd46f",
      "metadata": {
        "id": "3e3fd46f"
      },
      "source": [
        "Let's look at the entry point code. First, it just gets the communicator and the rank. Then the rank 0 process creates an initial condition.\n",
        "\n",
        "\n",
        "```python\n",
        "comm = MPI.COMM_WORLD\n",
        "rank = comm.Get_rank()\n",
        "\n",
        "nx, ny = 1024, 1024\n",
        "if rank == 0:\n",
        "    u0 = init_field(nx=nx, ny=ny, hot=1.0, block=250)\n",
        "else:\n",
        "    u0 = None\n",
        "```\n",
        "Next, every rank calls this `run_sim` function, which runs the simulation for a given number of time steps with the given initial condition (which is really defined only on rank 0).\n",
        "\n",
        "```python\n",
        "u1 = run_sim(comm, u0=u0, steps=5000, alpha=0.24)\n",
        "```"
      ]
    },
    {
      "cell_type": "markdown",
      "id": "5c4a664b",
      "metadata": {
        "id": "5c4a664b"
      },
      "source": [
        "## 2. Run Simulation Function\n",
        "Next, let's take a look at the `run_sim` function. The first thing that happens is that the rank 0 process figures out the shape of the initial condition and broadcasts it to the other ranks.\n",
        "\n",
        "```python\n",
        "rank = comm.Get_rank()\n",
        "size = comm.Get_size()\n",
        "\n",
        "if rank == 0:\n",
        "    ny, nx = map(int, u0.shape)\n",
        "else:\n",
        "    ny, nx = None, None\n",
        "ny, nx = comm.bcast((ny, nx), root=0)\n",
        "```\n",
        "\n"
      ]
    },
    {
      "cell_type": "markdown",
      "id": "f0800c28",
      "metadata": {
        "id": "f0800c28"
      },
      "source": [
        "Based on the size of the number of grid cells in the domain and number of processes, we compute the start and end indexes of each chunk belonging to all processes. Then we get the start and stop index for the rank's chunk and compute its size `my`.\n",
        "```python\n",
        "edges = np.floor(np.linspace(0, ny, size + 1)).astype(np.int64)\n",
        "starts = edges[:-1]\n",
        "stops  = edges[1:]\n",
        "y0, y1 = int(starts[rank]), int(stops[rank])\n",
        "my = y1 - y0\n"
      ]
    },
    {
      "cell_type": "markdown",
      "id": "5b01621f",
      "metadata": {
        "id": "5b01621f"
      },
      "source": [
        "Once we've figured out how to break up the domain, we can split up the initial condition by scattering it amongst all ranks. Note that `Scatterv` allows scattering of different sized arrays to each process. This is necessary because the last chunk could have a different size than the rest.\n",
        "```python\n",
        "# 3) Prepare Scatterv\n",
        "if rank == 0:\n",
        "    counts = (stops - starts) * nx              # elements per rank\n",
        "    displs = starts * nx                        # element offsets\n",
        "    sendbuf = [u0, counts, displs, MPI.DOUBLE]  # explicit type for clarity\n",
        "else:\n",
        "    sendbuf = None\n",
        "\n",
        "# 4) Receive my interior rows (no halos yet)\n",
        "local = np.empty((my, nx), dtype=np.float64)\n",
        "comm.Scatterv(sendbuf, local, root=0)\n",
        "```\n",
        "At this point in the code, every rank has receieved its local chunk of the initial condition. We create an array `u` that will store the local solution, including two halo rows on the top and bottom. The initial condition is copied into the interior of tis array.\n",
        "\n",
        "```python\n",
        "# 5) Allocate local with halos and copy interiors into rows 1..my\n",
        "u = np.zeros((my + 2, nx), dtype=np.float64)\n",
        "u[1:-1] = local\n",
        "```"
      ]
    },
    {
      "cell_type": "markdown",
      "id": "27998e07",
      "metadata": {
        "id": "27998e07"
      },
      "source": [
        "### 2.1 Simulation Loop\n",
        "After distributing the initial condition and defining an array to store the local solution, we launch into the simulation loop.\n",
        "\n",
        "```python\n",
        " for _ in range(steps):\n",
        "    # exchange halos each step\n",
        "    halo_exchange(comm, u)\n",
        "\n",
        "    un = u.copy()\n",
        "\n",
        "    center = u[1:-1, 1:-1]\n",
        "    left   = u[1:-1, :-2]   \n",
        "    right  = u[1:-1, 2:]   \n",
        "    up     = u[0:-2, 1:-1]\n",
        "    down   = u[2:, 1:-1]\n",
        "    \n",
        "    un[1:-1, 1:-1] = center + alpha*(left + right + up + down - 4.0*center)\n",
        "    u = un\n",
        "```\n",
        "This is mostly going to look very familar with the exception of calling `halo_exchange` at the beginning, as this just involves copying the initial condition, then computing the new value of all interior cells using the typical diffusion stencil. So what does `halo_exchange` do?"
      ]
    },
    {
      "cell_type": "markdown",
      "id": "f128fe11",
      "metadata": {
        "id": "f128fe11"
      },
      "source": [
        "### 2.2 Halo Exchange\n",
        "The `halo_exchange` function is responsible for sending information about the rank's local solution to other ranks responsible for adjacent chunks of the domain. If the chunk belonging to a given rank has a chunk above it, it will send an array containing the first row it owns (that is its first non-halo row in its local solution) to the chunk above it. In turn the chunk above it will receive that information in its bottom-most halo row. The process is similar if the rank has another chunk below it. The chunk will send its bottom-most non-halo row to the rank below it. That rank will receive it in its top halo row.\n",
        "\n",
        "```python\n",
        "\n",
        "def halo_exchange(comm, u):\n",
        "    \"\"\"Blocking 1D (row-wise) halo exchange for u of shape (my+2, nx).\"\"\"\n",
        "    rank = comm.Get_rank()\n",
        "    size = comm.Get_size()\n",
        "    my, nx = u.shape[0] - 2, u.shape[1]\n",
        "\n",
        "    up   = rank - 1 if rank > 0 else MPI.PROC_NULL\n",
        "    down = rank + 1 if rank < size - 1 else MPI.PROC_NULL\n",
        "\n",
        "    # Send first interior row up; recv bottom ghost from down\n",
        "    comm.Sendrecv(u[1, :],  dest=up,   sendtag=0,\n",
        "                  recvbuf=u[-1, :], source=down, recvtag=0)\n",
        "    # Send last interior row down; recv top ghost from up\n",
        "    comm.Sendrecv(u[-2, :], dest=down, sendtag=1,\n",
        "                  recvbuf=u[0, :],    source=up,   recvtag=1)\n",
        "```\n",
        "\n",
        "Note that if a rank doesn't have a chunk above / below it, then the up / down rank is defined as `MPI.PROC_NULL`. This is a convenient way to basically say that if there is no rank to send anything to, so the send won't do anything.\n"
      ]
    },
    {
      "cell_type": "markdown",
      "id": "233f6552",
      "metadata": {
        "id": "233f6552"
      },
      "source": [
        "## 3. Assembling a Global Solution From Local Solutions\n",
        "\n",
        "Now we're nearly done with our simulation code! However, if we'd like to plot our solution we need to stitch together all of the local solutions into a global solution . We can accomplish this usng a `Gatherv` operation, which is essentially the reverse of the `Scatterv` we used to split the initial condition into chunks earlier.\n",
        "\n",
        "```python\n",
        " if rank == 0:\n",
        "        recvbuf = np.empty((ny, nx), dtype=u.dtype)  # global stitched array\n",
        "        # If you want to be explicit about type:\n",
        "        mpi_dt = MPI._typedict[interior.dtype.char]\n",
        "        comm.Gatherv(interior, [recvbuf, counts, displs, mpi_dt], root=0)\n",
        "    else:\n",
        "        # Non-root: counts/displs/recvbuf are None; only send your interior\n",
        "        comm.Gatherv(interior, None, root=0)\n",
        "```\n"
      ]
    },
    {
      "cell_type": "markdown",
      "id": "bcd61e0e",
      "metadata": {
        "id": "bcd61e0e"
      },
      "source": [
        "Lastly, rank 0 will return the stitched together global solution and every other rank will return `None`.\n",
        "\n",
        "```python\n",
        "# Now rank 0 has the full field in `recvbuf`\n",
        "if rank == 0:\n",
        "    U_final = recvbuf\n",
        "else:\n",
        "    U_final = None\n",
        "\n",
        "return None\n",
        "```"
      ]
    },
    {
      "cell_type": "markdown",
      "source": [
        "## Benchmarking MPI Code"
      ],
      "metadata": {
        "id": "3CI8Zc5SH1G6"
      },
      "id": "3CI8Zc5SH1G6"
    },
    {
      "cell_type": "markdown",
      "source": [
        "So, how much of a performance advantage do we get from using more processes? To find out, let's do some detailed benchmarking. First, we'll alter the entry point as follows."
      ],
      "metadata": {
        "id": "JhbHL05GH-P2"
      },
      "id": "JhbHL05GH-P2"
    },
    {
      "cell_type": "code",
      "source": [
        "\n",
        "if __name__ == \"__main__\":\n",
        "    comm = MPI.COMM_WORLD\n",
        "    rank = comm.Get_rank()\n",
        "    size = comm.Get_size()\n",
        "\n",
        "    parser = argparse.ArgumentParser()\n",
        "    parser.add_argument(\"--measure\", action=\"store_true\",\n",
        "                        help=\"Run timed trials and print CSV (rank 0 only).\")\n",
        "    parser.add_argument(\"--repeat\", type=int, default=1,\n",
        "                        help=\"Number of timed trials to run.\")\n",
        "    parser.add_argument(\"--nx\", type=int, default=1500)\n",
        "    parser.add_argument(\"--ny\", type=int, default=1500)\n",
        "    parser.add_argument(\"--steps\", type=int, default=2500)\n",
        "    parser.add_argument(\"--alpha\", type=float, default=0.24)\n",
        "    parser.add_argument(\"--csv_header\", action=\"store_true\",\n",
        "                        help=\"Print CSV header (rank 0 only).\")\n",
        "    args = parser.parse_args()\n",
        "\n",
        "    if args.measure:\n",
        "        # optional header\n",
        "        if rank == 0 and args.csv_header:\n",
        "            print(\"n,nx,ny,steps,alpha,trial,wall_max_s,wall_mean_rank_s,wall_std_rank_s,time_per_core_s\")\n",
        "\n",
        "        for trial in range(args.repeat):\n",
        "            # fresh IC each trial (keeps runs comparable)\n",
        "            u0 = init_field(nx=args.nx, ny=args.ny, hot=1.0, block=min(args.nx, args.ny)//4) if rank == 0 else None\n",
        "\n",
        "            comm.Barrier()\n",
        "            t0 = MPI.Wtime()\n",
        "            _ = run_sim(comm, u0=u0, steps=args.steps, alpha=args.alpha)\n",
        "            comm.Barrier()\n",
        "            t1 = MPI.Wtime()\n",
        "\n",
        "            # rank-local elapsed\n",
        "            elapsed = t1 - t0\n",
        "\n",
        "            # summarize across ranks\n",
        "            wall_max = comm.allreduce(elapsed, op=MPI.MAX)  # job wall time\n",
        "            wall_sum = comm.allreduce(elapsed, op=MPI.SUM)\n",
        "            wall_sumsq = comm.allreduce(elapsed * elapsed, op=MPI.SUM)\n",
        "            wall_mean_rank = wall_sum / size\n",
        "            var = max(0.0, wall_sumsq / size - wall_mean_rank * wall_mean_rank)\n",
        "            wall_std_rank = var ** 0.5\n",
        "\n",
        "            if rank == 0:\n",
        "                time_per_core = wall_max / size\n",
        "                print(f\"{size},{args.nx},{args.ny},{args.steps},{args.alpha},{trial},\"\n",
        "                      f\"{wall_max:.6f},{wall_mean_rank:.6f},{wall_std_rank:.6f},{time_per_core:.6f}\",\n",
        "                      flush=True)\n",
        "    else:\n",
        "        # normal, single run (no timing/CSV)\n",
        "        nx, ny = 1024, 1024\n",
        "        u0 = init_field(nx=nx, ny=ny, hot=1.0, block=250) if rank == 0 else None\n",
        "        u1 = run_sim(comm, u0=u0, steps=5000, alpha=0.24)\n",
        "        if rank == 0:\n",
        "            plt.imshow(u1)\n",
        "            plt.colorbar()\n",
        "            plt.show()\n",
        "\n"
      ],
      "metadata": {
        "id": "HnzLrTlEIYyh"
      },
      "id": "HnzLrTlEIYyh",
      "execution_count": null,
      "outputs": []
    },
    {
      "cell_type": "markdown",
      "source": [
        "### Command Line Arguments\n",
        "\n",
        "Let's break this down into pieces. First, add flags to pass in some model parameters as command line arguments like grid size and the number of time steps.\n",
        "\n",
        "\n",
        "```python\n",
        "parser = argparse.ArgumentParser()\n",
        "parser.add_argument(\"--measure\", action=\"store_true\",\n",
        "                    help=\"Run timed trials and print CSV (rank 0 only).\")\n",
        "parser.add_argument(\"--repeat\", type=int, default=1,\n",
        "                    help=\"Number of timed trials to run.\")\n",
        "parser.add_argument(\"--nx\", type=int, default=1500)\n",
        "parser.add_argument(\"--ny\", type=int, default=1500)\n",
        "parser.add_argument(\"--steps\", type=int, default=2500)\n",
        "parser.add_argument(\"--alpha\", type=float, default=0.24)\n",
        "parser.add_argument(\"--csv_header\", action=\"store_true\",\n",
        "                    help=\"Print CSV header (rank 0 only).\")\n",
        "args = parser.parse_args()\n",
        "```\n",
        " In addition to adding flags for model parameters, we include a few optional flags that are used for benchmarking. For example adding the `--measure` flag will enable benchmarking mode and `--repeat` can be used to specify the number of times a model run is repeated when benchmarking so we can compute timing statistics.\n"
      ],
      "metadata": {
        "id": "kXCbjDXZJCmu"
      },
      "id": "kXCbjDXZJCmu"
    },
    {
      "cell_type": "markdown",
      "source": [
        "### Repeated Trials and Statistics\n",
        "\n",
        "We perform a number of model runs specified by command line argument or 1 run by default. In each trial we reset the model with a new initial condition.\n",
        "```python\n",
        "for trial in range(args.repeat):\n",
        "    # fresh IC each trial (keeps runs comparable)\n",
        "    u0 = init_field(nx=args.nx, ny=args.ny, hot=1.0, block=min(args.nx, args.ny)//4) if rank == 0 else None\n",
        "```\n",
        "An important consideration when timing MPI code is that each process can have a slightly different completion time. Moreover the usual Python `time` module tends to be inaccurate, so we need a different approach for benchmarking. The code below uses `comm.Barrier()` to block until all processes are synchronized (that is they've reached the same point in the code). Then we use `MPI.Wtime()` to get the current wall time and run the simulation.\n",
        "```python\n",
        "comm.Barrier()\n",
        "t0 = MPI.Wtime()\n",
        "_ = run_sim(comm, u0=u0, steps=args.steps, alpha=args.alpha)\n",
        "```\n",
        "\n",
        "After the simulation completes, we again synchronize all processes, get the wall time again, and see how long the current process took to finish:\n",
        "```python\n",
        "comm.Barrier()\n",
        "t1 = MPI.Wtime()\n",
        "# rank-local elapsed\n",
        "elapsed = t1 - t0\n",
        "```\n",
        "\n",
        "\n",
        "Since each rank has its own elapsed time, we can do some `reduce` operations to compute some summary statistics.\n",
        "\n",
        "```python\n",
        "# summarize across ranks\n",
        "wall_max = comm.allreduce(elapsed, op=MPI.MAX)  # job wall time\n",
        "wall_sum = comm.allreduce(elapsed, op=MPI.SUM)\n",
        "wall_sumsq = comm.allreduce(elapsed * elapsed, op=MPI.SUM)\n",
        "wall_mean_rank = wall_sum / size\n",
        "var = max(0.0, wall_sumsq / size - wall_mean_rank * wall_mean_rank)\n",
        "wall_std_rank = var ** 0.5\n",
        "```\n",
        "Finally, the root node just prints out the results.\n",
        "```python\n",
        "if rank == 0:\n",
        "    time_per_core = wall_max / size\n",
        "    print(f\"{size},{args.nx},{args.ny},{args.steps},{args.alpha},{trial},\"\n",
        "          f\"{wall_max:.6f},{wall_mean_rank:.6f},{wall_std_rank:.6f},{time_per_core:.6f}\",\n",
        "          flush=True)\n",
        "```"
      ],
      "metadata": {
        "id": "u1gfUVK0Md8q"
      },
      "id": "u1gfUVK0Md8q"
    },
    {
      "cell_type": "markdown",
      "source": [
        "## Performance v. Cores\n",
        "We now have some code to benchmark some simulations for a given number of cores. To compare how the timing statistics vary based on the number of cores we use, we can define a simple bash script.\n",
        "\n",
        "```bash\n",
        "echo \"n,nx,ny,steps,alpha,trial,wall_max_s,wall_mean_rank_s,wall_std_rank_s,time_per_core_s\" > results.csv\n",
        "\n",
        "for n in 1 2 4 8 16; do\n",
        "  mpiexec -n $n \\\n",
        "    python parallel_heat.py --measure --repeat 5 >> results.csv\n",
        "done\n",
        "```\n",
        "\n",
        "This code will perform benchmarks for a variable number of cores from 1 to 16 and write the statistics for each benchmark trial to a CSV file. Plotting the results we get something like this."
      ],
      "metadata": {
        "id": "yUH-_ROEO8su"
      },
      "id": "yUH-_ROEO8su"
    },
    {
      "cell_type": "markdown",
      "source": [
        "![image.png](data:image/png;base64,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)"
      ],
      "metadata": {
        "id": "DpnuWfrpTadk"
      },
      "id": "DpnuWfrpTadk"
    }
  ],
  "metadata": {
    "kernelspec": {
      "display_name": "Python 3",
      "language": "python",
      "name": "python3"
    },
    "language_info": {
      "codemirror_mode": {
        "name": "ipython",
        "version": 3
      },
      "file_extension": ".py",
      "mimetype": "text/x-python",
      "name": "python",
      "nbconvert_exporter": "python",
      "pygments_lexer": "ipython3",
      "version": "3.12.11"
    },
    "colab": {
      "provenance": []
    }
  },
  "nbformat": 4,
  "nbformat_minor": 5
}